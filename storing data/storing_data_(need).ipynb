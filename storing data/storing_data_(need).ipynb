{
 "cells": [
  {
   "attachments": {},
   "cell_type": "markdown",
   "id": "123456",
   "metadata": {},
   "source": [
    "<div style=\"text-align:left;font-size:2em\"><span style=\"font-weight:bolder;font-size:1.25em\">SP2273 | Learning Portfolio</span><br><br><span style=\"font-weight:bold;color:darkred\">Storing Data (Need)</span></div>"
   ]
  },
  {
   "attachments": {},
   "cell_type": "markdown",
   "id": "5e28ce65",
   "metadata": {},
   "source": [
    "# Lists, Arrays & Dictionaries"
   ]
  },
  {
   "cell_type": "markdown",
   "id": "0ea913f1-4544-43bf-a36f-42647de11534",
   "metadata": {},
   "source": [
    "Ways for Python to store and manipulate data.\r\n",
    "\r\n",
    "1. Lists\r\n",
    "2. Numpy arrays\r\n",
    "3. Dictionaries\r\n",
    "4. Tuples\r\n",
    "5. Dataframes\r\n",
    "6. Classes"
   ]
  },
  {
   "cell_type": "markdown",
   "id": "ee6dcb10-2d50-4ae3-a571-843ac8302aa7",
   "metadata": {},
   "source": [
    "Note: By understanding how to store,retrieve and modify data, it will influence how we think about data and improve ability to conjure up algorithms!"
   ]
  },
  {
   "attachments": {},
   "cell_type": "markdown",
   "id": "126787df",
   "metadata": {},
   "source": [
    "## Let’s compare"
   ]
  },
  {
   "cell_type": "code",
   "execution_count": 62,
   "id": "dfc30f13-0a90-4a1b-805f-fc036fbc44cc",
   "metadata": {},
   "outputs": [],
   "source": [
    "import numpy as np"
   ]
  },
  {
   "cell_type": "code",
   "execution_count": 63,
   "id": "890562fe-7ecb-4adb-be35-00549eb79cd5",
   "metadata": {},
   "outputs": [],
   "source": [
    "#Python Lists\n",
    "py_super_names = [\"Black Widow\", \"Iron Man\", \"Doctor Strange\"]\n",
    "py_real_names = [\"Natasha Romanoff\", \"Tony Stark\", \"Stephen Strange\"]"
   ]
  },
  {
   "cell_type": "code",
   "execution_count": 64,
   "id": "7227fe65-1452-4f63-b22e-e6576c035484",
   "metadata": {},
   "outputs": [],
   "source": [
    "#Numpy Arrays\n",
    "np_super_names = np.array([\"Black Widow\", \"Iron Man\", \"Doctor Strange\"])\n",
    "np_real_names = np.array([\"Natasha Romanoff\", \"Tony Stark\", \"Stephen Strange\"])"
   ]
  },
  {
   "cell_type": "code",
   "execution_count": 65,
   "id": "2a04e9d4-72ac-477d-ae3b-0b97f05280d9",
   "metadata": {},
   "outputs": [],
   "source": [
    "#Dictionary\n",
    "superhero_info = {\n",
    "    \"Natasha Romanoff\": \"Black Widow\",\n",
    "    \"Tony Stark\": \"Iron Man\",\n",
    "    \"Stephen Strange\": \"Doctor Strange\"\n",
    "}\n",
    "#Dictionary holds the real and superhero names in one structure while we need two structures for list and arrays.\n",
    "#List and Array very important: ORDER MATTERS! Tony stark must be same position as iron man. \n",
    "#Below is based on my research on when to use which"
   ]
  },
  {
   "cell_type": "markdown",
   "id": "63a7928b-1eca-4a37-82f8-a0b564ea0a22",
   "metadata": {},
   "source": [
    " - Dictionaries are preferred when there is a direct mapping between keys and values, and quick lookups are important.\r",
    "- \n",
    "Lists are preferred when maintaining the order of elements is crucial and each element at a specific index has a corresponding element at the same index in another list\n",
    "- \r\n",
    "Arrays (NumPy) are preferred when dealing with numerical data and when efficient numerical operations are required."
   ]
  },
  {
   "attachments": {},
   "cell_type": "markdown",
   "id": "0b22bc5e",
   "metadata": {},
   "source": [
    "## Accessing data from a list (or array)"
   ]
  },
  {
   "cell_type": "markdown",
   "id": "11c9bc0a-f5c9-4d8f-bd03-39212b844f9b",
   "metadata": {},
   "source": [
    "For List and Arrays, need to use an index corresponding to the data’s position (in which it starts at 0).\n",
    "![](https://sps.nus.edu.sg/sp2273/docs/python_basics/03_storing-data/python-zero-indexed-counting.png)"
   ]
  },
  {
   "cell_type": "code",
   "execution_count": 66,
   "id": "ed3af894-a561-4275-b45e-8f76e02af089",
   "metadata": {},
   "outputs": [
    {
     "data": {
      "text/plain": [
       "'Stephen Strange'"
      ]
     },
     "execution_count": 66,
     "metadata": {},
     "output_type": "execute_result"
    }
   ],
   "source": [
    "py_super_names = [\"Black Widow\", \"Iron Man\", \"Doctor Strange\"]\n",
    "py_real_names = [\"Natasha Romanoff\", \"Tony Stark\", \"Stephen Strange\"]\n",
    "py_real_names[2] #Output for position 2 at the corresponding list. #Forward Indexing, count from front to back"
   ]
  },
  {
   "cell_type": "code",
   "execution_count": 67,
   "id": "3129a9ee-7258-4aa0-91d2-7038949b9570",
   "metadata": {},
   "outputs": [
    {
     "data": {
      "text/plain": [
       "'Doctor Strange'"
      ]
     },
     "execution_count": 67,
     "metadata": {},
     "output_type": "execute_result"
    }
   ],
   "source": [
    "py_super_names[-1]   # Reverse indexing,count from back to front starting from -1. Output for last position at corresponding list."
   ]
  },
  {
   "attachments": {},
   "cell_type": "markdown",
   "id": "29799e32",
   "metadata": {},
   "source": [
    "## Accessing data from a dictionary"
   ]
  },
  {
   "cell_type": "code",
   "execution_count": 68,
   "id": "401829d2-be93-474b-bb1e-a40999f7434f",
   "metadata": {},
   "outputs": [
    {
     "data": {
      "text/plain": [
       "'Iron Man'"
      ]
     },
     "execution_count": 68,
     "metadata": {},
     "output_type": "execute_result"
    }
   ],
   "source": [
    "superhero_info = {\n",
    "    \"Natasha Romanoff\": \"Black Widow\",\n",
    "    \"Tony Stark\": \"Iron Man\",\n",
    "    \"Stephen Strange\": \"Doctor Strange\"\n",
    "}                  \n",
    "superhero_info[\"Tony Stark\"] #Dictionary has a key-value structure not index/position number."
   ]
  },
  {
   "cell_type": "code",
   "execution_count": 69,
   "id": "5d53291c-75af-4102-9f79-2d0cefa8469d",
   "metadata": {},
   "outputs": [
    {
     "data": {
      "text/plain": [
       "dict_keys(['Natasha Romanoff', 'Tony Stark', 'Stephen Strange'])"
      ]
     },
     "execution_count": 69,
     "metadata": {},
     "output_type": "execute_result"
    }
   ],
   "source": [
    "superhero_info.keys() #Access Dict keys"
   ]
  },
  {
   "cell_type": "code",
   "execution_count": 70,
   "id": "85b2af6a-9a95-4437-9f5c-b26a9e453777",
   "metadata": {},
   "outputs": [
    {
     "data": {
      "text/plain": [
       "dict_values(['Black Widow', 'Iron Man', 'Doctor Strange'])"
      ]
     },
     "execution_count": 70,
     "metadata": {},
     "output_type": "execute_result"
    }
   ],
   "source": [
    "superhero_info.values() #Access Dict values"
   ]
  },
  {
   "attachments": {},
   "cell_type": "markdown",
   "id": "e198c5b6",
   "metadata": {},
   "source": [
    "## Higher dimensional lists"
   ]
  },
  {
   "cell_type": "code",
   "execution_count": 71,
   "id": "1e06ffa5-e72d-4135-beea-d4e8a72ee591",
   "metadata": {},
   "outputs": [],
   "source": [
    "py_superhero_info = [['Natasha Romanoff', 'Black Widow'], #2 D-lists merges the 2 list requirement for real and superhero names above. \n",
    "                     ['Tony Stark', 'Iron Man'],\n",
    "                     ['Stephen Strange', 'Doctor Strange']]"
   ]
  },
  {
   "attachments": {},
   "cell_type": "markdown",
   "id": "a32aa1b4",
   "metadata": {},
   "source": [
    "# Lists vs. Arrays"
   ]
  },
  {
   "attachments": {},
   "cell_type": "markdown",
   "id": "76b032f1",
   "metadata": {},
   "source": [
    "## Size"
   ]
  },
  {
   "cell_type": "code",
   "execution_count": 72,
   "id": "68390818-7581-4eab-b300-8452a2f2fd5a",
   "metadata": {},
   "outputs": [],
   "source": [
    "import numpy as np\n",
    "py_list_2d = [[1, \"A\"], [2, \"B\"], [3, \"C\"], [4, \"D\"],\n",
    "              [5, \"E\"], [6, \"F\"], [7, \"G\"], [8, \"H\"],\n",
    "              [9, \"I\"], [10, \"J\"]]\n",
    "\n",
    "np_array_2d = np.array(py_list_2d)      # Reusing the Python list to create a new numpy array."
   ]
  },
  {
   "cell_type": "code",
   "execution_count": 73,
   "id": "bbc4e7b0-819c-45a1-979c-555455db36c3",
   "metadata": {},
   "outputs": [
    {
     "data": {
      "text/plain": [
       "10"
      ]
     },
     "execution_count": 73,
     "metadata": {},
     "output_type": "execute_result"
    }
   ],
   "source": [
    "len(py_list_2d)"
   ]
  },
  {
   "cell_type": "code",
   "execution_count": 74,
   "id": "216e7b66-6ba3-47b2-8ba4-0f70618dfab8",
   "metadata": {},
   "outputs": [
    {
     "data": {
      "text/plain": [
       "10"
      ]
     },
     "execution_count": 74,
     "metadata": {},
     "output_type": "execute_result"
    }
   ],
   "source": [
    "len(np_array_2d)"
   ]
  },
  {
   "cell_type": "code",
   "execution_count": 75,
   "id": "36ab7952-8d21-4157-8ec2-43c5aa62fb1d",
   "metadata": {},
   "outputs": [
    {
     "data": {
      "text/plain": [
       "(10, 2)"
      ]
     },
     "execution_count": 75,
     "metadata": {},
     "output_type": "execute_result"
    }
   ],
   "source": [
    "np_array_2d.shape #No () as shape is not a function but an attribute of numpy."
   ]
  },
  {
   "attachments": {},
   "cell_type": "markdown",
   "id": "d301c294",
   "metadata": {},
   "source": [
    "## Arrays are fussy about type"
   ]
  },
  {
   "cell_type": "code",
   "execution_count": 76,
   "id": "7dff7605-3de1-43d2-9c71-115ab35683ab",
   "metadata": {},
   "outputs": [],
   "source": [
    "py_list = [1, 1.5, 'Z']\n",
    "np_array = np.array(py_list)"
   ]
  },
  {
   "cell_type": "code",
   "execution_count": 77,
   "id": "c97a4af5-8409-47da-8969-ba2c517ac47f",
   "metadata": {},
   "outputs": [
    {
     "data": {
      "text/plain": [
       "[1, 1.5, 'Z']"
      ]
     },
     "execution_count": 77,
     "metadata": {},
     "output_type": "execute_result"
    }
   ],
   "source": [
    "py_list"
   ]
  },
  {
   "cell_type": "code",
   "execution_count": 78,
   "id": "d89c7025-f1eb-4286-8d72-876d1e5725d5",
   "metadata": {},
   "outputs": [
    {
     "data": {
      "text/plain": [
       "array(['1', '1.5', 'Z'], dtype='<U32')"
      ]
     },
     "execution_count": 78,
     "metadata": {},
     "output_type": "execute_result"
    }
   ],
   "source": [
    "np_array #Arrays can only have ONE datatype.<U32 indicates they are treated as string in this array.\n",
    "#To resolve this,can change type (typecast) using the ‘hidden’ function astypes()"
   ]
  },
  {
   "attachments": {},
   "cell_type": "markdown",
   "id": "83d9d441",
   "metadata": {},
   "source": [
    "## Adding a number"
   ]
  },
  {
   "cell_type": "code",
   "execution_count": 83,
   "id": "46e12631-c7ac-42ce-96d1-27a808e912fb",
   "metadata": {},
   "outputs": [],
   "source": [
    "py_list = [1, 2, 3, 4, 5]\n",
    "np_array = np.array(py_list)         # Reusing the Python list to create a new numpy array"
   ]
  },
  {
   "cell_type": "code",
   "execution_count": 80,
   "id": "22c02722-42bb-4c81-b108-8274df8e5028",
   "metadata": {},
   "outputs": [
    {
     "ename": "TypeError",
     "evalue": "can only concatenate list (not \"int\") to list",
     "output_type": "error",
     "traceback": [
      "\u001b[1;31m---------------------------------------------------------------------------\u001b[0m",
      "\u001b[1;31mTypeError\u001b[0m                                 Traceback (most recent call last)",
      "Cell \u001b[1;32mIn[80], line 1\u001b[0m\n\u001b[1;32m----> 1\u001b[0m \u001b[43mpy_list\u001b[49m\u001b[43m \u001b[49m\u001b[38;5;241;43m+\u001b[39;49m\u001b[43m \u001b[49m\u001b[38;5;241;43m10\u001b[39;49m        \u001b[38;5;66;03m# Won't work as it is not a defined operation.\u001b[39;00m\n",
      "\u001b[1;31mTypeError\u001b[0m: can only concatenate list (not \"int\") to list"
     ]
    }
   ],
   "source": [
    "py_list + 10        # Won't work as it is not a defined operation."
   ]
  },
  {
   "cell_type": "code",
   "execution_count": 81,
   "id": "1ce28bdf-6fd2-4d67-b62f-ba7587baa6f6",
   "metadata": {},
   "outputs": [
    {
     "name": "stdout",
     "output_type": "stream",
     "text": [
      "[11, 12, 13, 14, 15]\n"
     ]
    }
   ],
   "source": [
    "py_list = [1, 2, 3, 4, 5]\n",
    "py_list = [x + 10 for x in py_list] #If want to force py list without using numpy.But numpy is easier to do so hence below.\n",
    "print(py_list)"
   ]
  },
  {
   "cell_type": "code",
   "execution_count": 82,
   "id": "6d11747f-980c-4df1-93f3-86abb2944d74",
   "metadata": {},
   "outputs": [
    {
     "data": {
      "text/plain": [
       "array([11, 12, 13, 14, 15])"
      ]
     },
     "execution_count": 82,
     "metadata": {},
     "output_type": "execute_result"
    }
   ],
   "source": [
    "np_array + 10"
   ]
  },
  {
   "cell_type": "code",
   "execution_count": 84,
   "id": "cbc543ad-c3a8-43a8-a457-ddb9b1c2cc3a",
   "metadata": {},
   "outputs": [
    {
     "ename": "TypeError",
     "evalue": "unsupported operand type(s) for ** or pow(): 'list' and 'int'",
     "output_type": "error",
     "traceback": [
      "\u001b[1;31m---------------------------------------------------------------------------\u001b[0m",
      "\u001b[1;31mTypeError\u001b[0m                                 Traceback (most recent call last)",
      "Cell \u001b[1;32mIn[84], line 2\u001b[0m\n\u001b[0;32m      1\u001b[0m py_list \u001b[38;5;241m=\u001b[39m [\u001b[38;5;241m1\u001b[39m, \u001b[38;5;241m2\u001b[39m, \u001b[38;5;241m3\u001b[39m, \u001b[38;5;241m4\u001b[39m, \u001b[38;5;241m5\u001b[39m] \u001b[38;5;66;03m#For multiply, will go through later in the notebook regarding growing list.\u001b[39;00m\n\u001b[1;32m----> 2\u001b[0m \u001b[43mpy_list\u001b[49m\u001b[38;5;241;43m*\u001b[39;49m\u001b[38;5;241;43m*\u001b[39;49m\u001b[38;5;241;43m2\u001b[39;49m \u001b[38;5;66;03m#The ** operator is used for exponentiation, but it requires both operands to be numbers (integers or floats), not lists.\u001b[39;00m\n",
      "\u001b[1;31mTypeError\u001b[0m: unsupported operand type(s) for ** or pow(): 'list' and 'int'"
     ]
    }
   ],
   "source": [
    "py_list = [1, 2, 3, 4, 5] #For multiply, will go through later in the notebook regarding growing list.\n",
    "py_list**2 #The ** operator is used for exponentiation, but it requires both operands to be numbers (integers or floats), not lists."
   ]
  },
  {
   "cell_type": "code",
   "execution_count": 85,
   "id": "6450aad8-7eca-4e51-a420-7577dcb2257c",
   "metadata": {},
   "outputs": [
    {
     "name": "stdout",
     "output_type": "stream",
     "text": [
      "[1, 4, 9, 16, 25]\n"
     ]
    }
   ],
   "source": [
    "py_list = [1, 2, 3, 4, 5]\n",
    "squared_list = [x ** 2 for x in py_list]\n",
    "print(squared_list)  # Output: [1, 4, 9, 16, 25] #Wrap around to sq it using list."
   ]
  },
  {
   "cell_type": "code",
   "execution_count": 86,
   "id": "8548f31a-3d80-408c-bf34-a38992185102",
   "metadata": {},
   "outputs": [
    {
     "data": {
      "text/plain": [
       "array([ 1,  4,  9, 16, 25])"
      ]
     },
     "execution_count": 86,
     "metadata": {},
     "output_type": "execute_result"
    }
   ],
   "source": [
    "np_array**2 #Remember: sq command is **, for numpy array this math operation works fine."
   ]
  },
  {
   "attachments": {},
   "cell_type": "markdown",
   "id": "8bbf814f",
   "metadata": {},
   "source": [
    "## Adding another list"
   ]
  },
  {
   "cell_type": "code",
   "execution_count": 87,
   "id": "abcc26bf-4c0f-4d15-a896-ab26a989c448",
   "metadata": {},
   "outputs": [],
   "source": [
    "py_list_1 = [1, 2, 3, 4, 5]\n",
    "py_list_2 = [10, 20, 30, 40, 50]\n",
    "\n",
    "np_array_1 = np.array(py_list_1)\n",
    "np_array_2 = np.array(py_list_2)"
   ]
  },
  {
   "cell_type": "code",
   "execution_count": 88,
   "id": "30c4fb4f-0943-431c-b556-65f9a7fe19aa",
   "metadata": {},
   "outputs": [
    {
     "data": {
      "text/plain": [
       "[1, 2, 3, 4, 5, 10, 20, 30, 40, 50]"
      ]
     },
     "execution_count": 88,
     "metadata": {},
     "output_type": "execute_result"
    }
   ],
   "source": [
    "py_list_1 + py_list_2 #Adding lists grows the lists."
   ]
  },
  {
   "cell_type": "code",
   "execution_count": 89,
   "id": "7115047e-37d8-474e-a765-00eb3699dfec",
   "metadata": {},
   "outputs": [
    {
     "data": {
      "text/plain": [
       "array([11, 22, 33, 44, 55])"
      ]
     },
     "execution_count": 89,
     "metadata": {},
     "output_type": "execute_result"
    }
   ],
   "source": [
    "np_array_1 + np_array_2 #Adding arrays is element-wise operation in this case, element-wise addition. "
   ]
  },
  {
   "cell_type": "code",
   "execution_count": 90,
   "id": "94252cb5-893e-46e8-af7e-70d313d9f65e",
   "metadata": {},
   "outputs": [
    {
     "name": "stdout",
     "output_type": "stream",
     "text": [
      "[ 1  2  3  4  5 10 20 30 40 50]\n"
     ]
    }
   ],
   "source": [
    "concatenated_array = np.concatenate((np_array_1, np_array_2)) #If want to use Array to perform a function similar to growing the list.\n",
    "print(concatenated_array)"
   ]
  },
  {
   "attachments": {},
   "cell_type": "markdown",
   "id": "fd93fbd3",
   "metadata": {},
   "source": [
    "## Multiplying by a Number"
   ]
  },
  {
   "cell_type": "code",
   "execution_count": 92,
   "id": "b1b6149f-68b1-4c07-8de2-cbd8f70eb724",
   "metadata": {},
   "outputs": [],
   "source": [
    "py_list = [1, 2, 3, 4, 5]\n",
    "np_array = np.array(py_list)         "
   ]
  },
  {
   "cell_type": "code",
   "execution_count": 93,
   "id": "b2fe3202-4ff0-4a6e-a2e1-194979955f01",
   "metadata": {},
   "outputs": [
    {
     "data": {
      "text/plain": [
       "[1, 2, 3, 4, 5, 1, 2, 3, 4, 5]"
      ]
     },
     "execution_count": 93,
     "metadata": {},
     "output_type": "execute_result"
    }
   ],
   "source": [
    "py_list*2 #Similarly, the list grows."
   ]
  },
  {
   "cell_type": "code",
   "execution_count": 94,
   "id": "793741dc-3acb-430b-8dce-9a0b711c8177",
   "metadata": {},
   "outputs": [
    {
     "data": {
      "text/plain": [
       "array([ 2,  4,  6,  8, 10])"
      ]
     },
     "execution_count": 94,
     "metadata": {},
     "output_type": "execute_result"
    }
   ],
   "source": [
    "np_array*2 #Will perform element-wise multiplication."
   ]
  },
  {
   "attachments": {},
   "cell_type": "markdown",
   "id": "3e3b7d4f",
   "metadata": {},
   "source": [
    "## Squaring"
   ]
  },
  {
   "cell_type": "code",
   "execution_count": 95,
   "id": "c2f71946-5353-499f-8ba8-a5ba2e0b7eb2",
   "metadata": {},
   "outputs": [],
   "source": [
    "py_list = [1, 2, 3, 4, 5]\n",
    "np_array = np.array(py_list)"
   ]
  },
  {
   "cell_type": "code",
   "execution_count": 96,
   "id": "e3061a8f-1e37-4898-8653-042a4e2c11cd",
   "metadata": {},
   "outputs": [
    {
     "data": {
      "text/plain": [
       "False"
      ]
     },
     "execution_count": 96,
     "metadata": {},
     "output_type": "execute_result"
    }
   ],
   "source": [
    "py_list == 3     # Trying to compare the entire list to the scalar value 3, which is not a valid operation."
   ]
  },
  {
   "cell_type": "code",
   "execution_count": 97,
   "id": "65b572e9-34e2-47b2-a92a-a425c41b750e",
   "metadata": {},
   "outputs": [
    {
     "data": {
      "text/plain": [
       "True"
      ]
     },
     "execution_count": 97,
     "metadata": {},
     "output_type": "execute_result"
    }
   ],
   "source": [
    "3 in py_list  # Using in, Checks if 3 is in the list"
   ]
  },
  {
   "cell_type": "code",
   "execution_count": 98,
   "id": "077caead-8d5d-4b59-b77f-a281a5934849",
   "metadata": {},
   "outputs": [
    {
     "data": {
      "text/plain": [
       "array([False, False,  True, False, False])"
      ]
     },
     "execution_count": 98,
     "metadata": {},
     "output_type": "execute_result"
    }
   ],
   "source": [
    "np_array == 3 #Will check if each element is equal to 3."
   ]
  },
  {
   "cell_type": "code",
   "execution_count": 99,
   "id": "df7d8ade-6a1a-477d-be57-52e7ad2dce7b",
   "metadata": {},
   "outputs": [
    {
     "data": {
      "text/plain": [
       "True"
      ]
     },
     "execution_count": 99,
     "metadata": {},
     "output_type": "execute_result"
    }
   ],
   "source": [
    "3 in np_array  # Checks if 3 is in the NumPy array"
   ]
  },
  {
   "attachments": {},
   "cell_type": "markdown",
   "id": "2f15bdc6",
   "metadata": {},
   "source": [
    "## Asking questions"
   ]
  },
  {
   "cell_type": "code",
   "execution_count": 100,
   "id": "fb99406a-947d-41ee-a528-755bdf28b9a3",
   "metadata": {},
   "outputs": [],
   "source": [
    "py_list = [1, 2, 3, 4, 5]\n",
    "np_array = np.array(py_list)         "
   ]
  },
  {
   "cell_type": "code",
   "execution_count": 101,
   "id": "6f3052d9-2eea-4cfb-ad12-6081de58f424",
   "metadata": {},
   "outputs": [
    {
     "ename": "TypeError",
     "evalue": "'>' not supported between instances of 'list' and 'int'",
     "output_type": "error",
     "traceback": [
      "\u001b[1;31m---------------------------------------------------------------------------\u001b[0m",
      "\u001b[1;31mTypeError\u001b[0m                                 Traceback (most recent call last)",
      "Cell \u001b[1;32mIn[101], line 1\u001b[0m\n\u001b[1;32m----> 1\u001b[0m \u001b[43mpy_list\u001b[49m\u001b[43m \u001b[49m\u001b[38;5;241;43m>\u001b[39;49m\u001b[43m \u001b[49m\u001b[38;5;241;43m3\u001b[39;49m      \u001b[38;5;66;03m# Won't work as it compares the entire list to the specified value, and it's not designed for element-wise comparison.\u001b[39;00m\n",
      "\u001b[1;31mTypeError\u001b[0m: '>' not supported between instances of 'list' and 'int'"
     ]
    }
   ],
   "source": [
    "py_list > 3      # Won't work as it compares the entire list to the specified value, and it's not designed for element-wise comparison."
   ]
  },
  {
   "cell_type": "code",
   "execution_count": 124,
   "id": "26626dc8-addb-4987-86d9-25ab75f5e288",
   "metadata": {},
   "outputs": [
    {
     "name": "stdout",
     "output_type": "stream",
     "text": [
      "[False, False, False, True, True]\n"
     ]
    }
   ],
   "source": [
    "py_list = [1, 2, 3, 4, 5]\n",
    "\n",
    "# To Check if each element in py_list is greater than 3\n",
    "result_list = [x > 3 for x in py_list]\n",
    "\n",
    "print(result_list)"
   ]
  },
  {
   "cell_type": "code",
   "execution_count": 103,
   "id": "bd13a414-f6c5-4294-851d-632243a61ee5",
   "metadata": {},
   "outputs": [
    {
     "name": "stdout",
     "output_type": "stream",
     "text": [
      "True\n"
     ]
    }
   ],
   "source": [
    "py_list = [1, 2, 3, 4, 5]\n",
    "\n",
    "#To check if ANY element in py_list is greater than 3\n",
    "result = any(x > 3 for x in py_list)\n",
    "\n",
    "print(result)"
   ]
  },
  {
   "cell_type": "code",
   "execution_count": 104,
   "id": "0470d80b-6acf-49c9-af5e-9c26613328bf",
   "metadata": {},
   "outputs": [
    {
     "data": {
      "text/plain": [
       "array([False, False, False,  True,  True])"
      ]
     },
     "execution_count": 104,
     "metadata": {},
     "output_type": "execute_result"
    }
   ],
   "source": [
    "np_array > 3  "
   ]
  },
  {
   "attachments": {},
   "cell_type": "markdown",
   "id": "3f263945",
   "metadata": {},
   "source": [
    "## Mathematics"
   ]
  },
  {
   "cell_type": "markdown",
   "id": "ecce2d97-8671-4f21-85c9-7b8943c50728",
   "metadata": {},
   "source": [
    "### Using py list"
   ]
  },
  {
   "cell_type": "code",
   "execution_count": 105,
   "id": "5c254dad-820c-4a97-9593-5a06759c152c",
   "metadata": {},
   "outputs": [],
   "source": [
    "py_list = [1, 2, 3, 4, 5]\n",
    "np_array = np.array(py_list)         "
   ]
  },
  {
   "cell_type": "code",
   "execution_count": 106,
   "id": "96593ec3-d648-4bef-80c7-ef7bff5fca71",
   "metadata": {},
   "outputs": [
    {
     "data": {
      "text/plain": [
       "15"
      ]
     },
     "execution_count": 106,
     "metadata": {},
     "output_type": "execute_result"
    }
   ],
   "source": [
    "sum(py_list)     # sum() is a base Python function"
   ]
  },
  {
   "cell_type": "code",
   "execution_count": 107,
   "id": "286ce2c1-f7eb-4f58-81c7-bd0b5fc7e142",
   "metadata": {},
   "outputs": [
    {
     "data": {
      "text/plain": [
       "5"
      ]
     },
     "execution_count": 107,
     "metadata": {},
     "output_type": "execute_result"
    }
   ],
   "source": [
    "max(py_list)     # max() is a base Python function"
   ]
  },
  {
   "cell_type": "code",
   "execution_count": 108,
   "id": "38a3b990-6c85-4ada-b970-bd9aab6ba570",
   "metadata": {},
   "outputs": [
    {
     "data": {
      "text/plain": [
       "1"
      ]
     },
     "execution_count": 108,
     "metadata": {},
     "output_type": "execute_result"
    }
   ],
   "source": [
    "min(py_list)     # min() is a base Python function"
   ]
  },
  {
   "cell_type": "markdown",
   "id": "c895a723-970e-4ec2-9801-1cff40da8cf3",
   "metadata": {},
   "source": [
    "### Using np array"
   ]
  },
  {
   "cell_type": "code",
   "execution_count": 109,
   "id": "b5db9e33-c45b-4d01-a59d-f129218239bd",
   "metadata": {},
   "outputs": [
    {
     "data": {
      "text/plain": [
       "15"
      ]
     },
     "execution_count": 109,
     "metadata": {},
     "output_type": "execute_result"
    }
   ],
   "source": [
    "np_array.sum() "
   ]
  },
  {
   "cell_type": "code",
   "execution_count": 110,
   "id": "77d93e50-e546-4bdb-8a07-83bd0f483048",
   "metadata": {},
   "outputs": [
    {
     "data": {
      "text/plain": [
       "5"
      ]
     },
     "execution_count": 110,
     "metadata": {},
     "output_type": "execute_result"
    }
   ],
   "source": [
    "np_array.max()"
   ]
  },
  {
   "cell_type": "code",
   "execution_count": 111,
   "id": "f7b3c7c7-2a5b-4fc3-83b9-3a8258dcfdaf",
   "metadata": {},
   "outputs": [
    {
     "data": {
      "text/plain": [
       "1"
      ]
     },
     "execution_count": 111,
     "metadata": {},
     "output_type": "execute_result"
    }
   ],
   "source": [
    "np_array.min()"
   ]
  },
  {
   "cell_type": "code",
   "execution_count": 112,
   "id": "edf259f0-49d1-4b0f-969d-929936fa92d0",
   "metadata": {},
   "outputs": [
    {
     "data": {
      "text/plain": [
       "3.0"
      ]
     },
     "execution_count": 112,
     "metadata": {},
     "output_type": "execute_result"
    }
   ],
   "source": [
    "np_array.mean()"
   ]
  },
  {
   "cell_type": "code",
   "execution_count": 113,
   "id": "20259507-cb06-4c94-ae07-d82f0a2394ac",
   "metadata": {},
   "outputs": [
    {
     "data": {
      "text/plain": [
       "1.4142135623730951"
      ]
     },
     "execution_count": 113,
     "metadata": {},
     "output_type": "execute_result"
    }
   ],
   "source": [
    "np_array.std()"
   ]
  },
  {
   "cell_type": "code",
   "execution_count": 116,
   "id": "6e2cec0b-4dd8-4f87-ac70-39b4d7ce5b10",
   "metadata": {},
   "outputs": [
    {
     "data": {
      "text/plain": [
       "array([1, 2, 3, 4, 5])"
      ]
     },
     "execution_count": 116,
     "metadata": {},
     "output_type": "execute_result"
    }
   ],
   "source": [
    "np.sort(np_array) #From here is extra but useful commands for np. This sorts it in ascending order."
   ]
  },
  {
   "cell_type": "code",
   "execution_count": 123,
   "id": "7ea4b79a-7019-44f1-86f4-4521e2883b25",
   "metadata": {},
   "outputs": [
    {
     "name": "stdout",
     "output_type": "stream",
     "text": [
      "ALLOW_THREADS\n",
      "BUFSIZE\n",
      "CLIP\n",
      "DataSource\n",
      "ERR_CALL\n",
      "ERR_DEFAULT\n",
      "ERR_IGNORE\n",
      "ERR_LOG\n",
      "ERR_PRINT\n",
      "ERR_RAISE\n",
      "ERR_WARN\n",
      "FLOATING_POINT_SUPPORT\n",
      "FPE_DIVIDEBYZERO\n",
      "FPE_INVALID\n",
      "FPE_OVERFLOW\n",
      "FPE_UNDERFLOW\n",
      "False_\n",
      "Inf\n",
      "Infinity\n",
      "MAXDIMS\n",
      "MAY_SHARE_BOUNDS\n",
      "MAY_SHARE_EXACT\n",
      "NAN\n",
      "NINF\n",
      "NZERO\n",
      "NaN\n",
      "PINF\n",
      "PZERO\n",
      "RAISE\n",
      "RankWarning\n",
      "SHIFT_DIVIDEBYZERO\n",
      "SHIFT_INVALID\n",
      "SHIFT_OVERFLOW\n",
      "SHIFT_UNDERFLOW\n",
      "ScalarType\n",
      "True_\n",
      "UFUNC_BUFSIZE_DEFAULT\n",
      "UFUNC_PYVALS_NAME\n",
      "WRAP\n",
      "_CopyMode\n",
      "_NoValue\n",
      "_UFUNC_API\n",
      "__NUMPY_SETUP__\n",
      "__all__\n",
      "__builtins__\n",
      "__cached__\n",
      "__config__\n",
      "__deprecated_attrs__\n",
      "__dir__\n",
      "__doc__\n",
      "__expired_functions__\n",
      "__file__\n",
      "__former_attrs__\n",
      "__future_scalars__\n",
      "__getattr__\n",
      "__loader__\n",
      "__name__\n",
      "__package__\n",
      "__path__\n",
      "__spec__\n",
      "__version__\n",
      "_add_newdoc_ufunc\n",
      "_builtins\n",
      "_distributor_init\n",
      "_financial_names\n",
      "_get_promotion_state\n",
      "_globals\n",
      "_int_extended_msg\n",
      "_mat\n",
      "_no_nep50_warning\n",
      "_pyinstaller_hooks_dir\n",
      "_pytesttester\n",
      "_set_promotion_state\n",
      "_specific_msg\n",
      "_typing\n",
      "_using_numpy2_behavior\n",
      "_utils\n",
      "abs\n",
      "absolute\n",
      "add\n",
      "add_docstring\n",
      "add_newdoc\n",
      "add_newdoc_ufunc\n",
      "all\n",
      "allclose\n",
      "alltrue\n",
      "amax\n",
      "amin\n",
      "angle\n",
      "any\n",
      "append\n",
      "apply_along_axis\n",
      "apply_over_axes\n",
      "arange\n",
      "arccos\n",
      "arccosh\n",
      "arcsin\n",
      "arcsinh\n",
      "arctan\n",
      "arctan2\n",
      "arctanh\n",
      "argmax\n",
      "argmin\n",
      "argpartition\n",
      "argsort\n",
      "argwhere\n",
      "around\n",
      "array\n",
      "array2string\n",
      "array_equal\n",
      "array_equiv\n",
      "array_repr\n",
      "array_split\n",
      "array_str\n",
      "asanyarray\n",
      "asarray\n",
      "asarray_chkfinite\n",
      "ascontiguousarray\n",
      "asfarray\n",
      "asfortranarray\n",
      "asmatrix\n",
      "atleast_1d\n",
      "atleast_2d\n",
      "atleast_3d\n",
      "average\n",
      "bartlett\n",
      "base_repr\n",
      "binary_repr\n",
      "bincount\n",
      "bitwise_and\n",
      "bitwise_not\n",
      "bitwise_or\n",
      "bitwise_xor\n",
      "blackman\n",
      "block\n",
      "bmat\n",
      "bool_\n",
      "broadcast\n",
      "broadcast_arrays\n",
      "broadcast_shapes\n",
      "broadcast_to\n",
      "busday_count\n",
      "busday_offset\n",
      "busdaycalendar\n",
      "byte\n",
      "byte_bounds\n",
      "bytes_\n",
      "c_\n",
      "can_cast\n",
      "cast\n",
      "cbrt\n",
      "cdouble\n",
      "ceil\n",
      "cfloat\n",
      "char\n",
      "character\n",
      "chararray\n",
      "choose\n",
      "clip\n",
      "clongdouble\n",
      "clongfloat\n",
      "column_stack\n",
      "common_type\n",
      "compare_chararrays\n",
      "compat\n",
      "complex128\n",
      "complex64\n",
      "complex_\n",
      "complexfloating\n",
      "compress\n",
      "concatenate\n",
      "conj\n",
      "conjugate\n",
      "convolve\n",
      "copy\n",
      "copysign\n",
      "copyto\n",
      "corrcoef\n",
      "correlate\n",
      "cos\n",
      "cosh\n",
      "count_nonzero\n",
      "cov\n",
      "cross\n",
      "csingle\n",
      "ctypeslib\n",
      "cumprod\n",
      "cumproduct\n",
      "cumsum\n",
      "datetime64\n",
      "datetime_as_string\n",
      "datetime_data\n",
      "deg2rad\n",
      "degrees\n",
      "delete\n",
      "deprecate\n",
      "deprecate_with_doc\n",
      "diag\n",
      "diag_indices\n",
      "diag_indices_from\n",
      "diagflat\n",
      "diagonal\n",
      "diff\n",
      "digitize\n",
      "disp\n",
      "divide\n",
      "divmod\n",
      "dot\n",
      "double\n",
      "dsplit\n",
      "dstack\n",
      "dtype\n",
      "dtypes\n",
      "e\n",
      "ediff1d\n",
      "einsum\n",
      "einsum_path\n",
      "emath\n",
      "empty\n",
      "empty_like\n",
      "equal\n",
      "errstate\n",
      "euler_gamma\n",
      "exceptions\n",
      "exp\n",
      "exp2\n",
      "expand_dims\n",
      "expm1\n",
      "extract\n",
      "eye\n",
      "fabs\n",
      "fastCopyAndTranspose\n",
      "fft\n",
      "fill_diagonal\n",
      "find_common_type\n",
      "finfo\n",
      "fix\n",
      "flatiter\n",
      "flatnonzero\n",
      "flexible\n",
      "flip\n",
      "fliplr\n",
      "flipud\n",
      "float16\n",
      "float32\n",
      "float64\n",
      "float_\n",
      "float_power\n",
      "floating\n",
      "floor\n",
      "floor_divide\n",
      "fmax\n",
      "fmin\n",
      "fmod\n",
      "format_float_positional\n",
      "format_float_scientific\n",
      "format_parser\n",
      "frexp\n",
      "from_dlpack\n",
      "frombuffer\n",
      "fromfile\n",
      "fromfunction\n",
      "fromiter\n",
      "frompyfunc\n",
      "fromregex\n",
      "fromstring\n",
      "full\n",
      "full_like\n",
      "gcd\n",
      "generic\n",
      "genfromtxt\n",
      "geomspace\n",
      "get_array_wrap\n",
      "get_include\n",
      "get_printoptions\n",
      "getbufsize\n",
      "geterr\n",
      "geterrcall\n",
      "geterrobj\n",
      "gradient\n",
      "greater\n",
      "greater_equal\n",
      "half\n",
      "hamming\n",
      "hanning\n",
      "heaviside\n",
      "histogram\n",
      "histogram2d\n",
      "histogram_bin_edges\n",
      "histogramdd\n",
      "hsplit\n",
      "hstack\n",
      "hypot\n",
      "i0\n",
      "identity\n",
      "iinfo\n",
      "imag\n",
      "in1d\n",
      "index_exp\n",
      "indices\n",
      "inexact\n",
      "inf\n",
      "info\n",
      "infty\n",
      "inner\n",
      "insert\n",
      "int16\n",
      "int32\n",
      "int64\n",
      "int8\n",
      "int_\n",
      "intc\n",
      "integer\n",
      "interp\n",
      "intersect1d\n",
      "intp\n",
      "invert\n",
      "is_busday\n",
      "isclose\n",
      "iscomplex\n",
      "iscomplexobj\n",
      "isfinite\n",
      "isfortran\n",
      "isin\n",
      "isinf\n",
      "isnan\n",
      "isnat\n",
      "isneginf\n",
      "isposinf\n",
      "isreal\n",
      "isrealobj\n",
      "isscalar\n",
      "issctype\n",
      "issubclass_\n",
      "issubdtype\n",
      "issubsctype\n",
      "iterable\n",
      "ix_\n",
      "kaiser\n",
      "kron\n",
      "lcm\n",
      "ldexp\n",
      "left_shift\n",
      "less\n",
      "less_equal\n",
      "lexsort\n",
      "lib\n",
      "linalg\n",
      "linspace\n",
      "little_endian\n",
      "load\n",
      "loadtxt\n",
      "log\n",
      "log10\n",
      "log1p\n",
      "log2\n",
      "logaddexp\n",
      "logaddexp2\n",
      "logical_and\n",
      "logical_not\n",
      "logical_or\n",
      "logical_xor\n",
      "logspace\n",
      "longcomplex\n",
      "longdouble\n",
      "longfloat\n",
      "longlong\n",
      "lookfor\n",
      "ma\n",
      "mask_indices\n",
      "mat\n",
      "matmul\n",
      "matrix\n",
      "max\n",
      "maximum\n",
      "maximum_sctype\n",
      "may_share_memory\n",
      "mean\n",
      "median\n",
      "memmap\n",
      "meshgrid\n",
      "mgrid\n",
      "min\n",
      "min_scalar_type\n",
      "minimum\n",
      "mintypecode\n",
      "mod\n",
      "modf\n",
      "moveaxis\n",
      "msort\n",
      "multiply\n",
      "nan\n",
      "nan_to_num\n",
      "nanargmax\n",
      "nanargmin\n",
      "nancumprod\n",
      "nancumsum\n",
      "nanmax\n",
      "nanmean\n",
      "nanmedian\n",
      "nanmin\n",
      "nanpercentile\n",
      "nanprod\n",
      "nanquantile\n",
      "nanstd\n",
      "nansum\n",
      "nanvar\n",
      "nbytes\n",
      "ndarray\n",
      "ndenumerate\n",
      "ndim\n",
      "ndindex\n",
      "nditer\n",
      "negative\n",
      "nested_iters\n",
      "newaxis\n",
      "nextafter\n",
      "nonzero\n",
      "not_equal\n",
      "numarray\n",
      "number\n",
      "obj2sctype\n",
      "object_\n",
      "ogrid\n",
      "oldnumeric\n",
      "ones\n",
      "ones_like\n",
      "outer\n",
      "packbits\n",
      "pad\n",
      "partition\n",
      "percentile\n",
      "pi\n",
      "piecewise\n",
      "place\n",
      "poly\n",
      "poly1d\n",
      "polyadd\n",
      "polyder\n",
      "polydiv\n",
      "polyfit\n",
      "polyint\n",
      "polymul\n",
      "polynomial\n",
      "polysub\n",
      "polyval\n",
      "positive\n",
      "power\n",
      "printoptions\n",
      "prod\n",
      "product\n",
      "promote_types\n",
      "ptp\n",
      "put\n",
      "put_along_axis\n",
      "putmask\n",
      "quantile\n",
      "r_\n",
      "rad2deg\n",
      "radians\n",
      "random\n",
      "ravel\n",
      "ravel_multi_index\n",
      "real\n",
      "real_if_close\n",
      "rec\n",
      "recarray\n",
      "recfromcsv\n",
      "recfromtxt\n",
      "reciprocal\n",
      "record\n",
      "remainder\n",
      "repeat\n",
      "require\n",
      "reshape\n",
      "resize\n",
      "result_type\n",
      "right_shift\n",
      "rint\n",
      "roll\n",
      "rollaxis\n",
      "roots\n",
      "rot90\n",
      "round\n",
      "round_\n",
      "row_stack\n",
      "s_\n",
      "safe_eval\n",
      "save\n",
      "savetxt\n",
      "savez\n",
      "savez_compressed\n",
      "sctype2char\n",
      "sctypeDict\n",
      "sctypes\n",
      "searchsorted\n",
      "select\n",
      "set_numeric_ops\n",
      "set_printoptions\n",
      "set_string_function\n",
      "setbufsize\n",
      "setdiff1d\n",
      "seterr\n",
      "seterrcall\n",
      "seterrobj\n",
      "setxor1d\n",
      "shape\n",
      "shares_memory\n",
      "short\n",
      "show_config\n",
      "show_runtime\n",
      "sign\n",
      "signbit\n",
      "signedinteger\n",
      "sin\n",
      "sinc\n",
      "single\n",
      "singlecomplex\n",
      "sinh\n",
      "size\n",
      "sometrue\n",
      "sort\n",
      "sort_complex\n",
      "source\n",
      "spacing\n",
      "split\n",
      "sqrt\n",
      "square\n",
      "squeeze\n",
      "stack\n",
      "std\n",
      "str_\n",
      "string_\n",
      "subtract\n",
      "sum\n",
      "swapaxes\n",
      "take\n",
      "take_along_axis\n",
      "tan\n",
      "tanh\n",
      "tensordot\n",
      "test\n",
      "testing\n",
      "tile\n",
      "timedelta64\n",
      "trace\n",
      "tracemalloc_domain\n",
      "transpose\n",
      "trapz\n",
      "tri\n",
      "tril\n",
      "tril_indices\n",
      "tril_indices_from\n",
      "trim_zeros\n",
      "triu\n",
      "triu_indices\n",
      "triu_indices_from\n",
      "true_divide\n",
      "trunc\n",
      "typecodes\n",
      "typename\n",
      "ubyte\n",
      "ufunc\n",
      "uint\n",
      "uint16\n",
      "uint32\n",
      "uint64\n",
      "uint8\n",
      "uintc\n",
      "uintp\n",
      "ulonglong\n",
      "unicode_\n",
      "union1d\n",
      "unique\n",
      "unpackbits\n",
      "unravel_index\n",
      "unsignedinteger\n",
      "unwrap\n",
      "ushort\n",
      "vander\n",
      "var\n",
      "vdot\n",
      "vectorize\n",
      "version\n",
      "void\n",
      "vsplit\n",
      "vstack\n",
      "where\n",
      "who\n",
      "zeros\n",
      "zeros_like\n"
     ]
    }
   ],
   "source": [
    "# All the commands in np, too long to learn and explain everything... so I'm going to leave it here.\n",
    "np_commands = dir(np) #cannot use !dir np because NumPy commands are spread across multiple modules and submodules.Hence do the code like below.\n",
    "\n",
    "for command in np_commands:\n",
    "    print(command)\n"
   ]
  },
  {
   "attachments": {},
   "cell_type": "markdown",
   "id": "48e82e48",
   "metadata": {},
   "source": [
    "# Exercises & Self-Assessment"
   ]
  },
  {
   "cell_type": "code",
   "execution_count": null,
   "id": "9e28ad5e",
   "metadata": {},
   "outputs": [],
   "source": [
    "\n",
    "\n",
    "\n",
    "# Your solution here\n",
    "\n",
    "\n"
   ]
  },
  {
   "attachments": {},
   "cell_type": "markdown",
   "id": "3d69957b",
   "metadata": {},
   "source": [
    "## Footnotes"
   ]
  }
 ],
 "metadata": {
  "kernelspec": {
   "display_name": "Python 3 (ipykernel)",
   "language": "python",
   "name": "python3"
  },
  "language_info": {
   "codemirror_mode": {
    "name": "ipython",
    "version": 3
   },
   "file_extension": ".py",
   "mimetype": "text/x-python",
   "name": "python",
   "nbconvert_exporter": "python",
   "pygments_lexer": "ipython3",
   "version": "3.11.5"
  },
  "toc": {
   "base_numbering": 1,
   "nav_menu": {},
   "number_sections": true,
   "sideBar": true,
   "skip_h1_title": false,
   "title_cell": "Table of Contents",
   "title_sidebar": "Contents",
   "toc_cell": false,
   "toc_position": {},
   "toc_section_display": true,
   "toc_window_display": false
  },
  "vscode": {
   "interpreter": {
    "hash": "31f2aee4e71d21fbe5cf8b01ff0e069b9275f58929596ceb00d14d90e3e16cd6"
   }
  }
 },
 "nbformat": 4,
 "nbformat_minor": 5
}
