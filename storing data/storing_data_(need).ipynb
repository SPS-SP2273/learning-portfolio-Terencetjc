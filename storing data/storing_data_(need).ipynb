{
 "cells": [
  {
   "attachments": {},
   "cell_type": "markdown",
   "id": "123456",
   "metadata": {},
   "source": [
    "<div style=\"text-align:left;font-size:2em\"><span style=\"font-weight:bolder;font-size:1.25em\">SP2273 | Learning Portfolio</span><br><br><span style=\"font-weight:bold;color:darkred\">Storing Data (Need)</span></div>"
   ]
  },
  {
   "attachments": {},
   "cell_type": "markdown",
   "id": "5e28ce65",
   "metadata": {},
   "source": [
    "# Lists, Arrays & Dictionaries"
   ]
  },
  {
   "cell_type": "markdown",
   "id": "0ea913f1-4544-43bf-a36f-42647de11534",
   "metadata": {},
   "source": [
    "Ways for Python to store and manipulate data.\r\n",
    "\r\n",
    "1. Lists\r\n",
    "2. Numpy arrays\r\n",
    "3. Dictionaries\r\n",
    "4. Tuples\r\n",
    "5. Dataframes\r\n",
    "6. Classes"
   ]
  },
  {
   "cell_type": "markdown",
   "id": "ee6dcb10-2d50-4ae3-a571-843ac8302aa7",
   "metadata": {},
   "source": [
    "Note: By understanding how to store,retrieve and modify data, it will influence how we think about data and improve ability to conjure up algorithms!"
   ]
  },
  {
   "attachments": {},
   "cell_type": "markdown",
   "id": "126787df",
   "metadata": {},
   "source": [
    "## Let’s compare"
   ]
  },
  {
   "cell_type": "code",
   "execution_count": 2,
   "id": "dfc30f13-0a90-4a1b-805f-fc036fbc44cc",
   "metadata": {},
   "outputs": [],
   "source": [
    "import numpy as np"
   ]
  },
  {
   "cell_type": "code",
   "execution_count": 3,
   "id": "890562fe-7ecb-4adb-be35-00549eb79cd5",
   "metadata": {},
   "outputs": [],
   "source": [
    "#Python Lists\n",
    "py_super_names = [\"Black Widow\", \"Iron Man\", \"Doctor Strange\"]\n",
    "py_real_names = [\"Natasha Romanoff\", \"Tony Stark\", \"Stephen Strange\"]"
   ]
  },
  {
   "cell_type": "code",
   "execution_count": 4,
   "id": "7227fe65-1452-4f63-b22e-e6576c035484",
   "metadata": {},
   "outputs": [],
   "source": [
    "#Numpy Arrays\n",
    "np_super_names = np.array([\"Black Widow\", \"Iron Man\", \"Doctor Strange\"])\n",
    "np_real_names = np.array([\"Natasha Romanoff\", \"Tony Stark\", \"Stephen Strange\"])"
   ]
  },
  {
   "cell_type": "code",
   "execution_count": 7,
   "id": "2a04e9d4-72ac-477d-ae3b-0b97f05280d9",
   "metadata": {},
   "outputs": [],
   "source": [
    "#Dictionary\n",
    "superhero_info = {\n",
    "    \"Natasha Romanoff\": \"Black Widow\",\n",
    "    \"Tony Stark\": \"Iron Man\",\n",
    "    \"Stephen Strange\": \"Doctor Strange\"\n",
    "}\n",
    "#Dictionary holds the real and superhero names in one structure while we need two structures for list and arrays.\n",
    "#List and Array very important: ORDER MATTERS! Tony stark must be same position as iron man. \n",
    "#Below is based on my research on when to use which"
   ]
  },
  {
   "cell_type": "markdown",
   "id": "63a7928b-1eca-4a37-82f8-a0b564ea0a22",
   "metadata": {},
   "source": [
    " - Dictionaries are preferred when there is a direct mapping between keys and values, and quick lookups are important.\r",
    "- \n",
    "Lists are preferred when maintaining the order of elements is crucial and each element at a specific index has a corresponding element at the same index in another list\n",
    "- \r\n",
    "Arrays (NumPy) are preferred when dealing with numerical data and when efficient numerical operations are required."
   ]
  },
  {
   "attachments": {},
   "cell_type": "markdown",
   "id": "0b22bc5e",
   "metadata": {},
   "source": [
    "## Accessing data from a list (or array)"
   ]
  },
  {
   "cell_type": "markdown",
   "id": "11c9bc0a-f5c9-4d8f-bd03-39212b844f9b",
   "metadata": {},
   "source": [
    "For List and Arrays, need to use an index corresponding to the data’s position (in which it starts at 0).\n",
    "![](https://sps.nus.edu.sg/sp2273/docs/python_basics/03_storing-data/python-zero-indexed-counting.png)"
   ]
  },
  {
   "cell_type": "code",
   "execution_count": 6,
   "id": "ed3af894-a561-4275-b45e-8f76e02af089",
   "metadata": {},
   "outputs": [
    {
     "data": {
      "text/plain": [
       "'Stephen Strange'"
      ]
     },
     "execution_count": 6,
     "metadata": {},
     "output_type": "execute_result"
    }
   ],
   "source": [
    "py_super_names = [\"Black Widow\", \"Iron Man\", \"Doctor Strange\"]\n",
    "py_real_names = [\"Natasha Romanoff\", \"Tony Stark\", \"Stephen Strange\"]\n",
    "py_real_names[2] #Output for position 2 at the corresponding list. #Forward Indexing, count from front to back"
   ]
  },
  {
   "cell_type": "code",
   "execution_count": 8,
   "id": "3129a9ee-7258-4aa0-91d2-7038949b9570",
   "metadata": {},
   "outputs": [
    {
     "data": {
      "text/plain": [
       "'Doctor Strange'"
      ]
     },
     "execution_count": 8,
     "metadata": {},
     "output_type": "execute_result"
    }
   ],
   "source": [
    "py_super_names[-1]   # Reverse indexing,count from back to front starting from -1. Output for last position at corresponding list."
   ]
  },
  {
   "attachments": {},
   "cell_type": "markdown",
   "id": "29799e32",
   "metadata": {},
   "source": [
    "## Accessing data from a dictionary"
   ]
  },
  {
   "cell_type": "code",
   "execution_count": 12,
   "id": "401829d2-be93-474b-bb1e-a40999f7434f",
   "metadata": {},
   "outputs": [
    {
     "data": {
      "text/plain": [
       "'Iron Man'"
      ]
     },
     "execution_count": 12,
     "metadata": {},
     "output_type": "execute_result"
    }
   ],
   "source": [
    "superhero_info = {\n",
    "    \"Natasha Romanoff\": \"Black Widow\",\n",
    "    \"Tony Stark\": \"Iron Man\",\n",
    "    \"Stephen Strange\": \"Doctor Strange\"\n",
    "}                  \n",
    "superhero_info[\"Tony Stark\"] #Dictionary has a key-value structure not index/position number."
   ]
  },
  {
   "cell_type": "code",
   "execution_count": 15,
   "id": "5d53291c-75af-4102-9f79-2d0cefa8469d",
   "metadata": {},
   "outputs": [
    {
     "data": {
      "text/plain": [
       "dict_keys(['Natasha Romanoff', 'Tony Stark', 'Stephen Strange'])"
      ]
     },
     "execution_count": 15,
     "metadata": {},
     "output_type": "execute_result"
    }
   ],
   "source": [
    "superhero_info.keys() #Access Dict keys"
   ]
  },
  {
   "cell_type": "code",
   "execution_count": 14,
   "id": "85b2af6a-9a95-4437-9f5c-b26a9e453777",
   "metadata": {},
   "outputs": [
    {
     "data": {
      "text/plain": [
       "dict_values(['Black Widow', 'Iron Man', 'Doctor Strange'])"
      ]
     },
     "execution_count": 14,
     "metadata": {},
     "output_type": "execute_result"
    }
   ],
   "source": [
    "superhero_info.values() #Access Dict values"
   ]
  },
  {
   "attachments": {},
   "cell_type": "markdown",
   "id": "e198c5b6",
   "metadata": {},
   "source": [
    "## Higher dimensional lists"
   ]
  },
  {
   "cell_type": "code",
   "execution_count": 19,
   "id": "1e06ffa5-e72d-4135-beea-d4e8a72ee591",
   "metadata": {},
   "outputs": [],
   "source": [
    "py_superhero_info = [['Natasha Romanoff', 'Black Widow'], #2 D-lists merges the 2 list requirement for real and superhero names above. \n",
    "                     ['Tony Stark', 'Iron Man'],\n",
    "                     ['Stephen Strange', 'Doctor Strange']]"
   ]
  },
  {
   "attachments": {},
   "cell_type": "markdown",
   "id": "a32aa1b4",
   "metadata": {},
   "source": [
    "# Lists vs. Arrays"
   ]
  },
  {
   "attachments": {},
   "cell_type": "markdown",
   "id": "76b032f1",
   "metadata": {},
   "source": [
    "## Size"
   ]
  },
  {
   "cell_type": "code",
   "execution_count": 24,
   "id": "68390818-7581-4eab-b300-8452a2f2fd5a",
   "metadata": {},
   "outputs": [],
   "source": [
    "import numpy as np\n",
    "py_list_2d = [[1, \"A\"], [2, \"B\"], [3, \"C\"], [4, \"D\"],\n",
    "              [5, \"E\"], [6, \"F\"], [7, \"G\"], [8, \"H\"],\n",
    "              [9, \"I\"], [10, \"J\"]]\n",
    "\n",
    "np_array_2d = np.array(py_list_2d)      # Reusing the Python list to create a new numpy array."
   ]
  },
  {
   "cell_type": "code",
   "execution_count": 27,
   "id": "bbc4e7b0-819c-45a1-979c-555455db36c3",
   "metadata": {},
   "outputs": [
    {
     "data": {
      "text/plain": [
       "10"
      ]
     },
     "execution_count": 27,
     "metadata": {},
     "output_type": "execute_result"
    }
   ],
   "source": [
    "len(py_list_2d)"
   ]
  },
  {
   "cell_type": "code",
   "execution_count": 28,
   "id": "216e7b66-6ba3-47b2-8ba4-0f70618dfab8",
   "metadata": {},
   "outputs": [
    {
     "data": {
      "text/plain": [
       "10"
      ]
     },
     "execution_count": 28,
     "metadata": {},
     "output_type": "execute_result"
    }
   ],
   "source": [
    "len(np_array_2d)"
   ]
  },
  {
   "cell_type": "code",
   "execution_count": 30,
   "id": "36ab7952-8d21-4157-8ec2-43c5aa62fb1d",
   "metadata": {},
   "outputs": [
    {
     "data": {
      "text/plain": [
       "(10, 2)"
      ]
     },
     "execution_count": 30,
     "metadata": {},
     "output_type": "execute_result"
    }
   ],
   "source": [
    "np_array_2d.shape #No () as shape is not a function but an attribute of numpy."
   ]
  },
  {
   "attachments": {},
   "cell_type": "markdown",
   "id": "d301c294",
   "metadata": {},
   "source": [
    "## Arrays are fussy about type"
   ]
  },
  {
   "cell_type": "code",
   "execution_count": 35,
   "id": "7dff7605-3de1-43d2-9c71-115ab35683ab",
   "metadata": {},
   "outputs": [],
   "source": [
    "py_list = [1, 1.5, 'Z']\n",
    "np_array = np.array(py_list)"
   ]
  },
  {
   "cell_type": "code",
   "execution_count": 36,
   "id": "c97a4af5-8409-47da-8969-ba2c517ac47f",
   "metadata": {},
   "outputs": [
    {
     "data": {
      "text/plain": [
       "[1, 1.5, 'Z']"
      ]
     },
     "execution_count": 36,
     "metadata": {},
     "output_type": "execute_result"
    }
   ],
   "source": [
    "py_list"
   ]
  },
  {
   "cell_type": "code",
   "execution_count": 39,
   "id": "d89c7025-f1eb-4286-8d72-876d1e5725d5",
   "metadata": {},
   "outputs": [
    {
     "data": {
      "text/plain": [
       "array(['1', '1.5', 'Z'], dtype='<U32')"
      ]
     },
     "execution_count": 39,
     "metadata": {},
     "output_type": "execute_result"
    }
   ],
   "source": [
    "np_array #Arrays can only have ONE datatype.<U32 indicates they are treated as string in this array.\n",
    "#To resolve this,can change type (typecast) using the ‘hidden’ function astypes()"
   ]
  },
  {
   "attachments": {},
   "cell_type": "markdown",
   "id": "83d9d441",
   "metadata": {},
   "source": [
    "## Adding a number"
   ]
  },
  {
   "cell_type": "code",
   "execution_count": 43,
   "id": "46e12631-c7ac-42ce-96d1-27a808e912fb",
   "metadata": {},
   "outputs": [],
   "source": [
    "py_list = [1, 2, 3, 4, 5]\n",
    "np_array = np.array(py_list)         # Reusing the Python list to create a new numpy array"
   ]
  },
  {
   "cell_type": "code",
   "execution_count": 48,
   "id": "22c02722-42bb-4c81-b108-8274df8e5028",
   "metadata": {},
   "outputs": [
    {
     "ename": "TypeError",
     "evalue": "can only concatenate list (not \"int\") to list",
     "output_type": "error",
     "traceback": [
      "\u001b[1;31m---------------------------------------------------------------------------\u001b[0m",
      "\u001b[1;31mTypeError\u001b[0m                                 Traceback (most recent call last)",
      "Cell \u001b[1;32mIn[48], line 1\u001b[0m\n\u001b[1;32m----> 1\u001b[0m \u001b[43mpy_list\u001b[49m\u001b[43m \u001b[49m\u001b[38;5;241;43m+\u001b[39;49m\u001b[43m \u001b[49m\u001b[38;5;241;43m10\u001b[39;49m        \u001b[38;5;66;03m# Won't work as it is not a defined operation.\u001b[39;00m\n",
      "\u001b[1;31mTypeError\u001b[0m: can only concatenate list (not \"int\") to list"
     ]
    }
   ],
   "source": [
    "py_list + 10        # Won't work as it is not a defined operation."
   ]
  },
  {
   "cell_type": "code",
   "execution_count": 51,
   "id": "1ce28bdf-6fd2-4d67-b62f-ba7587baa6f6",
   "metadata": {},
   "outputs": [
    {
     "name": "stdout",
     "output_type": "stream",
     "text": [
      "[11, 12, 13, 14, 15]\n"
     ]
    }
   ],
   "source": [
    "py_list = [1, 2, 3, 4, 5]\n",
    "py_list = [x + 10 for x in py_list] #If want to force py list without using numpy.But numpy is easier to do so hence below.\n",
    "print(py_list) "
   ]
  },
  {
   "cell_type": "code",
   "execution_count": 45,
   "id": "6d11747f-980c-4df1-93f3-86abb2944d74",
   "metadata": {},
   "outputs": [
    {
     "data": {
      "text/plain": [
       "array([11, 12, 13, 14, 15])"
      ]
     },
     "execution_count": 45,
     "metadata": {},
     "output_type": "execute_result"
    }
   ],
   "source": [
    "np_array + 10"
   ]
  },
  {
   "attachments": {},
   "cell_type": "markdown",
   "id": "8bbf814f",
   "metadata": {},
   "source": [
    "## Adding another list"
   ]
  },
  {
   "cell_type": "code",
   "execution_count": 52,
   "id": "abcc26bf-4c0f-4d15-a896-ab26a989c448",
   "metadata": {},
   "outputs": [],
   "source": [
    "py_list_1 = [1, 2, 3, 4, 5]\n",
    "py_list_2 = [10, 20, 30, 40, 50]\n",
    "\n",
    "np_array_1 = np.array(py_list_1)\n",
    "np_array_2 = np.array(py_list_2)"
   ]
  },
  {
   "cell_type": "code",
   "execution_count": 53,
   "id": "30c4fb4f-0943-431c-b556-65f9a7fe19aa",
   "metadata": {},
   "outputs": [
    {
     "data": {
      "text/plain": [
       "[1, 2, 3, 4, 5, 10, 20, 30, 40, 50]"
      ]
     },
     "execution_count": 53,
     "metadata": {},
     "output_type": "execute_result"
    }
   ],
   "source": [
    "py_list_1 + py_list_2 #Adding lists grows the lists."
   ]
  },
  {
   "cell_type": "code",
   "execution_count": 54,
   "id": "7115047e-37d8-474e-a765-00eb3699dfec",
   "metadata": {},
   "outputs": [
    {
     "data": {
      "text/plain": [
       "array([11, 22, 33, 44, 55])"
      ]
     },
     "execution_count": 54,
     "metadata": {},
     "output_type": "execute_result"
    }
   ],
   "source": [
    "np_array_1 + np_array_2 #Adding arrays is element-wise operation in this case, element-wise addition. "
   ]
  },
  {
   "cell_type": "code",
   "execution_count": 56,
   "id": "94252cb5-893e-46e8-af7e-70d313d9f65e",
   "metadata": {},
   "outputs": [
    {
     "name": "stdout",
     "output_type": "stream",
     "text": [
      "[ 1  2  3  4  5 10 20 30 40 50]\n"
     ]
    }
   ],
   "source": [
    "concatenated_array = np.concatenate((np_array_1, np_array_2)) #If want to use Array to perform a function similar to growing the list.\n",
    "print(concatenated_array)"
   ]
  },
  {
   "attachments": {},
   "cell_type": "markdown",
   "id": "fd93fbd3",
   "metadata": {
    "jp-MarkdownHeadingCollapsed": true
   },
   "source": [
    "## Multiplying by a Number"
   ]
  },
  {
   "cell_type": "code",
   "execution_count": 58,
   "id": "b1b6149f-68b1-4c07-8de2-cbd8f70eb724",
   "metadata": {},
   "outputs": [],
   "source": [
    "py_list = [1, 2, 3, 4, 5]\n",
    "np_array = np.array(py_list)         "
   ]
  },
  {
   "cell_type": "code",
   "execution_count": 59,
   "id": "b2fe3202-4ff0-4a6e-a2e1-194979955f01",
   "metadata": {},
   "outputs": [
    {
     "data": {
      "text/plain": [
       "[1, 2, 3, 4, 5, 1, 2, 3, 4, 5]"
      ]
     },
     "execution_count": 59,
     "metadata": {},
     "output_type": "execute_result"
    }
   ],
   "source": [
    "py_list*2 #Similarly, the list grows."
   ]
  },
  {
   "cell_type": "code",
   "execution_count": 61,
   "id": "793741dc-3acb-430b-8dce-9a0b711c8177",
   "metadata": {},
   "outputs": [
    {
     "data": {
      "text/plain": [
       "array([ 2,  4,  6,  8, 10])"
      ]
     },
     "execution_count": 61,
     "metadata": {},
     "output_type": "execute_result"
    }
   ],
   "source": [
    "np_array*2 #Will perform element-wise multiplication."
   ]
  },
  {
   "attachments": {},
   "cell_type": "markdown",
   "id": "3e3b7d4f",
   "metadata": {},
   "source": [
    "## Squaring"
   ]
  },
  {
   "cell_type": "code",
   "execution_count": 62,
   "id": "c2f71946-5353-499f-8ba8-a5ba2e0b7eb2",
   "metadata": {},
   "outputs": [],
   "source": [
    "py_list = [1, 2, 3, 4, 5]\n",
    "np_array = np.array(py_list)"
   ]
  },
  {
   "cell_type": "code",
   "execution_count": 1,
   "id": "e3061a8f-1e37-4898-8653-042a4e2c11cd",
   "metadata": {},
   "outputs": [
    {
     "ename": "NameError",
     "evalue": "name 'py_list' is not defined",
     "output_type": "error",
     "traceback": [
      "\u001b[1;31m---------------------------------------------------------------------------\u001b[0m",
      "\u001b[1;31mNameError\u001b[0m                                 Traceback (most recent call last)",
      "Cell \u001b[1;32mIn[1], line 1\u001b[0m\n\u001b[1;32m----> 1\u001b[0m \u001b[43mpy_list\u001b[49m \u001b[38;5;241m==\u001b[39m \u001b[38;5;241m3\u001b[39m     \u001b[38;5;66;03m# Trying to compare the entire list to the scalar value 3, which is not a valid operation.\u001b[39;00m\n",
      "\u001b[1;31mNameError\u001b[0m: name 'py_list' is not defined"
     ]
    }
   ],
   "source": [
    "py_list == 3     # Trying to compare the entire list to the scalar value 3, which is not a valid operation."
   ]
  },
  {
   "cell_type": "code",
   "execution_count": 69,
   "id": "65b572e9-34e2-47b2-a92a-a425c41b750e",
   "metadata": {},
   "outputs": [
    {
     "data": {
      "text/plain": [
       "True"
      ]
     },
     "execution_count": 69,
     "metadata": {},
     "output_type": "execute_result"
    }
   ],
   "source": [
    "3 in py_list  # Using in, Checks if 3 is in the list"
   ]
  },
  {
   "cell_type": "code",
   "execution_count": 70,
   "id": "077caead-8d5d-4b59-b77f-a281a5934849",
   "metadata": {},
   "outputs": [
    {
     "data": {
      "text/plain": [
       "array([False, False,  True, False, False])"
      ]
     },
     "execution_count": 70,
     "metadata": {},
     "output_type": "execute_result"
    }
   ],
   "source": [
    "np_array == 3 #Will check if each element is equal to 3."
   ]
  },
  {
   "cell_type": "code",
   "execution_count": 68,
   "id": "df7d8ade-6a1a-477d-be57-52e7ad2dce7b",
   "metadata": {},
   "outputs": [
    {
     "data": {
      "text/plain": [
       "True"
      ]
     },
     "execution_count": 68,
     "metadata": {},
     "output_type": "execute_result"
    }
   ],
   "source": [
    "3 in np_array  # Checks if 3 is in the NumPy array"
   ]
  },
  {
   "attachments": {},
   "cell_type": "markdown",
   "id": "2f15bdc6",
   "metadata": {},
   "source": [
    "## Asking questions"
   ]
  },
  {
   "cell_type": "code",
   "execution_count": 71,
   "id": "fb99406a-947d-41ee-a528-755bdf28b9a3",
   "metadata": {},
   "outputs": [],
   "source": [
    "py_list = [1, 2, 3, 4, 5]\n",
    "np_array = np.array(py_list)         "
   ]
  },
  {
   "cell_type": "code",
   "execution_count": 76,
   "id": "6f3052d9-2eea-4cfb-ad12-6081de58f424",
   "metadata": {},
   "outputs": [
    {
     "ename": "TypeError",
     "evalue": "'>' not supported between instances of 'list' and 'int'",
     "output_type": "error",
     "traceback": [
      "\u001b[1;31m---------------------------------------------------------------------------\u001b[0m",
      "\u001b[1;31mTypeError\u001b[0m                                 Traceback (most recent call last)",
      "Cell \u001b[1;32mIn[76], line 1\u001b[0m\n\u001b[1;32m----> 1\u001b[0m \u001b[43mpy_list\u001b[49m\u001b[43m \u001b[49m\u001b[38;5;241;43m>\u001b[39;49m\u001b[43m \u001b[49m\u001b[38;5;241;43m3\u001b[39;49m      \u001b[38;5;66;03m# Won't work as it compares the entire list to the specified value, and it's not designed for element-wise comparison.\u001b[39;00m\n",
      "\u001b[1;31mTypeError\u001b[0m: '>' not supported between instances of 'list' and 'int'"
     ]
    }
   ],
   "source": [
    "py_list > 3      # Won't work as it compares the entire list to the specified value, and it's not designed for element-wise comparison."
   ]
  },
  {
   "cell_type": "code",
   "execution_count": 80,
   "id": "26626dc8-addb-4987-86d9-25ab75f5e288",
   "metadata": {},
   "outputs": [
    {
     "name": "stdout",
     "output_type": "stream",
     "text": [
      "[False, False, False, True, True]\n"
     ]
    }
   ],
   "source": [
    "py_list = [1, 2, 3, 4, 5]\n",
    "\n",
    "# To Check if each element in py_list is greater than 3\n",
    "result_list = [x > 3 for x in py_list]\n",
    "\n",
    "print(result_list)"
   ]
  },
  {
   "cell_type": "code",
   "execution_count": 78,
   "id": "0470d80b-6acf-49c9-af5e-9c26613328bf",
   "metadata": {},
   "outputs": [
    {
     "data": {
      "text/plain": [
       "array([False, False, False,  True,  True])"
      ]
     },
     "execution_count": 78,
     "metadata": {},
     "output_type": "execute_result"
    }
   ],
   "source": [
    "np_array > 3  "
   ]
  },
  {
   "attachments": {},
   "cell_type": "markdown",
   "id": "3f263945",
   "metadata": {},
   "source": [
    "## Mathematics"
   ]
  },
  {
   "cell_type": "markdown",
   "id": "ecce2d97-8671-4f21-85c9-7b8943c50728",
   "metadata": {
    "jp-MarkdownHeadingCollapsed": true
   },
   "source": [
    "### Using py list"
   ]
  },
  {
   "cell_type": "code",
   "execution_count": 81,
   "id": "5c254dad-820c-4a97-9593-5a06759c152c",
   "metadata": {},
   "outputs": [],
   "source": [
    "py_list = [1, 2, 3, 4, 5]\n",
    "np_array = np.array(py_list)         "
   ]
  },
  {
   "cell_type": "code",
   "execution_count": 82,
   "id": "96593ec3-d648-4bef-80c7-ef7bff5fca71",
   "metadata": {},
   "outputs": [
    {
     "data": {
      "text/plain": [
       "15"
      ]
     },
     "execution_count": 82,
     "metadata": {},
     "output_type": "execute_result"
    }
   ],
   "source": [
    "sum(py_list)     # sum() is a base Python function"
   ]
  },
  {
   "cell_type": "code",
   "execution_count": 83,
   "id": "286ce2c1-f7eb-4f58-81c7-bd0b5fc7e142",
   "metadata": {},
   "outputs": [
    {
     "data": {
      "text/plain": [
       "5"
      ]
     },
     "execution_count": 83,
     "metadata": {},
     "output_type": "execute_result"
    }
   ],
   "source": [
    "max(py_list)     # max() is a base Python function"
   ]
  },
  {
   "cell_type": "code",
   "execution_count": 84,
   "id": "38a3b990-6c85-4ada-b970-bd9aab6ba570",
   "metadata": {},
   "outputs": [
    {
     "data": {
      "text/plain": [
       "1"
      ]
     },
     "execution_count": 84,
     "metadata": {},
     "output_type": "execute_result"
    }
   ],
   "source": [
    "min(py_list)     # min() is a base Python function"
   ]
  },
  {
   "cell_type": "markdown",
   "id": "c895a723-970e-4ec2-9801-1cff40da8cf3",
   "metadata": {},
   "source": [
    "### Using np array"
   ]
  },
  {
   "cell_type": "code",
   "execution_count": 88,
   "id": "b5db9e33-c45b-4d01-a59d-f129218239bd",
   "metadata": {},
   "outputs": [
    {
     "data": {
      "text/plain": [
       "15"
      ]
     },
     "execution_count": 88,
     "metadata": {},
     "output_type": "execute_result"
    }
   ],
   "source": [
    "np_array.sum()"
   ]
  },
  {
   "cell_type": "code",
   "execution_count": 89,
   "id": "77d93e50-e546-4bdb-8a07-83bd0f483048",
   "metadata": {},
   "outputs": [
    {
     "data": {
      "text/plain": [
       "5"
      ]
     },
     "execution_count": 89,
     "metadata": {},
     "output_type": "execute_result"
    }
   ],
   "source": [
    "np_array.max()"
   ]
  },
  {
   "cell_type": "code",
   "execution_count": 90,
   "id": "f7b3c7c7-2a5b-4fc3-83b9-3a8258dcfdaf",
   "metadata": {},
   "outputs": [
    {
     "data": {
      "text/plain": [
       "1"
      ]
     },
     "execution_count": 90,
     "metadata": {},
     "output_type": "execute_result"
    }
   ],
   "source": [
    "np_array.min()"
   ]
  },
  {
   "cell_type": "code",
   "execution_count": 91,
   "id": "edf259f0-49d1-4b0f-969d-929936fa92d0",
   "metadata": {},
   "outputs": [
    {
     "data": {
      "text/plain": [
       "3.0"
      ]
     },
     "execution_count": 91,
     "metadata": {},
     "output_type": "execute_result"
    }
   ],
   "source": [
    "np_array.mean()"
   ]
  },
  {
   "cell_type": "code",
   "execution_count": 92,
   "id": "20259507-cb06-4c94-ae07-d82f0a2394ac",
   "metadata": {},
   "outputs": [
    {
     "data": {
      "text/plain": [
       "1.4142135623730951"
      ]
     },
     "execution_count": 92,
     "metadata": {},
     "output_type": "execute_result"
    }
   ],
   "source": [
    "np_array.std()"
   ]
  },
  {
   "attachments": {},
   "cell_type": "markdown",
   "id": "48e82e48",
   "metadata": {
    "jp-MarkdownHeadingCollapsed": true
   },
   "source": [
    "# Exercises & Self-Assessment"
   ]
  },
  {
   "cell_type": "code",
   "execution_count": null,
   "id": "9e28ad5e",
   "metadata": {},
   "outputs": [],
   "source": [
    "\n",
    "\n",
    "\n",
    "# Your solution here\n",
    "\n",
    "\n"
   ]
  },
  {
   "attachments": {},
   "cell_type": "markdown",
   "id": "3d69957b",
   "metadata": {},
   "source": [
    "## Footnotes"
   ]
  }
 ],
 "metadata": {
  "kernelspec": {
   "display_name": "Python 3 (ipykernel)",
   "language": "python",
   "name": "python3"
  },
  "language_info": {
   "codemirror_mode": {
    "name": "ipython",
    "version": 3
   },
   "file_extension": ".py",
   "mimetype": "text/x-python",
   "name": "python",
   "nbconvert_exporter": "python",
   "pygments_lexer": "ipython3",
   "version": "3.11.5"
  },
  "toc": {
   "base_numbering": 1,
   "nav_menu": {},
   "number_sections": true,
   "sideBar": true,
   "skip_h1_title": false,
   "title_cell": "Table of Contents",
   "title_sidebar": "Contents",
   "toc_cell": false,
   "toc_position": {},
   "toc_section_display": true,
   "toc_window_display": false
  },
  "vscode": {
   "interpreter": {
    "hash": "31f2aee4e71d21fbe5cf8b01ff0e069b9275f58929596ceb00d14d90e3e16cd6"
   }
  }
 },
 "nbformat": 4,
 "nbformat_minor": 5
}
