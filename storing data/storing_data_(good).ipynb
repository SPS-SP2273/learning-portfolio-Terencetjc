{
 "cells": [
  {
   "attachments": {},
   "cell_type": "markdown",
   "id": "123456",
   "metadata": {},
   "source": [
    "<div style=\"text-align:left;font-size:2em\"><span style=\"font-weight:bolder;font-size:1.25em\">SP2273 | Learning Portfolio</span><br><br><span style=\"font-weight:bold;color:darkred\">Storing Data (Good)</span></div>"
   ]
  },
  {
   "attachments": {},
   "cell_type": "markdown",
   "id": "f5ba805a",
   "metadata": {},
   "source": [
    "# Subsetting: Indexing and Slicing"
   ]
  },
  {
   "cell_type": "markdown",
   "id": "c09df5bb-fdb2-4186-b404-18bfa5e55f09",
   "metadata": {},
   "source": [
    "When wanting to subset data (select data),\n",
    "1. Indexing (Selecting one element)\n",
    "2. Slicing (Selecting a range of elements)"
   ]
  },
  {
   "attachments": {},
   "cell_type": "markdown",
   "id": "d6804d6c",
   "metadata": {},
   "source": [
    "## Lists & Arrays in 1D | Subsetting & Indexing"
   ]
  },
  {
   "cell_type": "code",
   "execution_count": 7,
   "id": "9b531592-4ec9-4e12-9bf1-c0f580b5459a",
   "metadata": {},
   "outputs": [
    {
     "name": "stdout",
     "output_type": "stream",
     "text": [
      "['a1', 'b2', 'c3', 'd4', 'e5', 'f6', 'g7', 'h8', 'i9', 'j10']\n"
     ]
    }
   ],
   "source": [
    "import numpy as np\n",
    "\n",
    "py_list = [\"a1\", \"b2\", \"c3\", \"d4\", \"e5\", \"f6\", \"g7\", \"h8\", \"i9\", \"j10\"]\n",
    "np_array = np.array(py_list)\n",
    "\n",
    "# Pick one\n",
    "x = py_list  # OR\n",
    "# x = np_array\n",
    "print(x)"
   ]
  },
  {
   "attachments": {},
   "cell_type": "markdown",
   "id": "98ea3f17",
   "metadata": {
    "jp-MarkdownHeadingCollapsed": true
   },
   "source": [
    "## Arrays only | Subsetting by masking"
   ]
  },
  {
   "cell_type": "markdown",
   "id": "aaf9cd07-b5cc-4b89-a3fb-f4ffd7b37d1c",
   "metadata": {},
   "source": [
    "| Syntax    | Result                          |                                 | Note                                     |\r\n",
    "|-----------|---------------------------------|---------------------------------|------------------------------------------|\r\n",
    "| x[0]      | First element                   | 'a1'                            |                                          |\r\n",
    "| x[-1]     | Last element                    | 'j10'                           |                                          |\r\n",
    "| x[0:3]    | Index 0 to 2                    | ['a1','b2','c3']                | Gives  3 − 0 = 3 elements                |\r\n",
    "| x[1:6]    | Index 1 to 5                    | ['b2','c3','d4','e5','f6']      | Gives  6 − 1 = 5 elements                |\r\n",
    "| x[1:6:2]  | Index 1 to 5 in steps of 2      | ['b2','d4','f6']                | Gives every other of  6 − 1 = 5 elements |\r\n",
    "| x[5:]     | Index 5 to the end              | ['f6','g7','h8','i9','j10']     | Gives len(x) − 5 = 5 elements            |\r\n",
    "| x[:5]     | Index 0 to 5                    | ['a1','b2','c3','d4','e5']      | Gives  5 − 0 = 5 elements                |\r\n",
    "| x[5:2:-1] | Index 5 to 3 (i.e., in reverse) | ['f6','e5','d4']                | Gives  5 − 2 = 3 elements                |\r\n",
    "| x[::-1]   | Reverses the list               | ['j10','i9','h8',...,'b2','a1'] |                                          |"
   ]
  },
  {
   "cell_type": "markdown",
   "id": "07c87ed8-ede1-45b2-8ff3-79c34d9e77ad",
   "metadata": {},
   "source": [
    "Note: If you slice with [i:j], the slice (extract subset) will start at i and end at j-1, giving you a total of j-i elements. <br>\n",
    "Reverse indexing slicing can be done with [i:j:-1], the slice will start at index i and end at index j+1, moving in reverse direction, thus including elements from i down to j+1 in the result."
   ]
  },
  {
   "cell_type": "code",
   "execution_count": 18,
   "id": "595ac0c3-a8d0-493a-a133-20235096d191",
   "metadata": {},
   "outputs": [
    {
     "data": {
      "text/plain": [
       "array([False, False, False,  True,  True,  True,  True,  True,  True,\n",
       "        True])"
      ]
     },
     "execution_count": 18,
     "metadata": {},
     "output_type": "execute_result"
    }
   ],
   "source": [
    "np_array = np.array([1, 2, 3, 4, 5, 6, 7, 8, 9, 10])\n",
    "my_mask = np_array > 3\n",
    "my_mask"
   ]
  },
  {
   "cell_type": "code",
   "execution_count": 19,
   "id": "0c670e8d-0605-436a-a25c-98bd73813067",
   "metadata": {},
   "outputs": [
    {
     "data": {
      "text/plain": [
       "array([ 4,  5,  6,  7,  8,  9, 10])"
      ]
     },
     "execution_count": 19,
     "metadata": {},
     "output_type": "execute_result"
    }
   ],
   "source": [
    "np_array[my_mask] #Boolean masks selects elements which are \"True\" or np_array[np_array > 3] #Code is np_array[variable]"
   ]
  },
  {
   "cell_type": "code",
   "execution_count": 21,
   "id": "ca176d35-b7c1-43d2-9869-5f3e6324c95c",
   "metadata": {},
   "outputs": [
    {
     "data": {
      "text/plain": [
       "array([1, 2, 3])"
      ]
     },
     "execution_count": 21,
     "metadata": {},
     "output_type": "execute_result"
    }
   ],
   "source": [
    "np_array[~(np_array > 3)]                 # '~' means 'NOT' called Bitwise Not "
   ]
  },
  {
   "cell_type": "code",
   "execution_count": 25,
   "id": "958b337e-4fa9-4085-a4b6-240ecd03697f",
   "metadata": {},
   "outputs": [
    {
     "data": {
      "text/plain": [
       "array([4, 5, 6, 7])"
      ]
     },
     "execution_count": 25,
     "metadata": {},
     "output_type": "execute_result"
    }
   ],
   "source": [
    "np_array[(np_array > 3) & (np_array < 8)] # '&' means 'AND', will combine 2 masks together. Will only show when both masks are TRUE!!"
   ]
  },
  {
   "cell_type": "code",
   "execution_count": 26,
   "id": "0667c6f2-4f81-4b87-994c-c34ec088f6f8",
   "metadata": {},
   "outputs": [
    {
     "data": {
      "text/plain": [
       "array([ 1,  2,  9, 10])"
      ]
     },
     "execution_count": 26,
     "metadata": {},
     "output_type": "execute_result"
    }
   ],
   "source": [
    "np_array[(np_array < 3) | (np_array > 8)] # '|' means 'OR'. Will only show if either masks is true."
   ]
  },
  {
   "attachments": {},
   "cell_type": "markdown",
   "id": "fc8721b9",
   "metadata": {},
   "source": [
    "## Lists & Arrays in 2D | Indexing & Slicing"
   ]
  },
  {
   "cell_type": "code",
   "execution_count": 11,
   "id": "aa9a7d7a-5e57-4df1-8580-64b9b977e7eb",
   "metadata": {},
   "outputs": [],
   "source": [
    "py_list_2d = [[1, \"A\"], [2, \"B\"], [3, \"C\"], [4, \"D\"],\n",
    "              [5, \"E\"], [6, \"F\"], [7, \"G\"], [8, \"H\"],\n",
    "              [9, \"I\"], [10, \"J\"]]\n",
    "\n",
    "np_array_2d = np.array(py_list_2d)"
   ]
  },
  {
   "cell_type": "code",
   "execution_count": 12,
   "id": "8fa85f8e-e851-4537-a053-50bfc68b2376",
   "metadata": {},
   "outputs": [
    {
     "data": {
      "text/plain": [
       "array(['4', 'D'], dtype='<U11')"
      ]
     },
     "execution_count": 12,
     "metadata": {},
     "output_type": "execute_result"
    }
   ],
   "source": [
    "np_array_2d[3] #Or py_list_2d[3] , Find out element at position 4 (index 3)"
   ]
  },
  {
   "cell_type": "code",
   "execution_count": 15,
   "id": "4197d0b9-ea26-4464-8fae-739eac68501a",
   "metadata": {},
   "outputs": [
    {
     "data": {
      "text/plain": [
       "[4, 'D']"
      ]
     },
     "execution_count": 15,
     "metadata": {},
     "output_type": "execute_result"
    }
   ],
   "source": [
    "py_list_2d[3] #Difference in the use of either np array or py list is how it returns the entire row in either numpy array or python list. Hence why there is an additional \"dtype=\" due to numpy array being used."
   ]
  },
  {
   "cell_type": "code",
   "execution_count": 31,
   "id": "66340dfe-65e8-48f3-bfb6-4133a4aa7395",
   "metadata": {},
   "outputs": [
    {
     "data": {
      "text/plain": [
       "'4'"
      ]
     },
     "execution_count": 31,
     "metadata": {},
     "output_type": "execute_result"
    }
   ],
   "source": [
    "np_array_2d[3, 0] #Or py_list_2d[3][0], Find out FIRST element at position 4 (index 3)"
   ]
  },
  {
   "cell_type": "code",
   "execution_count": 10,
   "id": "aafd7dd2-c620-4912-a3c7-372f7f4a9d09",
   "metadata": {},
   "outputs": [
    {
     "data": {
      "text/plain": [
       "array([['1', 'A'],\n",
       "       ['2', 'B'],\n",
       "       ['3', 'C']], dtype='<U11')"
      ]
     },
     "execution_count": 10,
     "metadata": {},
     "output_type": "execute_result"
    }
   ],
   "source": [
    "np_array_2d[:3] #Or py_list_2d[:3],  Find out the first three elements."
   ]
  },
  {
   "cell_type": "code",
   "execution_count": 45,
   "id": "7d6b91e6-10d8-47a2-905f-3857977d59b2",
   "metadata": {},
   "outputs": [
    {
     "data": {
      "text/plain": [
       "[1, 'A']"
      ]
     },
     "execution_count": 45,
     "metadata": {},
     "output_type": "execute_result"
    }
   ],
   "source": [
    "py_list_2d[:3][0]  #Output is both elements at position 1 (index 0)\n",
    "# This is because py_list_2d[:3] extracts the first three sublists (rows) of the 2D list.\n",
    "# [0] then accesses the first sublist from the result of py_list_2d[:3]."
   ]
  },
  {
   "cell_type": "code",
   "execution_count": 50,
   "id": "b3ab43cb-6be8-47f6-a219-ba1c07c5e881",
   "metadata": {},
   "outputs": [
    {
     "data": {
      "text/plain": [
       "array(['1', '2', '3'], dtype='<U11')"
      ]
     },
     "execution_count": 50,
     "metadata": {},
     "output_type": "execute_result"
    }
   ],
   "source": [
    "np_array_2d[:3, 0] #Output is first elements at each of the first 3 elements.\n",
    "# np_array_2d[:3, 0] directly selects the first column of the first three rows from the NumPy array."
   ]
  },
  {
   "cell_type": "code",
   "execution_count": 54,
   "id": "af3c0de4-e959-4dcc-8679-e94239d6a8b3",
   "metadata": {},
   "outputs": [
    {
     "data": {
      "text/plain": [
       "[4, 'D']"
      ]
     },
     "execution_count": 54,
     "metadata": {},
     "output_type": "execute_result"
    }
   ],
   "source": [
    "py_list_2d[3:6][0]\n",
    "#py_list_2d[3:6]: This extracts a sublist from index 3 (inclusive) to index 6 (exclusive).\n",
    "#[0]: This then accesses the first element from the result obtained in the previous step."
   ]
  },
  {
   "cell_type": "code",
   "execution_count": 55,
   "id": "56b1b783-f364-44d3-92f3-67161ee8ae2e",
   "metadata": {},
   "outputs": [
    {
     "data": {
      "text/plain": [
       "array(['4', '5', '6'], dtype='<U11')"
      ]
     },
     "execution_count": 55,
     "metadata": {},
     "output_type": "execute_result"
    }
   ],
   "source": [
    "np_array_2d[3:6, 0]\n",
    "#3:6 selects rows from index 3 (inclusive) to index 6 (exclusive). It includes rows at positions 3, 4, and 5.\n",
    "#, 0 selects the first column of these selected rows."
   ]
  },
  {
   "cell_type": "code",
   "execution_count": 57,
   "id": "b5eb0891-1b20-465b-aeb1-0a88054e7ed2",
   "metadata": {},
   "outputs": [
    {
     "data": {
      "text/plain": [
       "array(['1', '2', '3', '4', '5', '6', '7', '8', '9', '10'], dtype='<U11')"
      ]
     },
     "execution_count": 57,
     "metadata": {},
     "output_type": "execute_result"
    }
   ],
   "source": [
    "np_array_2d[:, 0]\n",
    "# : in the first position (: before the comma) selects all rows of the array.\n",
    "# , 0 selects the elements from the first column of all rows."
   ]
  },
  {
   "attachments": {},
   "cell_type": "markdown",
   "id": "8bc00888",
   "metadata": {},
   "source": [
    "## Growing lists"
   ]
  },
  {
   "cell_type": "markdown",
   "id": "6c8605f6-2064-4799-bc59-27d5ef6c0e7f",
   "metadata": {},
   "source": [
    "List: Ease and efficiency in growing. <br>\n",
    "Numpy Arrays: Math operations, slicing syntax (eg. [:3,0]) is more intuitive. <br>\n",
    "Note: Not recommended to change the size (Add or remove elements) as will destory the array and recreate hence inefficient.\n",
    "<br>\n",
    "Other than my CPU ~~burning~~ crashing or looking at task manager to see the lag, we can use good old magic commands %time."
   ]
  },
  {
   "cell_type": "code",
   "execution_count": 25,
   "id": "a06c8eb0-2187-4ecc-97df-f5004b8024b8",
   "metadata": {},
   "outputs": [
    {
     "data": {
      "text/plain": [
       "[1, 2, 1, 2, 1, 2, 1, 2, 1, 2]"
      ]
     },
     "execution_count": 25,
     "metadata": {},
     "output_type": "execute_result"
    }
   ],
   "source": [
    "x=[1, 2]*5\n",
    "x"
   ]
  },
  {
   "cell_type": "code",
   "execution_count": 19,
   "id": "f85ede18-ac05-413a-88f7-9654b0e088e8",
   "metadata": {},
   "outputs": [
    {
     "data": {
      "text/plain": [
       "[1, 2, 3, 4]"
      ]
     },
     "execution_count": 19,
     "metadata": {},
     "output_type": "execute_result"
    }
   ],
   "source": [
    "x=[1]\n",
    "x+= [2]\n",
    "x+= [3] #+= performs in-place concatenation. It modifies the existing list x by appending the elements from the right-hand side. \n",
    "x+= [4]\n",
    "x   "
   ]
  },
  {
   "cell_type": "code",
   "execution_count": 8,
   "id": "7de1382c-09d3-4a1b-8751-7d0b7316dc0d",
   "metadata": {},
   "outputs": [
    {
     "data": {
      "text/plain": [
       "[1, 2, 3, 4]"
      ]
     },
     "execution_count": 8,
     "metadata": {},
     "output_type": "execute_result"
    }
   ],
   "source": [
    "x=[1]\n",
    "x= x + [2]\n",
    "x= x + [3] #'+' creates a new list each time it is used for concatenation hence very inefficient.\n",
    "x= x + [4]\n",
    "x "
   ]
  },
  {
   "cell_type": "code",
   "execution_count": 4,
   "id": "0960f3f0-9cb4-437d-9a8c-b5cd3648e847",
   "metadata": {},
   "outputs": [
    {
     "data": {
      "text/plain": [
       "[1, 2, 3, 4]"
      ]
     },
     "execution_count": 4,
     "metadata": {},
     "output_type": "execute_result"
    }
   ],
   "source": [
    "x=[1]\n",
    "x.append(2) #Append doesn't require resizing the underlying array every time and hence more efficient.\n",
    "x.append(3)\n",
    "x.append(4)\n",
    "x "
   ]
  },
  {
   "cell_type": "code",
   "execution_count": 10,
   "id": "2e1a8c3f-a990-40f2-9b20-1fb0f0c43cff",
   "metadata": {},
   "outputs": [
    {
     "data": {
      "text/plain": [
       "[1, 2, 3, 4, 5, 6]"
      ]
     },
     "execution_count": 10,
     "metadata": {},
     "output_type": "execute_result"
    }
   ],
   "source": [
    "x=[1, 2, 3]\n",
    "x.extend([4, 5, 6]) #extend method adds each element from the iterable to the end of the list. Really extend the list.\n",
    "x"
   ]
  },
  {
   "cell_type": "code",
   "execution_count": 13,
   "id": "1c8a44f1-cd68-4c56-81e6-24207f1ee4ba",
   "metadata": {},
   "outputs": [
    {
     "data": {
      "text/plain": [
       "[1, 2, 3, 4, 5, 6]"
      ]
     },
     "execution_count": 13,
     "metadata": {},
     "output_type": "execute_result"
    }
   ],
   "source": [
    "x = [1, 2, 3]\n",
    "x += [4, 5, 6] #+= operator, when used with lists, is similar to the extend method.\n",
    "x"
   ]
  },
  {
   "cell_type": "code",
   "execution_count": 12,
   "id": "36dcbbbf-ddfb-4cb0-bdd4-d61a619ebb5a",
   "metadata": {},
   "outputs": [
    {
     "data": {
      "text/plain": [
       "[1, 2, 3, [4, 5, 6]]"
      ]
     },
     "execution_count": 12,
     "metadata": {},
     "output_type": "execute_result"
    }
   ],
   "source": [
    "x=[1, 2, 3]\n",
    "x.append([4, 5, 6]) #append adds the entire list [4, 5, 6] as a single element at the end of the list.\n",
    "x"
   ]
  },
  {
   "attachments": {},
   "cell_type": "markdown",
   "id": "399dbc04",
   "metadata": {},
   "source": [
    "## Tuples"
   ]
  },
  {
   "cell_type": "markdown",
   "id": "3980fc26-d9fb-4265-8294-c25493cbc91d",
   "metadata": {},
   "source": [
    "Tupules are similar to list except they use ( ) and cannot be changed after creation(immutable)."
   ]
  },
  {
   "cell_type": "code",
   "execution_count": 15,
   "id": "994606c5-ba1c-4537-b0a9-aa50401d196f",
   "metadata": {},
   "outputs": [
    {
     "name": "stdout",
     "output_type": "stream",
     "text": [
      "1\n"
     ]
    }
   ],
   "source": [
    "a=(1, 2, 3)     # Define tuple\n",
    "print(a[0])    # Access data"
   ]
  },
  {
   "cell_type": "code",
   "execution_count": 16,
   "id": "9dc2235d-f3b6-4b03-8797-62f76e826e6b",
   "metadata": {},
   "outputs": [
    {
     "ename": "TypeError",
     "evalue": "'tuple' object does not support item assignment",
     "output_type": "error",
     "traceback": [
      "\u001b[1;31m---------------------------------------------------------------------------\u001b[0m",
      "\u001b[1;31mTypeError\u001b[0m                                 Traceback (most recent call last)",
      "Cell \u001b[1;32mIn[16], line 2\u001b[0m\n\u001b[0;32m      1\u001b[0m \u001b[38;5;66;03m# The following will NOT work\u001b[39;00m\n\u001b[1;32m----> 2\u001b[0m \u001b[43ma\u001b[49m\u001b[43m[\u001b[49m\u001b[38;5;241;43m0\u001b[39;49m\u001b[43m]\u001b[49m\u001b[38;5;241m=\u001b[39m\u001b[38;5;241m-\u001b[39m\u001b[38;5;241m1\u001b[39m\n\u001b[0;32m      3\u001b[0m a[\u001b[38;5;241m0\u001b[39m]\u001b[38;5;241m+\u001b[39m\u001b[38;5;241m=\u001b[39m [\u001b[38;5;241m10\u001b[39m]\n",
      "\u001b[1;31mTypeError\u001b[0m: 'tuple' object does not support item assignment"
     ]
    }
   ],
   "source": [
    "# The following will NOT work\n",
    "a[0]=-1\n",
    "a[0]+= [10]"
   ]
  },
  {
   "attachments": {},
   "cell_type": "markdown",
   "id": "9f478199",
   "metadata": {},
   "source": [
    "## Be VERY careful when copying"
   ]
  },
  {
   "cell_type": "raw",
   "id": "bbb86f55-3627-4263-b7d7-793cf2edea72",
   "metadata": {},
   "source": [
    "x=[1, 2, 3] \r\n",
    "y=x          !\r\n",
    "z=x           # DON'T do th as now y, z, and x all refer to the same list in memory. Once modify either variable, will affect all.s!"
   ]
  },
  {
   "cell_type": "code",
   "execution_count": 29,
   "id": "b11adf76-8bac-4bbe-aa21-b9c1ff86c819",
   "metadata": {},
   "outputs": [
    {
     "data": {
      "text/plain": [
       "[1, 2, 3]"
      ]
     },
     "execution_count": 29,
     "metadata": {},
     "output_type": "execute_result"
    }
   ],
   "source": [
    "x=[1, 2, 3]\n",
    "y=x.copy()\n",
    "z=x.copy() #Now, y and z are independent of x. If you modify one, the others remain unchanged\n",
    "x.extend([4])\n",
    "y"
   ]
  },
  {
   "cell_type": "markdown",
   "id": "e7393d33-83f6-4a80-82a1-ea99947fe04c",
   "metadata": {},
   "source": [
    "Note: Only have to know that you must use copy() to be safe; to understand why view discussion on [mutable and immutable objects](https://stackoverflow.com/questions/10951820/why-make-defensive-copies-in-getters-inside-immutable-classes)."
   ]
  }
 ],
 "metadata": {
  "kernelspec": {
   "display_name": "Python 3 (ipykernel)",
   "language": "python",
   "name": "python3"
  },
  "language_info": {
   "codemirror_mode": {
    "name": "ipython",
    "version": 3
   },
   "file_extension": ".py",
   "mimetype": "text/x-python",
   "name": "python",
   "nbconvert_exporter": "python",
   "pygments_lexer": "ipython3",
   "version": "3.11.5"
  },
  "toc": {
   "base_numbering": 1,
   "nav_menu": {},
   "number_sections": true,
   "sideBar": true,
   "skip_h1_title": false,
   "title_cell": "Table of Contents",
   "title_sidebar": "Contents",
   "toc_cell": false,
   "toc_position": {},
   "toc_section_display": true,
   "toc_window_display": false
  },
  "vscode": {
   "interpreter": {
    "hash": "31f2aee4e71d21fbe5cf8b01ff0e069b9275f58929596ceb00d14d90e3e16cd6"
   }
  }
 },
 "nbformat": 4,
 "nbformat_minor": 5
}
