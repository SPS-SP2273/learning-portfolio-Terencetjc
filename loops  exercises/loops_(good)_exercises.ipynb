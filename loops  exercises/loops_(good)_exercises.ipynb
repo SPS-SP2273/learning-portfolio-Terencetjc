{
 "cells": [
  {
   "attachments": {},
   "cell_type": "markdown",
   "id": "123456",
   "metadata": {},
   "source": [
    "<div style=\"text-align:left;font-size:2em\"><span style=\"font-weight:bolder;font-size:1.25em\">SP2273 | Learning Portfolio</span><br><br><span style=\"font-weight:bold;color:darkred\">Loops (Good) Exercises</span></div>"
   ]
  },
  {
   "cell_type": "markdown",
   "id": "8a966a33-2440-4c31-b26d-95cd92423a40",
   "metadata": {},
   "source": [
    "# Exercise 1"
   ]
  },
  {
   "cell_type": "markdown",
   "id": "0853d32e-60c9-40d5-b70a-479dd618b6ed",
   "metadata": {},
   "source": [
    "With your knowledge of growing lists, use a ``for`` loop with ``range()`` and ``continue`` to generate a list of the squares of the odd integers from 0 to 9.\n",
    "\n",
    "Hint: You can check for ‘evenness’ using ``number % 2 == 0.``"
   ]
  },
  {
   "cell_type": "code",
   "execution_count": 3,
   "id": "2fec207d-59cd-4c0e-8603-d39d7d04fb81",
   "metadata": {},
   "outputs": [
    {
     "name": "stdout",
     "output_type": "stream",
     "text": [
      "[1, 9, 25, 49, 81]\n"
     ]
    }
   ],
   "source": [
    "squares_of_odd = [] #list has nothing. Note that .append is used later to add it to this blank list\n",
    "\n",
    "for number in range(10):\n",
    "    if number % 2 == 0:  # Check if the number is even\n",
    "        continue  # Skip even numbers\n",
    "        \n",
    "    square = number ** 2  # Calculate the square of the odd number\n",
    "    squares_of_odd.append(square)  # Add the square to the list\n",
    "\n",
    "print(squares_of_odd)\n"
   ]
  },
  {
   "cell_type": "markdown",
   "id": "5d765036-74ea-4449-a759-f23fcd29bf31",
   "metadata": {},
   "source": [
    "# Exercise 2"
   ]
  },
  {
   "cell_type": "markdown",
   "id": "777b1911-a39b-4bba-b4ae-24e5135bd464",
   "metadata": {},
   "source": [
    "Redo the previous exercise using list comprehension."
   ]
  },
  {
   "cell_type": "code",
   "execution_count": 17,
   "id": "6e5d0c6e-acb9-429c-9337-305b4ec18000",
   "metadata": {},
   "outputs": [
    {
     "name": "stdout",
     "output_type": "stream",
     "text": [
      "[1, 9, 25, 49, 81]\n"
     ]
    }
   ],
   "source": [
    "squares_of_odd = [x ** 2 for x in range(10) if x % 2 != 0] #This iterates each number first to see if odd and if so then it squares it\n",
    "print(squares_of_odd)"
   ]
  },
  {
   "cell_type": "markdown",
   "id": "6b82b80b-10c7-4458-9829-03cb865aa7c3",
   "metadata": {},
   "source": [
    "Comparing the 2 codes, the list comprehension approach is more concise and often preferred for its readability.\r\n",
    "\r\n",
    "\r\n"
   ]
  },
  {
   "cell_type": "markdown",
   "id": "ce5a65e4-3505-4d0d-a7c1-588cc7c64494",
   "metadata": {},
   "source": [
    "# Exercise 3"
   ]
  },
  {
   "cell_type": "markdown",
   "id": "0350705c-b919-4d7a-b94c-c742e5408f8a",
   "metadata": {},
   "source": [
    "Use the cell magic command ``%%timeit`` to time the previous solutions. Which of the two is faster?"
   ]
  },
  {
   "cell_type": "code",
   "execution_count": 15,
   "id": "c29394b8-be3e-48eb-85ad-f9ea20798436",
   "metadata": {},
   "outputs": [
    {
     "name": "stdout",
     "output_type": "stream",
     "text": [
      "[1, 9, 25, 49, 81]\n",
      "268 µs ± 0 ns per loop (mean ± std. dev. of 1 run, 1 loop each)\n"
     ]
    }
   ],
   "source": [
    "%%timeit -n 1 -r 1 #I am going to limit it using\" -n 1 -r 1\" because it runs too many loops without it.\n",
    "squares_of_odd = [] #list has nothing. Note that .append is used later to add it to this blank list\n",
    "\n",
    "for number in range(10):\n",
    "    if number % 2 == 0:  # Check if the number is even\n",
    "        continue  # Skip even numbers\n",
    "        \n",
    "    square = number ** 2  # Calculate the square of the odd number\n",
    "    squares_of_odd.append(square)  # Add the square to the list\n",
    "\n",
    "print(squares_of_odd)"
   ]
  },
  {
   "cell_type": "code",
   "execution_count": 16,
   "id": "bae8f22d-a253-454a-ac15-810327844f9d",
   "metadata": {},
   "outputs": [
    {
     "name": "stdout",
     "output_type": "stream",
     "text": [
      "[1, 9, 25, 49, 81]\n",
      "132 µs ± 0 ns per loop (mean ± std. dev. of 1 run, 1 loop each)\n"
     ]
    }
   ],
   "source": [
    "%%timeit -n 1 -r 1 #I am going to limit it using\" -n 1 -r 1\" because it runs too many loops without it.\n",
    "squares_of_odd = [x ** 2 for x in range(10) if x % 2 != 0] #This iterates the number first to see if odd and if so then it squares it\n",
    "print(squares_of_odd)"
   ]
  },
  {
   "cell_type": "markdown",
   "id": "b1af3a04-e373-46df-97f5-0d67e0866b07",
   "metadata": {},
   "source": [
    "In conclusion, list comprehension runs more efficient and faster than loops as they are implemented at a lower level (hence executed faster) in the interpreter and are also more readable as explained above. "
   ]
  },
  {
   "cell_type": "markdown",
   "id": "34f58996-b8a2-4d6a-83c8-d778a9fcebf9",
   "metadata": {},
   "source": [
    "# Exercise 4"
   ]
  },
  {
   "cell_type": "markdown",
   "id": "80a1aaf4-2646-493a-b27e-e9940172cab2",
   "metadata": {},
   "source": [
    "The initial quantity of a sample of a radioactive substance is 100 units, and it decays by 5% each year. Use a ``while`` loop to determine how long the sample will take to reduce to half its original amount."
   ]
  },
  {
   "cell_type": "code",
   "execution_count": 18,
   "id": "9f33638d-5d62-45ee-a67f-c0954727ae4a",
   "metadata": {},
   "outputs": [
    {
     "name": "stdout",
     "output_type": "stream",
     "text": [
      "It takes 14 years for the sample to reduce to half its original amount.\n"
     ]
    }
   ],
   "source": [
    "# Initial quantity of the sample\n",
    "initial_quantity = 100\n",
    "\n",
    "# Percentage decay rate per year\n",
    "decay_rate = 0.05\n",
    "\n",
    "# Target quantity (half of the initial quantity)\n",
    "target_quantity = initial_quantity / 2\n",
    "\n",
    "# Current quantity\n",
    "current_quantity = initial_quantity\n",
    "\n",
    "# Number of years\n",
    "years = 0\n",
    "\n",
    "# Continue looping until the current quantity is less than or equal to the target quantity\n",
    "while current_quantity > target_quantity:\n",
    "    # Calculate the new quantity after one year of decay\n",
    "    current_quantity *= (1 - decay_rate)\n",
    "    \n",
    "    # Increment the number of years\n",
    "    years += 1\n",
    "\n",
    "# Print the number of years it takes for the sample to reduce to half its original amount\n",
    "print(f\"It takes {years} years for the sample to reduce to half its original amount.\")"
   ]
  },
  {
   "cell_type": "markdown",
   "id": "9e987e43-c672-47ed-98d3-59f5781cf585",
   "metadata": {},
   "source": [
    "# Exercise 5"
   ]
  },
  {
   "cell_type": "markdown",
   "id": "2c709d52-7ac3-41cb-adb9-b10bd4695c08",
   "metadata": {},
   "source": [
    "The following is data about atmospheric CO<sub>2</sub> levels for several years in a ``(year, CO2_level)`` format. The units are ppm. <br>\r\n",
    "Identify those years that showed an increase of CO<sub>2</sub> of 3 ppm or more compared to the previous year. <br>\r\n",
    "Please print out these years along with the corresponding change in concentration.\r\n"
   ]
  },
  {
   "cell_type": "code",
   "execution_count": 21,
   "id": "391f5dba-7378-4fbb-bbb6-f59178fa7814",
   "metadata": {},
   "outputs": [
    {
     "name": "stdout",
     "output_type": "stream",
     "text": [
      "Year: 2016, Change in concentration: 3.41 ppm\n"
     ]
    }
   ],
   "source": [
    "co2_data = [\n",
    "    (2000, 369.55), (2001, 371.14), (2002, 373.28), \n",
    "    (2003, 375.80), (2004, 377.52), (2005, 379.80), \n",
    "    (2006, 381.90), (2007, 383.79), (2008, 385.60), \n",
    "    (2009, 387.43), (2010, 389.90), (2011, 391.65), \n",
    "    (2012, 393.85), (2013, 396.52), (2014, 398.65),\n",
    "    (2015, 400.83), (2016, 404.24), (2017, 406.55), \n",
    "    (2018, 408.52), (2019, 411.44), (2020, 414.24)\n",
    "]\n",
    "\n",
    "# Iterate over the CO2 data starting from the second year hence range 1 and all the way until -1 (last element)\n",
    "for i in range(1, len(co2_data)): #len() counts how many pairs in data\n",
    "    year, co2_level = co2_data[i] #year of interest, will iterate individually throughout the data.\n",
    "    prev_year, prev_co2_level = co2_data[i - 1] #Obtains value from the previous year of year of interest as position -1.\n",
    "    \n",
    "    # Calculate the change in concentration\n",
    "    change_in_concentration = co2_level - prev_co2_level\n",
    "    \n",
    "    # Check if the change is 3 ppm or more\n",
    "    if change_in_concentration >= 3:\n",
    "        print(f\"Year: {year}, Change in concentration: {change_in_concentration:.2f} ppm\")"
   ]
  }
 ],
 "metadata": {
  "kernelspec": {
   "display_name": "Python 3 (ipykernel)",
   "language": "python",
   "name": "python3"
  },
  "language_info": {
   "codemirror_mode": {
    "name": "ipython",
    "version": 3
   },
   "file_extension": ".py",
   "mimetype": "text/x-python",
   "name": "python",
   "nbconvert_exporter": "python",
   "pygments_lexer": "ipython3",
   "version": "3.11.5"
  },
  "toc": {
   "base_numbering": 1,
   "nav_menu": {},
   "number_sections": true,
   "sideBar": true,
   "skip_h1_title": false,
   "title_cell": "Table of Contents",
   "title_sidebar": "Contents",
   "toc_cell": false,
   "toc_position": {},
   "toc_section_display": true,
   "toc_window_display": false
  },
  "vscode": {
   "interpreter": {
    "hash": "31f2aee4e71d21fbe5cf8b01ff0e069b9275f58929596ceb00d14d90e3e16cd6"
   }
  }
 },
 "nbformat": 4,
 "nbformat_minor": 5
}
