{
 "cells": [
  {
   "attachments": {},
   "cell_type": "markdown",
   "id": "123456",
   "metadata": {},
   "source": [
    "<div style=\"text-align:left;font-size:2em\"><span style=\"font-weight:bolder;font-size:1.25em\">SP2273 | Learning Portfolio</span><br><br><span style=\"font-weight:bold;color:darkred\">Loops (Need) Exercises</span></div>"
   ]
  },
  {
   "cell_type": "markdown",
   "id": "cea12a45-ad64-4f04-b867-9a14362d00a7",
   "metadata": {},
   "source": [
    "# Exercise 1"
   ]
  },
  {
   "cell_type": "markdown",
   "id": "abdc601a-d60e-413f-a0d4-b7acb42c39a5",
   "metadata": {},
   "source": [
    "You are provided with the following list of temperatures in Celsius. Write a quick Python snippet that converts each temperature to Fahrenheit and prints both temperatures."
   ]
  },
  {
   "cell_type": "code",
   "execution_count": 24,
   "id": "4531cfbf-ed1e-4316-b7e4-be008514e031",
   "metadata": {},
   "outputs": [
    {
     "name": "stdout",
     "output_type": "stream",
     "text": [
      "0°C = 32.00°F\n",
      "5°C = 41.00°F\n",
      "10°C = 50.00°F\n",
      "15°C = 59.00°F\n",
      "20°C = 68.00°F\n",
      "25°C = 77.00°F\n",
      "30°C = 86.00°F\n",
      "35°C = 95.00°F\n",
      "40°C = 104.00°F\n",
      "45°C = 113.00°F\n",
      "50°C = 122.00°F\n"
     ]
    }
   ],
   "source": [
    "# List of temperatures in Celsius\n",
    "temperatures_celsius = [\n",
    "    0, 5, 10, 15, 20, 25,\n",
    "    30, 35, 40, 45, 50\n",
    "]\n",
    "\n",
    "# Iterate over each temperature in the list\n",
    "for celsius in temperatures_celsius:\n",
    "    # Convert Celsius to Fahrenheit using the formula (9/5) * celsius + 32\n",
    "    fahrenheit = (9/5) * celsius + 32\n",
    "    # Format and print the temperature pair with appropriate units\n",
    "    print(f'{celsius}°C = {fahrenheit:.2f}°F')"
   ]
  },
  {
   "cell_type": "markdown",
   "id": "53fb2bf9-970c-415d-b51a-d24a1f795bcf",
   "metadata": {},
   "source": [
    "# Exercise 2"
   ]
  },
  {
   "cell_type": "code",
   "execution_count": 3,
   "id": "9ef0f18c-3c30-4392-8d38-28a8882266c2",
   "metadata": {},
   "outputs": [
    {
     "name": "stdout",
     "output_type": "stream",
     "text": [
      "A1\tA2\tA3\t\n",
      "\n",
      "B1\tB2\tB3\t\n",
      "\n",
      "C1\tC2\tC3\t\n",
      "\n"
     ]
    }
   ],
   "source": [
    "#Can put a loop within a loop to do doubly loopy stuff. Example:\n",
    "for letter in ['A', 'B', 'C']:\n",
    "    for number in [1, 2, 3]:\n",
    "        print(f'{letter}{number}', end='\\t')\n",
    "    print('\\n')"
   ]
  },
  {
   "cell_type": "markdown",
   "id": "eb510592-296d-4252-858a-c30dc2eecf73",
   "metadata": {},
   "source": [
    "Write a Python snippet that prints a multiplication table (up to 5) for numbers 1 through 5 using nested for loops. "
   ]
  },
  {
   "cell_type": "code",
   "execution_count": 19,
   "id": "19672616-345f-4689-a305-50f39ed2e75c",
   "metadata": {},
   "outputs": [
    {
     "name": "stdout",
     "output_type": "stream",
     "text": [
      " 1  2  3  4  5 \n",
      " 2  4  6  8 10 \n",
      " 3  6  9 12 15 \n",
      " 4  8 12 16 20 \n",
      " 5 10 15 20 25 \n"
     ]
    }
   ],
   "source": [
    "for i in range(1, 6):  # Iterate over numbers 1 through 5\n",
    "    for j in range(1, 6):  # Multiply each number by numbers 1 through 5\n",
    "        print(f'{i * j:2}', end=' ')  # Format the output with 2 spaces\n",
    "    print()  # Move to the next line after printing each row"
   ]
  }
 ],
 "metadata": {
  "kernelspec": {
   "display_name": "Python 3 (ipykernel)",
   "language": "python",
   "name": "python3"
  },
  "language_info": {
   "codemirror_mode": {
    "name": "ipython",
    "version": 3
   },
   "file_extension": ".py",
   "mimetype": "text/x-python",
   "name": "python",
   "nbconvert_exporter": "python",
   "pygments_lexer": "ipython3",
   "version": "3.11.5"
  },
  "toc": {
   "base_numbering": 1,
   "nav_menu": {},
   "number_sections": true,
   "sideBar": true,
   "skip_h1_title": false,
   "title_cell": "Table of Contents",
   "title_sidebar": "Contents",
   "toc_cell": false,
   "toc_position": {},
   "toc_section_display": true,
   "toc_window_display": false
  },
  "vscode": {
   "interpreter": {
    "hash": "31f2aee4e71d21fbe5cf8b01ff0e069b9275f58929596ceb00d14d90e3e16cd6"
   }
  }
 },
 "nbformat": 4,
 "nbformat_minor": 5
}
