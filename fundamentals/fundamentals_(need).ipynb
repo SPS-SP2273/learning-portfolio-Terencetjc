{
 "cells": [
  {
   "attachments": {},
   "cell_type": "markdown",
   "id": "123456",
   "metadata": {},
   "source": [
    "<div style=\"text-align:left;font-size:2em\"><span style=\"font-weight:bolder;font-size:1.25em\">SP2273 | Learning Portfolio</span><br><br><span style=\"font-weight:bold;color:darkred\">Fundamentals (Need)</span></div>"
   ]
  },
  {
   "attachments": {},
   "cell_type": "markdown",
   "id": "aecc417c",
   "metadata": {
    "jp-MarkdownHeadingCollapsed": true
   },
   "source": [
    "# Functions"
   ]
  },
  {
   "cell_type": "code",
   "execution_count": 2,
   "id": "afcb780f-02ed-40b0-8e8f-54bd3248c9ee",
   "metadata": {},
   "outputs": [
    {
     "name": "stdout",
     "output_type": "stream",
     "text": [
      "Hello World!\n"
     ]
    }
   ],
   "source": [
    "print('Hello World!')"
   ]
  },
  {
   "cell_type": "markdown",
   "id": "d18e6ebd-bd41-471d-a4b9-236845b257a0",
   "metadata": {},
   "source": [
    "Remember:\n",
    "- A function is ‘something’ that executes a specific task.\n",
    "- A function may or may not accept arguments.\n",
    "- We can define our own functions."
   ]
  },
  {
   "attachments": {},
   "cell_type": "markdown",
   "id": "278028de",
   "metadata": {
    "jp-MarkdownHeadingCollapsed": true
   },
   "source": [
    "# Python is interpreted"
   ]
  },
  {
   "cell_type": "code",
   "execution_count": 4,
   "id": "b9eb4629-b698-4bbf-ac39-762877231959",
   "metadata": {},
   "outputs": [
    {
     "name": "stdout",
     "output_type": "stream",
     "text": [
      "Hello World!\n",
      "Hello World Again!\n"
     ]
    }
   ],
   "source": [
    "print('Hello World!')\n",
    "print('Hello World Again!')"
   ]
  },
  {
   "attachments": {},
   "cell_type": "markdown",
   "id": "0d8d8835",
   "metadata": {
    "jp-MarkdownHeadingCollapsed": true
   },
   "source": [
    "# Python is sensitive."
   ]
  },
  {
   "cell_type": "code",
   "execution_count": 18,
   "id": "6785a914-cdcf-4352-8211-23d71042e8c3",
   "metadata": {},
   "outputs": [
    {
     "name": "stdout",
     "output_type": "stream",
     "text": [
      "Hello World!\n"
     ]
    },
    {
     "ename": "NameError",
     "evalue": "name 'Print' is not defined",
     "output_type": "error",
     "traceback": [
      "\u001b[1;31m---------------------------------------------------------------------------\u001b[0m",
      "\u001b[1;31mNameError\u001b[0m                                 Traceback (most recent call last)",
      "Cell \u001b[1;32mIn[18], line 4\u001b[0m\n\u001b[0;32m      1\u001b[0m \u001b[38;5;28mprint\u001b[39m(\u001b[38;5;124m'\u001b[39m\u001b[38;5;124mHello World!\u001b[39m\u001b[38;5;124m'\u001b[39m)\n\u001b[0;32m      2\u001b[0m \u001b[38;5;66;03m#This will work\u001b[39;00m\n\u001b[1;32m----> 4\u001b[0m \u001b[43mPrint\u001b[49m(\u001b[38;5;124m'\u001b[39m\u001b[38;5;124mHello World!\u001b[39m\u001b[38;5;124m'\u001b[39m)\n\u001b[0;32m      5\u001b[0m \u001b[38;5;66;03m#This will not work\u001b[39;00m\n\u001b[0;32m      6\u001b[0m \n\u001b[0;32m      7\u001b[0m \u001b[38;5;66;03m#Remember:Python is case-sensitive.\u001b[39;00m\n",
      "\u001b[1;31mNameError\u001b[0m: name 'Print' is not defined"
     ]
    }
   ],
   "source": [
    "print('Hello World!')\n",
    "#This will work\n",
    "\n",
    "Print('Hello World!')\n",
    "#This will not work\n",
    "\n",
    "#Remember:Python is case-sensitive."
   ]
  },
  {
   "attachments": {},
   "cell_type": "markdown",
   "id": "12a8d4a1",
   "metadata": {
    "jp-MarkdownHeadingCollapsed": true
   },
   "source": [
    "# Comments"
   ]
  },
  {
   "cell_type": "code",
   "execution_count": 17,
   "id": "664fb367-aff1-410d-aee9-510a14a2bff8",
   "metadata": {},
   "outputs": [
    {
     "name": "stdout",
     "output_type": "stream",
     "text": [
      "One\n",
      "Three\n"
     ]
    }
   ],
   "source": [
    "# This is a comment\n",
    "print('One')              # This is a comment.\n",
    "# print('Two')            # The interpreter ignores this line.\n",
    "print('Three')            # This is\n",
    "                          # also a way to\n",
    "                          # write comments\n",
    "#Do not write unnecessary comments such as \n",
    "#Printing\"Hello World right beside the code for print\"\n",
    "#Remember:Use comments to emphasize the purpose of the code."
   ]
  },
  {
   "attachments": {},
   "cell_type": "markdown",
   "id": "84d79184",
   "metadata": {
    "jp-MarkdownHeadingCollapsed": true
   },
   "source": [
    "# = is not the same as =="
   ]
  },
  {
   "cell_type": "code",
   "execution_count": 26,
   "id": "407b42cf-8afe-4045-89b4-36c47ff07501",
   "metadata": {},
   "outputs": [
    {
     "data": {
      "text/plain": [
       "True"
      ]
     },
     "execution_count": 26,
     "metadata": {},
     "output_type": "execute_result"
    }
   ],
   "source": [
    "#Remember: = is equal, == is to check if it is equal\n",
    "\n",
    "name = 'Cat'\n",
    "# Make name carry 'Cat'\n",
    "\n",
    "name == 'Cat' \n",
    "#Will answer true or false depending if name is equal to 'Cat')"
   ]
  },
  {
   "attachments": {},
   "cell_type": "markdown",
   "id": "07bf5a2a",
   "metadata": {
    "jp-MarkdownHeadingCollapsed": true
   },
   "source": [
    "# Use if to make decisions"
   ]
  },
  {
   "cell_type": "code",
   "execution_count": 40,
   "id": "83417cb6-cd83-4d09-9643-4484cd9ddb19",
   "metadata": {},
   "outputs": [
    {
     "name": "stdout",
     "output_type": "stream",
     "text": [
      "Yes\n"
     ]
    }
   ],
   "source": [
    "name = 'Cat'\n",
    "\n",
    "if name == 'Cat' :\n",
    "    print('Yes')\n",
    "else:\n",
    "    print('No')\n",
    "\n",
    "#Use if: and else: to make decisions, Case-sensitive still. Identation before print needed"
   ]
  },
  {
   "attachments": {},
   "cell_type": "markdown",
   "id": "c835291b",
   "metadata": {
    "jp-MarkdownHeadingCollapsed": true
   },
   "source": [
    "# Indentations (spaces) are sooo IMPORTANT!"
   ]
  },
  {
   "cell_type": "code",
   "execution_count": 44,
   "id": "02586388-66d2-45b5-aa22-e289adf77a23",
   "metadata": {},
   "outputs": [
    {
     "name": "stdout",
     "output_type": "stream",
     "text": [
      "10\n"
     ]
    }
   ],
   "source": [
    "x=10\n",
    "print(x)\n",
    "#Do no need '' if value is defined"
   ]
  },
  {
   "cell_type": "code",
   "execution_count": 58,
   "id": "6ef1b49e-0ff3-485f-8207-c3197ebd942c",
   "metadata": {},
   "outputs": [
    {
     "ename": "IndentationError",
     "evalue": "unexpected indent (3533874212.py, line 2)",
     "output_type": "error",
     "traceback": [
      "\u001b[1;36m  Cell \u001b[1;32mIn[58], line 2\u001b[1;36m\u001b[0m\n\u001b[1;33m    print(x)\u001b[0m\n\u001b[1;37m    ^\u001b[0m\n\u001b[1;31mIndentationError\u001b[0m\u001b[1;31m:\u001b[0m unexpected indent\n"
     ]
    }
   ],
   "source": [
    "x=10\n",
    " print(x)\n",
    "#Identation will mess it up\n",
    "#Do not mix spaces and tabs,  just use tab consistently"
   ]
  },
  {
   "attachments": {},
   "cell_type": "markdown",
   "id": "c9e79748",
   "metadata": {
    "jp-MarkdownHeadingCollapsed": true
   },
   "source": [
    "# ‘age’ is English, age is a variable."
   ]
  },
  {
   "cell_type": "code",
   "execution_count": 3,
   "id": "c985afd9-a033-45fa-847e-bda106daa7b5",
   "metadata": {},
   "outputs": [
    {
     "name": "stdout",
     "output_type": "stream",
     "text": [
      "10\n",
      "age\n",
      "age\n"
     ]
    }
   ],
   "source": [
    "age=10\n",
    "print(age)       # Print the value of the variable age\n",
    "print('age')     #Print the English word 'age'\n",
    "print(\"age\")     #Can use both '' and \"\" but try to **standardize** \n"
   ]
  },
  {
   "attachments": {},
   "cell_type": "markdown",
   "id": "cdb1bf4f",
   "metadata": {},
   "source": [
    "# Brackets"
   ]
  },
  {
   "cell_type": "code",
   "execution_count": 69,
   "id": "137400a4-90e2-4908-bbbf-141fe3951498",
   "metadata": {},
   "outputs": [
    {
     "name": "stdout",
     "output_type": "stream",
     "text": [
      "Hello!\n"
     ]
    },
    {
     "data": {
      "text/plain": [
       "15"
      ]
     },
     "execution_count": 69,
     "metadata": {},
     "output_type": "execute_result"
    }
   ],
   "source": [
    "print('Hello!')            # In functions\n",
    "(1 + 2) * 5                # For math equations and furthermore no need print"
   ]
  },
  {
   "cell_type": "code",
   "execution_count": 76,
   "id": "cdb45c2f-399d-41ab-abe0-cbf91c9df0bc",
   "metadata": {},
   "outputs": [
    {
     "name": "stdout",
     "output_type": "stream",
     "text": [
      "[1, 2, 3]\n"
     ]
    }
   ],
   "source": [
    "py_list = [1,2,3] #1-D List\n",
    "print(py_list)"
   ]
  },
  {
   "cell_type": "code",
   "execution_count": 111,
   "id": "32a019c4-cc57-40a7-8ae8-7ac6f6db9a49",
   "metadata": {},
   "outputs": [
    {
     "name": "stdout",
     "output_type": "stream",
     "text": [
      "[[1, 'A'], [2, 'B'], [3, 'C'], [4, 'D'], [5, 'E']]\n"
     ]
    }
   ],
   "source": [
    "py_list = [[1, \"A\"],      \n",
    "                [2, \"B\"],\n",
    "                [3, \"C\"],\n",
    "                [4, \"D\"],\n",
    "                [5, \"E\"]\n",
    "          ] #2-D List\n",
    "print(py_list)\n",
    "#Array then can see difference if not printing list will still come out as 1 line in this "
   ]
  },
  {
   "cell_type": "code",
   "execution_count": 110,
   "id": "4625378d-4695-4850-8352-b91667c51d2c",
   "metadata": {},
   "outputs": [
    {
     "name": "stdout",
     "output_type": "stream",
     "text": [
      "[[1 2 3]\n",
      " [4 5 6]\n",
      " [7 8 9]]\n"
     ]
    }
   ],
   "source": [
    "import numpy as np\n",
    "\n",
    "# Create a 2D NumPy array from a nested Python list\n",
    "my_nested_list = [[1, 2, 3], [4, 5, 6], [7, 8, 9]]\n",
    "my_2d_array = np.array(my_nested_list)\n",
    "\n",
    "# Print the 2D NumPy array\n",
    "print(my_2d_array)\n"
   ]
  },
  {
   "cell_type": "code",
   "execution_count": 85,
   "id": "b29f402c-289d-48cc-a9cd-bca12a3bef21",
   "metadata": {},
   "outputs": [
    {
     "name": "stdout",
     "output_type": "stream",
     "text": [
      "DC\n"
     ]
    }
   ],
   "source": [
    "personal_info = {\n",
    "    'Names': 'Batman',\n",
    "    'Real Name': 'Bruce Wayne',\n",
    "    'Age': 55,\n",
    "    'Affiliation': 'Justice League',\n",
    "    'Universe': 'DC'\n",
    "}\n",
    "#Serve as a dictionary or like component folder\n",
    "\n",
    "print(personal_info['Universe'])    \n",
    "#Using the (['']) can retrieve info and display it"
   ]
  },
  {
   "attachments": {},
   "cell_type": "markdown",
   "id": "89a1b836",
   "metadata": {},
   "source": [
    "# Giving Python superpowers with Packages"
   ]
  },
  {
   "attachments": {},
   "cell_type": "markdown",
   "id": "691e83e9",
   "metadata": {},
   "source": [
    "## Some Context"
   ]
  },
  {
   "cell_type": "markdown",
   "id": "e8f9496b-e395-4f6c-91d3-f84658a90b18",
   "metadata": {},
   "source": [
    "The math and numpy packages provide functions for mathematical operations in Python, but they have some differences:\n",
    "\n",
    "Data Types:\n",
    "\n",
    "math functions generally operate on single values and return single values. They work with native Python data types like int and float.\n",
    "\n",
    "numpy functions, on the other hand, are designed to work with arrays (vectors, matrices, or higher-dimensional arrays) and perform element-wise operations. They are optimized for numerical computations and work with numpy data types like ``numpy.ndarray``.\n",
    "\n",
    "Performance:\n",
    "\n",
    "numpy functions are typically faster than equivalent math functions when performing operations on large datasets because they leverage optimized C and Fortran libraries.\n",
    "\n",
    "math functions are implemented in the Python standard library and may be slower for large-scale numerical computations.\n",
    "Ease of Use:\n",
    "\n",
    "math functions are more straightforward to use for basic mathematical operations and are part of the Python standard library, so they are readily available without any additional installations.\n",
    "\n",
    "numpy provides a broader range of mathematical functions and is more suited for complex numerical computations and linear algebra operations. It offers extensive documentation and is widely used in scientific computing and data analysis.\n",
    "\n",
    "Functionality:\n",
    "\n",
    "numpy functions often have additional capabilities tailored for array operations, such as broadcasting, slicing, and aggregation functions like ``numpy.sum, numpy.mean``, etc.\n",
    "\n",
    "math functions are more limited in functionality and are primarily focused on standard mathematical operations like trigonometric functions, logarithms, exponentiation, etc.\n",
    "\n",
    "In summary, math is suitable for basic mathematical operations on individual numbers, while numpy is preferred for numerical computations involving arrays and matrices, especially when performance and efficiency are crucial."
   ]
  },
  {
   "cell_type": "code",
   "execution_count": 89,
   "id": "7493326e-41eb-4e0c-ac82-56432678cf8a",
   "metadata": {},
   "outputs": [
    {
     "data": {
      "text/plain": [
       "81.0"
      ]
     },
     "execution_count": 89,
     "metadata": {},
     "output_type": "execute_result"
    }
   ],
   "source": [
    "2 * ((2 - 3) + 4) ** 5 / 6\n",
    "#* for multiply, ** for power, / for fraction/divide"
   ]
  },
  {
   "cell_type": "code",
   "execution_count": 101,
   "id": "83e2c137-84c7-4ab3-974d-f01c0f15b2aa",
   "metadata": {},
   "outputs": [
    {
     "ename": "NameError",
     "evalue": "name 'sqrt' is not defined",
     "output_type": "error",
     "traceback": [
      "\u001b[1;31m---------------------------------------------------------------------------\u001b[0m",
      "\u001b[1;31mNameError\u001b[0m                                 Traceback (most recent call last)",
      "Cell \u001b[1;32mIn[101], line 1\u001b[0m\n\u001b[1;32m----> 1\u001b[0m \u001b[43msqrt\u001b[49m(\u001b[38;5;241m4\u001b[39m)\n\u001b[0;32m      2\u001b[0m \u001b[38;5;66;03m#Not work as basic python is limited\u001b[39;00m\n",
      "\u001b[1;31mNameError\u001b[0m: name 'sqrt' is not defined"
     ]
    }
   ],
   "source": [
    "sqrt(4)\n",
    "#Not work as basic python is limited"
   ]
  },
  {
   "attachments": {},
   "cell_type": "markdown",
   "id": "ebc446e7",
   "metadata": {},
   "source": [
    "## Importing the math package"
   ]
  },
  {
   "cell_type": "code",
   "execution_count": 103,
   "id": "3c3743d0-8629-4d03-b358-7e022ec954a6",
   "metadata": {},
   "outputs": [
    {
     "data": {
      "text/plain": [
       "2.0"
      ]
     },
     "execution_count": 103,
     "metadata": {},
     "output_type": "execute_result"
    }
   ],
   "source": [
    "import math \n",
    "math.sqrt(4)\n",
    "#Can work as have imported the functions of the 'math' package"
   ]
  },
  {
   "attachments": {},
   "cell_type": "markdown",
   "id": "4375c770",
   "metadata": {},
   "source": [
    "## Importing the numpy package"
   ]
  },
  {
   "cell_type": "code",
   "execution_count": 107,
   "id": "92a1dcf6-2c99-4106-a43f-71f655830cd0",
   "metadata": {},
   "outputs": [
    {
     "data": {
      "text/plain": [
       "2.0"
      ]
     },
     "execution_count": 107,
     "metadata": {},
     "output_type": "execute_result"
    }
   ],
   "source": [
    "import numpy as np\n",
    "np.sqrt(4)\n",
    "#Imported numpy then gave an alias by 'as _'"
   ]
  },
  {
   "attachments": {},
   "cell_type": "markdown",
   "id": "1781945a",
   "metadata": {},
   "source": [
    "## Why so many packages?"
   ]
  },
  {
   "cell_type": "code",
   "execution_count": 113,
   "id": "a905f2e8-ad29-465b-b8fe-30dab97d3dee",
   "metadata": {},
   "outputs": [
    {
     "data": {
      "text/plain": [
       "array([2., 3., 4.])"
      ]
     },
     "execution_count": 113,
     "metadata": {},
     "output_type": "execute_result"
    }
   ],
   "source": [
    "np.sqrt([4, 9, 16])\n",
    "#Remember packages help give power. Can be short-formed/alias, only need import once will apply to all"
   ]
  },
  {
   "attachments": {},
   "cell_type": "markdown",
   "id": "43e84766",
   "metadata": {},
   "source": [
    "# The dot (.)"
   ]
  },
  {
   "cell_type": "code",
   "execution_count": 115,
   "id": "53633953-e5a0-4a66-bc9c-b9b4fe5e2973",
   "metadata": {},
   "outputs": [
    {
     "data": {
      "text/plain": [
       "2.0"
      ]
     },
     "execution_count": 115,
     "metadata": {},
     "output_type": "execute_result"
    }
   ],
   "source": [
    "math.sqrt(4)\n",
    "np.sqrt(4)\n",
    "#. indicate ownership"
   ]
  },
  {
   "cell_type": "code",
   "execution_count": 120,
   "id": "475b5148-2191-49bc-b200-26dccce47791",
   "metadata": {},
   "outputs": [
    {
     "data": {
      "text/plain": [
       "['I', 'am', 'Batman']"
      ]
     },
     "execution_count": 120,
     "metadata": {},
     "output_type": "execute_result"
    }
   ],
   "source": [
    "\"I am Batman\".split()\n"
   ]
  },
  {
   "cell_type": "code",
   "execution_count": 126,
   "id": "b890e582-77fe-4d3f-a445-e0eb5e2501a4",
   "metadata": {},
   "outputs": [
    {
     "data": {
      "text/plain": [
       "['1', '2', '3', '4']"
      ]
     },
     "execution_count": 126,
     "metadata": {},
     "output_type": "execute_result"
    }
   ],
   "source": [
    "\"1 2 3 4\".split()"
   ]
  },
  {
   "cell_type": "code",
   "execution_count": 127,
   "id": "f23bb893-e241-45dc-a71c-fc6eb77d57c7",
   "metadata": {},
   "outputs": [
    {
     "ename": "SyntaxError",
     "evalue": "invalid decimal literal (1073878172.py, line 1)",
     "output_type": "error",
     "traceback": [
      "\u001b[1;36m  Cell \u001b[1;32mIn[127], line 1\u001b[1;36m\u001b[0m\n\u001b[1;33m    1234.split()  #Cannot split need () and also need space in between them\u001b[0m\n\u001b[1;37m        ^\u001b[0m\n\u001b[1;31mSyntaxError\u001b[0m\u001b[1;31m:\u001b[0m invalid decimal literal\n"
     ]
    }
   ],
   "source": [
    "1234.split()  #Cannot split need () and also need space in between them\n"
   ]
  },
  {
   "cell_type": "markdown",
   "id": "b6fc09e8-7ad2-4a29-8223-28fbf4b65923",
   "metadata": {},
   "source": [
    "The expressions \"1 2 3 4\".split() and 1234.split() will produce different results because they operate on different types of data:\n",
    "\n",
    "``\"1 2 3 4\".split()``:\n",
    "\n",
    "This expression operates on a string \"1 2 3 4\".\n",
    "The split() method splits the string into a list of substrings based on whitespace (by default) and returns that list.\n",
    "Therefore, the result would be ['1', '2', '3', '4'], which is a list of strings.\n",
    "\n",
    "\n",
    "``1234.split()``:\n",
    "\n",
    "This expression attempts to call the split() method on an integer 1234.\n",
    "Integers in Python do not have a split() method because they are not strings.\n",
    "Therefore, this expression will raise an AttributeError, indicating that integers do not have a method called split()."
   ]
  },
  {
   "cell_type": "code",
   "execution_count": 17,
   "id": "4ef25af0-0ca7-46cc-af6c-104820ca4ab3",
   "metadata": {},
   "outputs": [
    {
     "name": "stdout",
     "output_type": "stream",
     "text": [
      "['1234']\n"
     ]
    }
   ],
   "source": [
    "# Convert integer to string and then split into individual characters\n",
    "result = str(1234)\n",
    "result = result.split()  # Call the split() method\n",
    "\n",
    "# Output the result\n",
    "print(result)  #Output is not as intended as no white space or , for .split to act on. "
   ]
  },
  {
   "cell_type": "code",
   "execution_count": 13,
   "id": "1a1a1679-460a-43a1-a171-c52b19508269",
   "metadata": {},
   "outputs": [
    {
     "name": "stdout",
     "output_type": "stream",
     "text": [
      "['1', '2', '3', '4']\n"
     ]
    }
   ],
   "source": [
    "# Convert integer to string and then split into individual characters using list.\n",
    "result = list(str(1234))\n",
    "\n",
    "print(result)  # Output: ['1', '2', '3', '4']"
   ]
  },
  {
   "cell_type": "code",
   "execution_count": 12,
   "id": "e20c34d8-a05a-47ca-82c0-d440f47b144d",
   "metadata": {},
   "outputs": [
    {
     "name": "stdout",
     "output_type": "stream",
     "text": [
      "['1', '2', '3', '4']\n"
     ]
    }
   ],
   "source": [
    "# Convert integer to string and split into individual characters\n",
    "result = [char for char in str(1234)] #list comprehension syntax. \n",
    "                                      #It creates a new list where each element is char, which iterates over each character in the string '1234'.\n",
    "\n",
    "# Output the result\n",
    "print(result)  "
   ]
  },
  {
   "attachments": {},
   "cell_type": "markdown",
   "id": "2e560d8b",
   "metadata": {},
   "source": [
    "## Footnotes"
   ]
  }
 ],
 "metadata": {
  "kernelspec": {
   "display_name": "Python 3 (ipykernel)",
   "language": "python",
   "name": "python3"
  },
  "language_info": {
   "codemirror_mode": {
    "name": "ipython",
    "version": 3
   },
   "file_extension": ".py",
   "mimetype": "text/x-python",
   "name": "python",
   "nbconvert_exporter": "python",
   "pygments_lexer": "ipython3",
   "version": "3.11.5"
  },
  "toc": {
   "base_numbering": 1,
   "nav_menu": {},
   "number_sections": true,
   "sideBar": true,
   "skip_h1_title": false,
   "title_cell": "Table of Contents",
   "title_sidebar": "Contents",
   "toc_cell": false,
   "toc_position": {},
   "toc_section_display": true,
   "toc_window_display": false
  },
  "vscode": {
   "interpreter": {
    "hash": "31f2aee4e71d21fbe5cf8b01ff0e069b9275f58929596ceb00d14d90e3e16cd6"
   }
  }
 },
 "nbformat": 4,
 "nbformat_minor": 5
}
