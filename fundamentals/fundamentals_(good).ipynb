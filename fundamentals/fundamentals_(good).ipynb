{
 "cells": [
  {
   "attachments": {},
   "cell_type": "markdown",
   "id": "123456",
   "metadata": {},
   "source": [
    "<div style=\"text-align:left;font-size:2em\"><span style=\"font-weight:bolder;font-size:1.25em\">SP2273 | Learning Portfolio</span><br><br><span style=\"font-weight:bold;color:darkred\">Fundamentals (Good)</span></div>"
   ]
  },
  {
   "attachments": {},
   "cell_type": "markdown",
   "id": "7301a4a9",
   "metadata": {
    "jp-MarkdownHeadingCollapsed": true
   },
   "source": [
    "# There is more to if"
   ]
  },
  {
   "cell_type": "code",
   "execution_count": 12,
   "id": "ecb16cf7-758e-40bb-ba42-11742266e4b4",
   "metadata": {},
   "outputs": [
    {
     "name": "stdout",
     "output_type": "stream",
     "text": [
      "Hello Titans!\n"
     ]
    }
   ],
   "source": [
    "name = 'Raven' \n",
    "#Depending on the name, the respective prints will show as defined below. \n",
    "#Elif used as else if (for other defined values), else for everything else in general.\n",
    "\n",
    "if name == 'Batman':\n",
    "    print('Hello Batman!')\n",
    "elif name == 'Robin':\n",
    "    print('Hello Sidekick!')\n",
    "elif name == 'Raven':\n",
    "    print('Hello Titans!')\n",
    "else:\n",
    "    print('Hello World!')"
   ]
  },
  {
   "attachments": {},
   "cell_type": "markdown",
   "id": "d9b898c7",
   "metadata": {
    "jp-MarkdownHeadingCollapsed": true
   },
   "source": [
    "# Asking questions"
   ]
  },
  {
   "cell_type": "code",
   "execution_count": 13,
   "id": "aeb9d674-041a-4f74-ad5b-fc3d109c56c0",
   "metadata": {},
   "outputs": [],
   "source": [
    "fruits = ['apple', 'banana', 'pineapple', 'jackfruit']\n",
    "vegetables = ['celery', 'potato', 'broccoli', 'kale']"
   ]
  },
  {
   "cell_type": "code",
   "execution_count": 26,
   "id": "767d012c-2316-4d87-8bc4-d2e9b32ad90b",
   "metadata": {},
   "outputs": [
    {
     "data": {
      "text/plain": [
       "True"
      ]
     },
     "execution_count": 26,
     "metadata": {},
     "output_type": "execute_result"
    }
   ],
   "source": [
    "#case-sensitive\n",
    "'apple' in fruits "
   ]
  },
  {
   "cell_type": "code",
   "execution_count": 22,
   "id": "7057472f-de30-4a7e-adff-89f1e0ee8f16",
   "metadata": {},
   "outputs": [
    {
     "data": {
      "text/plain": [
       "False"
      ]
     },
     "execution_count": 22,
     "metadata": {},
     "output_type": "execute_result"
    }
   ],
   "source": [
    "'peach' in fruits"
   ]
  },
  {
   "cell_type": "code",
   "execution_count": 31,
   "id": "bbac623e-ee11-42d4-a830-77a784a13d5e",
   "metadata": {},
   "outputs": [
    {
     "data": {
      "text/plain": [
       "False"
      ]
     },
     "execution_count": 31,
     "metadata": {},
     "output_type": "execute_result"
    }
   ],
   "source": [
    "'apple' in fruits\n",
    "'peach' in fruits\n",
    "#Will just run the updated latest code in the same cell"
   ]
  },
  {
   "cell_type": "code",
   "execution_count": 28,
   "id": "dc6c92fa-7e7a-48e3-9d94-7acbc9694de1",
   "metadata": {},
   "outputs": [
    {
     "name": "stdout",
     "output_type": "stream",
     "text": [
      "True\n",
      "False\n"
     ]
    }
   ],
   "source": [
    "print('apple' in fruits)\n",
    "print('peach' in fruits)\n",
    "#If want to display all use print"
   ]
  },
  {
   "cell_type": "code",
   "execution_count": 32,
   "id": "8271f368-c146-407e-9487-a9d3e68caeab",
   "metadata": {},
   "outputs": [
    {
     "data": {
      "text/plain": [
       "True"
      ]
     },
     "execution_count": 32,
     "metadata": {},
     "output_type": "execute_result"
    }
   ],
   "source": [
    "'peach' not in fruits"
   ]
  },
  {
   "cell_type": "code",
   "execution_count": 36,
   "id": "a16b3e50-11f0-4f71-a9b0-ff8890f28174",
   "metadata": {},
   "outputs": [
    {
     "data": {
      "text/plain": [
       "True"
      ]
     },
     "execution_count": 36,
     "metadata": {},
     "output_type": "execute_result"
    }
   ],
   "source": [
    "('apple' in fruits) and ('celery' in vegetables) #can use and for checking of multiple groups and display if \"and\""
   ]
  },
  {
   "cell_type": "code",
   "execution_count": 39,
   "id": "b73cd330-a14b-4cc4-923f-fd7c4581f5cc",
   "metadata": {},
   "outputs": [
    {
     "data": {
      "text/plain": [
       "True"
      ]
     },
     "execution_count": 39,
     "metadata": {},
     "output_type": "execute_result"
    }
   ],
   "source": [
    "('apple' in fruits) or ('celery' in vegetables) #can use or for checking of multiple groups and display if \"or\""
   ]
  },
  {
   "cell_type": "code",
   "execution_count": 42,
   "id": "59d1f5b5-04e7-49fe-92b2-625de49ab5b7",
   "metadata": {},
   "outputs": [
    {
     "data": {
      "text/plain": [
       "True"
      ]
     },
     "execution_count": 42,
     "metadata": {},
     "output_type": "execute_result"
    }
   ],
   "source": [
    "'app' in 'apple' #can use in for like control F\n",
    "#not, in, and, or are some Python keywords that are useful in asking questions."
   ]
  },
  {
   "cell_type": "code",
   "execution_count": 45,
   "id": "079a8f5d-08b3-4ace-9b95-2c1d79b1511a",
   "metadata": {},
   "outputs": [
    {
     "data": {
      "text/plain": [
       "False"
      ]
     },
     "execution_count": 45,
     "metadata": {},
     "output_type": "execute_result"
    }
   ],
   "source": [
    "3>10.5\n",
    "#compare can as it is numbers"
   ]
  },
  {
   "cell_type": "code",
   "execution_count": 46,
   "id": "1c668760-5368-4afd-92f3-37ebd4233f6d",
   "metadata": {},
   "outputs": [
    {
     "ename": "NameError",
     "evalue": "name 'apples' is not defined",
     "output_type": "error",
     "traceback": [
      "\u001b[1;31m---------------------------------------------------------------------------\u001b[0m",
      "\u001b[1;31mNameError\u001b[0m                                 Traceback (most recent call last)",
      "Cell \u001b[1;32mIn[46], line 1\u001b[0m\n\u001b[1;32m----> 1\u001b[0m \u001b[38;5;241m3\u001b[39m\u001b[38;5;241m>\u001b[39m\u001b[43mapples\u001b[49m\n\u001b[0;32m      2\u001b[0m \u001b[38;5;66;03m#Cannot compare as too complicated\u001b[39;00m\n",
      "\u001b[1;31mNameError\u001b[0m: name 'apples' is not defined"
     ]
    }
   ],
   "source": [
    "3>apples\n",
    "#Cannot compare as too complicated"
   ]
  },
  {
   "cell_type": "code",
   "execution_count": 48,
   "id": "8d83e6cf-ca4f-4cb0-8afd-752297f3f2f1",
   "metadata": {},
   "outputs": [
    {
     "data": {
      "text/plain": [
       "False"
      ]
     },
     "execution_count": 48,
     "metadata": {},
     "output_type": "execute_result"
    }
   ],
   "source": [
    "'apples' > 'oranges'\n",
    "#This comparison works because English letters are internally represented as numbers. For example, 'a' is 97 and 'o' is 111. \n",
    "#Will make sense when data types are learned"
   ]
  },
  {
   "attachments": {},
   "cell_type": "markdown",
   "id": "58cd2c5b",
   "metadata": {},
   "source": [
    "## Asking Math questions"
   ]
  },
  {
   "cell_type": "markdown",
   "id": "726f52fd-9a0d-44ac-a1a9-dcc3744a51cf",
   "metadata": {},
   "source": [
    "| Question/Condition     | Math Symbol | Python Symbols |\r\n",
    "|------------------------|:-----------:|:--------------:|\r\n",
    "| Equals?                |      =      |       ==       |\r\n",
    "| Not equal?             |      ≠      |       !=       |\r\n",
    "| Less than?             |      <      |        <       |\r\n",
    "| Greater than?          |      >      |        >       |\r\n",
    "| Less than or equal?    |      ≤      |       <=       |\r\n",
    "| Greater than or equal? |      ≥      |       >=       |"
   ]
  },
  {
   "cell_type": "markdown",
   "id": "8d9413fc-2d2d-4f80-a075-1647744e257f",
   "metadata": {},
   "source": [
    "can put x>5, x<15 but 5<x<15 is easier to read"
   ]
  },
  {
   "attachments": {},
   "cell_type": "markdown",
   "id": "32c4795c",
   "metadata": {
    "jp-MarkdownHeadingCollapsed": true
   },
   "source": [
    "# Python stores information in different formats or types"
   ]
  },
  {
   "cell_type": "code",
   "execution_count": 8,
   "id": "f9a052de-d10d-4652-bb54-1800df7d05d8",
   "metadata": {},
   "outputs": [
    {
     "name": "stdout",
     "output_type": "stream",
     "text": [
      "1 <class 'int'>\n"
     ]
    }
   ],
   "source": [
    "x = int(1.234)\n",
    "print(x, type(x))\n",
    "\n",
    "#datatype as an integer/number. Note: Will drop decimal point"
   ]
  },
  {
   "cell_type": "code",
   "execution_count": 9,
   "id": "5656f4df-5409-496d-ad93-5cdff155078d",
   "metadata": {},
   "outputs": [
    {
     "name": "stdout",
     "output_type": "stream",
     "text": [
      "1.234 <class 'float'>\n"
     ]
    }
   ],
   "source": [
    "x = float(1.234)\n",
    "print(x, type(x))\n",
    "\n",
    "#datatype as a decimal number"
   ]
  },
  {
   "cell_type": "code",
   "execution_count": 10,
   "id": "6b6a78a3-3ac5-49d7-8a6b-2c23fe7013fc",
   "metadata": {},
   "outputs": [
    {
     "name": "stdout",
     "output_type": "stream",
     "text": [
      "(1.234+0j) <class 'complex'>\n"
     ]
    }
   ],
   "source": [
    "x = complex(1.234)\n",
    "print(x, type(x))\n",
    "\n",
    "#datatype as complex/imaginary number"
   ]
  },
  {
   "cell_type": "code",
   "execution_count": 19,
   "id": "0d1aa322-3a51-482a-9140-6e7e8142c934",
   "metadata": {},
   "outputs": [
    {
     "name": "stdout",
     "output_type": "stream",
     "text": [
      "1.234 <class 'str'>\n"
     ]
    }
   ],
   "source": [
    "x = str(1.234)\n",
    "print(x, type(x))\n",
    "\n",
    "#datatype as an english word"
   ]
  },
  {
   "cell_type": "markdown",
   "id": "8621f8d6-1d3f-42fd-bb51-147f94ade451",
   "metadata": {},
   "source": [
    "More data types [here.](https://realpython.com/python-data-types/) Might need to change type of variable such as when an OCR table of numbers is involved."
   ]
  },
  {
   "cell_type": "code",
   "execution_count": 22,
   "id": "1687a293-fa6f-47ef-9183-0baf79e63ff0",
   "metadata": {},
   "outputs": [
    {
     "name": "stdout",
     "output_type": "stream",
     "text": [
      "1.234 <class 'str'>\n"
     ]
    }
   ],
   "source": [
    "x = '1.234'        # x is a string because ' '. if x=1.234 it is as float, default setting etc\n",
    "print(x, type(x))"
   ]
  },
  {
   "cell_type": "code",
   "execution_count": 17,
   "id": "407c53ea-7c81-420c-be6b-6f87fc5544f5",
   "metadata": {},
   "outputs": [
    {
     "name": "stdout",
     "output_type": "stream",
     "text": [
      "1.0 <class 'float'>\n"
     ]
    }
   ],
   "source": [
    "x = float(x)       # x is now a decimal number but can be anything for example if int then x=int(x)\n",
    "print(x, type(x))\n",
    "\n",
    "#Changing the data type into another is called typecasting"
   ]
  },
  {
   "attachments": {},
   "cell_type": "markdown",
   "id": "65daf0e0",
   "metadata": {
    "jp-MarkdownHeadingCollapsed": true
   },
   "source": [
    "# Never compare floats directly"
   ]
  },
  {
   "attachments": {},
   "cell_type": "markdown",
   "id": "c44a3083",
   "metadata": {},
   "source": [
    "## The Problem"
   ]
  },
  {
   "cell_type": "code",
   "execution_count": 27,
   "id": "7a68e487-d31c-463e-9971-380d55f3dde7",
   "metadata": {},
   "outputs": [
    {
     "data": {
      "text/plain": [
       "False"
      ]
     },
     "execution_count": 27,
     "metadata": {},
     "output_type": "execute_result"
    }
   ],
   "source": [
    "a = 0.1\n",
    "a3 = 0.3\n",
    "a * 3 == a3\n",
    "#Computers have finite (hardware) resources, floating point numbers cannot be exactly stored in a computer leading to roundoff errors."
   ]
  },
  {
   "cell_type": "code",
   "execution_count": 24,
   "id": "a1afc53e-e741-4511-a00a-33bab7fa679c",
   "metadata": {},
   "outputs": [
    {
     "data": {
      "text/plain": [
       "'0.29999999999999999'"
      ]
     },
     "execution_count": 24,
     "metadata": {},
     "output_type": "execute_result"
    }
   ],
   "source": [
    "f'{0.3:.17f}'"
   ]
  },
  {
   "attachments": {},
   "cell_type": "markdown",
   "id": "4988c8c8",
   "metadata": {
    "jp-MarkdownHeadingCollapsed": true
   },
   "source": [
    "## A solution"
   ]
  },
  {
   "cell_type": "code",
   "execution_count": 26,
   "id": "d66655a7-30c7-4279-8f97-85ee005424cf",
   "metadata": {},
   "outputs": [
    {
     "data": {
      "text/plain": [
       "True"
      ]
     },
     "execution_count": 26,
     "metadata": {},
     "output_type": "execute_result"
    }
   ],
   "source": [
    "eps = 1E-10\n",
    "abs(a * 3 - a3) < eps\n",
    "\n",
    "#Should check if the variable is close to the expected values instead of checking for equality."
   ]
  },
  {
   "cell_type": "code",
   "execution_count": 31,
   "id": "c1ba85fd-022c-4ad8-9097-52eec0d12d9e",
   "metadata": {},
   "outputs": [
    {
     "data": {
      "text/plain": [
       "True"
      ]
     },
     "execution_count": 31,
     "metadata": {},
     "output_type": "execute_result"
    }
   ],
   "source": [
    "#Or just use Numpy \n",
    "import numpy as np\n",
    "np.isclose(a * 3, a3)"
   ]
  },
  {
   "attachments": {},
   "cell_type": "markdown",
   "id": "669fec8c",
   "metadata": {
    "jp-MarkdownHeadingCollapsed": true
   },
   "source": [
    "# Combining English and variables"
   ]
  },
  {
   "cell_type": "code",
   "execution_count": 37,
   "id": "1e0ad4c0-dfa6-4b37-8eb3-17d84996ee02",
   "metadata": {},
   "outputs": [
    {
     "name": "stdout",
     "output_type": "stream",
     "text": [
      "Hello Batman!\n",
      "Hello BATMAN!\n"
     ]
    }
   ],
   "source": [
    "#Python has the ability to seamlessly combine strings (i.e., English) with variables. \n",
    "\n",
    "name = \"Batman\"\n",
    "print(f\"Hello {name}!\")\n",
    "\n",
    "name = \"Batman\"\n",
    "print(f\"Hello {name.upper()}!\")"
   ]
  },
  {
   "cell_type": "code",
   "execution_count": 39,
   "id": "8481076d-c0dd-4295-81ae-b9ef1039c1a4",
   "metadata": {},
   "outputs": [
    {
     "name": "stdout",
     "output_type": "stream",
     "text": [
      "The value of 10 squared is 100!\n"
     ]
    }
   ],
   "source": [
    "x = 10\n",
    "print(f\"The value of {x} squared is {x**2}!\")\n",
    "\n",
    "#f-string or string interpolation is the f and {}"
   ]
  },
  {
   "cell_type": "code",
   "execution_count": 44,
   "id": "be6c8d5d-b4e2-4f4e-8e5a-899692ddd6d8",
   "metadata": {},
   "outputs": [
    {
     "name": "stdout",
     "output_type": "stream",
     "text": [
      "Bruce Wayne is Batman.\n",
      "        Bruce Wayne is Batman.\n",
      "    Bruce Wayne is Batman.    \n",
      "Bruce Wayne is Batman.        \n"
     ]
    }
   ],
   "source": [
    "#Using f-strings to format text (strings)\n",
    "\n",
    "text = 'Bruce Wayne is Batman.'\n",
    "print(f'{text}')\n",
    "\n",
    "print(f'{text:>30}')      # A block of 30 characters;\n",
    "                          # aligned right\n",
    "\n",
    "print(f'{text:^30}')      # A block of 30 characters;\n",
    "                          # aligned centre\n",
    "\n",
    "print(f'{text:<30}')      # A block of 30 characters;\n",
    "                          # aligned left"
   ]
  },
  {
   "cell_type": "code",
   "execution_count": 49,
   "id": "438568c3-364f-4f99-857b-46fc78b3aedf",
   "metadata": {},
   "outputs": [
    {
     "name": "stdout",
     "output_type": "stream",
     "text": [
      "The cube of pi to 5 decimal places is 31.00628\n"
     ]
    }
   ],
   "source": [
    "#Using f-string to format numbers.\n",
    "\n",
    "print(f'The cube of pi to 5 decimal places is {np.pi**3:.5f}')\n",
    "\n",
    "#The f in .5f is used to tell the f-string to output the number in decimal notation. (in my case is 5)"
   ]
  },
  {
   "cell_type": "code",
   "execution_count": 50,
   "id": "3e4c5b2d-0a91-4f11-9c5a-f02e464520b1",
   "metadata": {},
   "outputs": [
    {
     "name": "stdout",
     "output_type": "stream",
     "text": [
      "The cube of pi to 6 decimal places is 3.100628e+01\n"
     ]
    }
   ],
   "source": [
    "print(f'The cube of pi to 6 decimal places is {np.pi**3:.6e}')\n",
    "\n",
    "#The e in .6e is used to tell the f-string to output the number in scientific notation."
   ]
  },
  {
   "attachments": {},
   "cell_type": "markdown",
   "id": "901e89ac",
   "metadata": {},
   "source": [
    "## Structure of f-strings"
   ]
  },
  {
   "cell_type": "markdown",
   "id": "d8e7077c-9796-4a1c-a677-bd78275f1397",
   "metadata": {},
   "source": [
    "f-string formatting has the structure {X:>0Y.ZW}. Below are what each variable mean. More info can be found [here.](https://pyformat.info/)\n",
    "\n",
    "| Letter | Action                          | Possible Options                                               |\r\n",
    "|--------|---------------------------------|----------------------------------------------------------------|\r\n",
    "| X      | Variable to format              | Can be a number or a string                                    |\r\n",
    "| >      | Alignment                       | < (Left justified) > (Right justified) ^ (Centre justified)    |\r\n",
    "| 0      | Use 0’s to pad the spaces       | You can use other characters like a space .                    |\r\n",
    "| Y      | Total number of characters      |                                                                |\r\n",
    "| Z      | Number of decimal places        |                                                                |\r\n",
    "| W      | Specifies the type of variable. | f (float) d (integer) s (string) g (Asks Python to figure out) |"
   ]
  },
  {
   "attachments": {},
   "cell_type": "markdown",
   "id": "77eac7db",
   "metadata": {
    "jp-MarkdownHeadingCollapsed": true
   },
   "source": [
    "# Escape sequences"
   ]
  },
  {
   "cell_type": "code",
   "execution_count": 55,
   "id": "b8fe6b2d-2f11-4f23-8704-4613f156a8b4",
   "metadata": {},
   "outputs": [
    {
     "name": "stdout",
     "output_type": "stream",
     "text": [
      "Line 1\n",
      "\tLine 2\n",
      "\t\tLine 3\n"
     ]
    }
   ],
   "source": [
    "#Escape sequences refers to special characters we sometimes need when writing English. \n",
    "\n",
    "#For example, to break a line and add a tab:\n",
    "\n",
    "print('Line 1\\n\\tLine 2\\n\\t\\tLine 3')"
   ]
  },
  {
   "cell_type": "markdown",
   "id": "1b99f03a-ac4a-4ccc-a7b5-0330fa87408c",
   "metadata": {},
   "source": [
    "Very useful compliation \n",
    "| Escape Sequence |     Meaning    |\r\n",
    "|:---------------:|:--------------:|\r\n",
    "|        \\’       |  Single quote  |\r\n",
    "|        \\\\       |    Backslash   |\r\n",
    "|        \\n       |     Newline    |\r\n",
    "|        \\t       | Horizontal Tab |"
   ]
  },
  {
   "cell_type": "code",
   "execution_count": 61,
   "id": "376a9865-c9a3-433e-88b9-244e5f8b83d3",
   "metadata": {},
   "outputs": [
    {
     "name": "stdout",
     "output_type": "stream",
     "text": [
      "You're twenty years old.\n",
      "You're twenty years old.\n"
     ]
    }
   ],
   "source": [
    "#Example\n",
    "\n",
    "print('You\\'re twenty years old.') \n",
    "\n",
    "print(\"You're twenty years old.\") #in this case, without escape sequence, must use print(\" ___\"). ' __' cannot use as already in sentence."
   ]
  },
  {
   "cell_type": "code",
   "execution_count": 73,
   "id": "c5007e99-6f70-4458-bc14-f79cda848507",
   "metadata": {},
   "outputs": [
    {
     "name": "stdout",
     "output_type": "stream",
     "text": [
      "A\\B\\C\n",
      "A\n",
      "B\n",
      "C\n",
      "A\tB\tC\n"
     ]
    }
   ],
   "source": [
    "print('A\\\\B\\\\C')\n",
    "\n",
    "print('A\\nB\\nC') #Linebreaks like <br> in HTML.\n",
    "\n",
    "print('A\\tB\\tC') # The tabs ended mid code."
   ]
  },
  {
   "attachments": {},
   "cell_type": "markdown",
   "id": "9ce17b43",
   "metadata": {
    "jp-MarkdownHeadingCollapsed": true
   },
   "source": [
    "# Computers read = from Right to Left!"
   ]
  },
  {
   "cell_type": "code",
   "execution_count": 78,
   "id": "c004d533-6be7-480d-9904-f33dee4e577d",
   "metadata": {},
   "outputs": [
    {
     "name": "stdout",
     "output_type": "stream",
     "text": [
      "42\n"
     ]
    }
   ],
   "source": [
    "x = 40        # Assigns the value 40 to the variable x\n",
    "y = x + 2     # Assigns the value of x + 2 to the variable y\n",
    "\n",
    "# The following is a common way to modify a variable's value:\n",
    "y = 40        # Assigns the value 40 to the variable y\n",
    "y = y + 2     # Adds 2 to the current value of y and assigns the result back to y\n",
    "print(y)      # Prints the final value of y"
   ]
  },
  {
   "cell_type": "code",
   "execution_count": 80,
   "id": "3b1ab4da-b6e1-4618-b938-3123595329c5",
   "metadata": {},
   "outputs": [
    {
     "name": "stdout",
     "output_type": "stream",
     "text": [
      "10\n"
     ]
    }
   ],
   "source": [
    "x = y = 10 #Chain and reassign value of x and y.\n",
    "print(y)"
   ]
  },
  {
   "attachments": {},
   "cell_type": "markdown",
   "id": "210b6dc0",
   "metadata": {
    "jp-MarkdownHeadingCollapsed": true
   },
   "source": [
    "# Shorter and Cleaner Code"
   ]
  },
  {
   "cell_type": "code",
   "execution_count": 81,
   "id": "c7789f0a-e06c-4382-ad6d-1c95338d2bf1",
   "metadata": {},
   "outputs": [
    {
     "data": {
      "text/plain": [
       "42"
      ]
     },
     "execution_count": 81,
     "metadata": {},
     "output_type": "execute_result"
    }
   ],
   "source": [
    "y = 40\n",
    "y = y + 2\n",
    "y"
   ]
  },
  {
   "cell_type": "code",
   "execution_count": 82,
   "id": "7ef82d03-9daa-485a-9f33-93774a312fb8",
   "metadata": {},
   "outputs": [
    {
     "data": {
      "text/plain": [
       "42"
      ]
     },
     "execution_count": 82,
     "metadata": {},
     "output_type": "execute_result"
    }
   ],
   "source": [
    "y = 40\n",
    "y += 2    # Same as y = y + 2\n",
    "y"
   ]
  },
  {
   "cell_type": "markdown",
   "id": "0faf217a-b2da-43d8-8f1d-57a69fcdb976",
   "metadata": {},
   "source": [
    "This is called Shorthand syntax which makes code neater. For example, can replace y = y + 2 with y += 2.\n",
    "<br>\n",
    "Below is a compliation of shorthand syntax.\n",
    "| Purpose        | Long form | Shorthand |\r\n",
    "|----------------|:---------:|:---------:|\r\n",
    "| Addition       |  y = y+2  |   y += 2  |\r\n",
    "| Subtraction    |  y = y-2  |   y -= 2  |\r\n",
    "| Multiplication |  y = y*2  |   y *= 2  |\r\n",
    "| Division       |  y = y/2  |   y /= 2  | 2  |"
   ]
  },
  {
   "attachments": {},
   "cell_type": "markdown",
   "id": "64054dc7",
   "metadata": {},
   "source": [
    "# Python can be a prima-donna."
   ]
  },
  {
   "cell_type": "markdown",
   "id": "21a3bd02-9367-4120-a861-6efed43206a6",
   "metadata": {},
   "source": [
    "Note: If python doesn't understand, will have error message. Scroll the message and see the problem. Fixing coding errors is called debugging and should do often to learn and improve. "
   ]
  },
  {
   "attachments": {},
   "cell_type": "markdown",
   "id": "b41351f8",
   "metadata": {},
   "source": [
    "# Best Practices for Scientific Computing"
   ]
  },
  {
   "cell_type": "markdown",
   "id": "a2a00176-343b-4f2d-b149-fbccc0219a36",
   "metadata": {},
   "source": [
    "Tip: Aim to produce easily understandable code. Always start simple and get something working first before making it perfect. <br>\n",
    "\n",
    "Notes: \n",
    "1. Write programs for people, not computers.\n",
    "2. Optimise software only after it works correctly.\n",
    "3. Document design and purpose, not mechanics.\n",
    "4. Collaborate."
   ]
  },
  {
   "attachments": {},
   "cell_type": "markdown",
   "id": "5cdac9a9",
   "metadata": {},
   "source": [
    "# Looking for help"
   ]
  },
  {
   "cell_type": "code",
   "execution_count": 85,
   "id": "38db80cf-78cc-4fd7-b131-490be63cdf06",
   "metadata": {},
   "outputs": [
    {
     "name": "stdout",
     "output_type": "stream",
     "text": [
      "Help on built-in function print in module builtins:\n",
      "\n",
      "print(*args, sep=' ', end='\\n', file=None, flush=False)\n",
      "    Prints the values to a stream, or to sys.stdout by default.\n",
      "    \n",
      "    sep\n",
      "      string inserted between values, default a space.\n",
      "    end\n",
      "      string appended after the last value, default a newline.\n",
      "    file\n",
      "      a file-like object (stream); defaults to the current sys.stdout.\n",
      "    flush\n",
      "      whether to forcibly flush the stream.\n",
      "\n"
     ]
    }
   ],
   "source": [
    "help(print)"
   ]
  },
  {
   "cell_type": "markdown",
   "id": "2fef4be1-6682-493c-8f13-98d3982c70db",
   "metadata": {},
   "source": [
    "Important: \n",
    "Can get help/information about Python functions from within Python but NOT recommended. Need experience to understand so best to ask the \"all-reliable' and my best friend in studies, ChatGPT.\n",
    "\n",
    "![](https://ih1.redbubble.net/image.4827521114.3294/st,small,507x507-pad,600x600,f8f8f8.jpg)"
   ]
  }
 ],
 "metadata": {
  "kernelspec": {
   "display_name": "Python 3 (ipykernel)",
   "language": "python",
   "name": "python3"
  },
  "language_info": {
   "codemirror_mode": {
    "name": "ipython",
    "version": 3
   },
   "file_extension": ".py",
   "mimetype": "text/x-python",
   "name": "python",
   "nbconvert_exporter": "python",
   "pygments_lexer": "ipython3",
   "version": "3.11.5"
  },
  "toc": {
   "base_numbering": 1,
   "nav_menu": {},
   "number_sections": true,
   "sideBar": true,
   "skip_h1_title": false,
   "title_cell": "Table of Contents",
   "title_sidebar": "Contents",
   "toc_cell": false,
   "toc_position": {},
   "toc_section_display": true,
   "toc_window_display": false
  },
  "vscode": {
   "interpreter": {
    "hash": "31f2aee4e71d21fbe5cf8b01ff0e069b9275f58929596ceb00d14d90e3e16cd6"
   }
  }
 },
 "nbformat": 4,
 "nbformat_minor": 5
}
