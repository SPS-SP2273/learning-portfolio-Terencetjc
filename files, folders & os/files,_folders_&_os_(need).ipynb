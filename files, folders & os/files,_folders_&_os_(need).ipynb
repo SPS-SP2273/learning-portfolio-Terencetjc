{
 "cells": [
  {
   "attachments": {},
   "cell_type": "markdown",
   "id": "123456",
   "metadata": {},
   "source": [
    "<div style=\"text-align:left;font-size:2em\"><span style=\"font-weight:bolder;font-size:1.25em\">SP2273 | Learning Portfolio</span><br><br><span style=\"font-weight:bold;color:darkred\">Files, Folders & OS (Need)</span></div>"
   ]
  },
  {
   "cell_type": "markdown",
   "id": "4e079246-e162-4048-aa61-cde4613018fe",
   "metadata": {},
   "source": [
    "Need to communicate with the OS to create, modify, move, copy, and delete files and directories (folders).This introduces some Python modules (e.g., ``os, glob, shutil``) that will help execute these necessary actions. It will also show how to write code that will seamlessly run on both macOS and Windows."
   ]
  },
  {
   "attachments": {},
   "cell_type": "markdown",
   "id": "e09ffdcc",
   "metadata": {},
   "source": [
    "# Important concepts (Navigating OS)"
   ]
  },
  {
   "attachments": {},
   "cell_type": "markdown",
   "id": "6f4430e7",
   "metadata": {},
   "source": [
    "## Path"
   ]
  },
  {
   "cell_type": "markdown",
   "id": "e4151d2b-8db6-4483-a43d-d2a2a636b332",
   "metadata": {},
   "source": [
    "Path is simply a way to specify a location on your computer. Can specify your path **absolutely** or **relatively**. "
   ]
  },
  {
   "cell_type": "code",
   "execution_count": 7,
   "id": "60c342ec-c256-41e4-adaf-7750d46bdeb7",
   "metadata": {},
   "outputs": [],
   "source": [
    "path1= \"C:\\\\Users\\\\teren\\\\OneDrive\\\\Desktop\\\\learning-portfolio-Terencetjc\\\\functions\\\\output.txt\"\n",
    "#Or we can do path = r\"C:\\Users\\teren\\OneDrive\\Desktop\\learning-portfolio-Terencetjc\\functions\\output.txt\"\n",
    "# as A raw string (r or R) in Python tells Python to treat backslashes (\\) as literal characters rather than escape characters. \n",
    "#This means that backslashes are not treated specially and are included in the string as-is."
   ]
  },
  {
   "attachments": {},
   "cell_type": "markdown",
   "id": "4978b9c1",
   "metadata": {},
   "source": [
    "## More about relative paths"
   ]
  },
  {
   "cell_type": "markdown",
   "id": "dca6d015-1508-4293-9de0-e87407f61514",
   "metadata": {},
   "source": [
    "| Notation |       Meaning      |\n",
    "|:--------:|:------------------:|\n",
    "|     .    |    ‘this folder’   |\n",
    "|    ..    | ‘one folder above’ |\n",
    "\n",
    "``.\\data-files\\data-01.txt`` means the file data-01.txt in the folder data-files in the **current** folder. <br>\n",
    "``..\\data-files\\data-01.txt`` means the file data-01.txt in the folder data-files located in the folder **above**."
   ]
  },
  {
   "attachments": {},
   "cell_type": "markdown",
   "id": "281450ea",
   "metadata": {},
   "source": [
    "### macOS or Linux"
   ]
  },
  {
   "cell_type": "code",
   "execution_count": 12,
   "id": "f8ff23e2",
   "metadata": {},
   "outputs": [],
   "source": [
    "#macOS and Linux allow you to use ~ to refer to your home directory. \n",
    "#So, for example, you can access the Desktop in these systems ‘relatively’ with ~/Desktop.\n",
    "\n",
    "#~\\Desktop\\output.txt some software can use but not universally recognized by all programs or scripts running in a Windows environment.\n",
    "import os\n",
    "\n",
    "file_path = os.path.join(os.environ['USERPROFILE'], 'Desktop', 'output.txt') \n",
    "#This is used to fetch the file path if I don't know where the file is. It is like search bar. "
   ]
  },
  {
   "attachments": {},
   "cell_type": "markdown",
   "id": "8e3f26f5",
   "metadata": {},
   "source": [
    "## Path separator"
   ]
  },
  {
   "cell_type": "markdown",
   "id": "f2b9e54d-a3bd-4449-8162-a9fbeee5960f",
   "metadata": {},
   "source": [
    "Windows uses \\ as the path separator while macOS (or Linux) uses /. So, the absolute path to a file on the Desktop on each of these systems will look like this:\n",
    "| System             | File path                                  |\n",
    "|--------------------|--------------------------------------------|\n",
    "|      Windows       | ``C:\\\\Users\\chammika\\Desktop\\data-01.txt`` |\n",
    "| macOS (or Linux)   | ``/Users/chammika/Desktop/data-01.txt``    |\n"
   ]
  },
  {
   "cell_type": "markdown",
   "id": "a8787700-d25f-44e6-8fd5-147cd2ee4892",
   "metadata": {},
   "source": [
    "If want to share the code and work on both systems,must not **hardcode** either path separator. Learn how to use ``os`` package to fix the problem. "
   ]
  },
  {
   "attachments": {},
   "cell_type": "markdown",
   "id": "813fda00",
   "metadata": {},
   "source": [
    "## 1.4 Text files vs. Binary files"
   ]
  },
  {
   "cell_type": "markdown",
   "id": "47fbc168-bcdf-437b-b1c7-7cc5d1df01ff",
   "metadata": {},
   "source": [
    "Text files are straightforward and universally readable, accessible through various software like Notepad, TextEdit, or Jupiter, and typically come with extensions like ``.txt``, ``.md``, or ``.csv.`` <br>\n",
    "\n",
    "Conversely, binary files necessitate interpretation to extract meaningful data; for instance, viewing the contents of a ``.png`` file in its raw form would yield unintelligible characters. Moreover, some binary files are platform-specific, meaning they can only execute on particular operating systems. For instance, ``Excel.app`` is exclusive to macOS, while ``Excel.exe`` is tailored for Windows, precluding cross-platform compatibility. \n",
    "\n",
    "Prefer: Binary files often prioritize efficiency and reduced size, contrasting text files which, although less complex, can grow considerably in size.\r",
    "\r\n",
    "\r\n",
    "\r\n"
   ]
  },
  {
   "attachments": {},
   "cell_type": "markdown",
   "id": "904dabf3",
   "metadata": {},
   "source": [
    "## Extensions"
   ]
  },
  {
   "cell_type": "markdown",
   "id": "38c861b8-66f0-44d7-92ae-8ef816334191",
   "metadata": {},
   "source": [
    "Files are usually named to end with an extension separated from the name by a ``.`` like ``name.extension``. This ``extension`` lets the OS know what software or app to use to extract the details in a file. For example, a ``.xlsx`` means use Excel or ``.pptx`` means use PowerPoint. Be careful about changing the extension of a file, as it will make your OS cough and throw a fit. "
   ]
  },
  {
   "attachments": {},
   "cell_type": "markdown",
   "id": "206b02ad",
   "metadata": {},
   "source": [
    "# Opening and closing files"
   ]
  },
  {
   "cell_type": "markdown",
   "id": "c48768a7-6792-4638-8092-9c22815676fe",
   "metadata": {},
   "source": [
    "A better way for opening a file for reading and writing uses the ``with`` statement (called context manager). "
   ]
  },
  {
   "attachments": {},
   "cell_type": "markdown",
   "id": "39d5747a",
   "metadata": {},
   "source": [
    "## Reading data"
   ]
  },
  {
   "cell_type": "code",
   "execution_count": 19,
   "id": "ea9852b5-0c21-44d5-8c5c-66338119b385",
   "metadata": {},
   "outputs": [
    {
     "name": "stdout",
     "output_type": "stream",
     "text": [
      "Light Intensity, Ch A vs Actual Angular Position, Run #4\n",
      "Actual Angular Position (  )\tLight Intensity, Ch A ( % max )\n",
      "0.000\t-0.2\n",
      "0.000\t-0.1\n",
      "0.000\t-0.1\n",
      "0.000\t-0.1\n",
      "0.000\t-0.1\n",
      "0.000\t-0.2\n",
      "0.000\t-0.1\n",
      "0.000\t-0.1\n",
      "0.000\t-0.1\n",
      "0.000\t-0.2\n",
      "0.000\t-0.1\n",
      "0.000\t-0.1\n",
      "0.000\t-0.2\n",
      "0.000\t-0.3\n",
      "0.000\t-0.2\n",
      "0.000\t-0.2\n",
      "0.001\t-0.1\n",
      "0.001\t-0.1\n",
      "0.001\t-0.1\n",
      "0.001\t-0.1\n",
      "0.001\t-0.1\n",
      "0.001\t-0.1\n",
      "0.004\t-0.1\n",
      "0.010\t-0.2\n",
      "0.018\t-0.2\n",
      "0.024\t-0.3\n",
      "0.029\t-0.3\n",
      "0.033\t-0.3\n",
      "0.036\t-0.2\n",
      "0.039\t-0.1\n",
      "0.043\t-0.1\n",
      "0.047\t-0.1\n",
      "0.053\t-0.1\n",
      "0.060\t-0.1\n",
      "0.066\t-0.1\n",
      "0.069\t-0.1\n",
      "0.073\t-0.1\n",
      "0.076\t-0.1\n",
      "0.079\t-0.1\n",
      "0.081\t-0.1\n",
      "0.082\t-0.1\n",
      "0.083\t-0.2\n",
      "0.083\t-0.2\n",
      "0.086\t-0.2\n",
      "0.090\t-0.2\n",
      "0.095\t-0.2\n",
      "0.100\t-0.3\n",
      "0.103\t-0.3\n",
      "0.104\t-0.2\n",
      "0.105\t-0.3\n",
      "0.107\t-0.2\n",
      "0.110\t-0.2\n",
      "0.115\t-0.1\n",
      "0.122\t-0.2\n",
      "0.128\t-0.1\n",
      "0.134\t-0.2\n",
      "0.139\t-0.1\n",
      "0.144\t-0.2\n",
      "0.150\t-0.2\n",
      "0.157\t-0.2\n",
      "0.164\t-0.2\n",
      "0.170\t-0.3\n",
      "0.175\t-0.3\n",
      "0.180\t-0.2\n",
      "0.185\t-0.2\n",
      "0.191\t-0.1\n",
      "0.195\t-0.1\n",
      "0.198\t-0.2\n",
      "0.201\t-0.1\n",
      "0.204\t-0.2\n",
      "0.206\t-0.2\n",
      "0.208\t-0.3\n",
      "0.210\t-0.3\n",
      "0.213\t-0.1\n",
      "0.217\t0.3\n",
      "0.222\t0.6\n",
      "0.226\t0.2\n",
      "0.230\t0.0\n",
      "0.233\t-0.1\n",
      "0.235\t-0.1\n",
      "0.237\t-0.1\n",
      "0.237\t-0.1\n",
      "0.238\t-0.1\n",
      "0.241\t-0.1\n",
      "0.245\t-0.1\n",
      "0.249\t-0.1\n",
      "0.252\t-0.1\n",
      "0.254\t-0.2\n",
      "0.257\t-0.2\n",
      "0.260\t-0.2\n",
      "0.263\t-0.3\n",
      "0.266\t-0.3\n",
      "0.269\t-0.2\n",
      "0.271\t-0.1\n",
      "0.274\t-0.1\n",
      "0.277\t-0.2\n",
      "0.279\t-0.1\n",
      "0.282\t-0.2\n",
      "0.285\t-0.1\n",
      "0.289\t-0.2\n",
      "0.292\t-0.2\n",
      "0.297\t-0.3\n",
      "0.300\t-0.2\n",
      "0.304\t-0.1\n",
      "0.307\t-0.1\n",
      "0.310\t-0.2\n",
      "0.312\t-0.1\n",
      "0.316\t-0.1\n",
      "0.320\t-0.2\n",
      "0.325\t-0.3\n",
      "0.330\t-0.2\n",
      "0.334\t-0.1\n",
      "0.336\t-0.1\n",
      "0.338\t-0.1\n",
      "0.340\t-0.1\n",
      "0.343\t-0.1\n",
      "0.346\t-0.2\n",
      "0.349\t-0.3\n",
      "0.353\t-0.1\n",
      "0.357\t-0.1\n",
      "0.362\t-0.1\n",
      "0.367\t-0.2\n",
      "0.369\t-0.1\n",
      "0.371\t-0.2\n",
      "0.371\t-0.1\n",
      "0.372\t-0.2\n",
      "0.372\t-0.2\n",
      "0.372\t-0.1\n",
      "0.373\t-0.2\n",
      "0.374\t-0.1\n",
      "0.376\t-0.2\n",
      "0.378\t-0.1\n",
      "0.380\t-0.2\n",
      "0.382\t-0.2\n",
      "0.384\t-0.2\n",
      "0.385\t-0.2\n",
      "0.386\t-0.2\n",
      "0.387\t-0.2\n",
      "0.389\t-0.3\n",
      "0.391\t-0.3\n",
      "0.394\t-0.2\n",
      "0.398\t-0.1\n",
      "0.401\t-0.1\n",
      "0.404\t-0.1\n",
      "0.405\t-0.1\n",
      "0.406\t-0.1\n",
      "0.408\t-0.1\n",
      "0.411\t-0.1\n",
      "0.414\t-0.2\n",
      "0.417\t-0.1\n",
      "0.420\t-0.2\n",
      "0.423\t-0.1\n",
      "0.425\t-0.2\n",
      "0.427\t-0.1\n",
      "0.430\t-0.1\n",
      "0.433\t-0.1\n",
      "0.437\t-0.2\n",
      "0.440\t-0.2\n",
      "0.443\t-0.1\n",
      "0.446\t-0.1\n",
      "0.449\t-0.1\n",
      "0.453\t-0.1\n",
      "0.458\t-0.1\n",
      "0.462\t-0.2\n",
      "0.466\t-0.2\n",
      "0.469\t-0.2\n",
      "0.472\t-0.3\n",
      "0.474\t-0.3\n",
      "0.477\t-0.2\n",
      "0.481\t-0.1\n",
      "0.486\t-0.1\n",
      "0.490\t-0.1\n",
      "0.493\t-0.1\n",
      "0.496\t0.0\n",
      "0.498\t0.0\n",
      "0.501\t-0.1\n",
      "0.503\t-0.1\n",
      "0.505\t-0.2\n",
      "0.507\t-0.3\n",
      "0.510\t-0.1\n",
      "0.513\t-0.1\n",
      "0.516\t-0.1\n",
      "0.519\t-0.1\n",
      "0.523\t-0.1\n",
      "0.526\t-0.1\n",
      "0.529\t-0.1\n",
      "0.533\t-0.1\n",
      "0.537\t-0.1\n",
      "0.541\t-0.2\n",
      "0.544\t-0.1\n",
      "0.547\t-0.1\n",
      "0.549\t-0.1\n",
      "0.551\t-0.1\n",
      "0.554\t-0.1\n",
      "0.557\t-0.1\n",
      "0.561\t-0.1\n",
      "0.564\t-0.1\n",
      "0.568\t-0.2\n",
      "0.572\t-0.2\n",
      "0.577\t-0.2\n",
      "0.581\t-0.1\n",
      "0.586\t0.0\n",
      "0.588\t0.0\n",
      "0.590\t-0.1\n",
      "0.592\t-0.1\n",
      "0.593\t-0.2\n",
      "0.596\t-0.2\n",
      "0.599\t-0.2\n",
      "0.602\t-0.2\n",
      "0.605\t-0.2\n",
      "0.606\t-0.2\n",
      "0.607\t-0.2\n",
      "0.609\t-0.1\n",
      "0.610\t-0.1\n",
      "0.613\t0.0\n",
      "0.615\t0.0\n",
      "0.617\t-0.1\n",
      "0.619\t-0.1\n",
      "0.622\t-0.2\n",
      "0.624\t-0.1\n",
      "0.626\t0.0\n",
      "0.629\t0.1\n",
      "0.632\t0.1\n",
      "0.634\t0.0\n",
      "0.637\t0.0\n",
      "0.639\t0.0\n",
      "0.641\t0.0\n",
      "0.643\t0.0\n",
      "0.645\t0.0\n",
      "0.648\t0.0\n",
      "0.650\t0.0\n",
      "0.653\t0.0\n",
      "0.656\t0.0\n",
      "0.658\t-0.1\n",
      "0.661\t-0.2\n",
      "0.663\t0.0\n",
      "0.666\t0.0\n",
      "0.670\t0.0\n",
      "0.676\t0.0\n",
      "0.680\t0.0\n",
      "0.684\t0.0\n",
      "0.686\t0.1\n",
      "0.686\t0.1\n",
      "0.687\t0.0\n",
      "0.689\t0.0\n",
      "0.693\t0.1\n",
      "0.697\t0.3\n",
      "0.701\t0.5\n",
      "0.703\t1.2\n",
      "0.705\t7.1\n",
      "0.707\t23.7\n",
      "0.709\t51.4\n",
      "0.710\t61.3\n",
      "0.712\t48.9\n",
      "0.714\t25.8\n",
      "0.715\t12.1\n",
      "0.717\t4.6\n",
      "0.718\t1.8\n",
      "0.721\t0.7\n",
      "0.723\t0.5\n",
      "0.724\t0.4\n",
      "0.726\t0.4\n",
      "0.727\t0.4\n",
      "0.728\t0.3\n",
      "0.730\t0.2\n",
      "0.732\t0.2\n",
      "0.735\t0.1\n",
      "0.737\t0.2\n",
      "0.740\t0.2\n",
      "0.742\t0.2\n",
      "0.744\t0.1\n",
      "0.746\t0.1\n",
      "0.748\t0.1\n",
      "0.749\t0.1\n",
      "0.750\t0.0\n",
      "0.752\t0.0\n",
      "0.754\t0.1\n",
      "0.756\t0.1\n",
      "0.758\t0.1\n",
      "0.761\t0.1\n",
      "0.764\t0.0\n",
      "0.766\t-0.1\n",
      "0.768\t-0.1\n",
      "0.770\t-0.1\n",
      "0.772\t0.0\n",
      "0.774\t0.0\n",
      "0.777\t0.0\n",
      "0.779\t0.0\n",
      "0.780\t0.0\n",
      "0.782\t0.0\n",
      "0.784\t-0.1\n",
      "0.785\t0.0\n",
      "0.787\t0.0\n",
      "0.789\t0.0\n",
      "0.791\t0.0\n",
      "0.793\t0.0\n",
      "0.795\t0.0\n",
      "0.797\t-0.1\n",
      "0.800\t0.0\n",
      "0.804\t0.0\n",
      "0.806\t0.0\n",
      "0.809\t0.0\n",
      "0.811\t0.1\n",
      "0.813\t0.9\n",
      "0.815\t3.0\n",
      "0.817\t5.9\n",
      "0.819\t6.6\n",
      "0.821\t4.0\n",
      "0.823\t1.3\n",
      "0.826\t0.2\n",
      "0.828\t0.1\n",
      "0.831\t0.1\n",
      "0.833\t0.1\n",
      "0.836\t0.1\n",
      "0.838\t0.1\n",
      "0.840\t0.1\n",
      "0.843\t0.1\n",
      "0.847\t0.2\n",
      "0.850\t1.0\n",
      "0.854\t0.8\n",
      "0.856\t0.3\n",
      "0.858\t0.1\n",
      "0.860\t0.0\n",
      "0.862\t0.1\n",
      "0.864\t0.1\n",
      "0.866\t0.2\n",
      "0.869\t0.2\n",
      "0.872\t0.1\n",
      "0.875\t0.1\n",
      "0.878\t0.1\n",
      "0.881\t0.1\n",
      "0.884\t0.1\n",
      "0.887\t0.1\n",
      "0.890\t0.0\n",
      "0.893\t0.1\n",
      "0.896\t0.0\n",
      "0.898\t0.1\n",
      "0.901\t0.0\n",
      "0.903\t0.0\n",
      "0.907\t0.0\n",
      "0.910\t0.0\n",
      "0.913\t0.0\n",
      "0.916\t0.0\n",
      "0.919\t0.0\n",
      "0.922\t0.0\n",
      "0.925\t0.0\n",
      "0.929\t0.0\n",
      "0.932\t0.0\n",
      "0.935\t0.0\n",
      "0.938\t0.0\n",
      "0.940\t0.0\n",
      "0.941\t0.0\n",
      "0.942\t0.0\n",
      "0.944\t0.0\n",
      "0.947\t0.0\n",
      "0.950\t0.0\n",
      "0.951\t0.0\n",
      "0.952\t0.0\n",
      "0.953\t0.0\n",
      "0.955\t0.0\n",
      "0.957\t0.0\n",
      "0.959\t0.0\n",
      "0.961\t0.0\n",
      "0.963\t0.0\n",
      "0.965\t0.0\n",
      "0.968\t0.0\n",
      "0.971\t0.0\n",
      "0.973\t0.1\n",
      "0.976\t0.1\n",
      "0.978\t0.0\n",
      "0.980\t0.1\n",
      "0.982\t0.1\n",
      "0.983\t0.0\n",
      "0.984\t0.0\n",
      "0.986\t0.1\n",
      "0.987\t0.0\n",
      "0.989\t0.1\n",
      "0.991\t0.1\n",
      "0.993\t0.1\n",
      "0.995\t0.1\n",
      "0.998\t0.1\n",
      "1.001\t0.1\n",
      "1.004\t0.2\n",
      "1.007\t0.2\n",
      "1.010\t0.1\n",
      "1.013\t0.1\n",
      "1.015\t0.1\n",
      "1.018\t0.1\n",
      "1.021\t0.1\n",
      "1.023\t0.1\n",
      "1.026\t0.1\n",
      "1.028\t0.2\n",
      "1.030\t0.3\n",
      "1.032\t0.3\n",
      "1.034\t0.3\n",
      "1.036\t0.4\n",
      "1.038\t0.4\n",
      "1.040\t0.4\n",
      "1.042\t0.5\n",
      "1.044\t0.5\n",
      "1.047\t0.5\n",
      "1.050\t0.6\n",
      "1.053\t0.7\n",
      "1.055\t0.7\n",
      "1.057\t0.8\n",
      "1.058\t0.9\n",
      "1.060\t1.0\n",
      "1.062\t1.2\n",
      "1.065\t1.3\n",
      "1.068\t1.4\n",
      "1.070\t1.3\n",
      "1.072\t1.3\n",
      "1.074\t1.3\n",
      "1.077\t1.4\n",
      "1.079\t1.6\n",
      "1.081\t1.8\n",
      "1.084\t2.1\n",
      "1.086\t2.4\n",
      "1.088\t2.7\n",
      "1.089\t3.2\n",
      "1.091\t3.8\n",
      "1.093\t4.5\n",
      "1.096\t5.4\n",
      "1.098\t6.7\n",
      "1.101\t8.8\n",
      "1.104\t13.1\n",
      "1.107\t97.1\n",
      "1.112\t97.0\n",
      "1.117\t97.0\n",
      "1.122\t45.6\n",
      "1.125\t11.9\n",
      "1.129\t9.1\n",
      "1.131\t7.6\n",
      "1.133\t7.0\n",
      "1.134\t6.3\n",
      "1.136\t5.9\n",
      "1.138\t5.3\n",
      "1.140\t4.8\n",
      "1.142\t4.2\n",
      "1.144\t3.5\n",
      "1.147\t3.0\n",
      "1.149\t2.6\n",
      "1.152\t2.2\n",
      "1.156\t2.1\n",
      "1.159\t1.8\n",
      "1.162\t1.7\n",
      "1.165\t1.5\n",
      "1.167\t1.4\n",
      "1.170\t1.2\n",
      "1.172\t1.2\n",
      "1.174\t0.9\n",
      "1.177\t0.8\n",
      "1.179\t0.6\n",
      "1.182\t0.4\n",
      "1.184\t0.3\n",
      "1.187\t0.3\n",
      "1.190\t0.2\n",
      "1.192\t0.2\n",
      "1.193\t0.2\n",
      "1.194\t0.2\n",
      "1.194\t0.2\n",
      "1.196\t0.2\n",
      "1.198\t0.2\n",
      "1.201\t0.1\n",
      "1.204\t0.1\n",
      "1.207\t0.1\n",
      "1.211\t0.1\n",
      "1.215\t0.1\n",
      "1.218\t0.0\n",
      "1.222\t0.1\n",
      "1.226\t0.0\n",
      "1.229\t0.0\n",
      "1.231\t-0.1\n",
      "1.234\t0.0\n",
      "1.237\t-0.1\n",
      "1.240\t0.0\n",
      "1.244\t0.0\n",
      "1.247\t0.0\n",
      "1.250\t0.0\n",
      "1.253\t0.0\n",
      "1.255\t0.0\n",
      "1.257\t0.0\n",
      "1.260\t0.0\n",
      "1.263\t0.0\n",
      "1.265\t0.0\n",
      "1.266\t0.0\n",
      "1.268\t0.0\n",
      "1.269\t0.0\n",
      "1.270\t0.0\n",
      "1.271\t0.0\n",
      "1.273\t0.0\n",
      "1.275\t0.0\n",
      "1.277\t0.0\n",
      "1.278\t0.0\n",
      "1.280\t0.0\n",
      "1.281\t0.0\n",
      "1.283\t0.0\n",
      "1.285\t0.0\n",
      "1.286\t0.0\n",
      "1.287\t0.0\n",
      "1.287\t0.0\n",
      "1.288\t-0.1\n",
      "1.289\t-0.1\n",
      "1.290\t-0.1\n",
      "1.291\t-0.2\n",
      "1.292\t-0.2\n",
      "1.292\t-0.2\n",
      "1.293\t-0.1\n",
      "1.294\t0.0\n",
      "1.295\t0.0\n",
      "1.296\t-0.1\n",
      "1.297\t-0.1\n",
      "1.298\t-0.1\n",
      "1.299\t0.0\n",
      "1.300\t0.0\n",
      "1.301\t0.0\n",
      "1.302\t-0.1\n",
      "1.303\t-0.1\n",
      "1.304\t0.0\n",
      "1.306\t-0.1\n",
      "1.306\t-0.1\n",
      "1.308\t-0.1\n",
      "1.309\t-0.1\n",
      "1.311\t-0.2\n",
      "1.312\t-0.2\n",
      "1.313\t-0.2\n",
      "1.314\t-0.1\n",
      "1.316\t0.0\n",
      "1.317\t0.0\n",
      "1.318\t-0.1\n",
      "1.319\t-0.1\n",
      "1.319\t0.0\n",
      "1.320\t0.0\n",
      "1.322\t-0.1\n",
      "1.323\t-0.1\n",
      "1.325\t-0.1\n",
      "1.327\t-0.1\n",
      "1.329\t0.0\n",
      "1.332\t-0.1\n",
      "1.334\t-0.1\n",
      "1.335\t-0.1\n",
      "1.336\t-0.1\n",
      "1.338\t-0.1\n",
      "1.340\t0.0\n",
      "1.341\t-0.1\n",
      "1.343\t0.0\n",
      "1.344\t-0.1\n",
      "1.345\t-0.2\n",
      "1.347\t0.0\n",
      "1.348\t0.0\n",
      "1.349\t0.0\n",
      "1.351\t0.0\n",
      "1.352\t0.0\n",
      "1.353\t0.0\n",
      "1.354\t0.0\n",
      "1.356\t0.0\n",
      "1.358\t0.0\n",
      "1.359\t0.0\n",
      "1.361\t0.0\n",
      "1.363\t0.0\n",
      "1.366\t0.1\n",
      "1.368\t0.1\n",
      "1.369\t0.0\n",
      "1.370\t0.0\n",
      "1.371\t0.0\n",
      "1.372\t0.0\n",
      "1.373\t0.0\n",
      "1.374\t0.0\n",
      "1.376\t0.0\n",
      "1.378\t0.1\n",
      "1.380\t0.3\n",
      "1.380\t0.5\n",
      "1.380\t0.5\n",
      "1.382\t0.4\n",
      "1.384\t0.3\n",
      "1.386\t0.1\n",
      "1.386\t0.0\n",
      "1.386\t0.0\n",
      "1.388\t0.0\n",
      "1.389\t-0.1\n",
      "1.389\t0.0\n",
      "1.389\t-0.1\n",
      "1.389\t-0.1\n",
      "1.389\t-0.2\n",
      "1.390\t0.0\n",
      "1.391\t0.0\n",
      "1.393\t0.0\n",
      "1.396\t0.0\n",
      "1.398\t0.0\n",
      "1.400\t0.0\n",
      "1.401\t0.0\n",
      "1.402\t0.0\n",
      "1.404\t0.0\n",
      "1.405\t0.0\n",
      "1.406\t0.1\n",
      "1.408\t0.7\n",
      "1.409\t2.0\n",
      "1.411\t3.2\n",
      "1.413\t3.8\n",
      "1.415\t2.4\n",
      "1.418\t0.7\n",
      "1.420\t0.1\n",
      "1.423\t0.0\n",
      "1.425\t0.0\n",
      "1.428\t0.0\n",
      "1.430\t0.0\n",
      "1.432\t0.0\n",
      "1.433\t0.0\n",
      "1.435\t0.0\n",
      "1.436\t-0.1\n",
      "1.437\t-0.1\n",
      "1.439\t-0.2\n",
      "1.441\t0.0\n",
      "1.443\t0.0\n",
      "1.445\t0.0\n",
      "1.448\t0.0\n",
      "1.449\t0.0\n",
      "1.451\t0.0\n",
      "1.453\t0.0\n",
      "1.454\t0.0\n",
      "1.456\t0.0\n",
      "1.457\t0.0\n",
      "1.459\t0.0\n",
      "1.461\t0.0\n",
      "1.463\t0.0\n",
      "1.465\t-0.1\n",
      "1.467\t-0.1\n",
      "1.468\t-0.1\n",
      "1.470\t0.0\n",
      "1.472\t0.0\n",
      "1.473\t0.0\n",
      "1.476\t0.0\n",
      "1.478\t0.0\n",
      "1.480\t0.0\n",
      "1.483\t0.0\n",
      "1.486\t0.0\n",
      "1.489\t0.0\n",
      "1.492\t0.0\n",
      "1.495\t0.0\n",
      "1.499\t0.0\n",
      "1.502\t0.1\n",
      "1.507\t0.1\n",
      "1.510\t0.2\n",
      "1.513\t0.3\n",
      "1.515\t0.5\n",
      "1.518\t5.8\n",
      "1.521\t28.1\n",
      "1.525\t36.1\n",
      "1.528\t10.0\n",
      "1.531\t1.3\n",
      "1.533\t0.4\n",
      "1.535\t0.3\n",
      "1.537\t0.2\n",
      "1.540\t0.2\n",
      "1.543\t0.1\n",
      "1.546\t0.1\n",
      "1.550\t0.0\n",
      "1.553\t0.0\n",
      "1.556\t-0.1\n",
      "1.559\t-0.1\n",
      "1.562\t0.0\n",
      "1.565\t0.0\n",
      "1.569\t0.0\n",
      "1.572\t0.0\n",
      "1.575\t0.0\n",
      "1.577\t0.0\n",
      "1.581\t-0.2\n",
      "1.585\t-0.2\n",
      "1.589\t-0.1\n",
      "1.593\t0.0\n",
      "1.596\t-0.1\n",
      "1.597\t-0.1\n",
      "1.598\t-0.1\n",
      "1.599\t-0.1\n",
      "1.601\t-0.1\n",
      "1.602\t0.0\n",
      "1.603\t0.0\n",
      "1.606\t0.0\n",
      "1.611\t-0.2\n",
      "1.616\t-0.3\n",
      "1.623\t-0.2\n",
      "1.628\t-0.1\n",
      "1.633\t-0.1\n",
      "1.639\t-0.1\n",
      "1.644\t-0.1\n",
      "1.649\t-0.1\n",
      "1.654\t0.0\n",
      "1.658\t-0.1\n",
      "1.663\t-0.1\n",
      "1.667\t-0.1\n",
      "1.671\t-0.1\n",
      "1.675\t-0.1\n",
      "1.679\t-0.3\n",
      "1.684\t-0.2\n",
      "1.688\t-0.1\n",
      "1.693\t-0.1\n",
      "1.696\t-0.1\n",
      "1.700\t-0.1\n",
      "1.704\t-0.1\n",
      "1.707\t-0.1\n",
      "1.710\t-0.1\n",
      "1.712\t-0.1\n",
      "1.714\t-0.1\n",
      "1.717\t-0.1\n",
      "1.721\t-0.1\n",
      "1.726\t-0.1\n",
      "1.731\t-0.1\n",
      "1.734\t-0.1\n",
      "1.737\t-0.1\n",
      "1.739\t-0.1\n",
      "1.742\t-0.1\n",
      "1.745\t0.0\n",
      "1.749\t0.2\n",
      "1.752\t0.1\n",
      "1.756\t-0.1\n",
      "1.759\t-0.1\n",
      "1.762\t-0.1\n",
      "1.767\t-0.1\n",
      "1.772\t-0.3\n",
      "1.777\t-0.3\n",
      "1.783\t-0.2\n",
      "1.787\t-0.1\n",
      "1.792\t-0.2\n",
      "1.796\t-0.3\n",
      "1.800\t-0.2\n",
      "1.803\t-0.2\n",
      "1.808\t-0.2\n",
      "1.812\t-0.2\n",
      "1.818\t-0.1\n",
      "1.823\t-0.1\n",
      "1.828\t-0.1\n",
      "1.835\t-0.1\n",
      "1.844\t-0.1\n",
      "1.852\t-0.2\n",
      "1.859\t-0.1\n",
      "1.865\t-0.2\n",
      "1.870\t-0.1\n",
      "1.873\t-0.2\n",
      "1.874\t-0.2\n",
      "1.875\t-0.2\n",
      "1.877\t-0.2\n",
      "1.880\t-0.2\n",
      "1.883\t-0.2\n",
      "1.887\t-0.2\n",
      "1.892\t-0.3\n",
      "1.895\t-0.3\n",
      "1.898\t-0.2\n",
      "1.903\t-0.2\n",
      "1.907\t-0.2\n",
      "1.912\t-0.1\n",
      "1.918\t-0.1\n",
      "1.923\t-0.2\n",
      "1.929\t-0.2\n",
      "1.934\t-0.1\n",
      "1.940\t-0.1\n",
      "1.944\t-0.2\n",
      "1.948\t-0.2\n",
      "1.952\t-0.2\n",
      "1.955\t-0.2\n",
      "1.960\t-0.2\n",
      "1.966\t-0.2\n",
      "1.971\t-0.2\n",
      "1.975\t-0.1\n",
      "1.979\t-0.2\n",
      "1.985\t-0.3\n",
      "1.990\t-0.2\n",
      "1.997\t-0.1\n",
      "2.002\t-0.1\n",
      "2.007\t-0.2\n",
      "2.012\t-0.1\n",
      "2.017\t-0.2\n",
      "2.022\t-0.1\n",
      "2.027\t-0.2\n",
      "2.034\t-0.1\n",
      "2.041\t-0.1\n",
      "2.048\t1.1\n",
      "2.053\t1.6\n",
      "2.057\t0.7\n",
      "2.060\t0.1\n",
      "2.064\t0.0\n",
      "2.068\t-0.1\n",
      "2.073\t-0.1\n",
      "2.079\t-0.1\n",
      "2.086\t-0.1\n",
      "2.094\t-0.1\n",
      "2.100\t-0.2\n",
      "2.105\t-0.1\n",
      "2.109\t-0.1\n",
      "2.111\t-0.1\n",
      "2.115\t-0.2\n",
      "2.120\t-0.2\n",
      "2.124\t-0.1\n",
      "2.128\t-0.2\n",
      "2.131\t-0.1\n",
      "2.134\t-0.2\n",
      "2.135\t-0.1\n",
      "2.138\t-0.1\n",
      "2.140\t-0.1\n",
      "2.144\t-0.1\n",
      "2.148\t-0.1\n",
      "2.153\t-0.2\n",
      "2.158\t-0.2\n",
      "2.162\t-0.2\n",
      "2.166\t-0.2\n",
      "2.170\t-0.2\n",
      "2.175\t-0.2\n",
      "2.179\t-0.2\n",
      "2.183\t-0.1\n",
      "2.187\t-0.2\n",
      "2.191\t-0.2\n",
      "2.194\t-0.2\n",
      "2.197\t-0.2\n",
      "2.200\t-0.2\n",
      "2.203\t-0.2\n",
      "2.207\t-0.2\n",
      "2.211\t-0.1\n",
      "2.215\t-0.2\n",
      "2.219\t-0.2\n",
      "2.222\t-0.1\n",
      "2.224\t-0.2\n",
      "2.225\t-0.2\n",
      "2.225\t-0.2\n",
      "2.225\t-0.2\n",
      "2.225\t-0.3\n",
      "2.225\t-0.2\n",
      "2.225\t-0.3\n",
      "2.225\t-0.3\n",
      "2.225\t-0.3\n",
      "2.225\t-0.2\n",
      "2.225\t-0.1\n",
      "2.225\t-0.1\n",
      "2.225\t-0.1\n",
      "2.225\t-0.1\n",
      "2.225\t-0.1\n",
      "2.225\t-0.1\n",
      "2.225\t-0.2\n",
      "2.225\t-0.1\n",
      "2.225\t-0.1\n",
      "2.225\t-0.2\n",
      "2.225\t-0.1\n",
      "2.225\t-0.1\n",
      "2.225\t-0.1\n",
      "2.225\t-0.2\n",
      "2.225\t-0.2\n",
      "2.225\t-0.2\n",
      "2.225\t-0.1\n",
      "2.225\t-0.1\n",
      "2.225\t-0.2\n",
      "2.224\t-0.2\n",
      "2.224\t-0.2\n",
      "2.224\t-0.2\n",
      "2.224\t-0.2\n",
      "2.224\t-0.2\n",
      "2.224\t-0.2\n",
      "2.224\t-0.2\n",
      "2.224\t-0.3\n",
      "2.224\t-0.3\n",
      "2.224\t-0.2\n",
      "2.224\t-0.3\n",
      "2.224\t-0.3\n",
      "2.224\t-0.2\n",
      "2.224\t-0.3\n",
      "2.224\t-0.3\n",
      "2.224\t-0.3\n",
      "2.224\t-0.1\n",
      "2.224\t-0.2\n",
      "2.224\t-0.2\n",
      "2.224\t-0.2\n",
      "2.224\t-0.1\n",
      "2.224\t-0.1\n",
      "2.224\t-0.2\n",
      "2.224\t-0.2\n",
      "2.224\t-0.2\n",
      "2.224\t-0.2\n",
      "2.224\t-0.1\n",
      "2.224\t-0.1\n",
      "2.224\t-0.2\n",
      "2.224\t-0.2\n",
      "2.224\t-0.2\n",
      "2.224\t-0.2\n",
      "2.224\t-0.3\n",
      "2.224\t-0.2\n",
      "2.224\t-0.1\n",
      "2.224\t-0.1\n",
      "2.224\t-0.2\n",
      "2.224\t-0.2\n",
      "2.224\t-0.2\n",
      "2.224\t-0.2\n",
      "2.224\t-0.1\n",
      "2.224\t-0.2\n",
      "2.224\t-0.2\n",
      "2.224\t-0.2\n",
      "2.224\t-0.1\n",
      "2.224\t-0.2\n",
      "2.224\t-0.1\n",
      "2.224\t-0.2\n",
      "2.224\t-0.2\n",
      "2.224\t-0.2\n",
      "2.224\t-0.2\n",
      "2.224\t-0.2\n",
      "2.224\t-0.2\n",
      "2.224\t-0.2\n",
      "2.224\t-0.2\n",
      "2.224\t-0.2\n",
      "2.224\t-0.2\n",
      "2.224\t-0.2\n",
      "2.224\t-0.2\n",
      "2.224\t-0.2\n",
      "2.224\t-0.2\n",
      "2.224\t-0.2\n",
      "2.224\t-0.2\n",
      "2.224\t-0.3\n",
      "2.224\t-0.3\n",
      "2.224\t-0.3\n",
      "2.224\t-0.3\n",
      "2.224\t-0.3\n",
      "\n"
     ]
    }
   ],
   "source": [
    "with open('spectrum-01.txt', 'r') as file: #open() function ‘opens’ your file.'r' specifies that I only want to read from the file.\n",
    "    file_content = file.read() #Using with frees you from worrying about closing the file after you are done.\n",
    "\n",
    "print(file_content)"
   ]
  },
  {
   "attachments": {},
   "cell_type": "markdown",
   "id": "ab7e5c25",
   "metadata": {},
   "source": [
    "## Writing data"
   ]
  },
  {
   "cell_type": "code",
   "execution_count": 22,
   "id": "8b1ea259-316e-49ed-81a2-1407f796c223",
   "metadata": {},
   "outputs": [],
   "source": [
    "text = 'Far out in the uncharted backwaters of the unfashionable end of the western spiral arm of the Galaxy lies a small unregarded yellow sun.\\nOrbiting this at a distance of roughly ninety-two million miles is an utterly insignificant little blue green planet whose ape-descended life forms are so amazingly primitive that they still think digital watches are a pretty neat idea.'\n",
    "#Learn how to write text into a file. 2 writing methods explained below. "
   ]
  },
  {
   "attachments": {},
   "cell_type": "markdown",
   "id": "39952978",
   "metadata": {},
   "source": [
    "### Writing to a file in one go"
   ]
  },
  {
   "cell_type": "code",
   "execution_count": 26,
   "id": "b28b7a8e",
   "metadata": {},
   "outputs": [],
   "source": [
    "with open('my-text-once.txt', 'w') as file: #This function call opens the file named 'my-text-once.txt' in write mode ('w'). \n",
    "                                            #If the file does not exist, it will be created. If the file already exists, its contents will be emptied. \n",
    "                                            #as helps assign it as file so can just use file later.\n",
    "    file.write(text) #writes the contents of the text variable to the file opened earlier. This will overwrite any existing content in the file.\n",
    "#with statement is used in conjunction with open() to ensure that the file is properly closed after its use"
   ]
  },
  {
   "attachments": {},
   "cell_type": "markdown",
   "id": "39d19ff0",
   "metadata": {},
   "source": [
    "### Writing to a file, line by line"
   ]
  },
  {
   "cell_type": "code",
   "execution_count": 27,
   "id": "396c41bc",
   "metadata": {},
   "outputs": [],
   "source": [
    "with open('my-text-lines.txt', 'w') as file:\n",
    "    for line in text.splitlines(): #This iterates over each line of text in the variable text. \n",
    "                                   #The splitlines() method is used to split the text into individual lines.\n",
    "        file.writelines(line)      #write each line of text to the file. Since writelines() expects a list of strings, each line is written individually."
   ]
  },
  {
   "attachments": {},
   "cell_type": "markdown",
   "id": "5b429d39",
   "metadata": {},
   "source": [
    "# Some useful packages"
   ]
  },
  {
   "cell_type": "markdown",
   "id": "80e0ae36-a4a5-487a-85f5-d2e18b501be3",
   "metadata": {},
   "source": [
    "| Package | Primarily used for                                                                |\r\n",
    "|---------|-----------------------------------------------------------------------------------|\r\n",
    "| os      | To ‘talk’ to the OS to create, modify, delete folders and write OS-agnostic code. |\r\n",
    "| glob    | To search for files.                                                              |\r\n",
    "| shutil  | To copy files.                                                                    |"
   ]
  },
  {
   "cell_type": "markdown",
   "id": "ee6dac8b-a7d6-4669-9f8d-89e9390d9575",
   "metadata": {},
   "source": [
    "While both ``os`` and ``shutil`` modules offer functionalities for file and directory operations, shutil provides a more specialized and convenient interface for handling these tasks.<br>\n",
    "``shutil`` module is particularly useful for file operations, such as copying files (shutil.copy()), moving files (shutil.move()), and deleting files (shutil.rmtree()). os cannot offer these."
   ]
  },
  {
   "cell_type": "code",
   "execution_count": 1,
   "id": "fbfd6ac4-025a-4458-a9de-2b83f9b89af0",
   "metadata": {},
   "outputs": [],
   "source": [
    "import os\n",
    "import glob\n",
    "import shutil"
   ]
  },
  {
   "attachments": {},
   "cell_type": "markdown",
   "id": "4612ced8",
   "metadata": {},
   "source": [
    "# OS safe paths"
   ]
  },
  {
   "cell_type": "markdown",
   "id": "79871ad5-7052-4a9d-94e0-4559bedf8c80",
   "metadata": {},
   "source": [
    "Consider a file data-01.txt in the sub-directory sg-data of the directory all-data.\n",
    "\n",
    "all-data --> sg-data --> data-01.txt\n",
    "\n",
    "If I want to access data-01.txt all I have to do is:"
   ]
  },
  {
   "cell_type": "code",
   "execution_count": 30,
   "id": "48d6a6a8-83b4-4d00-bc16-e2ea30349e08",
   "metadata": {},
   "outputs": [
    {
     "name": "stdout",
     "output_type": "stream",
     "text": [
      ".\\all-data\\sg-data\\data-01.txt\n"
     ]
    }
   ],
   "source": [
    "path = os.path.join('.', 'all-data', 'sg-data', 'data-01.txt')\n",
    "print(path) #If not on windows, output will be './all-data/sg-data/data-01.txt'"
   ]
  },
  {
   "cell_type": "markdown",
   "id": "11ef9a5e-0431-4621-b282-789b2729d8a0",
   "metadata": {},
   "source": [
    "using **os.path.join()** will adjust your path with either / or \\ as necessary. This means your code will seamlessly run on all the OS."
   ]
  },
  {
   "attachments": {},
   "cell_type": "markdown",
   "id": "24300b11",
   "metadata": {},
   "source": [
    "# Folders"
   ]
  },
  {
   "attachments": {},
   "cell_type": "markdown",
   "id": "0205ec73",
   "metadata": {},
   "source": [
    "## Creating folders"
   ]
  },
  {
   "cell_type": "markdown",
   "id": "dcc9b65d-f115-4f02-be75-6b28c3a6548b",
   "metadata": {},
   "source": [
    "Can create a folder programatically using ``os.mkdir()``. Useful because can quickly organize data. <br>\n",
    "\n",
    "Example: If need to store information about \"John\", \"Paul\",\"Ringo\":"
   ]
  },
  {
   "cell_type": "code",
   "execution_count": 3,
   "id": "8cfc0018-f926-43fd-ade3-ad52c4f320cf",
   "metadata": {},
   "outputs": [
    {
     "name": "stdout",
     "output_type": "stream",
     "text": [
      "Creating people\\John\n",
      "Creating people\\Paul\n",
      "Creating people\\Ringo\n"
     ]
    }
   ],
   "source": [
    "shutil.rmtree('people') #This deletes any existing file first so can be recreated, and i just realised i solved it before the next part of try-except.\n",
    "os.mkdir('people')\n",
    "\n",
    "for person in ['John', 'Paul', 'Ringo']:\n",
    "    path = os.path.join('people', person)\n",
    "    print(f'Creating {path}')\n",
    "    os.mkdir(path)"
   ]
  },
  {
   "attachments": {},
   "cell_type": "markdown",
   "id": "be0bb511",
   "metadata": {},
   "source": [
    "## Checking for file existence"
   ]
  },
  {
   "attachments": {},
   "cell_type": "markdown",
   "id": "c243a0a2",
   "metadata": {},
   "source": [
    "### Using try-except"
   ]
  },
  {
   "cell_type": "code",
   "execution_count": 46,
   "id": "7cd38412",
   "metadata": {},
   "outputs": [
    {
     "name": "stdout",
     "output_type": "stream",
     "text": [
      "people\\John already exists; skipping creation.\n",
      "people\\Paul already exists; skipping creation.\n",
      "Creating people\\Ringo\n"
     ]
    }
   ],
   "source": [
    "for person in ['John', 'Paul', 'Ringo']:\n",
    "    path = os.path.join('people', person)\n",
    "    try:\n",
    "        os.mkdir(path)\n",
    "        print(f'Creating {path}')\n",
    "    except FileExistsError:\n",
    "        print(f'{path} already exists; skipping creation.')"
   ]
  },
  {
   "attachments": {},
   "cell_type": "markdown",
   "id": "66f9edb2",
   "metadata": {},
   "source": [
    "### Using os.path.exists()"
   ]
  },
  {
   "cell_type": "code",
   "execution_count": 5,
   "id": "7f0f378e",
   "metadata": {},
   "outputs": [
    {
     "name": "stdout",
     "output_type": "stream",
     "text": [
      "people\\John already exists; skipping creation.\n",
      "people\\Paul already exists; skipping creation.\n",
      "people\\Ringo already exists; skipping creation.\n"
     ]
    }
   ],
   "source": [
    "for person in ['John', 'Paul', 'Ringo']:\n",
    "    path = os.path.join('people', person)\n",
    "    if os.path.exists(path):\n",
    "        print(f'{path} already exists; skipping creation.')\n",
    "    else:\n",
    "        os.mkdir(path)\n",
    "        print(f'Creating {path}')"
   ]
  },
  {
   "attachments": {},
   "cell_type": "markdown",
   "id": "06ea1aea",
   "metadata": {},
   "source": [
    "## Copying files"
   ]
  },
  {
   "cell_type": "code",
   "execution_count": 27,
   "id": "b6710797-d117-4487-87b3-cb91d9e58b77",
   "metadata": {},
   "outputs": [
    {
     "name": "stdout",
     "output_type": "stream",
     "text": [
      "Copied file to people\\John\n",
      "Copied file to people\\Paul\n",
      "Copied file to people\\Ringo\n"
     ]
    }
   ],
   "source": [
    "for person in ['John', 'Paul', 'Ringo']:\n",
    "    path_to_destination = os.path.join('people', person)\n",
    "    shutil.copy('sp2273_logo.png', path_to_destination)\n",
    "    print(f'Copied file to {path_to_destination}')"
   ]
  },
  {
   "cell_type": "code",
   "execution_count": 28,
   "id": "4587b847-6d21-409a-be48-b1e705efb17f",
   "metadata": {},
   "outputs": [
    {
     "name": "stdout",
     "output_type": "stream",
     "text": [
      "Moved logo to people\\John\\imgs\\sp2273_logo.png\n",
      "Moved logo to people\\Paul\\imgs\\sp2273_logo.png\n",
      "Moved logo to people\\Ringo\\imgs\\sp2273_logo.png\n"
     ]
    }
   ],
   "source": [
    "# I want all the images in a sub-folder called imgs in each person’s directory. \n",
    "# I can do this by first creating the folders imgs and then moving the logo file into that folder.\n",
    "for person in ['John', 'Paul', 'Ringo']:\n",
    "    # Create folder 'imgs'\n",
    "    path_to_imgs = os.path.join('people', person, 'imgs')\n",
    "    if not os.path.exists(path_to_imgs):\n",
    "        os.mkdir(path_to_imgs)\n",
    "\n",
    "    # Move logo file\n",
    "    current_path_of_logo = os.path.join('people', person, 'sp2273_logo.png')\n",
    "    new_path_of_logo = os.path.join('people', person, 'imgs', 'sp2273_logo.png')\n",
    "\n",
    "    shutil.move(current_path_of_logo, new_path_of_logo)\n",
    "    print(f'Moved logo to {new_path_of_logo}')"
   ]
  },
  {
   "attachments": {},
   "cell_type": "markdown",
   "id": "ec0e39fa",
   "metadata": {},
   "source": [
    "# Listing and looking for files (glob)"
   ]
  },
  {
   "cell_type": "code",
   "execution_count": 30,
   "id": "e7573e01-4571-427b-8e65-9420747b3d5b",
   "metadata": {},
   "outputs": [
    {
     "data": {
      "text/plain": [
       "['-p',\n",
       " 'files,_folders_&_os_(need).ipynb',\n",
       " 'my-text-lines.txt',\n",
       " 'my-text-once.txt',\n",
       " 'people',\n",
       " 'sp2273_logo.png',\n",
       " 'spectrum-01.txt']"
      ]
     },
     "execution_count": 30,
     "metadata": {},
     "output_type": "execute_result"
    }
   ],
   "source": [
    "#I use this if I want all the files in the current directory.\n",
    "#The * is called a wildcard and is read as ‘anything’. So, I am asking glob to give me anything in the folder.\n",
    "glob.glob('*')"
   ]
  },
  {
   "cell_type": "code",
   "execution_count": 31,
   "id": "f845d653-dcad-4f01-8401-4c61d8d96438",
   "metadata": {},
   "outputs": [
    {
     "data": {
      "text/plain": [
       "['people']"
      ]
     },
     "execution_count": 31,
     "metadata": {},
     "output_type": "execute_result"
    }
   ],
   "source": [
    "#If I want to refine my search and ask glob to give only those files that match the pattern ‘peo’ followed by ‘anything’.\n",
    "glob.glob('peo*')"
   ]
  },
  {
   "cell_type": "code",
   "execution_count": 32,
   "id": "b2ec5556-f6f7-44f5-8f2d-c2f6d54aeb3b",
   "metadata": {},
   "outputs": [
    {
     "data": {
      "text/plain": [
       "['people\\\\John', 'people\\\\Paul', 'people\\\\Ringo']"
      ]
     },
     "execution_count": 32,
     "metadata": {},
     "output_type": "execute_result"
    }
   ],
   "source": [
    "#If want to know what is inside the folders that start with peo.\n",
    "glob.glob('peo*/*')"
   ]
  },
  {
   "cell_type": "code",
   "execution_count": 33,
   "id": "7d9bf8df-c2de-4afd-ad49-9b776c84d7d8",
   "metadata": {},
   "outputs": [
    {
     "data": {
      "text/plain": [
       "['people\\\\',\n",
       " 'people\\\\John',\n",
       " 'people\\\\John\\\\imgs',\n",
       " 'people\\\\John\\\\imgs\\\\sp2273_logo.png',\n",
       " 'people\\\\Paul',\n",
       " 'people\\\\Paul\\\\imgs',\n",
       " 'people\\\\Paul\\\\imgs\\\\sp2273_logo.png',\n",
       " 'people\\\\Ringo',\n",
       " 'people\\\\Ringo\\\\imgs',\n",
       " 'people\\\\Ringo\\\\imgs\\\\sp2273_logo.png']"
      ]
     },
     "execution_count": 33,
     "metadata": {},
     "output_type": "execute_result"
    }
   ],
   "source": [
    "#If I want to see the whole, detailed structure of the folder people. \n",
    "#For this, I need to tell glob to search recursively (i.e. dig through all sub-file directories) by putting recursive=True.\n",
    "#I must also use two wildcards ** to say all ‘sub-directories’.\n",
    "glob.glob('people/**', recursive=True)"
   ]
  },
  {
   "cell_type": "code",
   "execution_count": 34,
   "id": "1c42e025-b159-41e1-b8da-ba7aa937c4cc",
   "metadata": {},
   "outputs": [
    {
     "data": {
      "text/plain": [
       "['people\\\\John\\\\imgs\\\\sp2273_logo.png',\n",
       " 'people\\\\Paul\\\\imgs\\\\sp2273_logo.png',\n",
       " 'people\\\\Ringo\\\\imgs\\\\sp2273_logo.png']"
      ]
     },
     "execution_count": 34,
     "metadata": {},
     "output_type": "execute_result"
    }
   ],
   "source": [
    "#If I want only the .png files. I am asking glob to go through the whole structure of people and show me those files with the pattern ‘anything’.png.\n",
    "glob.glob('people/**/*.png', recursive=True)"
   ]
  },
  {
   "attachments": {},
   "cell_type": "markdown",
   "id": "8e7b3122",
   "metadata": {},
   "source": [
    "# Extracting file info"
   ]
  },
  {
   "cell_type": "code",
   "execution_count": 36,
   "id": "d7a168db-7492-4216-bce4-bdc9c18639a3",
   "metadata": {},
   "outputs": [
    {
     "name": "stdout",
     "output_type": "stream",
     "text": [
      "people/Ringo/imgs/sp2273_logo.png png\n"
     ]
    }
   ],
   "source": [
    "#When dealing with files and folders, you often have to extract the filename, folder or extension. \n",
    "#You can do this by simple string manipulation; for example if I want the filename and extension:\n",
    "path = 'people/Ringo/imgs/sp2273_logo.png'\n",
    "filename = path.split(os.path.sep)[-1]\n",
    "extension = filename.split('.')[-1]\n",
    "print(filename, extension)"
   ]
  },
  {
   "cell_type": "markdown",
   "id": "5070ba4c-9f8c-4f07-9c29-f94be4a985b9",
   "metadata": {},
   "source": [
    "``os.path.sep`` is the path separator (i.e. ``\\`` or ``/``) for the OS. I split the path where the separator occurred and picked the last element in the list. I use a similar strategy for the file extension.\n",
    "\n",
    "However, if you like, ``os`` provides some simple functions for these tasks."
   ]
  },
  {
   "cell_type": "code",
   "execution_count": 38,
   "id": "da9fcf8f-1e7e-4a0c-b2e3-6524aa533ae4",
   "metadata": {},
   "outputs": [],
   "source": [
    "path = 'people/Ringo/imgs/sp2273_logo.png'"
   ]
  },
  {
   "cell_type": "code",
   "execution_count": 39,
   "id": "6b9edbf6-f08f-4e24-a2cf-beb6c44cb901",
   "metadata": {},
   "outputs": [
    {
     "data": {
      "text/plain": [
       "('people/Ringo/imgs', 'sp2273_logo.png')"
      ]
     },
     "execution_count": 39,
     "metadata": {},
     "output_type": "execute_result"
    }
   ],
   "source": [
    "os.path.split(path)      # Split filename from the rest"
   ]
  },
  {
   "cell_type": "code",
   "execution_count": 40,
   "id": "750dbe79-fcae-4cfc-91cd-cb19c58e3596",
   "metadata": {},
   "outputs": [
    {
     "data": {
      "text/plain": [
       "('people/Ringo/imgs/sp2273_logo', '.png')"
      ]
     },
     "execution_count": 40,
     "metadata": {},
     "output_type": "execute_result"
    }
   ],
   "source": [
    "os.path.splitext(path)   # Split extension"
   ]
  },
  {
   "cell_type": "code",
   "execution_count": 41,
   "id": "b133894d-13b2-4b0b-a768-6decacc816af",
   "metadata": {},
   "outputs": [
    {
     "data": {
      "text/plain": [
       "'people/Ringo/imgs'"
      ]
     },
     "execution_count": 41,
     "metadata": {},
     "output_type": "execute_result"
    }
   ],
   "source": [
    "os.path.dirname(path)    # Show the directory"
   ]
  },
  {
   "attachments": {},
   "cell_type": "markdown",
   "id": "05bdeeed",
   "metadata": {},
   "source": [
    "# Deleting stuff"
   ]
  },
  {
   "cell_type": "code",
   "execution_count": 42,
   "id": "577aff9d-98ac-4ac0-a73a-1f34ddeaee6f",
   "metadata": {},
   "outputs": [],
   "source": [
    "#If you want to remove a file:\n",
    "os.remove('people/Ringo/imgs/sp2273_logo.png')"
   ]
  },
  {
   "cell_type": "code",
   "execution_count": null,
   "id": "c8ea862f-9eca-4cb8-ab63-77bac804078d",
   "metadata": {},
   "outputs": [],
   "source": [
    "#This won’t work with directories. For an empty directory, use:\n",
    "os.rmdir('people/Ringo')"
   ]
  },
  {
   "cell_type": "code",
   "execution_count": 47,
   "id": "5c0da293-7a23-44a8-9f5e-10609f9d8a5d",
   "metadata": {},
   "outputs": [],
   "source": [
    "#For a directory with files, use shutil:\n",
    "shutil.rmtree('people/Ringo')\n",
    "\n",
    "#Be careful when using these functions."
   ]
  }
 ],
 "metadata": {
  "kernelspec": {
   "display_name": "Python 3 (ipykernel)",
   "language": "python",
   "name": "python3"
  },
  "language_info": {
   "codemirror_mode": {
    "name": "ipython",
    "version": 3
   },
   "file_extension": ".py",
   "mimetype": "text/x-python",
   "name": "python",
   "nbconvert_exporter": "python",
   "pygments_lexer": "ipython3",
   "version": "3.11.5"
  },
  "toc": {
   "base_numbering": 1,
   "nav_menu": {},
   "number_sections": true,
   "sideBar": true,
   "skip_h1_title": false,
   "title_cell": "Table of Contents",
   "title_sidebar": "Contents",
   "toc_cell": false,
   "toc_position": {},
   "toc_section_display": true,
   "toc_window_display": false
  },
  "vscode": {
   "interpreter": {
    "hash": "31f2aee4e71d21fbe5cf8b01ff0e069b9275f58929596ceb00d14d90e3e16cd6"
   }
  }
 },
 "nbformat": 4,
 "nbformat_minor": 5
}
