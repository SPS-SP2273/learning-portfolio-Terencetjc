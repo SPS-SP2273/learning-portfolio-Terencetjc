{
 "cells": [
  {
   "attachments": {},
   "cell_type": "markdown",
   "id": "123456",
   "metadata": {},
   "source": [
    "<div style=\"text-align:left;font-size:2em\"><span style=\"font-weight:bolder;font-size:1.25em\">SP2273 | Learning Portfolio</span><br><br><span style=\"font-weight:bold;color:darkred\">Fundamentals (Need) Exercises</span></div>"
   ]
  },
  {
   "cell_type": "markdown",
   "id": "ceba3422-4f07-409f-a1d9-89fdda6f954a",
   "metadata": {
    "jp-MarkdownHeadingCollapsed": true
   },
   "source": [
    "# Exercise 1"
   ]
  },
  {
   "cell_type": "markdown",
   "id": "1f8fb36d-6f92-43e7-ba70-3dc3dd23c2b7",
   "metadata": {
    "jp-MarkdownHeadingCollapsed": true
   },
   "source": [
    "## Things I Remember"
   ]
  },
  {
   "cell_type": "code",
   "execution_count": 3,
   "id": "837fce96-7ac7-4f7b-9b4d-7d39e1a99f70",
   "metadata": {},
   "outputs": [
    {
     "name": "stdout",
     "output_type": "stream",
     "text": [
      "Hello World\n"
     ]
    }
   ],
   "source": [
    "print('Hello World')"
   ]
  },
  {
   "cell_type": "markdown",
   "id": "36caaf25-1f0e-46fa-8c21-739aac711070",
   "metadata": {},
   "source": [
    "*Italic*,**Bold**,***Bold and Italic***, <sub>subscript</sub><sup>superscript</sup>"
   ]
  },
  {
   "cell_type": "markdown",
   "id": "ce33e639-7b93-4f70-a749-76ac96bedf8e",
   "metadata": {},
   "source": [
    "#(space)Largest Heading <br>\n",
    "####(space)Smallest Heading"
   ]
  },
  {
   "cell_type": "markdown",
   "id": "aab99bdb-d2d2-4212-8323-2d2f41e142d8",
   "metadata": {},
   "source": [
    "[Google](https://www.google.com/)"
   ]
  },
  {
   "cell_type": "markdown",
   "id": "4a91142f-8b62-4d35-9f6c-96785905b170",
   "metadata": {},
   "source": [
    "![](https://www.google.com/images/branding/googlelogo/1x/googlelogo_color_272x92dp.png)"
   ]
  },
  {
   "cell_type": "markdown",
   "id": "878b7d3e-9b8e-4fb7-9915-586a731988be",
   "metadata": {},
   "source": [
    "| A    |  B   |    C |\n",
    "| :--- | :--: | ---: |\n",
    "| a1   |  b1  |   c1 |\n",
    "| a2   |  b2  |   c2 |\n",
    "| a3   |  b3  |   c3 |"
   ]
  },
  {
   "cell_type": "markdown",
   "id": "d403de30-1e41-4994-b67f-980ed5fc61d0",
   "metadata": {},
   "source": [
    "1. A\n",
    "2. B\n",
    "\n",
    "- A\n",
    "- B"
   ]
  },
  {
   "cell_type": "code",
   "execution_count": 8,
   "id": "cfb7f8ed-9322-4337-9939-e737f631241e",
   "metadata": {},
   "outputs": [
    {
     "name": "stdout",
     "output_type": "stream",
     "text": [
      "woowoowoowoowoowoowoowoowoowoo\n"
     ]
    }
   ],
   "source": [
    "print('woo'*10)"
   ]
  },
  {
   "cell_type": "code",
   "execution_count": 10,
   "id": "8810c889-aadb-4164-9415-0902d5b039a9",
   "metadata": {},
   "outputs": [
    {
     "name": "stdout",
     "output_type": "stream",
     "text": [
      "19.7 ns ± 0.983 ns per loop (mean ± std. dev. of 7 runs, 100,000,000 loops each)\n"
     ]
    }
   ],
   "source": [
    "%timeit x=10 "
   ]
  },
  {
   "cell_type": "code",
   "execution_count": 17,
   "id": "efc0d897-166b-4000-8a21-ccd2e15fb481",
   "metadata": {},
   "outputs": [
    {
     "data": {
      "text/plain": [
       "True"
      ]
     },
     "execution_count": 17,
     "metadata": {},
     "output_type": "execute_result"
    }
   ],
   "source": [
    "name=\"Apple\"\n",
    "name==\"Apple\""
   ]
  },
  {
   "cell_type": "code",
   "execution_count": 16,
   "id": "b9243c58-8073-4882-bbe9-e77537a6db3b",
   "metadata": {},
   "outputs": [
    {
     "name": "stdout",
     "output_type": "stream",
     "text": [
      "1\n",
      "age\n"
     ]
    }
   ],
   "source": [
    "age=1\n",
    "print(age)\n",
    "print('age')"
   ]
  },
  {
   "cell_type": "code",
   "execution_count": 28,
   "id": "5082f1cf-d36e-4339-9766-b371ef2ac8a8",
   "metadata": {},
   "outputs": [
    {
     "name": "stdout",
     "output_type": "stream",
     "text": [
      "Bat + man\n"
     ]
    }
   ],
   "source": [
    "name= 'batman'\n",
    "if name== 'bat':\n",
    "    print('Yes')\n",
    "elif name== 'batman':\n",
    "    print('Bat + man')\n",
    "else:\n",
    "    print('no')"
   ]
  },
  {
   "cell_type": "code",
   "execution_count": 30,
   "id": "ac944158-d51b-462d-acc8-77885d821573",
   "metadata": {},
   "outputs": [
    {
     "data": {
      "text/plain": [
       "2"
      ]
     },
     "execution_count": 30,
     "metadata": {},
     "output_type": "execute_result"
    }
   ],
   "source": [
    "(1*2)"
   ]
  },
  {
   "cell_type": "code",
   "execution_count": 33,
   "id": "f77461be-d5eb-4de8-8a91-f5b0160d7410",
   "metadata": {},
   "outputs": [
    {
     "data": {
      "text/plain": [
       "2.0"
      ]
     },
     "execution_count": 33,
     "metadata": {},
     "output_type": "execute_result"
    }
   ],
   "source": [
    "import math \n",
    "math.sqrt(4)"
   ]
  },
  {
   "cell_type": "code",
   "execution_count": 32,
   "id": "9fa039cc-b7e6-4837-865a-8cecd4bef9d3",
   "metadata": {},
   "outputs": [
    {
     "name": "stdout",
     "output_type": "stream",
     "text": [
      "[1, 2, 3]\n"
     ]
    }
   ],
   "source": [
    "py_list = [1,2,3] \n",
    "print(py_list)"
   ]
  },
  {
   "cell_type": "code",
   "execution_count": 37,
   "id": "74873ed9-30c6-477d-9337-28e321e5293c",
   "metadata": {},
   "outputs": [
    {
     "data": {
      "text/plain": [
       "['I', 'am', 'Batman']"
      ]
     },
     "execution_count": 37,
     "metadata": {},
     "output_type": "execute_result"
    }
   ],
   "source": [
    "\"I am Batman\".split()"
   ]
  },
  {
   "cell_type": "markdown",
   "id": "87759d03-2989-47f4-b691-9585b2e2feb4",
   "metadata": {
    "jp-MarkdownHeadingCollapsed": true
   },
   "source": [
    "## Things I forgot"
   ]
  },
  {
   "cell_type": "markdown",
   "id": "e0562d81-db00-49b7-8209-faef4ed5b55d",
   "metadata": {},
   "source": [
    "*`$$\n",
    "x = \\dfrac{-b \\pm \\sqrt{b^2-4ac}}{2a}\n",
    "$$*"
   ]
  },
  {
   "cell_type": "markdown",
   "id": "7c219b9f-e3b0-41a8-bcd0-6340374dec67",
   "metadata": {
    "jp-MarkdownHeadingCollapsed": true
   },
   "source": [
    "# Exercise 2"
   ]
  },
  {
   "cell_type": "code",
   "execution_count": 51,
   "id": "6520ac4f-609c-461d-aa17-25655e2378c0",
   "metadata": {},
   "outputs": [
    {
     "name": "stdout",
     "output_type": "stream",
     "text": [
      "3 4 5.0\n"
     ]
    }
   ],
   "source": [
    "import math\n",
    "x, y = 3, 4\n",
    "z = math.sqrt(x**2 + y**2)\n",
    "print(x, y, z)"
   ]
  },
  {
   "cell_type": "markdown",
   "id": "8f6b61c9-1d98-4b44-a47b-3304a22eaae5",
   "metadata": {},
   "source": [
    "# Exercise 3"
   ]
  },
  {
   "cell_type": "markdown",
   "id": "8d36edb2-08e6-4abb-bff6-9a002620a582",
   "metadata": {},
   "source": [
    "|  # | Term          | Description                               |\r\n",
    "|---|---------------|--------------------------------------------|\r\n",
    "|  1 | Function      | A set of instructions for a specific job. |\r\n",
    "|  2 | Arguments     | Values that help a function do its job.   |\r\n",
    "|  3 | Comments      | Notes for humans, ignored by the computer.|\r\n",
    "|  4 | Indentations  | Spaces that organize code neatly.         |\r\n",
    "|  5 | Packages      | Bunches of tools for coding convenience.  |\r\n",
    "|  6 | .             | Dot for accessing tools in a toolbox.     |\r\n",
    "|  7 | :             | Colon marks the start of a task.          |\r\n",
    "|  8 | []            | Brackets for holding a list of things.    |\r\n",
    "|  9 | [[[]]]        | Nested brackets for lists inside lists.   |\r\n",
    "| 10 | {}            | Braces for dictionaries or unique items.  |\r\n"
   ]
  },
  {
   "cell_type": "markdown",
   "id": "7d709659-f937-4133-8bcb-561cb8e5c287",
   "metadata": {},
   "source": [
    "# Exercise 4"
   ]
  },
  {
   "cell_type": "code",
   "execution_count": 57,
   "id": "de3e2136-116d-44dd-a4fc-12e7d01f916c",
   "metadata": {},
   "outputs": [
    {
     "data": {
      "text/plain": [
       "2.5"
      ]
     },
     "execution_count": 57,
     "metadata": {},
     "output_type": "execute_result"
    }
   ],
   "source": [
    "5/2\n",
    "#Standard Divison uses / to do so. Result will be as a floating-point number"
   ]
  },
  {
   "cell_type": "code",
   "execution_count": 58,
   "id": "54d69b7b-b8c4-4cf2-8542-1995880c37e6",
   "metadata": {},
   "outputs": [
    {
     "data": {
      "text/plain": [
       "2"
      ]
     },
     "execution_count": 58,
     "metadata": {},
     "output_type": "execute_result"
    }
   ],
   "source": [
    "5//2\n",
    "#Floor division uses // to do so. Result will be rounded to nearest integer. In this case .5 is rounded down. "
   ]
  },
  {
   "cell_type": "code",
   "execution_count": 59,
   "id": "6fc5ae5f-7b7f-4337-ab3e-864bf6725edf",
   "metadata": {},
   "outputs": [
    {
     "data": {
      "text/plain": [
       "1"
      ]
     },
     "execution_count": 59,
     "metadata": {},
     "output_type": "execute_result"
    }
   ],
   "source": [
    "5%2\n",
    "#Modulus Operator use % to do so. Result is the remainder when 5 is divided by 2 which is 1."
   ]
  }
 ],
 "metadata": {
  "kernelspec": {
   "display_name": "Python 3 (ipykernel)",
   "language": "python",
   "name": "python3"
  },
  "language_info": {
   "codemirror_mode": {
    "name": "ipython",
    "version": 3
   },
   "file_extension": ".py",
   "mimetype": "text/x-python",
   "name": "python",
   "nbconvert_exporter": "python",
   "pygments_lexer": "ipython3",
   "version": "3.11.5"
  },
  "toc": {
   "base_numbering": 1,
   "nav_menu": {},
   "number_sections": true,
   "sideBar": true,
   "skip_h1_title": false,
   "title_cell": "Table of Contents",
   "title_sidebar": "Contents",
   "toc_cell": false,
   "toc_position": {},
   "toc_section_display": true,
   "toc_window_display": false
  },
  "vscode": {
   "interpreter": {
    "hash": "31f2aee4e71d21fbe5cf8b01ff0e069b9275f58929596ceb00d14d90e3e16cd6"
   }
  }
 },
 "nbformat": 4,
 "nbformat_minor": 5
}
