{
 "cells": [
  {
   "attachments": {},
   "cell_type": "markdown",
   "id": "123456",
   "metadata": {},
   "source": [
    "<div style=\"text-align:left;font-size:2em\"><span style=\"font-weight:bolder;font-size:1.25em\">SP2273 | Learning Portfolio</span><br><br><span style=\"font-weight:bold;color:darkred\">Fundamentals (Good) Exercises</span></div>"
   ]
  },
  {
   "cell_type": "markdown",
   "id": "4a38d2df-ff07-4ba2-a108-8742369419ff",
   "metadata": {},
   "source": [
    "# Exercise 1 (What is your grade?)"
   ]
  },
  {
   "cell_type": "code",
   "execution_count": 2,
   "id": "1b5b27b5-56c4-482b-b955-4f8496f4e5d1",
   "metadata": {},
   "outputs": [
    {
     "name": "stdin",
     "output_type": "stream",
     "text": [
      "Give me a number? 20\n"
     ]
    },
    {
     "name": "stdout",
     "output_type": "stream",
     "text": [
      "You entered 20\n"
     ]
    }
   ],
   "source": [
    "#Python allows to solicit information from user using input() function.\n",
    "user_input = input('Give me a number?')\n",
    "print('You entered', user_input)"
   ]
  },
  {
   "cell_type": "code",
   "execution_count": 9,
   "id": "572c02ee-5f7f-4a89-8a6b-dc23cb846889",
   "metadata": {},
   "outputs": [
    {
     "name": "stdin",
     "output_type": "stream",
     "text": [
      "Enter the student's score:  70\n"
     ]
    },
    {
     "name": "stdout",
     "output_type": "stream",
     "text": [
      "The student's letter grade is: A\n"
     ]
    }
   ],
   "source": [
    "#Suitable for cases where the functions are more complex and need to be defined before input is processed.\n",
    "# Define a function to calculate the letter grade based on the score\n",
    "def calculate_letter_grade(score):\n",
    "    # Check if the score is between 70 and 100 (inclusive)\n",
    "    if score >= 70:\n",
    "        return 'A'  # Return 'A' if the condition is met\n",
    "    # Check if the score is between 50 and 69 (inclusive)\n",
    "    elif score >= 50:\n",
    "        return 'B'  # Return 'B' if the condition is met\n",
    "    # Check if the score is between 35 and 49 (inclusive)\n",
    "    elif score >= 35:\n",
    "        return 'C'  # Return 'C' if the condition is met\n",
    "    # Check if the score is between 0 and 34 (inclusive)\n",
    "    elif score >= 0:\n",
    "        return 'Fail'  # Return 'Fail' if the condition is met\n",
    "    else:\n",
    "        return 'Invalid input'  # Return 'Invalid input' if the score is invalid\n",
    "#Conditions are simplified since python runs sequentially \n",
    "\n",
    "# Define the main function to handle user input and display the letter grade\n",
    "def main():\n",
    "    try: #try is used to raise exceptions when error occurs and look for except block instead of crashing code.\n",
    "        # Prompt the user to enter the student's score\n",
    "        score = float(input(\"Enter the student's score: \"))\n",
    "        # Check if the score is within the valid range (0 to 100)\n",
    "        if 0 <= score <= 100:\n",
    "            # Calculate the letter grade based on the score\n",
    "            letter_grade = calculate_letter_grade(score)\n",
    "            # Display the calculated letter grade\n",
    "            print(f\"The student's letter grade is: {letter_grade}\")\n",
    "        else:\n",
    "            # Display an error message if the score is outside the valid range\n",
    "            print(\"Score must be between 0 and 100\")\n",
    "    except ValueError:\n",
    "        # Display an error message if the input is not a numerical value\n",
    "        print(\"Invalid input. Please enter a numerical value.\")\n",
    "\n",
    "# Call the main function\n",
    "main()"
   ]
  },
  {
   "cell_type": "code",
   "execution_count": 12,
   "id": "4cad4327-ba25-47a6-854a-c66e18384805",
   "metadata": {},
   "outputs": [
    {
     "name": "stdin",
     "output_type": "stream",
     "text": [
      "Enter the student's numerical grade (0-100):  70\n"
     ]
    },
    {
     "name": "stdout",
     "output_type": "stream",
     "text": [
      "The student's letter grade is: A\n"
     ]
    }
   ],
   "source": [
    "def get_numeric_grade(): #Another way to do it in which input is first. For straightforward input processing.\n",
    "    #while True:          #Can add while true here to repeatedly prompt the user for valid input but i don't like it cause it feels like the code pestering me.\n",
    "        try:\n",
    "            # Prompt the user to enter a numerical grade\n",
    "            user_input = input(\"Enter the student's numerical grade (0-100): \")\n",
    "\n",
    "            # Convert the input to a float\n",
    "            numeric_grade = float(user_input)\n",
    "\n",
    "            # Check if the grade is within the valid range\n",
    "            if 0 <= numeric_grade <= 100:\n",
    "                return numeric_grade\n",
    "            else:\n",
    "                print(\"Error: Please enter a numerical grade between 0 and 100.\")\n",
    "        except ValueError:\n",
    "            print(\"Error: Please enter a valid numerical grade.\")\n",
    "\n",
    "def get_letter_grade(numeric_grade):\n",
    "    if numeric_grade >= 70:\n",
    "        return 'A'\n",
    "    elif numeric_grade >= 50:\n",
    "        return 'B'\n",
    "    elif numeric_grade >= 35:\n",
    "        return 'C'\n",
    "    else:\n",
    "        return 'Fail'\n",
    "\n",
    "def main():\n",
    "    numeric_grade = get_numeric_grade()\n",
    "    letter_grade = get_letter_grade(numeric_grade)\n",
    "    print(f\"The student's letter grade is: {letter_grade}\")\n",
    "\n",
    "if __name__ == \"__main__\":\n",
    "    main()"
   ]
  },
  {
   "cell_type": "markdown",
   "id": "768f796a-d525-4289-ae23-e997ec3b9494",
   "metadata": {},
   "source": [
    "Input Last:\n",
    "\n",
    "In the first version, all functions are defined before asking for input. This approach separates the logic of input processing, grade calculation, and output presentation.\n",
    "The user is prompted for input only after all necessary functions have been defined. This follows a more traditional programming approach where the main execution starts after all dependencies are in place.\n",
    "The main advantage of this approach is better code organization, especially for larger programs where breaking down functionality into smaller functions improves readability and maintainability.\n",
    "\n",
    "Input First:\n",
    "\n",
    "In the second version, the input is obtained at the beginning of the program before defining any functions. This approach starts by immediately engaging the user, prompting them to provide input.\n",
    "The program then proceeds to define functions and perform calculations based on the input obtained earlier.\n",
    "This approach is more interactive and responsive to the user, as it starts by soliciting input and then processes it accordingly.\n",
    "While it may be suitable for smaller scripts or interactive applications, it can be less organized compared to the first approach, especially for larger programs with more complex logic.\n",
    "Both approaches have their advantages and can be chosen based on factors like code readability, modularity, and user interaction requirements."
   ]
  }
 ],
 "metadata": {
  "kernelspec": {
   "display_name": "Python 3 (ipykernel)",
   "language": "python",
   "name": "python3"
  },
  "language_info": {
   "codemirror_mode": {
    "name": "ipython",
    "version": 3
   },
   "file_extension": ".py",
   "mimetype": "text/x-python",
   "name": "python",
   "nbconvert_exporter": "python",
   "pygments_lexer": "ipython3",
   "version": "3.11.5"
  },
  "toc": {
   "base_numbering": 1,
   "nav_menu": {},
   "number_sections": true,
   "sideBar": true,
   "skip_h1_title": false,
   "title_cell": "Table of Contents",
   "title_sidebar": "Contents",
   "toc_cell": false,
   "toc_position": {},
   "toc_section_display": true,
   "toc_window_display": false
  },
  "vscode": {
   "interpreter": {
    "hash": "31f2aee4e71d21fbe5cf8b01ff0e069b9275f58929596ceb00d14d90e3e16cd6"
   }
  }
 },
 "nbformat": 4,
 "nbformat_minor": 5
}
