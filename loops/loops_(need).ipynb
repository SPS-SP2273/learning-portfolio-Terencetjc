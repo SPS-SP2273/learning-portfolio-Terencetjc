{
 "cells": [
  {
   "attachments": {},
   "cell_type": "markdown",
   "id": "123456",
   "metadata": {},
   "source": [
    "<div style=\"text-align:left;font-size:2em\"><span style=\"font-weight:bolder;font-size:1.25em\">SP2273 | Learning Portfolio</span><br><br><span style=\"font-weight:bold;color:darkred\">Loops (Need)</span></div>"
   ]
  },
  {
   "cell_type": "markdown",
   "id": "e5b1e23e-942d-4796-bf0d-8510d37b4879",
   "metadata": {},
   "source": [
    "Loops or iterations help repeat things in Python.\n",
    "\n",
    "Python offers two mechanisms for looping. One is the ``for`` statement, and the other is the ``while`` statement. "
   ]
  },
  {
   "attachments": {},
   "cell_type": "markdown",
   "id": "3401edc2",
   "metadata": {},
   "source": [
    "# The ``for`` iterator"
   ]
  },
  {
   "cell_type": "markdown",
   "id": "6230215e-dfe4-4290-b6cb-0f7757d575d8",
   "metadata": {},
   "source": [
    "Eg. if want to print a message corresponding to every superhero in the following list,"
   ]
  },
  {
   "cell_type": "code",
   "execution_count": 34,
   "id": "6a455fa7-f0b1-4c9d-bc3a-2d7de5acf362",
   "metadata": {},
   "outputs": [],
   "source": [
    "real_names = [\"Natasha Romanoff\", \"Tony Stark\", \"Stephen Strange\"]\n",
    "name=real_names[0] #Assigns the first element of the list real_names to the variable name"
   ]
  },
  {
   "cell_type": "code",
   "execution_count": 13,
   "id": "8b9154fe-f663-4ca2-ac76-09f7295e18b5",
   "metadata": {},
   "outputs": [
    {
     "name": "stdout",
     "output_type": "stream",
     "text": [
      "Natasha Romanoff is a Marvel superhero!\n",
      "Tony Stark is a Marvel superhero!\n",
      "Stephen Strange is a Marvel superhero!\n"
     ]
    }
   ],
   "source": [
    "print(f\"{name} is a Marvel superhero!\")\n",
    "\n",
    "name=real_names[1]\n",
    "print(f\"{name} is a Marvel superhero!\")\n",
    "\n",
    "name=real_names[2]\n",
    "print(f\"{name} is a Marvel superhero!\")\n"
   ]
  },
  {
   "cell_type": "markdown",
   "id": "2167cb68-2aa9-4920-8cf9-6995b8e0e760",
   "metadata": {},
   "source": [
    "Poor way of doing it as: <br>\n",
    "1. It does not scale very well (imagine if you have a 100 names!),\n",
    "2. It is cumbersome to make changes, you have to do it three times. \n",
    "3. It is highly error prone, since you need to type something new (even if you are copying and pasting most of it). <br>\n",
    "\n",
    "Therefore, use loop."
   ]
  },
  {
   "attachments": {},
   "cell_type": "markdown",
   "id": "fe52474d",
   "metadata": {},
   "source": [
    "## ``for`` with a list"
   ]
  },
  {
   "cell_type": "code",
   "execution_count": 19,
   "id": "4aa0ae99-64e1-4ae0-8cca-5937822cff8f",
   "metadata": {},
   "outputs": [
    {
     "name": "stdout",
     "output_type": "stream",
     "text": [
      "Natasha Romanoff is a Marvel superhero!\n",
      "Tony Stark is a Marvel superhero!\n",
      "Stephen Strange is a Marvel superhero!\n"
     ]
    }
   ],
   "source": [
    "for name in real_names: #loop for name in real_names:, the variable name is reassigned/redefined to each element of real_names.\n",
    "    print(f\"{name} is a Marvel superhero!\") "
   ]
  },
  {
   "cell_type": "markdown",
   "id": "9fefb9cd-748a-4885-989c-a5f279bae614",
   "metadata": {},
   "source": [
    "Notice the structure for loop:\n",
    "1. It goes through the list and assigns name to the value of each element of the list.\n",
    "2. It then runs the code-block using this value of name.\n",
    "3. The code block is defined by using : and tabs like with if. <br>\n",
    "\n",
    "Note: for can be used to directly loop through a list."
   ]
  },
  {
   "cell_type": "code",
   "execution_count": 5,
   "id": "3ec296d6-5900-470d-b2f6-48408230afba",
   "metadata": {},
   "outputs": [
    {
     "name": "stdout",
     "output_type": "stream",
     "text": [
      "Natasha Romanoff is a Marvel superhero!\n",
      "Tony Stark is a Marvel superhero!\n",
      "Stephen Strange is a Marvel superhero!\n"
     ]
    }
   ],
   "source": [
    "for x in real_names:\n",
    "    print(f\"{x} is a Marvel superhero!\") #can use also but x is cryptic as not clear on what it represents."
   ]
  },
  {
   "attachments": {},
   "cell_type": "markdown",
   "id": "0309aae5",
   "metadata": {},
   "source": [
    "## ``for`` with ``enumerate``"
   ]
  },
  {
   "cell_type": "markdown",
   "id": "2f0db287-1934-4dd8-a055-320abd4f0632",
   "metadata": {},
   "source": [
    "If want to use the information in both of the following lists,"
   ]
  },
  {
   "cell_type": "code",
   "execution_count": 3,
   "id": "ddebbd63-9bcd-4a44-8c33-6da2f541858f",
   "metadata": {},
   "outputs": [],
   "source": [
    "super_names = [\"Black Widow\", \"Iron Man\", \"Doctor Strange\"]\n",
    "real_names = [\"Natasha Romanoff\", \"Tony Stark\", \"Stephen Strange\"]"
   ]
  },
  {
   "cell_type": "markdown",
   "id": "aaa16338-1913-45a9-8f33-7c601d8c53d7",
   "metadata": {},
   "source": [
    "Since the for loop only accepts one list, we need to do something else to access the data in both lists such as enumerate. "
   ]
  },
  {
   "cell_type": "code",
   "execution_count": 25,
   "id": "e5ef8990-1a5a-4a28-84c6-c5d53ba63af7",
   "metadata": {},
   "outputs": [
    {
     "name": "stdout",
     "output_type": "stream",
     "text": [
      "0: Natasha Romanoff is a Marvel superhero!\n",
      "1: Tony Stark is a Marvel superhero!\n",
      "2: Stephen Strange is a Marvel superhero!\n"
     ]
    }
   ],
   "source": [
    "for count, name in enumerate(real_names):                   #enumerate() function helps us loop through each item in a list\n",
    "    print(f'{count}: {name} is a Marvel superhero!')        #count represents the index of the current item, and name represents the actual item itself."
   ]
  },
  {
   "cell_type": "markdown",
   "id": "afe41890-7a76-408d-a263-f516b3e06d8a",
   "metadata": {},
   "source": [
    "enumerate() helps keep count, in above code, it not only gives the elements of the list, it also gives you a number (that is stored in count).\r\n",
    "\r\n",
    "Other than counting, we can use the count given by enumerate() to index the other list!"
   ]
  },
  {
   "cell_type": "code",
   "execution_count": 28,
   "id": "3b3d20ed-69a9-4f87-82f8-f547c6d05a85",
   "metadata": {},
   "outputs": [
    {
     "name": "stdout",
     "output_type": "stream",
     "text": [
      "Natasha Romanoff is Black Widow!\n",
      "Tony Stark is Iron Man!\n",
      "Stephen Strange is Doctor Strange!\n"
     ]
    }
   ],
   "source": [
    "for index, name in enumerate(real_names): #enumerate() function to loop through each item in the real_names list along with its index.\n",
    "    superhero_name = super_names[index] \n",
    "    print(f'{name} is {superhero_name}!') #In the loop, we match each real name with its superhero name by using the index obtained from enumerate()"
   ]
  },
  {
   "cell_type": "markdown",
   "id": "c3cc18a4-99ea-421b-9169-16d4c30d98be",
   "metadata": {},
   "source": [
    "Things to note:\r\n",
    "1. Notice how I changed the variable name used with enumerate() to (count and index) to match their logical use. This makes it easy to immediately see what you are doing (i.e., the intention) with the code. Python does not really care about this, but remember that we write programmes for humans!\r\n",
    "\r\n",
    "2. Although by default, enumerate() starts counting from 0, we can easily change it to start at another value, say 100.\r\n",
    "\r\n",
    "Note: For can be combined with enumerate() to count while looping through a list.\r\n"
   ]
  },
  {
   "cell_type": "code",
   "execution_count": 30,
   "id": "defc8a0b-7553-446a-be52-b6074ca836b1",
   "metadata": {},
   "outputs": [
    {
     "name": "stdout",
     "output_type": "stream",
     "text": [
      "100: Natasha Romanoff is a Marvel superhero!\n",
      "101: Tony Stark is a Marvel superhero!\n",
      "102: Stephen Strange is a Marvel superhero!\n"
     ]
    }
   ],
   "source": [
    "for count, name in enumerate(real_names, 100): #starts counting the index from 100 instead of the default starting value of 0.\n",
    "    print(f'{count}: {name} is a Marvel superhero!')"
   ]
  },
  {
   "attachments": {},
   "cell_type": "markdown",
   "id": "290cab26",
   "metadata": {},
   "source": [
    "## ``for`` with range"
   ]
  },
  {
   "cell_type": "markdown",
   "id": "e3e4fbd3-6cbc-4485-8e45-909d9caa7f6c",
   "metadata": {},
   "source": [
    "Another way to achieve same result is via range().\r\n",
    "\r\n",
    "Note:\r\n",
    "- Functions like range() and enumerate() only work with looping structures.\r\n",
    "- range() always ends one short of the ending number.\r\n"
   ]
  },
  {
   "cell_type": "code",
   "execution_count": 17,
   "id": "6c661ee3-54a9-47e5-a4bb-2e6d94e1670e",
   "metadata": {},
   "outputs": [
    {
     "name": "stdout",
     "output_type": "stream",
     "text": [
      "0\n",
      "1\n",
      "2\n",
      "3\n",
      "4\n"
     ]
    }
   ],
   "source": [
    "for i in range(5): #can use range() to get the for loop\n",
    "    print(i)"
   ]
  },
  {
   "cell_type": "code",
   "execution_count": 20,
   "id": "96bc7e1f-3854-4652-9f55-816b8603e9fc",
   "metadata": {},
   "outputs": [
    {
     "name": "stdout",
     "output_type": "stream",
     "text": [
      "5\n",
      "6\n",
      "7\n",
      "8\n",
      "9\n"
     ]
    }
   ],
   "source": [
    "for i in range(5, 10): #Can tailor the starting and ending values\n",
    "    print(i)"
   ]
  },
  {
   "cell_type": "code",
   "execution_count": 31,
   "id": "9aa3e7a3-d1e4-42f9-b54b-7bf313bb2403",
   "metadata": {},
   "outputs": [
    {
     "name": "stdout",
     "output_type": "stream",
     "text": [
      "1\n",
      "4\n",
      "7\n"
     ]
    }
   ],
   "source": [
    "for i in range(1, 10, 3): #third parameter adjust step size\n",
    "    print(i) #output numbers starting from 1 and increasing by 3 until it reaches or exceeds 10."
   ]
  },
  {
   "cell_type": "code",
   "execution_count": 6,
   "id": "c15bddaf-54bf-4390-9fd8-1665a281bea0",
   "metadata": {},
   "outputs": [
    {
     "name": "stdout",
     "output_type": "stream",
     "text": [
      "Natasha Romanoff is Marvel's Black Widow!\n",
      "Tony Stark is Marvel's Iron Man!\n",
      "Stephen Strange is Marvel's Doctor Strange!\n"
     ]
    }
   ],
   "source": [
    "for i in range(len(real_names)): #len measure the length which is used as upper bound in range. Can don't use len if SURE that both lists same length.\n",
    "    real_name = real_names[i] #For each index i, it retrieves the corresponding real name and superhero name\n",
    "    super_name = super_names[i]   \n",
    "    print(f\"{real_name} is Marvel's {super_name}!\") #Can use this code to get same output as when use for."
   ]
  },
  {
   "cell_type": "code",
   "execution_count": 10,
   "id": "50b826ca-c22e-48c7-a5e0-041d5d16c371",
   "metadata": {},
   "outputs": [
    {
     "name": "stdout",
     "output_type": "stream",
     "text": [
      "Natasha Romanoff is Marvel's Black Widow!\n",
      "Tony Stark is Marvel's Iron Man!\n",
      "Stephen Strange is Marvel's Doctor Strange!\n"
     ]
    }
   ],
   "source": [
    "for real_name, super_name in zip(real_names, super_names): #like this without len. because both lists are same length \n",
    "    print(f\"{real_name} is Marvel's {super_name}!\")"
   ]
  },
  {
   "cell_type": "code",
   "execution_count": 15,
   "id": "9b92d197-c89c-46e3-8f00-c1ba33cef337",
   "metadata": {},
   "outputs": [
    {
     "name": "stdout",
     "output_type": "stream",
     "text": [
      "Natasha Romanoff is Marvel's Black Widow!\n",
      "Tony Stark is Marvel's Iron Man!\n",
      "Stephen Strange is Marvel's Doctor Strange!\n"
     ]
    },
    {
     "ename": "IndexError",
     "evalue": "list index out of range",
     "output_type": "error",
     "traceback": [
      "\u001b[1;31m---------------------------------------------------------------------------\u001b[0m",
      "\u001b[1;31mIndexError\u001b[0m                                Traceback (most recent call last)",
      "Cell \u001b[1;32mIn[15], line 6\u001b[0m\n\u001b[0;32m      4\u001b[0m \u001b[38;5;28;01mfor\u001b[39;00m i \u001b[38;5;129;01min\u001b[39;00m \u001b[38;5;28mrange\u001b[39m(\u001b[38;5;28mlen\u001b[39m(real_names)):\n\u001b[0;32m      5\u001b[0m     real_name \u001b[38;5;241m=\u001b[39m real_names[i]\n\u001b[1;32m----> 6\u001b[0m     super_name \u001b[38;5;241m=\u001b[39m \u001b[43msuper_names\u001b[49m\u001b[43m[\u001b[49m\u001b[43mi\u001b[49m\u001b[43m]\u001b[49m\n\u001b[0;32m      7\u001b[0m     \u001b[38;5;28mprint\u001b[39m(\u001b[38;5;124mf\u001b[39m\u001b[38;5;124m\"\u001b[39m\u001b[38;5;132;01m{\u001b[39;00mreal_name\u001b[38;5;132;01m}\u001b[39;00m\u001b[38;5;124m is Marvel\u001b[39m\u001b[38;5;124m'\u001b[39m\u001b[38;5;124ms \u001b[39m\u001b[38;5;132;01m{\u001b[39;00msuper_name\u001b[38;5;132;01m}\u001b[39;00m\u001b[38;5;124m!\u001b[39m\u001b[38;5;124m\"\u001b[39m) \u001b[38;5;66;03m# loop will iterate only up to the length of the shorter list\u001b[39;00m\n",
      "\u001b[1;31mIndexError\u001b[0m: list index out of range"
     ]
    }
   ],
   "source": [
    "real_names = [\"Natasha Romanoff\", \"Tony Stark\", \"Stephen Strange\", \"Bruce Banner\", \"Peter Parker\"]\n",
    "super_names = [\"Black Widow\", \"Iron Man\", \"Doctor Strange\"] #if both list have different length, will work partially until error.\n",
    "\n",
    "for i in range(len(real_names)):\n",
    "    real_name = real_names[i]\n",
    "    super_name = super_names[i]\n",
    "    print(f\"{real_name} is Marvel's {super_name}!\") # loop will iterate only up to the length of the shorter list"
   ]
  },
  {
   "cell_type": "code",
   "execution_count": 16,
   "id": "17e4df47-763e-43d2-832c-b1e96b45cad1",
   "metadata": {},
   "outputs": [
    {
     "ename": "TypeError",
     "evalue": "'list' object cannot be interpreted as an integer",
     "output_type": "error",
     "traceback": [
      "\u001b[1;31m---------------------------------------------------------------------------\u001b[0m",
      "\u001b[1;31mTypeError\u001b[0m                                 Traceback (most recent call last)",
      "Cell \u001b[1;32mIn[16], line 4\u001b[0m\n\u001b[0;32m      1\u001b[0m real_names \u001b[38;5;241m=\u001b[39m [\u001b[38;5;124m\"\u001b[39m\u001b[38;5;124mNatasha Romanoff\u001b[39m\u001b[38;5;124m\"\u001b[39m, \u001b[38;5;124m\"\u001b[39m\u001b[38;5;124mTony Stark\u001b[39m\u001b[38;5;124m\"\u001b[39m, \u001b[38;5;124m\"\u001b[39m\u001b[38;5;124mStephen Strange\u001b[39m\u001b[38;5;124m\"\u001b[39m, \u001b[38;5;124m\"\u001b[39m\u001b[38;5;124mBruce Banner\u001b[39m\u001b[38;5;124m\"\u001b[39m, \u001b[38;5;124m\"\u001b[39m\u001b[38;5;124mPeter Parker\u001b[39m\u001b[38;5;124m\"\u001b[39m]\n\u001b[0;32m      2\u001b[0m super_names \u001b[38;5;241m=\u001b[39m [\u001b[38;5;124m\"\u001b[39m\u001b[38;5;124mBlack Widow\u001b[39m\u001b[38;5;124m\"\u001b[39m, \u001b[38;5;124m\"\u001b[39m\u001b[38;5;124mIron Man\u001b[39m\u001b[38;5;124m\"\u001b[39m, \u001b[38;5;124m\"\u001b[39m\u001b[38;5;124mDoctor Strange\u001b[39m\u001b[38;5;124m\"\u001b[39m]\n\u001b[1;32m----> 4\u001b[0m \u001b[38;5;28;01mfor\u001b[39;00m i \u001b[38;5;129;01min\u001b[39;00m \u001b[38;5;28;43mrange\u001b[39;49m\u001b[43m(\u001b[49m\u001b[43mreal_names\u001b[49m\u001b[43m)\u001b[49m:  \u001b[38;5;66;03m# Incorrect usage of range() as expects an integer argument representing the length of sequence, not the sequence itself\u001b[39;00m\n\u001b[0;32m      5\u001b[0m     real_name \u001b[38;5;241m=\u001b[39m real_names[i]\n\u001b[0;32m      6\u001b[0m     super_name \u001b[38;5;241m=\u001b[39m super_names[i]\n",
      "\u001b[1;31mTypeError\u001b[0m: 'list' object cannot be interpreted as an integer"
     ]
    }
   ],
   "source": [
    "real_names = [\"Natasha Romanoff\", \"Tony Stark\", \"Stephen Strange\", \"Bruce Banner\", \"Peter Parker\"]\n",
    "super_names = [\"Black Widow\", \"Iron Man\", \"Doctor Strange\"]\n",
    "\n",
    "for i in range(real_names):  # Incorrect usage of range() as expects an integer argument representing the length of sequence, not the sequence itself\n",
    "    real_name = real_names[i]\n",
    "    super_name = super_names[i]\n",
    "    print(f\"{real_name} is Marvel's {super_name}!\")\n"
   ]
  },
  {
   "cell_type": "markdown",
   "id": "9fccdcae-0c29-4a89-ab78-5636772c0a15",
   "metadata": {},
   "source": [
    "Notice that I have used the len(real_names) to get how many times the loop should run. <br>\n",
    "Note: Remember that for can be run a given number of times using range()."
   ]
  },
  {
   "attachments": {},
   "cell_type": "markdown",
   "id": "3724d9b7",
   "metadata": {},
   "source": [
    "# ``While``"
   ]
  },
  {
   "cell_type": "code",
   "execution_count": 40,
   "id": "a8586496-249c-4784-85df-9ff0f1c10859",
   "metadata": {},
   "outputs": [
    {
     "name": "stdout",
     "output_type": "stream",
     "text": [
      "0\n",
      "1\n",
      "2\n",
      "3\n",
      "4\n"
     ]
    }
   ],
   "source": [
    "number = 0\n",
    "\n",
    "while number < 5: # while loop is set up so that it keeps on running while a condition is True. \n",
    "    print(number)\n",
    "    number += 1"
   ]
  },
  {
   "cell_type": "code",
   "execution_count": 44,
   "id": "45169821-2c64-46df-989c-ae14badd2d26",
   "metadata": {},
   "outputs": [
    {
     "name": "stdout",
     "output_type": "stream",
     "text": [
      "Natasha Romanoff is Marvel's Black Widow!\n",
      "Tony Stark is Marvel's Iron Man!\n",
      "Stephen Strange is Marvel's Doctor Strange!\n"
     ]
    }
   ],
   "source": [
    "#Extra using while for the same output\n",
    "# Lists of real names and superhero names\n",
    "real_names = [\"Natasha Romanoff\", \"Tony Stark\", \"Stephen Strange\"]\n",
    "super_names = [\"Black Widow\", \"Iron Man\", \"Doctor Strange\"]\n",
    "\n",
    "# Initialize an index variable\n",
    "index = 0\n",
    "\n",
    "# Loop until index is less than the length of real_names\n",
    "while index < len(real_names):\n",
    "    # Get the current real name and superhero name\n",
    "    real_name = real_names[index]\n",
    "    super_name = super_names[index]\n",
    "    \n",
    "    # Print the relationship between the real name and superhero name\n",
    "    print(f\"{real_name} is Marvel's {super_name}!\")\n",
    "    \n",
    "    # Increment the index to move to the next name pair\n",
    "    index += 1\n",
    "#for loops are often preferred for iterating over sequences like lists because they are more concise and easier to read making it less error-prone.\n",
    "#while loops provide more flexibility and control allowing customization of iteration logic and termination conditions. But more complex,error-prone.\n",
    "#Most cases involving simple iteration over lists, for loops are generally preferred as more efficient."
   ]
  }
 ],
 "metadata": {
  "kernelspec": {
   "display_name": "Python 3 (ipykernel)",
   "language": "python",
   "name": "python3"
  },
  "language_info": {
   "codemirror_mode": {
    "name": "ipython",
    "version": 3
   },
   "file_extension": ".py",
   "mimetype": "text/x-python",
   "name": "python",
   "nbconvert_exporter": "python",
   "pygments_lexer": "ipython3",
   "version": "3.11.5"
  },
  "toc": {
   "base_numbering": 1,
   "nav_menu": {},
   "number_sections": true,
   "sideBar": true,
   "skip_h1_title": false,
   "title_cell": "Table of Contents",
   "title_sidebar": "Contents",
   "toc_cell": false,
   "toc_position": {},
   "toc_section_display": true,
   "toc_window_display": false
  },
  "vscode": {
   "interpreter": {
    "hash": "31f2aee4e71d21fbe5cf8b01ff0e069b9275f58929596ceb00d14d90e3e16cd6"
   }
  }
 },
 "nbformat": 4,
 "nbformat_minor": 5
}
