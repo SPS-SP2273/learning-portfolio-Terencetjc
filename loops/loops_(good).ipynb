{
 "cells": [
  {
   "attachments": {},
   "cell_type": "markdown",
   "id": "123456",
   "metadata": {},
   "source": [
    "<div style=\"text-align:left;font-size:2em\"><span style=\"font-weight:bolder;font-size:1.25em\">SP2273 | Learning Portfolio</span><br><br><span style=\"font-weight:bold;color:darkred\">Loops (Good)</span></div>"
   ]
  },
  {
   "cell_type": "markdown",
   "id": "3047e1ba-c53f-4010-b37c-c4bdf5ece333",
   "metadata": {},
   "source": [
    "Control loops using the ``continue`` and ``break`` statements. Also learn list comprehension, create list from other lists."
   ]
  },
  {
   "attachments": {},
   "cell_type": "markdown",
   "id": "d4118d27",
   "metadata": {
    "jp-MarkdownHeadingCollapsed": true
   },
   "source": [
    "# Interrupting the flow"
   ]
  },
  {
   "cell_type": "code",
   "execution_count": 3,
   "id": "f32681ab-1a44-4fa6-990c-73b30c35cc84",
   "metadata": {},
   "outputs": [
    {
     "name": "stdout",
     "output_type": "stream",
     "text": [
      "0 1\n",
      "1 10\n",
      "2 100\n",
      "3 1000\n"
     ]
    }
   ],
   "source": [
    "for power in range(5):\n",
    "    number = 10**power\n",
    "    if number > 5000: #typically use it with if or while so that we break out if a certain condition is met.\n",
    "        break #break-out of the loop and terminate it.\n",
    "    print(power, number)"
   ]
  },
  {
   "cell_type": "code",
   "execution_count": 6,
   "id": "3e9b7277-f41e-4a7a-a9a0-bf45318ecc38",
   "metadata": {},
   "outputs": [
    {
     "name": "stdout",
     "output_type": "stream",
     "text": [
      "0 1\n",
      "1 10\n",
      "2 100\n",
      "4 10000\n"
     ]
    }
   ],
   "source": [
    "for power in range(5):\n",
    "    if power == 3: #continue allows us to do this by skipping everything after it.\n",
    "        continue   #continue skips 3, but continue until end.\n",
    "    number = 10**power\n",
    "    print(power, number)"
   ]
  },
  {
   "cell_type": "code",
   "execution_count": 7,
   "id": "452fe434-fcbf-4803-b27c-9c90c3f37b48",
   "metadata": {},
   "outputs": [
    {
     "name": "stdout",
     "output_type": "stream",
     "text": [
      "1\n",
      "3\n",
      "5\n",
      "7\n",
      "9\n"
     ]
    }
   ],
   "source": [
    "for number in range(10):\n",
    "    # Don't proceed if the remainder is zero\n",
    "    # I.e. if the number is even\n",
    "    if number % 2 == 0:\n",
    "        continue\n",
    "    print(number)"
   ]
  },
  {
   "cell_type": "code",
   "execution_count": 9,
   "id": "7951c97f-5578-4f42-a5d2-eb6296d5284e",
   "metadata": {},
   "outputs": [
    {
     "name": "stdout",
     "output_type": "stream",
     "text": [
      "0\n",
      "1\n",
      "2\n",
      "3\n",
      "4\n"
     ]
    }
   ],
   "source": [
    "number=0\n",
    "\n",
    "while True:\n",
    "    print(number)\n",
    "    number += 1 #always true to will run forever\n",
    "    if number > 4: break"
   ]
  },
  {
   "attachments": {},
   "cell_type": "markdown",
   "id": "5c8b944b",
   "metadata": {
    "jp-MarkdownHeadingCollapsed": true
   },
   "source": [
    "# List comprehension!"
   ]
  },
  {
   "attachments": {},
   "cell_type": "markdown",
   "id": "b7b90166",
   "metadata": {},
   "source": [
    "## Basic syntax"
   ]
  },
  {
   "cell_type": "code",
   "execution_count": 10,
   "id": "a5ea76d0-edee-4b0a-9bc1-b38134c9126f",
   "metadata": {},
   "outputs": [
    {
     "data": {
      "text/plain": [
       "[0, 1, 2, 3, 4]"
      ]
     },
     "execution_count": 10,
     "metadata": {},
     "output_type": "execute_result"
    }
   ],
   "source": [
    "[number for number in range(5)]"
   ]
  },
  {
   "cell_type": "code",
   "execution_count": 15,
   "id": "746105a2-a76f-40a6-b006-855624cbc666",
   "metadata": {},
   "outputs": [
    {
     "data": {
      "text/plain": [
       "[0, 1, 4, 9, 16]"
      ]
     },
     "execution_count": 15,
     "metadata": {},
     "output_type": "execute_result"
    }
   ],
   "source": [
    "[number**2 for number in range(5)] #for iterates over each value in the range from 0 to 4 (inclusive), assigning each value to the variable number.\n",
    "#Create list of squares."
   ]
  },
  {
   "attachments": {},
   "cell_type": "markdown",
   "id": "029c0364",
   "metadata": {},
   "source": [
    "## List comprehension with conditions"
   ]
  },
  {
   "cell_type": "code",
   "execution_count": 14,
   "id": "4dd55b33-cd62-48e5-ac03-68be35aacb9a",
   "metadata": {},
   "outputs": [
    {
     "data": {
      "text/plain": [
       "[0, 2, 4, 6, 8]"
      ]
     },
     "execution_count": 14,
     "metadata": {},
     "output_type": "execute_result"
    }
   ],
   "source": [
    "[number for number in range(10) if number % 2 ==0] #List comprehension allows specify conditions."
   ]
  },
  {
   "cell_type": "markdown",
   "id": "e750ef4d-ecc2-4a9f-8b9a-061257ced4a2",
   "metadata": {
    "jp-MarkdownHeadingCollapsed": true
   },
   "source": [
    "## Extra stuff for can do (other than numbers)"
   ]
  },
  {
   "cell_type": "code",
   "execution_count": 17,
   "id": "063f259f-83ca-4c02-80b1-b278beeaf839",
   "metadata": {},
   "outputs": [
    {
     "name": "stdout",
     "output_type": "stream",
     "text": [
      "Alice\n",
      "Bob\n",
      "Charlie\n"
     ]
    }
   ],
   "source": [
    "names = [\"Alice\", \"Bob\", \"Charlie\"] #iterate over a list of strings\n",
    "for name in names:\n",
    "    print(name)"
   ]
  },
  {
   "cell_type": "code",
   "execution_count": 19,
   "id": "1eb4807b-63e4-4a83-9f21-de5f1803c098",
   "metadata": {},
   "outputs": [
    {
     "name": "stdout",
     "output_type": "stream",
     "text": [
      "P\n",
      "y\n",
      "t\n",
      "h\n",
      "o\n",
      "n\n"
     ]
    }
   ],
   "source": [
    "word = \"Python\" #over the characters in a string:\n",
    "for letter in word:\n",
    "    print(letter)"
   ]
  },
  {
   "cell_type": "code",
   "execution_count": 21,
   "id": "1064b795-439f-4dfd-bd2b-2ce17be70e0a",
   "metadata": {},
   "outputs": [
    {
     "name": "stdout",
     "output_type": "stream",
     "text": [
      "Alice is 30 years old\n",
      "Bob is 25 years old\n",
      "Charlie is 35 years old\n"
     ]
    }
   ],
   "source": [
    "ages = {\"Alice\": 30, \"Bob\": 25, \"Charlie\": 35} #over the key-value pairs in a dictionary\n",
    "for person, age in ages.items():\n",
    "    print(f\"{person} is {age} years old\")"
   ]
  },
  {
   "attachments": {},
   "cell_type": "markdown",
   "id": "57b7c5c8",
   "metadata": {},
   "source": [
    "# Other useful stuff"
   ]
  },
  {
   "attachments": {},
   "cell_type": "markdown",
   "id": "e1debda8",
   "metadata": {},
   "source": [
    "## for with unpacking"
   ]
  },
  {
   "cell_type": "code",
   "execution_count": 23,
   "id": "d9dc809a-4c80-4e71-86b2-ba6a856fbe9f",
   "metadata": {},
   "outputs": [
    {
     "name": "stdout",
     "output_type": "stream",
     "text": [
      "x = 1, y = 2, z = 3\n"
     ]
    }
   ],
   "source": [
    "x, y, z=[1, 2, 3] \n",
    "print(f'x = {x}, y = {y}, z = {z}') #unpacking"
   ]
  },
  {
   "cell_type": "code",
   "execution_count": 25,
   "id": "3e0cb7e9-3ed6-4643-8e68-23c21e3f7253",
   "metadata": {},
   "outputs": [
    {
     "name": "stdout",
     "output_type": "stream",
     "text": [
      "Natasha Romanoff is Marvel's Black Widow!\n",
      "Tony Stark is Marvel's Iron Man!\n",
      "Stephen Strange is Marvel's Doctor Strange!\n"
     ]
    }
   ],
   "source": [
    "py_superhero_info = [['Natasha Romanoff', 'Black Widow'], #combine unpacking with a for loop to extract elements\n",
    "                     ['Tony Stark', 'Iron Man'],\n",
    "                     ['Stephen Strange', 'Doctor Strange']]\n",
    "\n",
    "for real_name, super_name in py_superhero_info:\n",
    "    print(f\"{real_name} is Marvel's {super_name}!\")"
   ]
  },
  {
   "attachments": {},
   "cell_type": "markdown",
   "id": "11f64716",
   "metadata": {},
   "source": [
    "## for with zip()"
   ]
  },
  {
   "cell_type": "code",
   "execution_count": 28,
   "id": "d075b8f0-889c-411f-b533-ce120585c687",
   "metadata": {},
   "outputs": [
    {
     "name": "stdout",
     "output_type": "stream",
     "text": [
      "Natasha Romanoff is Marvel's Black Widow!\n",
      "Tony Stark is Marvel's Iron Man!\n",
      "Stephen Strange is Marvel's Doctor Strange!\n"
     ]
    }
   ],
   "source": [
    "super_names = [\"Black Widow\", \"Iron Man\", \"Doctor Strange\"] \n",
    "real_names = [\"Natasha Romanoff\", \"Tony Stark\", \"Stephen Strange\"] \n",
    "\n",
    "for real_name, super_name in zip(real_names,super_names): #for loop iterates over each pair of names in the 2 lists.\n",
    "    print(f\"{real_name} is Marvel's {super_name}!\")       #zip combine 2 lists."
   ]
  },
  {
   "attachments": {},
   "cell_type": "markdown",
   "id": "631b9510",
   "metadata": {},
   "source": [
    "## for with dictionaries"
   ]
  },
  {
   "cell_type": "code",
   "execution_count": 30,
   "id": "6843bda4-1889-464f-9ace-3b34087ee0f1",
   "metadata": {},
   "outputs": [
    {
     "name": "stdout",
     "output_type": "stream",
     "text": [
      "Natasha Romanoff is Marvel's Black Widow!\n",
      "Tony Stark is Marvel's Iron Man!\n",
      "Stephen Strange is Marvel's Doctor Strange!\n"
     ]
    }
   ],
   "source": [
    "superhero_info={\"Natasha Romanoff\": \"Black Widow\",\n",
    "                \"Tony Stark\": \"Iron Man\",\n",
    "                \"Stephen Strange\": \"Doctor Strange\"} #Looping dictionaries\n",
    "\n",
    "for key, value in superhero_info.items(): #for loop iterates over each key-value pair in the superhero_info dictionary using the items() method.\n",
    "    print(f\"{key} is Marvel's {value}!\")  #items read both name and hero as pair. Eligible for A:B in dictionary only if not Key not found error."
   ]
  },
  {
   "cell_type": "code",
   "execution_count": 40,
   "id": "1f1c5f3a-bc72-4ad4-802c-e2212768cc8a",
   "metadata": {},
   "outputs": [
    {
     "name": "stdout",
     "output_type": "stream",
     "text": [
      "Natasha Romanoff is Marvel's Black Widow!\n",
      "Tony Stark is Marvel's Iron Man!\n",
      "Stephen Strange is Marvel's Doctor Strange!\n"
     ]
    }
   ],
   "source": [
    "for key in superhero_info.keys(): #Or directly access the keys, so A:B, A is keys, B is value, or do items() which also work with A:B.\n",
    "    value=superhero_info[key]  #items returns key-value pairs as tuples.\n",
    "    print(f\"{key} is Marvel's {value}!\")"
   ]
  },
  {
   "cell_type": "code",
   "execution_count": 39,
   "id": "4761bb99-25cc-4094-a562-5a8e4f6e3338",
   "metadata": {},
   "outputs": [
    {
     "name": "stdout",
     "output_type": "stream",
     "text": [
      "Natasha Romanoff is Marvel's Black Widow!\n",
      "Tony Stark is Marvel's Iron Man!\n",
      "Stephen Strange is Marvel's Doctor Strange!\n"
     ]
    }
   ],
   "source": [
    "for key in superhero_info: #.keys is optional.\n",
    "    value=superhero_info[key]\n",
    "    print(f\"{key} is Marvel's {value}!\")\n",
    "#have the same output because iterating over a dictionary directly iterates over its keys by default."
   ]
  }
 ],
 "metadata": {
  "kernelspec": {
   "display_name": "Python 3 (ipykernel)",
   "language": "python",
   "name": "python3"
  },
  "language_info": {
   "codemirror_mode": {
    "name": "ipython",
    "version": 3
   },
   "file_extension": ".py",
   "mimetype": "text/x-python",
   "name": "python",
   "nbconvert_exporter": "python",
   "pygments_lexer": "ipython3",
   "version": "3.11.5"
  },
  "toc": {
   "base_numbering": 1,
   "nav_menu": {},
   "number_sections": true,
   "sideBar": true,
   "skip_h1_title": false,
   "title_cell": "Table of Contents",
   "title_sidebar": "Contents",
   "toc_cell": false,
   "toc_position": {},
   "toc_section_display": true,
   "toc_window_display": false
  },
  "vscode": {
   "interpreter": {
    "hash": "31f2aee4e71d21fbe5cf8b01ff0e069b9275f58929596ceb00d14d90e3e16cd6"
   }
  }
 },
 "nbformat": 4,
 "nbformat_minor": 5
}
