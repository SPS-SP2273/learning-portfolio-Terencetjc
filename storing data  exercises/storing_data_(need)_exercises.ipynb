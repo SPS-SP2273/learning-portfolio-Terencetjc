{
 "cells": [
  {
   "attachments": {},
   "cell_type": "markdown",
   "id": "123456",
   "metadata": {},
   "source": [
    "<div style=\"text-align:left;font-size:2em\"><span style=\"font-weight:bolder;font-size:1.25em\">SP2273 | Learning Portfolio</span><br><br><span style=\"font-weight:bold;color:darkred\">Storing Data (Need) Exercises</span></div>"
   ]
  },
  {
   "cell_type": "markdown",
   "id": "24c95cea-9546-4a42-b436-7a9fd668280a",
   "metadata": {},
   "source": [
    "# Exercise 1"
   ]
  },
  {
   "cell_type": "markdown",
   "id": "de88c2e0-891e-4b1b-bdf4-a7231dee9c4f",
   "metadata": {},
   "source": [
    "Two similarities between lists and arrays\n",
    "1. Zero-based indexing, start from 0. Back to front start from -1.\n",
    "2. Sequential Storage of elements. "
   ]
  },
  {
   "cell_type": "markdown",
   "id": "db106a63-56ee-4f5d-82fb-4dd5ba16e621",
   "metadata": {},
   "source": [
    "Two/Three Differences between lists and arrays\n",
    "1. Lists have some built in functions like sum() whereas array has a broader set of mathematical functions and operations available.\n",
    "2. Lists grows when added/mulitplied whereas array usually perform element-wise addition multiplication.\n",
    "3. Lists can have many data types whereas array can only have 1 datatype"
   ]
  },
  {
   "cell_type": "markdown",
   "id": "da7636f2-f166-4b83-9841-484f3697b102",
   "metadata": {},
   "source": [
    "What is a dictionary? <br>\n",
    "*In a dictionary, each value is associated with a unique key. The key is used to identify and access the corresponding value. This key-value pairing allows efficient retrieval and manipulation of data.*<br>\n",
    "Note: Forgot definition.. too many stuff to remember.. <br>\n",
    "![](data:image/jpeg;base64,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)"
   ]
  },
  {
   "cell_type": "markdown",
   "id": "2863da08-bec4-47cf-b57a-30d4d27fbec5",
   "metadata": {},
   "source": [
    "# Exercise 2 (Indexing)"
   ]
  },
  {
   "cell_type": "code",
   "execution_count": 7,
   "id": "b24825f8-c86f-427b-a390-31252135a08f",
   "metadata": {},
   "outputs": [
    {
     "name": "stdout",
     "output_type": "stream",
     "text": [
      "a1\n",
      "c3\n",
      "e5\n",
      "g7\n",
      "i9\n"
     ]
    }
   ],
   "source": [
    "py_list = [\"a1\", \"b2\", \"c3\", \"d4\", \"e5\", \"f6\", \"g7\", \"h8\", \"i9\", \"j10\"]\n",
    "\n",
    "\n",
    "for element in py_list: #For element, created a new variable \"element\".\n",
    "    if int(element[-1]) % 2 != 0: #int converts the list from string to integer so math can work. \n",
    "                                 #element[-1] or [1] in this as the number is at the second (1) which is also the last (-1) character of each element.\n",
    "                                 #I messed up my own code... because not all case 1 and -2 refer to the same such as 3 digit numbers..\n",
    "                                 #Modulo operator (%) calculates remainder when divided. Odd no. remainder 1. != checks if it is not equal to. \n",
    "        print(element) #printing the true variables"
   ]
  },
  {
   "cell_type": "code",
   "execution_count": 5,
   "id": "46ede740-a6b9-4d1b-9618-2073df1b5713",
   "metadata": {},
   "outputs": [
    {
     "name": "stdout",
     "output_type": "stream",
     "text": [
      "a1\n",
      "c3\n",
      "e5\n",
      "g7\n",
      "i9\n",
      "j10\n"
     ]
    }
   ],
   "source": [
    "py_list = [\"a1\", \"b2\", \"c3\", \"d4\", \"e5\", \"f6\", \"g7\", \"h8\", \"i9\", \"j10\"]\n",
    "\n",
    "for element in py_list:\n",
    "    if int(element[1]) % 2 != 0: # Use 1 to access the first character\n",
    "        print(element)"
   ]
  },
  {
   "cell_type": "code",
   "execution_count": 39,
   "id": "5f2adfa1-94f5-4427-8590-d1ce2bf89742",
   "metadata": {},
   "outputs": [
    {
     "name": "stdout",
     "output_type": "stream",
     "text": [
      "b2\n",
      "d4\n",
      "f6\n",
      "h8\n",
      "j10\n"
     ]
    }
   ],
   "source": [
    "py_list = [\"a1\", \"b2\", \"c3\", \"d4\", \"e5\", \"f6\", \"g7\", \"h8\", \"i9\", \"j10\"]\n",
    "\n",
    "for element in py_list:\n",
    "    if int(element[-1]) % 2 == 0: #Using the same logic, by changing != to ==, even numbers can be filtered out.== checks if it is equal to.\n",
    "        print(element)"
   ]
  },
  {
   "cell_type": "code",
   "execution_count": 49,
   "id": "532a236b-2e16-4f02-b9b3-aa102cdab6a7",
   "metadata": {},
   "outputs": [
    {
     "name": "stdout",
     "output_type": "stream",
     "text": [
      "a1\n",
      "c3\n",
      "e5\n",
      "g7\n",
      "i9\n"
     ]
    }
   ],
   "source": [
    "py_list = [\"a1\", \"b2\", \"c3\", \"d4\", \"e5\", \"f6\", \"g7\", \"h8\", \"i9\", \"j10\"]\n",
    "print(py_list[0])   # Prints 'a1'\n",
    "print(py_list[2])   # Prints 'c3'\n",
    "print(py_list[4])   # Prints 'e5'\n",
    "print(py_list[6])   # Prints 'g7'\n",
    "print(py_list[8])   # Prints 'i9'\n",
    "\n",
    "#If we go the monotone way of forward indexing as mentioned in the website. :C"
   ]
  },
  {
   "cell_type": "markdown",
   "id": "bed8b1a8-f488-4ecb-b474-d30b4f1f556a",
   "metadata": {},
   "source": [
    "# Exercise 3 (Index Again)"
   ]
  },
  {
   "cell_type": "code",
   "execution_count": 43,
   "id": "c9cd180b-7813-4787-b3b9-768e0acd2144",
   "metadata": {},
   "outputs": [
    {
     "data": {
      "text/plain": [
       "'Boron'"
      ]
     },
     "execution_count": 43,
     "metadata": {},
     "output_type": "execute_result"
    }
   ],
   "source": [
    "elements = ['Hydrogen','Helium', 'Lithium','Beryllium', 'Boron', 'Carbon','Nitrogen', 'Oxygen', 'Fluorine', 'Neon']\n",
    "elements[4] #Which is the 5th position as index start from 0."
   ]
  },
  {
   "cell_type": "code",
   "execution_count": 45,
   "id": "bf770275-860d-4e45-b416-8d9ebd0c7fdb",
   "metadata": {},
   "outputs": [
    {
     "data": {
      "text/plain": [
       "'Boron'"
      ]
     },
     "execution_count": 45,
     "metadata": {},
     "output_type": "execute_result"
    }
   ],
   "source": [
    "elements[-6] #Reverse index start from -1 so to get 5th position is -6."
   ]
  },
  {
   "cell_type": "markdown",
   "id": "9b025e7b-da85-43cc-a289-ab88a9c8b567",
   "metadata": {},
   "source": [
    "# Exercise 4 (How many ones)"
   ]
  },
  {
   "cell_type": "code",
   "execution_count": 60,
   "id": "bfe1a6bb-6f1b-49d8-9aff-4eb270e45135",
   "metadata": {},
   "outputs": [
    {
     "name": "stdout",
     "output_type": "stream",
     "text": [
      "9\n"
     ]
    }
   ],
   "source": [
    "numbers=[45, 60, 1, 30, 96, 1, 96, 57, 16, 1,\n",
    "        99, 62, 86, 43, 42, 60, 59, 1, 1, 35,\n",
    "        83, 47, 34, 28, 68, 23, 22, 92, 1, 79,\n",
    "        1, 29, 94, 72, 46, 47, 1, 74, 32, 20,\n",
    "        8, 37, 35, 1, 89, 29, 86, 19, 43, 61]      \n",
    "import numpy as np\n",
    "np_array=np.array(numbers) #To create variable is A=B (behind can be formula such as == 1). (B is existing variable)\n",
    "Is_1= np_array == 1  #Creating a variable for those with 1\n",
    "No_of_1=np.sum(Is_1) #Creating a variable for number of 1s\n",
    "print(No_of_1)"
   ]
  }
 ],
 "metadata": {
  "kernelspec": {
   "display_name": "Python 3 (ipykernel)",
   "language": "python",
   "name": "python3"
  },
  "language_info": {
   "codemirror_mode": {
    "name": "ipython",
    "version": 3
   },
   "file_extension": ".py",
   "mimetype": "text/x-python",
   "name": "python",
   "nbconvert_exporter": "python",
   "pygments_lexer": "ipython3",
   "version": "3.11.5"
  },
  "toc": {
   "base_numbering": 1,
   "nav_menu": {},
   "number_sections": true,
   "sideBar": true,
   "skip_h1_title": false,
   "title_cell": "Table of Contents",
   "title_sidebar": "Contents",
   "toc_cell": false,
   "toc_position": {},
   "toc_section_display": true,
   "toc_window_display": false
  },
  "vscode": {
   "interpreter": {
    "hash": "31f2aee4e71d21fbe5cf8b01ff0e069b9275f58929596ceb00d14d90e3e16cd6"
   }
  }
 },
 "nbformat": 4,
 "nbformat_minor": 5
}
