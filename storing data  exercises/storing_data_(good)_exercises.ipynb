{
 "cells": [
  {
   "attachments": {},
   "cell_type": "markdown",
   "id": "123456",
   "metadata": {},
   "source": [
    "<div style=\"text-align:left;font-size:2em\"><span style=\"font-weight:bolder;font-size:1.25em\">SP2273 | Learning Portfolio</span><br><br><span style=\"font-weight:bold;color:darkred\">Storing Data (Good) Exercises</span></div>"
   ]
  },
  {
   "cell_type": "markdown",
   "id": "801806e9-cba0-40d8-97dc-734f78afa310",
   "metadata": {},
   "source": [
    "# Exercise 1"
   ]
  },
  {
   "cell_type": "markdown",
   "id": "9e7e7ac3-ad0e-44f0-ab74-8a2e1afa8878",
   "metadata": {},
   "source": [
    "Purely from memory, write short descriptions of the following terms:\n",
    "| Term       | Brief description                                                                                             |\r\n",
    "|------------|---------------------------------------------------------------------------------------------------------------|\r\n",
    "| Subsetting | Selecting specific elements or subsets from a data structure (e.g., list, array).                             |\r\n",
    "| Indexing   | Accessing individual elements within a sequence or data structure by their position or index.                 |\r\n",
    "| Slicing    | Extracting a contiguous subset of elements from a sequence based on a specified range of indices.             |\r\n",
    "| Masking    | Creating a boolean mask based on certain conditions and using it to filter or select elements from a datas"
   ]
  },
  {
   "cell_type": "markdown",
   "id": "f8e31d2c-6e30-4aa9-a34e-227b333f42aa",
   "metadata": {},
   "source": [
    "# Exercise 2"
   ]
  },
  {
   "cell_type": "markdown",
   "id": "e9973b32-b247-46de-b554-e56e09221864",
   "metadata": {},
   "source": [
    "Use masking to subset the letters that correspond to the odd numbers. E.g, get the result [A, C, E, G, I]."
   ]
  },
  {
   "cell_type": "code",
   "execution_count": 9,
   "id": "7f174026-451d-4f94-8217-4f634c601b92",
   "metadata": {},
   "outputs": [],
   "source": [
    "import numpy as np\n",
    "np_array_2d = np.array([[1, \"A\"], [3, \"C\"], [2, \"B\"], [4, \"D\"], #Array defined\n",
    "                        [5, \"E\"], [7, \"G\"], [6, \"F\"], [8, \"H\"],\n",
    "                        [10, \"J\"], [9, \"I\"]])"
   ]
  },
  {
   "cell_type": "code",
   "execution_count": 23,
   "id": "47a3e287-1feb-4594-b985-735f06fad7aa",
   "metadata": {},
   "outputs": [],
   "source": [
    "#Subset all the first elements and convert this to integers using astype(int).\n",
    "first_elements = np_array_2d[:, 0].astype(int) \n",
    "#[:, 0]: is a slicing operation, : indicates that we want to select all rows of the array, and 0 indicates that we want to select the first column.\n",
    "#astype() method is used to cast the data to a specified selected data type."
   ]
  },
  {
   "cell_type": "code",
   "execution_count": 12,
   "id": "6b524362-030a-4024-a84f-32b40f360897",
   "metadata": {},
   "outputs": [],
   "source": [
    "#Use % to get the remainder for division by 2.\n",
    "remainders = first_elements % 2"
   ]
  },
  {
   "cell_type": "code",
   "execution_count": 13,
   "id": "2ef0a06f-cb01-42b0-973f-029b6c55258f",
   "metadata": {},
   "outputs": [],
   "source": [
    "#Use the previous result to create a mask that checks if the remainder is zero or not\n",
    "mask = remainders != 0"
   ]
  },
  {
   "cell_type": "code",
   "execution_count": 22,
   "id": "9ce99f25-e4d8-4bed-bede-9da6a164c60b",
   "metadata": {},
   "outputs": [
    {
     "name": "stdout",
     "output_type": "stream",
     "text": [
      "['A' 'C' 'E' 'G' 'I']\n"
     ]
    }
   ],
   "source": [
    "#Use the mask and extract the corresponding second elements.\n",
    "result = np_array_2d[mask, 1]\n",
    "\n",
    "print(result)"
   ]
  }
 ],
 "metadata": {
  "kernelspec": {
   "display_name": "Python 3 (ipykernel)",
   "language": "python",
   "name": "python3"
  },
  "language_info": {
   "codemirror_mode": {
    "name": "ipython",
    "version": 3
   },
   "file_extension": ".py",
   "mimetype": "text/x-python",
   "name": "python",
   "nbconvert_exporter": "python",
   "pygments_lexer": "ipython3",
   "version": "3.11.5"
  },
  "toc": {
   "base_numbering": 1,
   "nav_menu": {},
   "number_sections": true,
   "sideBar": true,
   "skip_h1_title": false,
   "title_cell": "Table of Contents",
   "title_sidebar": "Contents",
   "toc_cell": false,
   "toc_position": {},
   "toc_section_display": true,
   "toc_window_display": false
  },
  "vscode": {
   "interpreter": {
    "hash": "31f2aee4e71d21fbe5cf8b01ff0e069b9275f58929596ceb00d14d90e3e16cd6"
   }
  }
 },
 "nbformat": 4,
 "nbformat_minor": 5
}
