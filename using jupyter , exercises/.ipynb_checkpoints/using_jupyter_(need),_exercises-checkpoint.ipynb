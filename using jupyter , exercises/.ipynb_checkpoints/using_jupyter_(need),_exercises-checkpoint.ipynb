{
 "cells": [
  {
   "attachments": {},
   "cell_type": "markdown",
   "id": "123456",
   "metadata": {},
   "source": [
    "<div style=\"text-align:left;font-size:2em\"><span style=\"font-weight:bolder;font-size:1.25em\">SP2273 | Learning Portfolio</span><br><br><span style=\"font-weight:bold;color:darkred\">Using Jupyter (Need), Exercises</span></div>"
   ]
  },
  {
   "attachments": {},
   "cell_type": "markdown",
   "id": "da6c4eb5",
   "metadata": {
    "jp-MarkdownHeadingCollapsed": true
   },
   "source": [
    "# Quadratic Equations\n"
   ]
  },
  {
   "attachments": {},
   "cell_type": "markdown",
   "id": "398e1c55",
   "metadata": {
    "jp-MarkdownHeadingCollapsed": true
   },
   "source": [
    "## Introduction"
   ]
  },
  {
   "cell_type": "markdown",
   "id": "29354875-dcb2-41f4-9b31-d282d4d7e967",
   "metadata": {},
   "source": [
    "![](https://upload.wikimedia.org/wikipedia/commons/thumb/f/f8/Polynomialdeg2.svg/300px-Polynomialdeg2.svg.png) <br>\n",
    "(Image from the [Wikipedia page on Quadratic equations](https://en.wikipedia.org/wiki/Quadratic_equation)) <br>\n",
    "The general form of a quadratic equation is: $$\n",
    "ax^{2}+bx+c=0 \n",
    "$$\n",
    "\n"
   ]
  },
  {
   "cell_type": "markdown",
   "id": "76a4e862-bf82-4573-8f03-e1765b5d33be",
   "metadata": {
    "jp-MarkdownHeadingCollapsed": true
   },
   "source": [
    "## Extra cause I did wrongly"
   ]
  },
  {
   "cell_type": "code",
   "execution_count": 19,
   "id": "8947aa53-32ba-4dd8-bbfb-3037037c1984",
   "metadata": {},
   "outputs": [
    {
     "data": {
      "image/png": "[encoded data removed]",
      "text/plain": [
       "<Figure size 640x480 with 1 Axes>"
      ]
     },
     "metadata": {},
     "output_type": "display_data"
    }
   ],
   "source": [
    "import matplotlib.pyplot as plt\n",
    "import numpy as np\n",
    "\n",
    "# Generate data\n",
    "x = np.linspace(-4, 4)\n",
    "y = x**2 - x - 2\n",
    "\n",
    "# Create the plot\n",
    "plt.plot(x, y, label='$y = x^2 - x - 2$')\n",
    "plt.axhline(0, color='black', linestyle='--', linewidth=0.8)  # Horizontal line at y=0\n",
    "plt.axvline(0, color='black', linestyle='--', linewidth=0.8)  # Vertical line at x=0\n",
    "\n",
    "# Specify x and y axis limits\n",
    "plt.xlim(-4, 4)\n",
    "plt.ylim(-4, 4)\n",
    "\n",
    "# Add labels and title\n",
    "plt.title('Plot of $y = x^2 - x - 2$')\n",
    "plt.xlabel('x')\n",
    "plt.ylabel('y')\n",
    "\n",
    "# Show the plot\n",
    "plt.grid(True)\n",
    "plt.show()\n"
   ]
  },
  {
   "attachments": {},
   "cell_type": "markdown",
   "id": "ecf16edc",
   "metadata": {
    "jp-MarkdownHeadingCollapsed": true
   },
   "source": [
    "## Solutions"
   ]
  },
  {
   "cell_type": "markdown",
   "id": "f820aa30-8a8d-4887-a050-c9e6a31a3b2e",
   "metadata": {},
   "source": [
    "Provided $a \\ne 0$, we can use an elementary algebraic method called [completeing the square](https://en.wikipedia.org/wiki/Completing_the_square) to show that a quadratic equation has the following solution:\n",
    "$$\n",
    "x = \\dfrac{-b \\pm \\sqrt{b^2-4ac}}{2a}\n",
    "$$"
   ]
  },
  {
   "attachments": {},
   "cell_type": "markdown",
   "id": "96efe3ab",
   "metadata": {
    "jp-MarkdownHeadingCollapsed": true
   },
   "source": [
    "## Discriminant"
   ]
  },
  {
   "cell_type": "markdown",
   "id": "c0d36327-bd7e-4359-a6b1-ef0e1b02d3e1",
   "metadata": {},
   "source": [
    "The quantity $\\Delta= {b^2-4ac}$ is called the **discriminant** of the equation and decides the nature of its solutions. The table below shows the various possibilities.\n",
    "| Discriminant                                  | Roots                                |\n",
    "|-----------------------------------------------|--------------------------------------|\n",
    "| $\\Delta= {b^2-4ac=0}$                         |A single solution of $-b/(2a)$        |\n",
    "| $\\Delta= {b^2-4ac\\gt0}$                       |Two distinct solutions                |\n",
    "| $\\Delta= {b^2-4ac\\lt0}$                       |No real solutions; both are complex.  |"
   ]
  },
  {
   "cell_type": "markdown",
   "id": "71cf9ac5-9bfd-400c-95ec-914bd753ac93",
   "metadata": {},
   "source": [
    "# Exercise 2 (in your own words)"
   ]
  },
  {
   "cell_type": "markdown",
   "id": "27b70b2c-ad05-4cc6-9ea3-79844cf54604",
   "metadata": {},
   "source": [
    "Use a Markdown cell to answer the following."
   ]
  },
  {
   "cell_type": "markdown",
   "id": "2632d2da-dbf1-490d-ad4f-9813bb3e2e4e",
   "metadata": {
    "jp-MarkdownHeadingCollapsed": true
   },
   "source": [
    "## What is a Git **repository**?"
   ]
  },
  {
   "cell_type": "markdown",
   "id": "0324318f-8d1c-426c-9135-f871f94d13be",
   "metadata": {},
   "source": [
    "A Git repository serves as a dedicated space for project files, enabling the tracking of changes over time. It functions as a historical record, capturing modifications made to files and allowing users to revisit previous states of the project. <br>\n",
    "Benefits of a Git repository include:\n",
    "- **Change Tracking**: Changes made to files are meticulously recorded, providing a detailed history of the project's evolution.\n",
    "- **Collaborative Work**: In collaborative settings, each team member can maintain their own copy of the project, make independent changes, and easily share those modifications with others. This ensures seamless collaboration and alignment among team members.\n",
    "- **Idea Experimentation**: Users can create branches within the repository to experiment with new features or bug fixes without affecting the main project. Successful experiments can be smoothly integrated into the primary codebase.\n",
    "- **Comprehensive Record**: Git preserves a comprehensive record of every modification through commits, offering insights into who made specific changes and when they occurred.\n",
    "\n",
    "In essence, a Git repository functions as a project's historical archive, facilitating collaboration, idea testing, and maintaining a thorough record of its development."
   ]
  },
  {
   "cell_type": "markdown",
   "id": "bffba596-c624-4a7d-8c04-4a7334ad270c",
   "metadata": {
    "jp-MarkdownHeadingCollapsed": true
   },
   "source": [
    "## Git keeps tracks of ________ in the files in our repository."
   ]
  },
  {
   "cell_type": "markdown",
   "id": "96af5bbc-00fd-4d76-ad56-dfac4a42a296",
   "metadata": {},
   "source": [
    "Answer: changes"
   ]
  },
  {
   "cell_type": "markdown",
   "id": "55f725a2-5e1b-4c72-b1ae-b471a40fe1f5",
   "metadata": {},
   "source": [
    "## What is a **commit**?"
   ]
  },
  {
   "cell_type": "markdown",
   "id": "d62897b5-4642-4165-ad57-535ee3c683ab",
   "metadata": {},
   "source": [
    "In Git, changes to files in our repository are tracked by commits. A commit is like taking a snapshot of the project at a specific moment. It captures what was changed, who made the changes, when they were made, and why. It's a way of recording the history of the project."
   ]
  },
  {
   "cell_type": "markdown",
   "id": "fabd3c1f-356a-429b-871b-c2ded7c72fee",
   "metadata": {},
   "source": [
    "## What is a **push**?"
   ]
  },
  {
   "cell_type": "markdown",
   "id": "197c7e00-2bc3-4276-985a-d0159b6b51b6",
   "metadata": {},
   "source": [
    "\n",
    "In Git, a pull is a process by which changes from a remote repository are fetched and merged into the local repository. It's like bringing updates from a shared project space into your own working area. This ensures that your local copy is up-to-date with the latest changes made by others."
   ]
  },
  {
   "cell_type": "markdown",
   "id": "87d86b20-fd18-4122-9596-c14218d507a2",
   "metadata": {},
   "source": [
    "## What is a **pull**?"
   ]
  },
  {
   "cell_type": "markdown",
   "id": "72e8e1a9-c273-4f08-b0c9-f8d67c44766d",
   "metadata": {},
   "source": [
    "\n",
    "In Git, a push is a process where changes from a local repository are sent to a remote repository. It's a way of sharing your local modifications with others by updating the common project space. This ensures that everyone collaborating on the project has access to your latest changes."
   ]
  },
  {
   "cell_type": "markdown",
   "id": "996f247d-06a6-48a1-a94e-7b1539458ee0",
   "metadata": {},
   "source": [
    "## What is the difference between **GitHub** and **GitHub Desktop**?"
   ]
  },
  {
   "cell_type": "markdown",
   "id": "be59f070-fd71-474b-b5d4-2a831072ca08",
   "metadata": {},
   "source": [
    "GitHub is an online platform used for hosting and managing Git repositories, creating a space for collaborative software development. On the other hand, GitHub Desktop is a desktop application designed to simplify Git and GitHub interactions, offering a graphical user interface for users who may not be familiar with the command line. The platform (GitHub) serves as a remote repository for storing code, while the desktop application (GitHub Desktop) provides a visually intuitive way to handle version control tasks locally."
   ]
  }
 ],
 "metadata": {
  "kernelspec": {
   "display_name": "Python 3 (ipykernel)",
   "language": "python",
   "name": "python3"
  },
  "language_info": {
   "codemirror_mode": {
    "name": "ipython",
    "version": 3
   },
   "file_extension": ".py",
   "mimetype": "text/x-python",
   "name": "python",
   "nbconvert_exporter": "python",
   "pygments_lexer": "ipython3",
   "version": "3.11.5"
  },
  "toc": {
   "base_numbering": 1,
   "nav_menu": {},
   "number_sections": true,
   "sideBar": true,
   "skip_h1_title": false,
   "title_cell": "Table of Contents",
   "title_sidebar": "Contents",
   "toc_cell": false,
   "toc_position": {},
   "toc_section_display": true,
   "toc_window_display": false
  },
  "vscode": {
   "interpreter": {
    "hash": "31f2aee4e71d21fbe5cf8b01ff0e069b9275f58929596ceb00d14d90e3e16cd6"
   }
  }
 },
 "nbformat": 4,
 "nbformat_minor": 5
}
