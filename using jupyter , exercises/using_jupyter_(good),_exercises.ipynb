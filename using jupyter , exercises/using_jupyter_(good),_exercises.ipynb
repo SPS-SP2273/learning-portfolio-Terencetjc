{
 "cells": [
  {
   "attachments": {},
   "cell_type": "markdown",
   "id": "123456",
   "metadata": {},
   "source": [
    "<div style=\"text-align:left;font-size:2em\"><span style=\"font-weight:bolder;font-size:1.25em\">SP2273 | Learning Portfolio</span><br><br><span style=\"font-weight:bold;color:darkred\">Using Jupyter (Good), Exercises</span></div>"
   ]
  },
  {
   "cell_type": "markdown",
   "id": "140207dc-f944-46e4-b278-b7305daceff7",
   "metadata": {},
   "source": [
    "# Exercise 1"
   ]
  },
  {
   "cell_type": "markdown",
   "id": "8e6d9e7c-160c-4df0-bbcb-c526a157bec2",
   "metadata": {},
   "source": [
    "while True:\n",
    "    print('*', end='')\n",
    "<br> When the code is executed, it enters an infinite loop, and the print statement keeps printing asterisks endlessly. Since there is no break condition provided, the loop will continue indefinitely until the program is forcibly terminated, such as by closing the terminal or restarting the computer.<br>\n",
    "OR we can simply restart the kernel by going to kernel --> Restart Kernel!"
   ]
  },
  {
   "cell_type": "markdown",
   "id": "2b22ffa2-ab88-4d1c-84f7-48e1e62f5602",
   "metadata": {},
   "source": [
    "# Exercise 2"
   ]
  },
  {
   "cell_type": "markdown",
   "id": "7a8253b7-da80-4e75-b1d5-3cb4d6181c4e",
   "metadata": {},
   "source": [
    "print = 'PRINT'<br>\r\n",
    "Assigning the value 'PRINT' to the variable print redefines the built-in function print with the string 'PRINT'. This is called \"shadowing\" because it hides the built-in function print with a new value. It would raise error such as \"TypeError: 'str' object is not callable\". Reassigning other built-in functions like input, sum, or len to different values would cause similar errors when trying to use them as functions. \r\n"
   ]
  },
  {
   "cell_type": "code",
   "execution_count": 2,
   "id": "e2ab8a4a-3f1f-49f1-92be-21ae886bfccc",
   "metadata": {},
   "outputs": [
    {
     "name": "stdout",
     "output_type": "stream",
     "text": [
      "Hello World\n"
     ]
    }
   ],
   "source": [
    "print('Hello World')"
   ]
  },
  {
   "cell_type": "markdown",
   "id": "db12fb50-0d55-45a1-afbf-2902e50e75b0",
   "metadata": {},
   "source": [
    "Another type of error occurs when overwriting module names: If you import modules and then assign values to those module names, it can lead to unexpected behavior or errors. Example: <br>\r\n",
    "import math, math=\"MATH\" "
   ]
  },
  {
   "attachments": {},
   "cell_type": "markdown",
   "id": "cd55ff3d",
   "metadata": {},
   "source": [
    "# Footnotes"
   ]
  },
  {
   "cell_type": "markdown",
   "id": "a8759a2b-20e0-4b50-aa4d-a50a172cfce0",
   "metadata": {},
   "source": [
    "Notes: Changed laggy codes to markdown instead. Have Restarted Kernels hence print works. :D"
   ]
  }
 ],
 "metadata": {
  "kernelspec": {
   "display_name": "Python 3 (ipykernel)",
   "language": "python",
   "name": "python3"
  },
  "language_info": {
   "codemirror_mode": {
    "name": "ipython",
    "version": 3
   },
   "file_extension": ".py",
   "mimetype": "text/x-python",
   "name": "python",
   "nbconvert_exporter": "python",
   "pygments_lexer": "ipython3",
   "version": "3.11.5"
  },
  "toc": {
   "base_numbering": 1,
   "nav_menu": {},
   "number_sections": true,
   "sideBar": true,
   "skip_h1_title": false,
   "title_cell": "Table of Contents",
   "title_sidebar": "Contents",
   "toc_cell": false,
   "toc_position": {},
   "toc_section_display": true,
   "toc_window_display": false
  },
  "vscode": {
   "interpreter": {
    "hash": "31f2aee4e71d21fbe5cf8b01ff0e069b9275f58929596ceb00d14d90e3e16cd6"
   }
  }
 },
 "nbformat": 4,
 "nbformat_minor": 5
}
