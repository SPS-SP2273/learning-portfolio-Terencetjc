{
 "cells": [
  {
   "attachments": {},
   "cell_type": "markdown",
   "id": "123456",
   "metadata": {},
   "source": [
    "<div style=\"text-align:left;font-size:2em\"><span style=\"font-weight:bolder;font-size:1.25em\">SP2273 | Learning Portfolio</span><br><br><span style=\"font-weight:bold;color:darkred\">Functions (Good) Exercises</span></div>"
   ]
  },
  {
   "cell_type": "markdown",
   "id": "76d07973-cafb-4eac-9ebb-6703b18017b8",
   "metadata": {},
   "source": [
    "# Exercise 1 (Celsius to Fahrenheit or Kelvin)"
   ]
  },
  {
   "cell_type": "markdown",
   "id": "1f4c0778-b8b3-41ba-b553-1595ac12cf81",
   "metadata": {},
   "source": [
    "Develop a function named ``convert_celsius()`` to convert temperatures from Celsius to either Fahrenheit or Kelvin. <br>\n",
    "The function should take two arguments:<br>\n",
    "- ``temperature_celsius``: The temperature in Celsius.\n",
    "- ``target_scale`` (string): The target scale for conversion, with the default value set to ``'Fahrenheit'``.<br>\n",
    "\n",
    "The function should return the temperature in Kelvin if ``target_scale`` is ``'Kelvin'``; otherwise, it should return the temperature in Fahrenheit."
   ]
  },
  {
   "cell_type": "code",
   "execution_count": 2,
   "id": "62c97298-49c3-44d0-ba7f-2b5e42e12d90",
   "metadata": {},
   "outputs": [
    {
     "name": "stdin",
     "output_type": "stream",
     "text": [
      "Enter the temperature in Celsius:  20\n",
      "Enter the target scale (Fahrenheit/Kelvin):  Kelvin\n"
     ]
    },
    {
     "name": "stdout",
     "output_type": "stream",
     "text": [
      "20.0 Celsius is equal to 293.15 Kelvin.\n"
     ]
    },
    {
     "data": {
      "text/plain": [
       "293.15"
      ]
     },
     "execution_count": 2,
     "metadata": {},
     "output_type": "execute_result"
    }
   ],
   "source": [
    "def convert_celsius():\n",
    "    \"\"\"\n",
    "    Converts temperatures from Celsius to either Fahrenheit or Kelvin.\n",
    "\n",
    "    Parameters:\n",
    "    - temperature_celsius (float): The temperature in Celsius.\n",
    "    - target_scale (string, optional): The target scale for conversion, with the default value set to 'Fahrenheit'.\n",
    "\n",
    "    Returns:\n",
    "    - float: The temperature in Fahrenheit or Kelvin, depending on the target_scale parameter.\n",
    "    \"\"\"\n",
    "    # Get the temperature in Celsius from the user\n",
    "    temperature_celsius = float(input(\"Enter the temperature in Celsius: \"))\n",
    "\n",
    "    # Ask the user for the target scale (Fahrenheit or Kelvin)\n",
    "    target_scale = input(\"Enter the target scale (Fahrenheit/Kelvin): \").capitalize()\n",
    "\n",
    "    # Check if the target scale is Fahrenheit\n",
    "    if target_scale == 'Fahrenheit':\n",
    "        # Convert Celsius to Fahrenheit using the formula: (Celsius * 9/5) + 32\n",
    "        temperature_fahrenheit = (temperature_celsius * 9/5) + 32\n",
    "        print(f\"{temperature_celsius} Celsius is equal to {temperature_fahrenheit:.2f} Fahrenheit.\")\n",
    "        return temperature_fahrenheit\n",
    "    # Check if the target scale is Kelvin\n",
    "    elif target_scale == 'Kelvin':\n",
    "        # Convert Celsius to Kelvin by adding 273.15\n",
    "        temperature_kelvin = temperature_celsius + 273.15\n",
    "        print(f\"{temperature_celsius} Celsius is equal to {temperature_kelvin:.2f} Kelvin.\")\n",
    "        return temperature_kelvin\n",
    "    else:\n",
    "        # If the target scale is not recognized, print an error message\n",
    "        print(\"Invalid target scale. Please choose either 'Fahrenheit' or 'Kelvin'.\")\n",
    "        return temperature_fahrenheit\n",
    "\n",
    "# Call the function to convert temperature to Fahrenheit or Kelvin\n",
    "convert_celsius()\n"
   ]
  },
  {
   "cell_type": "markdown",
   "id": "34e9a353-c4e8-4bbd-8d18-575b601024ce",
   "metadata": {},
   "source": [
    "# Exercise 2 (Fahrenheit to Celsius or Kelvin) "
   ]
  },
  {
   "cell_type": "markdown",
   "id": "e9ee06af-5e68-4b39-9b26-95e30b3f43d4",
   "metadata": {},
   "source": [
    "Develop a function called ``convert_fahrenheit()`` for converting temperatures from Fahrenheit to either Celsius or Kelvin. <br>\n",
    "The function should take two arguments:\n",
    "- ``temperature_fahrenheit``: The temperature in Fahrenheit.\n",
    "- ``target_scale`` (string): The target scale for conversion, defaulting to ``'Celsius'``. <br>\n",
    "\n",
    "The function should return the temperature in Kelvin if ``target_scale`` is ``'Kelvin'``; otherwise, return it in Celsius."
   ]
  },
  {
   "cell_type": "code",
   "execution_count": 11,
   "id": "ea172d36-386b-430a-9984-d778ed110aea",
   "metadata": {},
   "outputs": [
    {
     "name": "stdin",
     "output_type": "stream",
     "text": [
      "Enter the temperature in Fahrenheit:  50\n",
      "Enter the target scale (Celsius/Kelvin):  Celsius\n"
     ]
    },
    {
     "name": "stdout",
     "output_type": "stream",
     "text": [
      "50.0 Fahrenheit is equal to 10.00 Celsius.\n"
     ]
    },
    {
     "data": {
      "text/plain": [
       "10.0"
      ]
     },
     "execution_count": 11,
     "metadata": {},
     "output_type": "execute_result"
    }
   ],
   "source": [
    "def convert_fahrenheit(): #Docustring below, Not necessary but good practice for clarity.\n",
    "    \"\"\"\n",
    "    Converts temperatures from Fahrenheit to either Celsius or Kelvin.\n",
    "\n",
    "    Parameters:\n",
    "    - temperature_fahrenheit (float): The temperature in Fahrenheit.\n",
    "    - target_scale (string, optional): The target scale for conversion, with the default value set to 'Celsius'.\n",
    "\n",
    "    Returns:\n",
    "    - float: The temperature in Celsius or Kelvin, depending on the target_scale parameter.\n",
    "    \"\"\"\n",
    "    # Get the temperature in Fahrenheit from the user\n",
    "    temperature_fahrenheit = float(input(\"Enter the temperature in Fahrenheit: \"))\n",
    "\n",
    "    # Ask the user for the target scale (Celsius or Kelvin)\n",
    "    target_scale = input(\"Enter the target scale (Celsius/Kelvin): \").capitalize()\n",
    "\n",
    "    # Check if the target scale is Celsius\n",
    "    if target_scale == 'Celsius':\n",
    "        # Convert Fahrenheit to Celsius using the formula: (Fahrenheit - 32) * 5/9\n",
    "        temperature_celsius = (temperature_fahrenheit - 32) * 5/9\n",
    "        print(f\"{temperature_fahrenheit} Fahrenheit is equal to {temperature_celsius:.2f} Celsius.\")\n",
    "        return temperature_celsius\n",
    "    # Check if the target scale is Kelvin\n",
    "    elif target_scale == 'Kelvin':\n",
    "        # Convert Fahrenheit to Kelvin using the formula: (Fahrenheit - 32) * 5/9 + 273.15\n",
    "        temperature_kelvin = (temperature_fahrenheit - 32) * 5/9 + 273.15\n",
    "        print(f\"{temperature_fahrenheit} Fahrenheit is equal to {temperature_kelvin:.2f} Kelvin.\")\n",
    "        return temperature_kelvin\n",
    "    else:\n",
    "        # If the target scale is not recognized, print an error message\n",
    "        print(\"Invalid target scale. Please choose either 'Celsius' or 'Kelvin'.\")\n",
    "\n",
    "# Call the function to convert temperature to Celsius or Kelvin\n",
    "convert_fahrenheit()"
   ]
  },
  {
   "cell_type": "markdown",
   "id": "69637cef-94ac-4af3-b5e4-1a343bb77301",
   "metadata": {},
   "source": [
    "# Exercise 3 (General Temperature Conversion) "
   ]
  },
  {
   "cell_type": "markdown",
   "id": "b943b34a-6600-4a13-bcdd-5bb2d8769334",
   "metadata": {},
   "source": [
    "Implement a function named ``convert_temperature()`` to perform general temperature conversions. <br>\n",
    "The function should take three arguments: <br>\n",
    "- ``temperature``: The temperature to be converted.\n",
    "- ``source_scale`` (string): The scale of the input temperature (either ``'Celsius'``, ``'Fahrenheit'``, or ``'Kelvin'``).\n",
    "- ``target_scale`` (string): The desired scale for the output temperature. <br>\n",
    "\n",
    "Remember to reuse your previous functions!"
   ]
  },
  {
   "cell_type": "code",
   "execution_count": null,
   "id": "78e6764e-d312-4380-a67c-97c602a28ebf",
   "metadata": {},
   "outputs": [],
   "source": [
    "def convert_celsius(temperature):\n",
    "    \"\"\"\n",
    "    Converts temperatures from Celsius to either Fahrenheit or Kelvin.\n",
    "\n",
    "    Parameters:\n",
    "    - temperature (float): The temperature in Celsius.\n",
    "\n",
    "    Returns:\n",
    "    - float: The temperature in Fahrenheit or Kelvin, depending on the target_scale parameter.\n",
    "    \"\"\"\n",
    "    return temperature * 9/5 + 32\n",
    "\n",
    "def convert_fahrenheit(temperature):\n",
    "    \"\"\"\n",
    "    Converts temperatures from Fahrenheit to either Celsius or Kelvin.\n",
    "\n",
    "    Parameters:\n",
    "    - temperature (float): The temperature in Fahrenheit.\n",
    "\n",
    "    Returns:\n",
    "    - float: The temperature in Celsius or Kelvin, depending on the target_scale parameter.\n",
    "    \"\"\"\n",
    "    return (temperature - 32) * 5/9\n",
    "\n",
    "def convert_temperature(temperature, source_scale, target_scale):\n",
    "    \"\"\"\n",
    "    Converts temperatures between Celsius, Fahrenheit, and Kelvin scales.\n",
    "\n",
    "    Parameters:\n",
    "    - temperature (float): The temperature to be converted.\n",
    "    - source_scale (string): The scale of the input temperature ('Celsius', 'Fahrenheit', or 'Kelvin').\n",
    "    - target_scale (string): The desired scale for the output temperature ('Celsius', 'Fahrenheit', or 'Kelvin').\n",
    "\n",
    "    Returns:\n",
    "    - float: The converted temperature in the target scale.\n",
    "    \"\"\"\n",
    "    if source_scale == 'Celsius':\n",
    "        if target_scale == 'Celsius':\n",
    "            return temperature\n",
    "        elif target_scale == 'Fahrenheit':\n",
    "            return convert_celsius(temperature)\n",
    "        elif target_scale == 'Kelvin':\n",
    "            return convert_celsius(temperature) + 273.15\n",
    "        else:\n",
    "            print(\"Invalid target scale. Please choose either 'Celsius', 'Fahrenheit', or 'Kelvin'.\")\n",
    "            return None\n",
    "    elif source_scale == 'Fahrenheit':\n",
    "        if target_scale == 'Celsius':\n",
    "            return convert_fahrenheit(temperature)\n",
    "        elif target_scale == 'Fahrenheit':\n",
    "            return temperature\n",
    "        elif target_scale == 'Kelvin':\n",
    "            return convert_fahrenheit(temperature) + 273.15\n",
    "        else:\n",
    "            print(\"Invalid target scale. Please choose either 'Celsius', 'Fahrenheit', or 'Kelvin'.\")\n",
    "            return None\n",
    "    elif source_scale == 'Kelvin':\n",
    "        if target_scale == 'Celsius':\n",
    "            return temperature - 273.15\n",
    "        elif target_scale == 'Fahrenheit':\n",
    "            return (temperature - 273.15) * 9/5 + 32\n",
    "        elif target_scale == 'Kelvin':\n",
    "            return temperature\n",
    "        else:\n",
    "            print(\"Invalid target scale. Please choose either 'Celsius', 'Fahrenheit', or 'Kelvin'.\")\n",
    "            return None\n",
    "    else:\n",
    "        print(\"Invalid source scale. Please choose either 'Celsius', 'Fahrenheit', or 'Kelvin'.\")\n",
    "        return None\n",
    "\n",
    "# Get user input for temperature value, source scale, and target scale\n",
    "temperature = float(input(\"Enter the temperature value: \"))\n",
    "source_scale = input(\"Enter the source scale (Celsius/Fahrenheit/Kelvin): \").capitalize()\n",
    "target_scale = input(\"Enter the target scale (Celsius/Fahrenheit/Kelvin): \").capitalize()\n",
    "\n",
    "# Convert the temperature and print the result\n",
    "result = convert_temperature(temperature, source_scale, target_scale)\n",
    "print(f\"The converted temperature is: {result}\")"
   ]
  }
 ],
 "metadata": {
  "kernelspec": {
   "display_name": "Python 3 (ipykernel)",
   "language": "python",
   "name": "python3"
  },
  "language_info": {
   "codemirror_mode": {
    "name": "ipython",
    "version": 3
   },
   "file_extension": ".py",
   "mimetype": "text/x-python",
   "name": "python",
   "nbconvert_exporter": "python",
   "pygments_lexer": "ipython3",
   "version": "3.11.5"
  },
  "toc": {
   "base_numbering": 1,
   "nav_menu": {},
   "number_sections": true,
   "sideBar": true,
   "skip_h1_title": false,
   "title_cell": "Table of Contents",
   "title_sidebar": "Contents",
   "toc_cell": false,
   "toc_position": {},
   "toc_section_display": true,
   "toc_window_display": false
  },
  "vscode": {
   "interpreter": {
    "hash": "31f2aee4e71d21fbe5cf8b01ff0e069b9275f58929596ceb00d14d90e3e16cd6"
   }
  }
 },
 "nbformat": 4,
 "nbformat_minor": 5
}
