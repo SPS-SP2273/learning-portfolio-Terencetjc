{
 "cells": [
  {
   "attachments": {},
   "cell_type": "markdown",
   "id": "123456",
   "metadata": {},
   "source": [
    "<div style=\"text-align:left;font-size:2em\"><span style=\"font-weight:bolder;font-size:1.25em\">SP2273 | Learning Portfolio</span><br><br><span style=\"font-weight:bold;color:darkred\">Functions (Need) Exercises</span></div>"
   ]
  },
  {
   "cell_type": "markdown",
   "id": "19eb7a84-d721-41a5-a637-39d9ae3ee19f",
   "metadata": {},
   "source": [
    "# Exercise 1"
   ]
  },
  {
   "cell_type": "code",
   "execution_count": 6,
   "id": "4fd8d310-5ef3-4d37-9e5b-dc82a5347430",
   "metadata": {},
   "outputs": [],
   "source": [
    "#The following code works as expected despite not having an else statement. Please use a Markdown cell to explain why?\n",
    "def greeting(name):\n",
    "    if name == 'Batman':\n",
    "        return 'Hello Batman! So, nice to meet you!'\n",
    "    return f'Hello {name}!'"
   ]
  },
  {
   "cell_type": "markdown",
   "id": "a0924951-3679-4525-b539-1634b82db37f",
   "metadata": {},
   "source": [
    "As learned in chapter on functions(need), you can create named functions by using the def keyword followed by the function name and a block of code. They are called \"named\" because you give them a specific name that you use to call the function later. <br>\n",
    "For this function, it greets users based on their names. It first checks if the name is 'Batman'. If it is, a special greeting for Batman is returned. If not, it skips that part and returns a general greeting. It doesn't need an explicit 'else' statement because Python's control flow handles it naturally. If the condition is met, it executes the specific greeting and exits. If not, it moves to the next line and returns a generic greeting. So, regardless of the name, the function always returns a greeting message, either specific for Batman or general for others. Hence, an explicit 'else' statement isn't necessary. Below is comments for each line of code to show why."
   ]
  },
  {
   "cell_type": "code",
   "execution_count": 7,
   "id": "5bbd35d8-89d3-49ac-b14b-aa0f7aa9068a",
   "metadata": {},
   "outputs": [],
   "source": [
    "def greeting(name):\n",
    "    # Check if the name parameter is equal to the string 'Batman'.\n",
    "    if name == 'Batman':\n",
    "        # If the name is 'Batman', return a specific greeting message for Batman.\n",
    "        return 'Hello Batman! So, nice to meet you!'\n",
    "    # If the name is not 'Batman', proceed to the next line.\n",
    "    # Return a generic greeting message using an f-string with the provided name.\n",
    "    return f'Hello {name}!'"
   ]
  },
  {
   "cell_type": "markdown",
   "id": "d901082a-06d7-46c9-a238-d9c52b364187",
   "metadata": {},
   "source": [
    "# Exercise 2"
   ]
  },
  {
   "cell_type": "markdown",
   "id": "f9e7a9b5-9dfb-4e2d-bf06-37cd963f0b77",
   "metadata": {},
   "source": [
    "Write a Python function named ``calculate_bmi``. <br>\n",
    "\n",
    "The function should take two parameters: <br>\n",
    "- ``weight`` (in kilograms) and ``height`` (in meters). <br>\n",
    "\n",
    "The function should calculate the BMI (Body Mass Index) using the formula ``BMI = weight / (height ** 2)``.\n",
    "<br>\n",
    "Based on the calculated BMI, the function should return a string indicating the BMI category based on the following criteria: <br>\n",
    "\n",
    "| Category      | BMI Range                 |\n",
    "|---------------|---------------------------|\n",
    "| Underweight   | BMI less than 18.5        |\n",
    "| Normal weight | BMI between 18.5 and 24.9 |\n",
    "| Overweight    | BMI between 25 and 29.9   |\n",
    "| Obesity       | BMI 30 or more            |"
   ]
  },
  {
   "cell_type": "code",
   "execution_count": 13,
   "id": "e3106859-16bf-4882-bbde-27dafc0f95c3",
   "metadata": {},
   "outputs": [
    {
     "name": "stdin",
     "output_type": "stream",
     "text": [
      "Enter your weight in kilograms:  70\n",
      "Enter your height in meters:  1.6\n"
     ]
    },
    {
     "name": "stdout",
     "output_type": "stream",
     "text": [
      "For a weight of 70.0 kg and height of 1.6 m, the BMI category is: Overweight\n"
     ]
    }
   ],
   "source": [
    "# Define the calculate_bmi function\n",
    "def calculate_bmi(weight, height):\n",
    "    # Calculate BMI using the provided formula: BMI = weight / (height ** 2)\n",
    "    bmi = weight / (height ** 2)\n",
    "    \n",
    "    # Check the calculated BMI and return the corresponding BMI category\n",
    "    if bmi < 18.5:\n",
    "        # If BMI is less than 18.5, return 'Underweight'\n",
    "        return 'Underweight'\n",
    "    elif 18.5 <= bmi <= 24.9:\n",
    "        # If BMI is between 18.5 and 24.9, return 'Normal weight'\n",
    "        return 'Normal weight'\n",
    "    elif 25 <= bmi <= 29.9:\n",
    "        # If BMI is between 25 and 29.9, return 'Overweight'\n",
    "        return 'Overweight'\n",
    "    else:\n",
    "        # If BMI is 30 or more, return 'Obesity'\n",
    "        return 'Obesity'\n",
    "\n",
    "# Test by getting and using user input for weight and height\n",
    "weight = float(input(\"Enter your weight in kilograms: \"))\n",
    "height = float(input(\"Enter your height in meters: \"))\n",
    "\n",
    "# Call the calculate_bmi function with user input and store the result\n",
    "bmi_category = calculate_bmi(weight, height)\n",
    "\n",
    "# Print the BMI category determined by the calculate_bmi function\n",
    "print(f'For a weight of {weight} kg and height of {height} m, the BMI category is: {bmi_category}')"
   ]
  },
  {
   "cell_type": "code",
   "execution_count": 5,
   "id": "96cf9383-8e99-4f14-9d7a-5bdafd951533",
   "metadata": {},
   "outputs": [
    {
     "name": "stdin",
     "output_type": "stream",
     "text": [
      "Enter your weight in kilograms:  70\n",
      "Enter your height in meters:  1.75\n"
     ]
    },
    {
     "name": "stdout",
     "output_type": "stream",
     "text": [
      "For a weight of 70.0 kg and height of 1.75 m, the BMI category is: Normal weight\n"
     ]
    }
   ],
   "source": [
    "def calculate_bmi(weight, height):\n",
    "    bmi = weight / (height ** 2)\n",
    "    \n",
    "    if bmi < 18.5:\n",
    "        return 'Underweight'\n",
    "    elif  bmi < 25: #OHHH. Because if underweight is already fulfilled, will not check other conditions so no need specify the lower limit for range.\n",
    "        return 'Normal weight'\n",
    "    elif bmi < 30: #It reads sequentially so top to bottom, if one already fulfilled first, return corresponding value. \n",
    "        return 'Overweight'\n",
    "    else:\n",
    "        return 'Obesity'\n",
    "\n",
    "weight = float(input(\"Enter your weight in kilograms: \"))\n",
    "height = float(input(\"Enter your height in meters: \"))\n",
    "\n",
    "bmi_category = calculate_bmi(weight, height)\n",
    "\n",
    "print(f'For a weight of {weight} kg and height of {height} m, the BMI category is: {bmi_category}')"
   ]
  }
 ],
 "metadata": {
  "kernelspec": {
   "display_name": "Python 3 (ipykernel)",
   "language": "python",
   "name": "python3"
  },
  "language_info": {
   "codemirror_mode": {
    "name": "ipython",
    "version": 3
   },
   "file_extension": ".py",
   "mimetype": "text/x-python",
   "name": "python",
   "nbconvert_exporter": "python",
   "pygments_lexer": "ipython3",
   "version": "3.11.5"
  },
  "toc": {
   "base_numbering": 1,
   "nav_menu": {},
   "number_sections": true,
   "sideBar": true,
   "skip_h1_title": false,
   "title_cell": "Table of Contents",
   "title_sidebar": "Contents",
   "toc_cell": false,
   "toc_position": {},
   "toc_section_display": true,
   "toc_window_display": false
  },
  "vscode": {
   "interpreter": {
    "hash": "31f2aee4e71d21fbe5cf8b01ff0e069b9275f58929596ceb00d14d90e3e16cd6"
   }
  }
 },
 "nbformat": 4,
 "nbformat_minor": 5
}
