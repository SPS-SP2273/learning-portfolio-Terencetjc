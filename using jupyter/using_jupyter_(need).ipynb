{
 "cells": [
  {
   "attachments": {},
   "cell_type": "markdown",
   "id": "123456",
   "metadata": {},
   "source": [
    "<div style=\"text-align:left;font-size:2em\"><span style=\"font-weight:bolder;font-size:1.25em\">SP2273 | Learning Portfolio</span><br><br><span style=\"font-weight:bold;color:darkred\">Using Jupyter (Need)</span></div>"
   ]
  },
  {
   "attachments": {},
   "cell_type": "markdown",
   "id": "10a51da1",
   "metadata": {
    "jp-MarkdownHeadingCollapsed": true
   },
   "source": [
    "# Own Notes/Practice"
   ]
  },
  {
   "cell_type": "code",
   "execution_count": 2,
   "id": "1cfc4ec9-fa81-46ec-bb1b-b6d49bc76c32",
   "metadata": {},
   "outputs": [
    {
     "name": "stdout",
     "output_type": "stream",
     "text": [
      "Hello World\n"
     ]
    }
   ],
   "source": [
    "print('Hello World')"
   ]
  },
  {
   "cell_type": "markdown",
   "id": "b4a458c8-57ac-46fe-ac17-7c143c00ed91",
   "metadata": {},
   "source": [
    "The ships hung in the sky in much the same way that bricks don’t.\r\n"
   ]
  },
  {
   "cell_type": "markdown",
   "id": "dc0c2663-968f-44bc-a564-515e25ab1c5a",
   "metadata": {},
   "source": [
    "*Italic*,**Bold**,***Bold and Italic***, <sub>subscript</sub><sup>superscript</sup>"
   ]
  },
  {
   "cell_type": "markdown",
   "id": "2ebb77d0-f000-48a7-a111-36331ab55098",
   "metadata": {},
   "source": [
    "The ships hung *in the sky* in much the same way that **bricks don’t**.<sup>1</sup><sub>Quote</sub>"
   ]
  },
  {
   "cell_type": "markdown",
   "id": "66d5c1b8-a0a8-4ad6-8ffc-1704b249dbc8",
   "metadata": {
    "jp-MarkdownHeadingCollapsed": true
   },
   "source": [
    "# Getting started with Jupyter"
   ]
  },
  {
   "cell_type": "code",
   "execution_count": 5,
   "id": "94b83483-3a84-4b29-82f3-6ed9cbdd74a4",
   "metadata": {},
   "outputs": [
    {
     "name": "stdout",
     "output_type": "stream",
     "text": [
      "Hello World!\n"
     ]
    }
   ],
   "source": [
    "print(\"Hello World!\")"
   ]
  },
  {
   "attachments": {},
   "cell_type": "markdown",
   "id": "4860ef58",
   "metadata": {},
   "source": [
    "# All about Markdown"
   ]
  },
  {
   "attachments": {},
   "cell_type": "markdown",
   "id": "efcafc18",
   "metadata": {
    "jp-MarkdownHeadingCollapsed": true
   },
   "source": [
    "## Rendering Markdown cells"
   ]
  },
  {
   "cell_type": "markdown",
   "id": "64b0006b-b759-4e08-ba43-1afeda2ee067",
   "metadata": {},
   "source": [
    "The ships hung in the sky in much the same way that bricks don’t."
   ]
  },
  {
   "attachments": {},
   "cell_type": "markdown",
   "id": "26ec795c",
   "metadata": {
    "jp-MarkdownHeadingCollapsed": true
   },
   "source": [
    "## Some basic syntax"
   ]
  },
  {
   "cell_type": "markdown",
   "id": "0ab3291d-7500-4ab9-9517-c79a1f1cffaf",
   "metadata": {},
   "source": [
    "The ships *hung in the sky* in much the same way that **bricks don’t.**<sup>1</sup><sub>Quote</sub>"
   ]
  },
  {
   "attachments": {},
   "cell_type": "markdown",
   "id": "7a69db30",
   "metadata": {
    "jp-MarkdownHeadingCollapsed": true
   },
   "source": [
    "## Headings"
   ]
  },
  {
   "cell_type": "markdown",
   "id": "c97542db-67ec-4a21-8939-602ae3dae00b",
   "metadata": {},
   "source": [
    "#(space)Largest Heading <br>\n",
    "####(space)Smallest Heading"
   ]
  },
  {
   "attachments": {},
   "cell_type": "markdown",
   "id": "d5f61db4",
   "metadata": {
    "jp-MarkdownHeadingCollapsed": true
   },
   "source": [
    "## Displaying Code"
   ]
  },
  {
   "cell_type": "markdown",
   "id": "bf642936-4a12-4fba-8d79-a07f4e532c73",
   "metadata": {},
   "source": [
    "```python\n",
    "print('Hello World!')\n",
    "```"
   ]
  },
  {
   "attachments": {},
   "cell_type": "markdown",
   "id": "3272fa22",
   "metadata": {
    "jp-MarkdownHeadingCollapsed": true
   },
   "source": [
    "## Links"
   ]
  },
  {
   "cell_type": "markdown",
   "id": "33791657-0cbf-49de-954c-040444547855",
   "metadata": {},
   "source": [
    "[Sp2273 Website](https://sps.nus.edu.sg/sp2273)"
   ]
  },
  {
   "attachments": {},
   "cell_type": "markdown",
   "id": "26e63f80",
   "metadata": {
    "jp-MarkdownHeadingCollapsed": true
   },
   "source": [
    "## Images"
   ]
  },
  {
   "cell_type": "markdown",
   "id": "366383ea-9067-498f-8f7c-bffa248f3668",
   "metadata": {},
   "source": [
    "Using Internet Link for Image\n",
    "![](https://buffer.com/cdn-cgi/image/w=1000,fit=contain,q=90,f=auto/library/content/images/size/w600/2023/10/free-images.jpg)"
   ]
  },
  {
   "cell_type": "markdown",
   "id": "e25442f7-559b-4831-b53c-632a80d202d5",
   "metadata": {},
   "source": [
    "![](logo.png)"
   ]
  },
  {
   "attachments": {},
   "cell_type": "markdown",
   "id": "a4377a11",
   "metadata": {},
   "source": [
    "## Tables"
   ]
  },
  {
   "cell_type": "markdown",
   "id": "5b81e6f5-3bbe-44c0-b943-010ed93b456b",
   "metadata": {},
   "source": [
    "| A    |  B   |    C |\r\n",
    "| :--- | :--: | ---: |\r\n",
    "| a1   |  b1  |   c1 |\r\n",
    "| a2   |  b2  |   c2 |\r\n",
    "| a3   |  b3  |   c3 |"
   ]
  },
  {
   "cell_type": "markdown",
   "id": "48933a6d-e163-4612-b23a-5b7255a326cb",
   "metadata": {},
   "source": [
    "Can use [Markdown table generator](https://www.tablesgenerator.com/markdown_tables) to help quick generate"
   ]
  },
  {
   "attachments": {},
   "cell_type": "markdown",
   "id": "b9237974",
   "metadata": {},
   "source": [
    "## Lists"
   ]
  },
  {
   "cell_type": "markdown",
   "id": "45a9c783-fb75-42c4-8413-a3e691f51f52",
   "metadata": {},
   "source": [
    " 1. Yoda\n",
    " 2. Skywalker"
   ]
  },
  {
   "cell_type": "markdown",
   "id": "2147e895-0d2b-40bf-9c38-b7f417f474c9",
   "metadata": {},
   "source": [
    "- Yoda\n",
    "- Skywalker"
   ]
  },
  {
   "cell_type": "markdown",
   "id": "75d0c42f-4ad9-44d9-8e52-cf4f57b49716",
   "metadata": {},
   "source": [
    "1. Master Yoda\n",
    "   1. Jedi\n",
    "   1. Green\n",
    "2. Skywalker\n",
    "   1. Black\n",
    "   2. Villian\n",
    "  \n",
    "#Not the same as website as different Jupyter Versions Used."
   ]
  },
  {
   "cell_type": "markdown",
   "id": "db861f21-8287-4f1d-b106-a540578552fe",
   "metadata": {},
   "source": [
    "1. Yoda\n",
    " - Jedi\n",
    " - Green\n",
    "2. Vader\n",
    " - Black\n",
    " - Villian"
   ]
  },
  {
   "cell_type": "markdown",
   "id": "4eadcde0-b979-4fd9-b256-234d3c37ce12",
   "metadata": {},
   "source": [
    "<.br.> is so helpful in making new row"
   ]
  },
  {
   "attachments": {},
   "cell_type": "markdown",
   "id": "6f4bfb30",
   "metadata": {},
   "source": [
    "## Equations"
   ]
  },
  {
   "cell_type": "markdown",
   "id": "54d559fe-4936-4a61-9fb3-2bd7836bf3a8",
   "metadata": {},
   "source": [
    "$$\n",
    "x = \\dfrac{-b \\pm \\sqrt{b^2-4ac}}{2a}\n",
    "$$"
   ]
  },
  {
   "cell_type": "markdown",
   "id": "8ed4961a-6664-473a-bc17-ff7a1c442ae9",
   "metadata": {},
   "source": [
    "Guide to math at [mathematical documentation at Overleaf](https://www.overleaf.com/learn/latex/Mathematical_expressions)"
   ]
  },
  {
   "cell_type": "markdown",
   "id": "263e7aaa-9c85-4fe4-aea6-ace250fceef4",
   "metadata": {},
   "source": [
    "| Aim                      | Command                               |\r\n",
    "|--------------------------|---------------------------------------\n",
    "| Fraction                 | $\\dfrac{y}{x}$                        |\r\n",
    "| Subscript                | $x_{a}$                               |\r\n",
    "| Power                    | $x^{(y+z)}$                           |\r\n",
    "| Squareroot               | $\\sqrt{a+b+c}$                        |\r\n",
    "| Sum                      | $\\sum_{n=1}^{n=\\infty} x_n$           |\r\n",
    "| Integral                 | $\\int_{x=1}^{x=\\infty} f(x)dx$        |\r\n",
    "| Not equal           $a \\ne b$\\ne b                               |\r\n",
    "| Less than                | $a \\lt b$                             |\r\n",
    "| Less than or equal to    | $a \\leq b$                            |\r\n",
    "| Greater than             | $a \\gt b$                             |\r\n",
    "| Greater than or equal to | $a \\geq b$                            |\r\n",
    "| Greek letters            | $\\alpha, \\beta, \\gamma, \\pi, \\lambda$ |"
   ]
  }
 ],
 "metadata": {
  "kernelspec": {
   "display_name": "Python 3 (ipykernel)",
   "language": "python",
   "name": "python3"
  },
  "language_info": {
   "codemirror_mode": {
    "name": "ipython",
    "version": 3
   },
   "file_extension": ".py",
   "mimetype": "text/x-python",
   "name": "python",
   "nbconvert_exporter": "python",
   "pygments_lexer": "ipython3",
   "version": "3.11.5"
  },
  "toc": {
   "base_numbering": 1,
   "nav_menu": {},
   "number_sections": true,
   "sideBar": true,
   "skip_h1_title": false,
   "title_cell": "Table of Contents",
   "title_sidebar": "Contents",
   "toc_cell": false,
   "toc_position": {},
   "toc_section_display": true,
   "toc_window_display": false
  },
  "vscode": {
   "interpreter": {
    "hash": "31f2aee4e71d21fbe5cf8b01ff0e069b9275f58929596ceb00d14d90e3e16cd6"
   }
  }
 },
 "nbformat": 4,
 "nbformat_minor": 5
}
