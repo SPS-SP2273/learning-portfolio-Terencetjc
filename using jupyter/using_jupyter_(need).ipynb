{
 "cells": [
  {
   "attachments": {},
   "cell_type": "markdown",
   "id": "123456",
   "metadata": {},
   "source": [
    "<div style=\"text-align:left;font-size:2em\"><span style=\"font-weight:bolder;font-size:1.25em\">SP2273 | Learning Portfolio</span><br><br><span style=\"font-weight:bold;color:darkred\">Using Jupyter (Need)</span></div>"
   ]
  },
  {
   "attachments": {},
   "cell_type": "markdown",
   "id": "10a51da1",
   "metadata": {
    "jp-MarkdownHeadingCollapsed": true
   },
   "source": [
    "Own Notes/Practice"
   ]
  },
  {
   "cell_type": "code",
   "execution_count": 2,
   "id": "1cfc4ec9-fa81-46ec-bb1b-b6d49bc76c32",
   "metadata": {},
   "outputs": [
    {
     "name": "stdout",
     "output_type": "stream",
     "text": [
      "Hello World\n"
     ]
    }
   ],
   "source": [
    "print('Hello World')"
   ]
  },
  {
   "cell_type": "markdown",
   "id": "b4a458c8-57ac-46fe-ac17-7c143c00ed91",
   "metadata": {},
   "source": [
    "The ships hung in the sky in much the same way that bricks don’t.\r\n"
   ]
  },
  {
   "cell_type": "markdown",
   "id": "dc0c2663-968f-44bc-a564-515e25ab1c5a",
   "metadata": {},
   "source": [
    "*Italic*,**Bold**,***Bold and Italic***, <sub>subscript</sub><sup>superscript</sup>"
   ]
  },
  {
   "cell_type": "markdown",
   "id": "2ebb77d0-f000-48a7-a111-36331ab55098",
   "metadata": {},
   "source": [
    "The ships hung *in the sky* in much the same way that **bricks don’t**.<sup>1</sup><sub>Quote</sub>"
   ]
  },
  {
   "attachments": {},
   "cell_type": "markdown",
   "id": "0ff1a301-69b2-4b9e-8c55-095a01712733",
   "metadata": {
    "jp-MarkdownHeadingCollapsed": true
   },
   "source": [
    "# Getting ready (Traditional Start)"
   ]
  },
  {
   "cell_type": "markdown",
   "id": "66d5c1b8-a0a8-4ad6-8ffc-1704b249dbc8",
   "metadata": {
    "jp-MarkdownHeadingCollapsed": true
   },
   "source": [
    "# Getting started with Jupyter"
   ]
  },
  {
   "cell_type": "code",
   "execution_count": 5,
   "id": "94b83483-3a84-4b29-82f3-6ed9cbdd74a4",
   "metadata": {},
   "outputs": [
    {
     "name": "stdout",
     "output_type": "stream",
     "text": [
      "Hello World!\n"
     ]
    }
   ],
   "source": [
    "print(\"Hello World!\")"
   ]
  },
  {
   "attachments": {},
   "cell_type": "markdown",
   "id": "4860ef58",
   "metadata": {
    "jp-MarkdownHeadingCollapsed": true
   },
   "source": [
    "# All about Markdown"
   ]
  },
  {
   "attachments": {},
   "cell_type": "markdown",
   "id": "efcafc18",
   "metadata": {
    "jp-MarkdownHeadingCollapsed": true
   },
   "source": [
    "## 4.1 Rendering Markdown cells"
   ]
  },
  {
   "attachments": {},
   "cell_type": "markdown",
   "id": "26ec795c",
   "metadata": {},
   "source": [
    "## 4.2 Some basic syntax"
   ]
  },
  {
   "attachments": {},
   "cell_type": "markdown",
   "id": "7a69db30",
   "metadata": {},
   "source": [
    "## 4.3 Headings"
   ]
  },
  {
   "cell_type": "markdown",
   "id": "c97542db-67ec-4a21-8939-602ae3dae00b",
   "metadata": {},
   "source": [
    "#Largest Heading \n"
   ]
  },
  {
   "attachments": {},
   "cell_type": "markdown",
   "id": "d5f61db4",
   "metadata": {},
   "source": [
    "## 4.4 Displaying Code"
   ]
  },
  {
   "cell_type": "markdown",
   "id": "8f938628-954f-45f4-b057-dcef9841649e",
   "metadata": {},
   "source": [
    "```python\n",
    "print(\"Hello World')\n",
    "```"
   ]
  },
  {
   "attachments": {},
   "cell_type": "markdown",
   "id": "3272fa22",
   "metadata": {},
   "source": [
    "## 4.5 Links"
   ]
  },
  {
   "cell_type": "markdown",
   "id": "33791657-0cbf-49de-954c-040444547855",
   "metadata": {},
   "source": [
    "[Sp2273 Website](https://sps.nus.edu.sg/sp2273)"
   ]
  },
  {
   "attachments": {},
   "cell_type": "markdown",
   "id": "26e63f80",
   "metadata": {},
   "source": [
    "## 4.6 Images"
   ]
  },
  {
   "cell_type": "markdown",
   "id": "366383ea-9067-498f-8f7c-bffa248f3668",
   "metadata": {},
   "source": [
    "#This is a title\n",
    "![](https://buffer.com/cdn-cgi/image/w=1000,fit=contain,q=90,f=auto/library/content/images/size/w600/2023/10/free-images.jpg)"
   ]
  },
  {
   "attachments": {},
   "cell_type": "markdown",
   "id": "a4377a11",
   "metadata": {},
   "source": [
    "## 4.7 Tables"
   ]
  },
  {
   "cell_type": "markdown",
   "id": "5b81e6f5-3bbe-44c0-b943-010ed93b456b",
   "metadata": {},
   "source": [
    "| A    |  B   |    C |\r\n",
    "| :--- | :--: | ---: |\r\n",
    "| a1   |  b1  |   c1 |\r\n",
    "| a2   |  b2  |   c2 |\r\n",
    "| a3   |  b3  |   c3 |"
   ]
  },
  {
   "attachments": {},
   "cell_type": "markdown",
   "id": "b9237974",
   "metadata": {},
   "source": [
    "## 4.8 Lists"
   ]
  },
  {
   "cell_type": "markdown",
   "id": "fbcac99f-92dd-4b45-8eba-d836286b5459",
   "metadata": {},
   "source": [
    "1.aa <br>\n",
    "1.aa <br>\n",
    "1.aa"
   ]
  },
  {
   "attachments": {},
   "cell_type": "markdown",
   "id": "6f4bfb30",
   "metadata": {},
   "source": [
    "## 4.9 Equations"
   ]
  },
  {
   "cell_type": "markdown",
   "id": "54d559fe-4936-4a61-9fb3-2bd7836bf3a8",
   "metadata": {},
   "source": [
    "$$\n",
    "x = \\dfrac{-b \\pm \\sqrt{b^2-4ac}}{2a}\n",
    "$$"
   ]
  },
  {
   "attachments": {},
   "cell_type": "markdown",
   "id": "1c2d00e3",
   "metadata": {
    "jp-MarkdownHeadingCollapsed": true
   },
   "source": [
    "## Footnotes"
   ]
  }
 ],
 "metadata": {
  "kernelspec": {
   "display_name": "Python 3 (ipykernel)",
   "language": "python",
   "name": "python3"
  },
  "language_info": {
   "codemirror_mode": {
    "name": "ipython",
    "version": 3
   },
   "file_extension": ".py",
   "mimetype": "text/x-python",
   "name": "python",
   "nbconvert_exporter": "python",
   "pygments_lexer": "ipython3",
   "version": "3.11.5"
  },
  "toc": {
   "base_numbering": 1,
   "nav_menu": {},
   "number_sections": true,
   "sideBar": true,
   "skip_h1_title": false,
   "title_cell": "Table of Contents",
   "title_sidebar": "Contents",
   "toc_cell": false,
   "toc_position": {},
   "toc_section_display": true,
   "toc_window_display": false
  },
  "vscode": {
   "interpreter": {
    "hash": "31f2aee4e71d21fbe5cf8b01ff0e069b9275f58929596ceb00d14d90e3e16cd6"
   }
  }
 },
 "nbformat": 4,
 "nbformat_minor": 5
}
