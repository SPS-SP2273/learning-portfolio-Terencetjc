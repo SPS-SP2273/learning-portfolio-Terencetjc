{
 "cells": [
  {
   "attachments": {},
   "cell_type": "markdown",
   "id": "123456",
   "metadata": {},
   "source": [
    "<div style=\"text-align:left;font-size:2em\"><span style=\"font-weight:bolder;font-size:1.25em\">SP2273 | Learning Portfolio</span><br><br><span style=\"font-weight:bold;color:darkred\">Functions (Need)</span></div>"
   ]
  },
  {
   "cell_type": "markdown",
   "id": "a6470b59-019d-4a5c-80eb-bcb970b611d4",
   "metadata": {},
   "source": [
    "Learn how to craft own functions. Modularity of functions prompts us to think of solutions about modular solutions to problems."
   ]
  },
  {
   "attachments": {},
   "cell_type": "markdown",
   "id": "26d9731e",
   "metadata": {},
   "source": [
    "# User-defined functions"
   ]
  },
  {
   "cell_type": "markdown",
   "id": "f377969f-c7b9-4823-9fdb-395343ba812c",
   "metadata": {},
   "source": [
    "``print()`` is an example of an internal function in Python. You can also create your own functions. There are two ways to do this: **named** and **anonymous**."
   ]
  },
  {
   "attachments": {},
   "cell_type": "markdown",
   "id": "a0bcb0ce",
   "metadata": {
    "jp-MarkdownHeadingCollapsed": true
   },
   "source": [
    "## Named Functions"
   ]
  },
  {
   "attachments": {},
   "cell_type": "markdown",
   "id": "7c8ae809",
   "metadata": {},
   "source": [
    "### Named functions that return"
   ]
  },
  {
   "cell_type": "code",
   "execution_count": 7,
   "id": "00118ccc",
   "metadata": {},
   "outputs": [],
   "source": [
    "def greeting(name):\n",
    "    if name == 'Batman':\n",
    "        return 'Hello Batman! So, nice to meet you!'\n",
    "    else:\n",
    "        return f'Hello {name}!'"
   ]
  },
  {
   "cell_type": "code",
   "execution_count": 10,
   "id": "fffeb2f9-d7a0-4d30-a5fc-713ce2aa2a7f",
   "metadata": {},
   "outputs": [
    {
     "data": {
      "text/plain": [
       "'Hello Super Man!'"
      ]
     },
     "execution_count": 10,
     "metadata": {},
     "output_type": "execute_result"
    }
   ],
   "source": [
    "greeting(\"Super Man\") #or greeting(name=\"Super Man\")"
   ]
  },
  {
   "cell_type": "markdown",
   "id": "165dae0f-246d-43bf-b199-76a38b16ff65",
   "metadata": {},
   "source": [
    "Addressing comments: <br>\n",
    "greeting(\"Super Man\") passes the argument \"Super Man\" directly to the name parameter of the greeting function, using positional argument passing. <br>\n",
    "greeting(name='Super Man') uses keyword argument passing, explicitly stating that the value \"Super Man\" should be assigned to the parameter name. This approach offers greater clarity and flexibility, especially with multiple parameters or out-of-order arguments."
   ]
  },
  {
   "cell_type": "code",
   "execution_count": 11,
   "id": "2e107784-76ac-4b1d-9006-e80d06a394a6",
   "metadata": {},
   "outputs": [
    {
     "name": "stdout",
     "output_type": "stream",
     "text": [
      "Hello Super Man!\n"
     ]
    }
   ],
   "source": [
    "print(greeting(name='Super Man')) #or greet=greeting(name='Super Man')\n",
    "                                     #print(greet)"
   ]
  },
  {
   "cell_type": "markdown",
   "id": "0d05b1a7-d20e-4f44-8b23-5dd3e6c96a07",
   "metadata": {},
   "source": [
    "Both lines (10 and 11) of code call the greeting function with the argument 'Super Man'. The first line just executes the function call, while the second line passes the result of the function call to the print function, which then prints it to the console. "
   ]
  },
  {
   "cell_type": "code",
   "execution_count": 17,
   "id": "b43bf9b7-884d-45c6-9148-47e5cdfbd79a",
   "metadata": {},
   "outputs": [],
   "source": [
    "#Return exits the function and return a value back to the caller. It can only be used within a function.\n",
    "import numpy as np\n",
    "def basic_stats(numbers):\n",
    "    np_numbers = np.array(numbers)\n",
    "    my_min = np_numbers.min()\n",
    "    my_max = np_numbers.max()\n",
    "    my_mean = np_numbers.mean()\n",
    "    return my_max, my_min, my_mean #Now basic_stats returns,min,max and mean.\n",
    "list_min, list_max, list_mean = basic_stats([1, 2, 3, 4, 5]) #Assign returned values (1 to 5) to 3 variables (min,max,mean)"
   ]
  },
  {
   "cell_type": "code",
   "execution_count": 18,
   "id": "e897a30b-0e27-4c5a-ae07-d7f53c6aee2d",
   "metadata": {},
   "outputs": [
    {
     "name": "stdout",
     "output_type": "stream",
     "text": [
      "Minimum value: 5\n",
      "Maximum value: 1\n",
      "Mean value: 3.0\n"
     ]
    }
   ],
   "source": [
    "print(\"Minimum value:\", list_min)\n",
    "print(\"Maximum value:\", list_max)\n",
    "print(\"Mean value:\", list_mean) #Now I can just change numbers in list_min, list_max, list_mean = basic_stats([1, 2, 3, 4, 5]) and will newly run."
   ]
  },
  {
   "attachments": {},
   "cell_type": "markdown",
   "id": "3dbb205e",
   "metadata": {},
   "source": [
    "### Named functions that don’t return"
   ]
  },
  {
   "cell_type": "markdown",
   "id": "244ebf95-6935-453b-bfb5-a7c3e096ea3a",
   "metadata": {},
   "source": [
    "A function does not have to return anything. A good example is print(), which does something but does not return a value. You will often also need functions like these, for instance, to save data to a file. Below is an example,"
   ]
  },
  {
   "cell_type": "code",
   "execution_count": 31,
   "id": "2f268397-0ebf-47b4-bc75-9f58367a12c9",
   "metadata": {},
   "outputs": [],
   "source": [
    "# Define a function called save_to_file that takes two arguments: data and filename\n",
    "def save_to_file(data, filename):\n",
    "    # Open the file specified by the filename argument in write mode ('w') using a context manager (with statement)\n",
    "    with open(filename, 'w') as f:\n",
    "        # Iterate over each item in the data list\n",
    "        for item in data:\n",
    "            # Write the string representation of the current item to the file followed by a newline character\n",
    "            f.write(str(item) + '\\n')\n",
    "\n",
    "# Usage example:\n",
    "# Create a list called my_data containing some numbers\n",
    "my_data = [1, 2, 3, 4, 5]\n",
    "\n",
    "# Call the save_to_file function passing my_data as the data argument and 'output.txt' as the filename argument\n",
    "save_to_file(my_data, 'output.txt') #It creates file if not alr there and inputs data inside."
   ]
  },
  {
   "attachments": {},
   "cell_type": "markdown",
   "id": "bdcd0e29",
   "metadata": {
    "jp-MarkdownHeadingCollapsed": true
   },
   "source": [
    "## Anonymous functions"
   ]
  },
  {
   "cell_type": "code",
   "execution_count": 41,
   "id": "906a871c-3e7b-42bb-a3de-11f1cac996c7",
   "metadata": {},
   "outputs": [
    {
     "data": {
      "text/plain": [
       "'Hello Super Man!'"
      ]
     },
     "execution_count": 41,
     "metadata": {},
     "output_type": "execute_result"
    }
   ],
   "source": [
    "#Anonymous or lambda functions are suitable for short one-liners.\n",
    "my_short_function = lambda name: f\"Hello {name}!\" #This function accepts a single argument called name.\n",
    "my_short_function(name=\"Super Man\") #A lambda function always returns the value of the last statement. This is a function call hence have '__'."
   ]
  },
  {
   "cell_type": "code",
   "execution_count": 44,
   "id": "3318ac92-8e1f-461f-8fe3-2efa70c0e4c0",
   "metadata": {},
   "outputs": [
    {
     "data": {
      "text/plain": [
       "'Hello Super Man!'"
      ]
     },
     "execution_count": 44,
     "metadata": {},
     "output_type": "execute_result"
    }
   ],
   "source": [
    "#Lamda runs the same as def and return but in a single line. Example:\n",
    "def my_short_function(name):\n",
    "    return f\"Hello {name}!\" \n",
    "my_short_function(name=\"Super Man\") #Can use \"result = my_short_function(name=\"Super Man\"), print(result)\" to remove ' ' in output"
   ]
  },
  {
   "cell_type": "code",
   "execution_count": 11,
   "id": "0c2b5e86-6f44-4756-a99a-b477afd3220e",
   "metadata": {},
   "outputs": [],
   "source": [
    "#Let’s say I want to sort the following 2D list. Can use sorted() in 3 ways.\n",
    "numbers=[[9, 0, -10],\n",
    "         [8, 1, -11],\n",
    "         [7, 2, -12],\n",
    "         [6, 3, -13],\n",
    "         [5, 4, -14],\n",
    "         [4, 5, -15],\n",
    "         [3, 6, -16],\n",
    "         [2, 7, -17],\n",
    "         [1, 8, -18],\n",
    "         [0, 9, -19]]"
   ]
  },
  {
   "cell_type": "code",
   "execution_count": 45,
   "id": "3793d394-99a8-4c91-a937-d9717fe3208a",
   "metadata": {},
   "outputs": [
    {
     "data": {
      "text/plain": [
       "[[0, 9, -19],\n",
       " [1, 8, -18],\n",
       " [2, 7, -17],\n",
       " [3, 6, -16],\n",
       " [4, 5, -15],\n",
       " [5, 4, -14],\n",
       " [6, 3, -13],\n",
       " [7, 2, -12],\n",
       " [8, 1, -11],\n",
       " [9, 0, -10]]"
      ]
     },
     "execution_count": 45,
     "metadata": {},
     "output_type": "execute_result"
    }
   ],
   "source": [
    "# Sort by comparing the default key\n",
    "#sorted() function sorts the elements in ascending order based on the default key, which is the first element of each tuple in the list numbers.\n",
    "# (i.e., the 1st element)\n",
    "sorted(numbers)"
   ]
  },
  {
   "cell_type": "code",
   "execution_count": 46,
   "id": "b5fe1baa-1482-4851-a4cc-ddac7bc0a828",
   "metadata": {},
   "outputs": [
    {
     "data": {
      "text/plain": [
       "[[9, 0, -10],\n",
       " [8, 1, -11],\n",
       " [7, 2, -12],\n",
       " [6, 3, -13],\n",
       " [5, 4, -14],\n",
       " [4, 5, -15],\n",
       " [3, 6, -16],\n",
       " [2, 7, -17],\n",
       " [1, 8, -18],\n",
       " [0, 9, -19]]"
      ]
     },
     "execution_count": 46,
     "metadata": {},
     "output_type": "execute_result"
    }
   ],
   "source": [
    "# Sort by comparing a custom key\n",
    "#sorted(numbers, key=lambda x: x[1]) sorts the list numbers based on the values of the second element (index 1) in each tuple.\n",
    "# that uses the 2nd element (index=1)\n",
    "sorted(numbers, key=lambda x: x[1])"
   ]
  },
  {
   "cell_type": "code",
   "execution_count": 47,
   "id": "578159ea-548a-41a6-ab32-11d318fab50e",
   "metadata": {},
   "outputs": [
    {
     "data": {
      "text/plain": [
       "[[0, 9, -19],\n",
       " [1, 8, -18],\n",
       " [2, 7, -17],\n",
       " [3, 6, -16],\n",
       " [4, 5, -15],\n",
       " [5, 4, -14],\n",
       " [6, 3, -13],\n",
       " [7, 2, -12],\n",
       " [8, 1, -11],\n",
       " [9, 0, -10]]"
      ]
     },
     "execution_count": 47,
     "metadata": {},
     "output_type": "execute_result"
    }
   ],
   "source": [
    "# Sort by comparing a custom key\n",
    "#sorted(numbers, key=lambda x: sum(x)) sorts the list numbers based on the sum of the elements in each tuple.\n",
    "#lambda x: sum(x) calculates the sum of the elements for each tuple in the list, and this sum is used as the key for sorting.\n",
    "sorted(numbers, key=lambda x: sum(x))   "
   ]
  },
  {
   "cell_type": "markdown",
   "id": "8673a3d7-d997-46c9-a1f3-f3fabca9846c",
   "metadata": {},
   "source": [
    "### More ways to sort"
   ]
  },
  {
   "cell_type": "code",
   "execution_count": 49,
   "id": "852e2544-4ebc-41a7-bc8e-b97decc5aed6",
   "metadata": {},
   "outputs": [
    {
     "data": {
      "text/plain": [
       "[[9, 0, -10],\n",
       " [8, 1, -11],\n",
       " [7, 2, -12],\n",
       " [6, 3, -13],\n",
       " [5, 4, -14],\n",
       " [4, 5, -15],\n",
       " [3, 6, -16],\n",
       " [2, 7, -17],\n",
       " [1, 8, -18],\n",
       " [0, 9, -19]]"
      ]
     },
     "execution_count": 49,
     "metadata": {},
     "output_type": "execute_result"
    }
   ],
   "source": [
    "#Sorting based on the length of each tuple:\n",
    "sorted(numbers, key=lambda x: len(x))"
   ]
  },
  {
   "cell_type": "code",
   "execution_count": 56,
   "id": "05016e35-149d-4a16-aa92-e5565e85c60b",
   "metadata": {},
   "outputs": [
    {
     "data": {
      "text/plain": [
       "[[5, 4, -14],\n",
       " [4, 5, -15],\n",
       " [6, 3, -13],\n",
       " [3, 6, -16],\n",
       " [7, 2, -12],\n",
       " [2, 7, -17],\n",
       " [8, 1, -11],\n",
       " [1, 8, -18],\n",
       " [9, 0, -10],\n",
       " [0, 9, -19]]"
      ]
     },
     "execution_count": 56,
     "metadata": {},
     "output_type": "execute_result"
    }
   ],
   "source": [
    "#Sorting based on the absolute difference between the first and second elements:\n",
    "sorted(numbers, key=lambda x: abs(x[0] - x[1]))\n",
    "#You might be wondering the output doesnt make sense, this is because it is calculating ABS, so the negative becomes + ._."
   ]
  },
  {
   "cell_type": "code",
   "execution_count": 59,
   "id": "92297d6a-d067-490f-bfab-bc65faa5b33f",
   "metadata": {},
   "outputs": [
    {
     "data": {
      "text/plain": [
       "[[0, 9, -19],\n",
       " [1, 8, -18],\n",
       " [2, 7, -17],\n",
       " [3, 6, -16],\n",
       " [4, 5, -15],\n",
       " [5, 4, -14],\n",
       " [6, 3, -13],\n",
       " [7, 2, -12],\n",
       " [8, 1, -11],\n",
       " [9, 0, -10]]"
      ]
     },
     "execution_count": 59,
     "metadata": {},
     "output_type": "execute_result"
    }
   ],
   "source": [
    "#Sorting based on the difference between the first and second elements:\n",
    "sorted(numbers, key=lambda x: x[0] - x[1])"
   ]
  },
  {
   "attachments": {},
   "cell_type": "markdown",
   "id": "4fc36322",
   "metadata": {},
   "source": [
    "## Optional arguments"
   ]
  },
  {
   "cell_type": "code",
   "execution_count": 60,
   "id": "2f64b4f0-d50f-47d2-85f7-888b93915dfb",
   "metadata": {},
   "outputs": [],
   "source": [
    "def greeting(name='no one'):\n",
    "    if name == 'Batman':\n",
    "        return 'Hello Batman! So, nice to meet you!'\n",
    "    else:\n",
    "        return f'Hello {name}!' "
   ]
  },
  {
   "cell_type": "code",
   "execution_count": 71,
   "id": "dc5f3b8d-3fe4-4fc6-8f90-6c8ff0a44460",
   "metadata": {},
   "outputs": [
    {
     "data": {
      "text/plain": [
       "'Hello no one!'"
      ]
     },
     "execution_count": 71,
     "metadata": {},
     "output_type": "execute_result"
    }
   ],
   "source": [
    "greeting() #The function call greeting() will use the default value for 'name', which is 'no one'."
   ]
  },
  {
   "cell_type": "code",
   "execution_count": 69,
   "id": "1d5e8db3-7b02-4f71-bd36-960107f979cf",
   "metadata": {},
   "outputs": [
    {
     "name": "stdout",
     "output_type": "stream",
     "text": [
      "Prints the values to a stream, or to sys.stdout by default.\n",
      "\n",
      "  sep\n",
      "    string inserted between values, default a space.\n",
      "  end\n",
      "    string appended after the last value, default a newline.\n",
      "  file\n",
      "    a file-like object (stream); defaults to the current sys.stdout.\n",
      "  flush\n",
      "    whether to forcibly flush the stream.\n"
     ]
    }
   ],
   "source": [
    "print(print.__doc__) #Documentation for print"
   ]
  },
  {
   "cell_type": "code",
   "execution_count": 75,
   "id": "c4eaab0f-6175-4de9-b163-5cdaf73593ba",
   "metadata": {},
   "outputs": [
    {
     "name": "stdout",
     "output_type": "stream",
     "text": [
      "I am Batman!\n",
      "I---am---Batman!\n"
     ]
    }
   ],
   "source": [
    "# Using default values\n",
    "print('I', 'am', 'Batman!')\n",
    "# Specifying an optional argument\n",
    "print('I', 'am', 'Batman!', sep='---') #sep specifies the string that should be inserted between the different values passed to the print() function"
   ]
  },
  {
   "cell_type": "markdown",
   "id": "1985b3d8-3dad-4384-ad64-45d8b1b8f46f",
   "metadata": {},
   "source": [
    "Remember: <br>\n",
    "- you can define your own functions, <br>\n",
    "- functions can have optional arguments,<br>\n",
    "- functions don’t always have to return anything."
   ]
  },
  {
   "attachments": {},
   "cell_type": "markdown",
   "id": "51c0b786",
   "metadata": {},
   "source": [
    "## 1.4 The importance of functions?"
   ]
  },
  {
   "attachments": {},
   "cell_type": "markdown",
   "id": "c37bcae0",
   "metadata": {},
   "source": [
    "### An argument for functions"
   ]
  },
  {
   "cell_type": "markdown",
   "id": "05dc0f31-2daf-4045-9232-96db756c83e5",
   "metadata": {},
   "source": [
    "**Abstraction of details** The most important benefit of functions goes beyond programming and relates to your ability to strategize. If you break up a complicated solution into modular chunks (i.e., functions), it becomes easier to think about it because you are not dealing with all the details all at once. As a result, it is easier to focus on your overall solution because you are not distracted by unnecessary information. This hiding of ‘stuff’ is called abstraction in computer science lingo. The concept of abstraction can be tricky to grasp. So, let me share an analogy related to driving.\n",
    "\n",
    "A vehicle has many ‘abstracted’ systems, amongst which the engine is a good example. You do not need to know the engine’s details (e.g. electric, petrol, diesel, guineapig) to use it. You can use the engine of almost any car because you are not required to know what happens inside. This frees up your resources because you are not distracted by unnecessary details. Of course, there will be times when you want to know how an engine works to pick the best engine.\n",
    "\n",
    "**Reusability of code** If you encapsulate a chunk of code in a function, it becomes straightforward to reuse it instead of copying and pasting at different places. This means your code will be shorter and more compact.\n",
    "\n",
    "**Maintainability of code** With functions, your code is easier to change and maintain because you need only make changes in one place, at the function definition.\n"
   ]
  },
  {
   "attachments": {},
   "cell_type": "markdown",
   "id": "eae74a85",
   "metadata": {},
   "source": [
    "### A word of caution"
   ]
  },
  {
   "cell_type": "markdown",
   "id": "0f8fac0f-bfde-4c33-9b05-34aeb265cc67",
   "metadata": {},
   "source": [
    "I have seen many instances where functions are **abused**; for example, by trying to do too many things or having too many arguments. They can also be **overused**. Having too many functions can make it difficult to read your code and also increase computational overheads. You will get a better feel for when to use functions with experience, but please bear in mind that functions can be misused."
   ]
  }
 ],
 "metadata": {
  "kernelspec": {
   "display_name": "Python 3 (ipykernel)",
   "language": "python",
   "name": "python3"
  },
  "language_info": {
   "codemirror_mode": {
    "name": "ipython",
    "version": 3
   },
   "file_extension": ".py",
   "mimetype": "text/x-python",
   "name": "python",
   "nbconvert_exporter": "python",
   "pygments_lexer": "ipython3",
   "version": "3.11.5"
  },
  "toc": {
   "base_numbering": 1,
   "nav_menu": {},
   "number_sections": true,
   "sideBar": true,
   "skip_h1_title": false,
   "title_cell": "Table of Contents",
   "title_sidebar": "Contents",
   "toc_cell": false,
   "toc_position": {},
   "toc_section_display": true,
   "toc_window_display": false
  },
  "vscode": {
   "interpreter": {
    "hash": "31f2aee4e71d21fbe5cf8b01ff0e069b9275f58929596ceb00d14d90e3e16cd6"
   }
  }
 },
 "nbformat": 4,
 "nbformat_minor": 5
}
