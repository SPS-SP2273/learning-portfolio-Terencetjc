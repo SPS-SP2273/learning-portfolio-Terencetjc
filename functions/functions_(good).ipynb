{
 "cells": [
  {
   "attachments": {},
   "cell_type": "markdown",
   "id": "123456",
   "metadata": {},
   "source": [
    "<div style=\"text-align:left;font-size:2em\"><span style=\"font-weight:bolder;font-size:1.25em\">SP2273 | Learning Portfolio</span><br><br><span style=\"font-weight:bold;color:darkred\">Functions (Good)</span></div>"
   ]
  },
  {
   "attachments": {},
   "cell_type": "markdown",
   "id": "d86035d3",
   "metadata": {},
   "source": [
    "# What to expect in this chapter"
   ]
  },
  {
   "cell_type": "markdown",
   "id": "6d841085-cdae-491c-a2d4-f340cc5d14bc",
   "metadata": {},
   "source": [
    "Will discuss exception handling so that you can better understand how to deal with errors.Know the difference between positional, keyword, and default arguments of functions. Can also write code that checks and handles potential problems."
   ]
  },
  {
   "attachments": {},
   "cell_type": "markdown",
   "id": "9f4736a1",
   "metadata": {},
   "source": [
    "# 1 Checks, balances, and contingencies"
   ]
  },
  {
   "attachments": {},
   "cell_type": "markdown",
   "id": "4a05a5be",
   "metadata": {
    "jp-MarkdownHeadingCollapsed": true
   },
   "source": [
    "## 1.1 assert"
   ]
  },
  {
   "cell_type": "code",
   "execution_count": 13,
   "id": "bbdbd081-ead8-4986-9cfc-ded9dec54cc0",
   "metadata": {},
   "outputs": [],
   "source": [
    "x = 5\n",
    "assert x > 0, 'x must be greater than 0' #assert condition-to-check, message"
   ]
  },
  {
   "cell_type": "code",
   "execution_count": 12,
   "id": "34ded7df-94b2-427e-aa6c-1f02d35abe02",
   "metadata": {},
   "outputs": [
    {
     "ename": "AssertionError",
     "evalue": "x is becoming negative!",
     "output_type": "error",
     "traceback": [
      "\u001b[1;31m---------------------------------------------------------------------------\u001b[0m",
      "\u001b[1;31mAssertionError\u001b[0m                            Traceback (most recent call last)",
      "Cell \u001b[1;32mIn[12], line 1\u001b[0m\n\u001b[1;32m----> 1\u001b[0m \u001b[38;5;28;01massert\u001b[39;00m x \u001b[38;5;241m<\u001b[39m \u001b[38;5;241m0\u001b[39m, \u001b[38;5;124m\"\u001b[39m\u001b[38;5;124mx is becoming negative!\u001b[39m\u001b[38;5;124m\"\u001b[39m \u001b[38;5;66;03m#If condition not met will have assertation error and stop execution\u001b[39;00m\n",
      "\u001b[1;31mAssertionError\u001b[0m: x is becoming negative!"
     ]
    }
   ],
   "source": [
    "assert x < 0, \"x is becoming negative!\" #If condition not met will have assertation error and stop execution"
   ]
  },
  {
   "attachments": {},
   "cell_type": "markdown",
   "id": "1e87fc7f",
   "metadata": {
    "jp-MarkdownHeadingCollapsed": true
   },
   "source": [
    "## 1.2 try-except"
   ]
  },
  {
   "cell_type": "code",
   "execution_count": 14,
   "id": "2d3fb5e7-d97a-4b92-9705-d75c5a5e83f0",
   "metadata": {},
   "outputs": [
    {
     "name": "stdout",
     "output_type": "stream",
     "text": [
      "Error: division by zero\n"
     ]
    }
   ],
   "source": [
    "# Attempting division by zero\n",
    "x = 5\n",
    "y = 0\n",
    "try:\n",
    "    result = x / y  # Attempting division\n",
    "except ZeroDivisionError as e:\n",
    "    print(\"Error:\", e)  # Print the error message"
   ]
  },
  {
   "cell_type": "code",
   "execution_count": 27,
   "id": "dd9545e5-0aa9-422a-b62a-7c600bf427be",
   "metadata": {},
   "outputs": [
    {
     "name": "stdin",
     "output_type": "stream",
     "text": [
      "Give me a number and I will calculate its square. 2\n"
     ]
    },
    {
     "name": "stdout",
     "output_type": "stream",
     "text": [
      "The square of 2 is 4!\n"
     ]
    }
   ],
   "source": [
    "number=input(\"Give me a number and I will calculate its square.\") #Remember input() allows user to input own number\n",
    "square=int(number)**2              #Define variable square as ** of number\n",
    "print(f'The square of {number} is {square}!')"
   ]
  },
  {
   "cell_type": "code",
   "execution_count": 25,
   "id": "864af98b-e709-480b-8e47-6dd3ed14d8fa",
   "metadata": {},
   "outputs": [
    {
     "name": "stdin",
     "output_type": "stream",
     "text": [
      "Give me a number and I will calculate its square. 0.5\n"
     ]
    },
    {
     "name": "stdout",
     "output_type": "stream",
     "text": [
      "Oh oh! I cannot square 0.5!\n"
     ]
    }
   ],
   "source": [
    "try:\n",
    "    number=input(\"Give me a number and I will calculate its square.\") #try-except to handle situations when the server does not respond.\n",
    "    square=int(number)**2\n",
    "    print(f'The square of {number} is {square}!')\n",
    "except:\n",
    "    print(f\"Oh oh! I cannot square {number}!\")"
   ]
  },
  {
   "attachments": {},
   "cell_type": "markdown",
   "id": "0bc84d0b",
   "metadata": {
    "jp-MarkdownHeadingCollapsed": true
   },
   "source": [
    "## 1.3 A simple suggestion"
   ]
  },
  {
   "cell_type": "markdown",
   "id": "9ef8b5f5-bb1d-4c0e-b707-e30d52dd682b",
   "metadata": {},
   "source": [
    "When starting out with some code, it is always good for your code to signal to the outside world that it has finished certain milestones. A ‘soft’ way to do this is to include ‘print()’ statements here and there to let the outside world know what is happening in the innards of your program. Otherwise, you will stare at a blank cell, wondering what is happening."
   ]
  },
  {
   "attachments": {},
   "cell_type": "markdown",
   "id": "0db583c6",
   "metadata": {},
   "source": [
    "# 2 Some loose ends"
   ]
  },
  {
   "attachments": {},
   "cell_type": "markdown",
   "id": "adc4f69b",
   "metadata": {},
   "source": [
    "## 2.1 Positional, keyword and default arguments"
   ]
  },
  {
   "cell_type": "code",
   "execution_count": 34,
   "id": "021080a2-4366-4800-a625-8ca628d77f60",
   "metadata": {},
   "outputs": [],
   "source": [
    "def side_by_side(a, b, c=42):\n",
    "    return f'{a: 2d}|{b: 2d}|{c: 2d}' #d means minimum width of the field. eg. 2d means 2 digits minimum, if one digit is space number."
   ]
  },
  {
   "cell_type": "code",
   "execution_count": 29,
   "id": "1a455091-2760-44bf-b1ca-068a90becc57",
   "metadata": {},
   "outputs": [
    {
     "data": {
      "text/plain": [
       "' 1| 2| 3'"
      ]
     },
     "execution_count": 29,
     "metadata": {},
     "output_type": "execute_result"
    }
   ],
   "source": [
    "#Positional order\n",
    "side_by_side(1, 2, 3)"
   ]
  },
  {
   "cell_type": "code",
   "execution_count": 30,
   "id": "2a003d69-7673-44f7-8796-e78c7826f187",
   "metadata": {},
   "outputs": [
    {
     "data": {
      "text/plain": [
       "' 2| 1| 3'"
      ]
     },
     "execution_count": 30,
     "metadata": {},
     "output_type": "execute_result"
    }
   ],
   "source": [
    "#Specify keyword to assign value\n",
    "side_by_side(c=3, b=1, a=2)"
   ]
  },
  {
   "cell_type": "code",
   "execution_count": 36,
   "id": "88517a5d-0cf7-4ef9-b856-25337116094c",
   "metadata": {},
   "outputs": [
    {
     "data": {
      "text/plain": [
       "' 1| 2| 42'"
      ]
     },
     "execution_count": 36,
     "metadata": {},
     "output_type": "execute_result"
    }
   ],
   "source": [
    "#Use default if not specified\n",
    "side_by_side(1, b=2)"
   ]
  },
  {
   "cell_type": "code",
   "execution_count": 37,
   "id": "cb564879-a7dc-4d9c-a53d-723090683904",
   "metadata": {},
   "outputs": [
    {
     "data": {
      "text/plain": [
       "' 1| 2| 42'"
      ]
     },
     "execution_count": 37,
     "metadata": {},
     "output_type": "execute_result"
    }
   ],
   "source": [
    "side_by_side(1, 2)           # Two positional, 1 default\n",
    "## ' 1| 2| 42'\n",
    "side_by_side(1, 2, 3)        # Three positional\n",
    "## ' 1| 2| 3'\n",
    "side_by_side(a=1, b=2)       # Two keyword, 1 default\n",
    "## ' 1| 2| 42'\n",
    "side_by_side(c=3, b=1, a=2)  # Three keyword\n",
    "## ' 2| 1| 3'\n",
    "side_by_side(1, c=3, b=2)    # One positional, 2 keyword\n",
    "## ' 1| 2| 3'\n",
    "side_by_side(1, b=2)         # One positional, 1 keyword, 1 default\n",
    "## ' 1| 2| 42'"
   ]
  },
  {
   "cell_type": "code",
   "execution_count": 38,
   "id": "87503f05-f632-404f-9434-70f41b57dd67",
   "metadata": {},
   "outputs": [
    {
     "ename": "SyntaxError",
     "evalue": "positional argument follows keyword argument (3855048630.py, line 3)",
     "output_type": "error",
     "traceback": [
      "\u001b[1;36m  Cell \u001b[1;32mIn[38], line 3\u001b[1;36m\u001b[0m\n\u001b[1;33m    side_by_side(a=2, 1)      # Won't work.\u001b[0m\n\u001b[1;37m                       ^\u001b[0m\n\u001b[1;31mSyntaxError\u001b[0m\u001b[1;31m:\u001b[0m positional argument follows keyword argument\n"
     ]
    }
   ],
   "source": [
    "# Keywords cannot be followed \n",
    "# by positional arguments\n",
    "side_by_side(a=2, 1)      # Won't work.                          "
   ]
  },
  {
   "cell_type": "code",
   "execution_count": 39,
   "id": "b9db1959-01d9-4428-981e-f4b054623748",
   "metadata": {},
   "outputs": [
    {
     "data": {
      "text/plain": [
       "' 2| 1| 42'"
      ]
     },
     "execution_count": 39,
     "metadata": {},
     "output_type": "execute_result"
    }
   ],
   "source": [
    "#But positional argument can be followed by key words.\n",
    "side_by_side(2, b=1)  "
   ]
  },
  {
   "attachments": {},
   "cell_type": "markdown",
   "id": "7435c6bc",
   "metadata": {},
   "source": [
    "## 2.2 Docstrings"
   ]
  },
  {
   "cell_type": "code",
   "execution_count": 47,
   "id": "1ff40c7a-9eeb-4230-8e0c-5548e195a50b",
   "metadata": {},
   "outputs": [],
   "source": [
    "def side_by_side(a, b, c=42): #docstring needs to be sandwiched between a pair of ''' (or \"\"\") and can span multiple lines.\n",
    "                              #This is multiline.\n",
    "    '''\n",
    "    A test function to demonstrate how \n",
    "    positional, keyword and default arguments  \n",
    "    work.\n",
    "    ''' \n",
    "    return f'{a: 2d}|{b: 2d}|{c: 2d}'"
   ]
  },
  {
   "cell_type": "code",
   "execution_count": 43,
   "id": "340b8923-f535-4fea-b3e5-527d168e4379",
   "metadata": {},
   "outputs": [
    {
     "name": "stdout",
     "output_type": "stream",
     "text": [
      "Help on function side_by_side in module __main__:\n",
      "\n",
      "side_by_side(a, b, c=42)\n",
      "    A test function to demonstrate how \n",
      "    positional, keyword and default arguments  \n",
      "    work.\n",
      "\n"
     ]
    }
   ],
   "source": [
    "help(side_by_side)"
   ]
  },
  {
   "cell_type": "code",
   "execution_count": 46,
   "id": "53f9cac2-367c-4b7e-bbcb-6f0fcbcbf73c",
   "metadata": {},
   "outputs": [
    {
     "name": "stdout",
     "output_type": "stream",
     "text": [
      "Help on function side_by_side in module __main__:\n",
      "\n",
      "side_by_side(a, b, c=42)\n",
      "    A test function to demonstrate how \n",
      "    positional, keyword, and default arguments  \n",
      "    work.\n",
      "    \n",
      "    Parameters:\n",
      "    a (int): The first parameter.\n",
      "    b (int): The second parameter.\n",
      "    c (int, optional): The third parameter. Defaults to 42.\n",
      "    \n",
      "    Returns:\n",
      "    str: A string representing the values of a, b, and c, separated by '|'.\n",
      "\n"
     ]
    }
   ],
   "source": [
    "def side_by_side(a, b, c=42): #Documentation\n",
    "    '''\n",
    "    A test function to demonstrate how \n",
    "    positional, keyword, and default arguments  \n",
    "    work.\n",
    "\n",
    "    Parameters:\n",
    "    a (int): The first parameter.\n",
    "    b (int): The second parameter.\n",
    "    c (int, optional): The third parameter. Defaults to 42.\n",
    "\n",
    "    Returns:\n",
    "    str: A string representing the values of a, b, and c, separated by '|'.\n",
    "    '''\n",
    "    return f'{a: 2d}|{b: 2d}|{c: 2d}'\n",
    "help(side_by_side)"
   ]
  },
  {
   "cell_type": "markdown",
   "id": "21219126-70b7-41a8-bc25-8f4191b70c80",
   "metadata": {},
   "source": [
    "Multiline Comments: These are blocks of text within your code that are ignored by the interpreter. They are used to provide explanations, context, or notes to anyone reading the code. Multiline comments are enclosed within triple quotes (''' or \"\"\") and can span multiple lines.\r\n",
    "\r\n",
    "Documentation: Documentation, often referred to as docstrings in Python, is a special type of comment used to provide structured information about functions, classes, modules, or methods. Docstrings are typically placed immediately after the definition of the item they describe and enclosed within triple quotes. They serve as a form of documentation for other developers, explaining what the item does, its parameters, return values, and any other relevant details."
   ]
  },
  {
   "attachments": {},
   "cell_type": "markdown",
   "id": "de24b386",
   "metadata": {},
   "source": [
    "## 2.3 Function are first-class citizens"
   ]
  },
  {
   "cell_type": "code",
   "execution_count": 56,
   "id": "6aaf58fa-20dc-475c-b57e-62cc0e0f7cdf",
   "metadata": {},
   "outputs": [
    {
     "data": {
      "text/plain": [
       "-1.0"
      ]
     },
     "execution_count": 56,
     "metadata": {},
     "output_type": "execute_result"
    }
   ],
   "source": [
    "import numpy as np\n",
    "\n",
    "def my_function(angle, trig_function):\n",
    "    return trig_function(angle)\n",
    "\n",
    "# Passes the function to other functions below. Serve as parameters/template.\n",
    "my_function(np.pi/2, np.sin)        \n",
    "# Output: 1.0\n",
    "my_function(np.pi/2, np.cos)        \n",
    "# Output: 6.123233995736766e-17\n",
    "my_function(np.pi/2, lambda x: np.cos(2*x))  \n",
    "# Output: -1.0"
   ]
  },
  {
   "attachments": {},
   "cell_type": "markdown",
   "id": "74abce1e",
   "metadata": {},
   "source": [
    "## 2.4 More about unpacking"
   ]
  },
  {
   "cell_type": "code",
   "execution_count": 51,
   "id": "813a151e-aeb9-4ca7-81de-cb022eef7d00",
   "metadata": {},
   "outputs": [
    {
     "data": {
      "text/plain": [
       "(1, 2, 3)"
      ]
     },
     "execution_count": 51,
     "metadata": {},
     "output_type": "execute_result"
    }
   ],
   "source": [
    "x, y, z = [1, 2, 3]\n",
    "x, y, z"
   ]
  },
  {
   "cell_type": "code",
   "execution_count": 52,
   "id": "d9b8a2b8-49f1-4a2c-a1df-cb1073273fc2",
   "metadata": {},
   "outputs": [
    {
     "data": {
      "text/plain": [
       "(1, 2, 3)"
      ]
     },
     "execution_count": 52,
     "metadata": {},
     "output_type": "execute_result"
    }
   ],
   "source": [
    "x, y, z = np.array([1, 2, 3])\n",
    "x, y, z"
   ]
  },
  {
   "cell_type": "code",
   "execution_count": 57,
   "id": "a6676e84-4937-473b-91db-1266918c5d4a",
   "metadata": {},
   "outputs": [
    {
     "data": {
      "text/plain": [
       "(1, [2, 3, 4], 5)"
      ]
     },
     "execution_count": 57,
     "metadata": {},
     "output_type": "execute_result"
    }
   ],
   "source": [
    "x, *y, z = np.array([1, 2, 3, 4, 5]) #* is iterable unpacking: Gathers all the remaining items from the iterable and assigns them. \n",
    "x, y, z #so y now has the others that are not x and z."
   ]
  },
  {
   "cell_type": "markdown",
   "id": "7e1ee050-1665-468e-b86c-d8d13547cd06",
   "metadata": {},
   "source": [
    "Explaining the comments in the code:\n",
    "subset for y is determined by the iterable unpacking syntax (*). This syntax gathers all the remaining items from the iterable (in this case, the array [1, 2, 3, 4, 5]) and assigns them to y, while x gets the first element of the array and z gets the last element."
   ]
  },
  {
   "cell_type": "code",
   "execution_count": 6,
   "id": "f29e840d-b562-456e-8989-1f69ea304c8d",
   "metadata": {},
   "outputs": [
    {
     "ename": "SyntaxError",
     "evalue": "multiple starred expressions in assignment (2460096227.py, line 1)",
     "output_type": "error",
     "traceback": [
      "\u001b[1;36m  Cell \u001b[1;32mIn[6], line 1\u001b[1;36m\u001b[0m\n\u001b[1;33m    x, *y, *z = np.array([1, 2, 3, 4, 5])\u001b[0m\n\u001b[1;37m    ^\u001b[0m\n\u001b[1;31mSyntaxError\u001b[0m\u001b[1;31m:\u001b[0m multiple starred expressions in assignment\n"
     ]
    }
   ],
   "source": [
    "x, *y, *z = np.array([1, 2, 3, 4, 5])\n",
    "#The syntax doesn't support having multiple starred expressions because it would lead to ambiguity in unpacking. \n",
    "#That's why there is a SyntaxError when code is run."
   ]
  },
  {
   "cell_type": "code",
   "execution_count": 14,
   "id": "7331acda-4884-41c9-897f-3ef0f97b1da8",
   "metadata": {},
   "outputs": [
    {
     "name": "stdout",
     "output_type": "stream",
     "text": [
      "(1, [2, 3], [4, 5], 6)\n"
     ]
    }
   ],
   "source": [
    "x, *y, z = np.array([1, 2, 3, 4, 5, 6])\n",
    "y = [y[:2], y[2:]]  # Split y into two subsets\n",
    "result = (x, *y, z)\n",
    "print(result) \n",
    "#Can use nested iterable unpacking along with slicing to obtain 2 subsets.\n",
    "#*y captures all the elements between x and z. Then, we slice y into two subsets [2, 3] and [4, 5] and store them as elements of a list.\n",
    "#y[:2] represents the elements of y from index 0 up to, but not including, index 2. This extracts the first two elements of y.\n",
    "#y[2:] represents the elements of y from index 2 to the end. This extracts the remaining elements of y starting from index 2.\n",
    "#Who say have to stop at 2 subsets, many also can. Eg. y = [y[:2], y[2:4],y[:4]]"
   ]
  },
  {
   "cell_type": "code",
   "execution_count": 24,
   "id": "eae261da-45b2-4752-aa0d-cc685713008f",
   "metadata": {},
   "outputs": [
    {
     "name": "stdout",
     "output_type": "stream",
     "text": [
      "(1, 2, 3, 4, 5, 6, 7, 8, 9, 10)\n"
     ]
    }
   ],
   "source": [
    "#Automate the pairing of y\n",
    "x, *y, z = np.array([1, 2, 3, 4, 5, 6,7,8,9,10])\n",
    "\n",
    "pairs = [y[i:i+2] for i in range(0, len(y), 2)]\n",
    "\n",
    "result = (x, *y, z)\n",
    "print(result)  #This doesn't work... :C\n",
    "#Although it seems intuitive to me. "
   ]
  },
  {
   "cell_type": "code",
   "execution_count": 28,
   "id": "6c58e6e2-1857-43cd-9335-26ae512bf3e6",
   "metadata": {},
   "outputs": [
    {
     "name": "stdout",
     "output_type": "stream",
     "text": [
      "(1, [2, 3], [4, 5], [6, 7], [8, 9], 10)\n"
     ]
    }
   ],
   "source": [
    "import numpy as np\n",
    "\n",
    "x, *y, z = np.array([1, 2, 3, 4, 5, 6, 7, 8, 9, 10])\n",
    "\n",
    "y_pairs = [y[i:i+2] for i in range(0, len(y), 2)]\n",
    "\n",
    "result = (x, *y_pairs, z)\n",
    "print(result)"
   ]
  },
  {
   "cell_type": "code",
   "execution_count": 30,
   "id": "825cb7a9-464f-499a-8ecb-1336fb3f2dc3",
   "metadata": {},
   "outputs": [
    {
     "name": "stdout",
     "output_type": "stream",
     "text": [
      "(1, [2, 3, 4], [5, 6, 7], [8, 9], 10)\n"
     ]
    }
   ],
   "source": [
    "#why stop at pairs\n",
    "y_triples = [y[i:i+3] for i in range(0, len(y), 3)]\n",
    "#fours = [y[i:i+4] for i in range(0, len(y), 4)]\n",
    "#fives = [y[i:i+5] for i in range(0, len(y), 5)]\n",
    "\n",
    "result = (x, *y_triples, z)\n",
    "print(result)\n",
    "\n",
    "#Reasoning:\n",
    "#The range function range(0, len(y), 3) specifies the indices to iterate over. \n",
    "#The third argument 3 in the range function determines the step size, meaning it increments the index by 3 in each iteration.\n",
    "#The loop for i in range(0, len(y), 3) iterates over the list y starting from index 0 and continuing with steps of 3 until the end of y."
   ]
  },
  {
   "cell_type": "code",
   "execution_count": 58,
   "id": "b884521b-887f-4df7-8879-081ae9e8da3d",
   "metadata": {},
   "outputs": [
    {
     "data": {
      "text/plain": [
       "(1, 5, [2, 3, 4])"
      ]
     },
     "execution_count": 58,
     "metadata": {},
     "output_type": "execute_result"
    }
   ],
   "source": [
    "x, *_, y = [1, 2, 3, 4, 5]\n",
    "x, y"
   ]
  }
 ],
 "metadata": {
  "kernelspec": {
   "display_name": "Python 3 (ipykernel)",
   "language": "python",
   "name": "python3"
  },
  "language_info": {
   "codemirror_mode": {
    "name": "ipython",
    "version": 3
   },
   "file_extension": ".py",
   "mimetype": "text/x-python",
   "name": "python",
   "nbconvert_exporter": "python",
   "pygments_lexer": "ipython3",
   "version": "3.11.5"
  },
  "toc": {
   "base_numbering": 1,
   "nav_menu": {},
   "number_sections": true,
   "sideBar": true,
   "skip_h1_title": false,
   "title_cell": "Table of Contents",
   "title_sidebar": "Contents",
   "toc_cell": false,
   "toc_position": {},
   "toc_section_display": true,
   "toc_window_display": false
  },
  "vscode": {
   "interpreter": {
    "hash": "31f2aee4e71d21fbe5cf8b01ff0e069b9275f58929596ceb00d14d90e3e16cd6"
   }
  }
 },
 "nbformat": 4,
 "nbformat_minor": 5
}
